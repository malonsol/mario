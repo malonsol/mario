{
 "cells": [
  {
   "cell_type": "markdown",
   "metadata": {},
   "source": [
    "## Master_class_04-05 - EjerciciosPython"
   ]
  },
  {
   "cell_type": "markdown",
   "metadata": {},
   "source": [
    "### Quick Exercises 1"
   ]
  },
  {
   "cell_type": "markdown",
   "metadata": {},
   "source": [
    "1. Implement a function that takes as input three variables, and returns the largest of the three. Do\n",
    "this without using the Python max() function! Make one version without any local variable and\n",
    "another with one local variable."
   ]
  },
  {
   "cell_type": "code",
   "execution_count": 1,
   "metadata": {},
   "outputs": [
    {
     "data": {
      "text/plain": [
       "100"
      ]
     },
     "execution_count": 1,
     "metadata": {},
     "output_type": "execute_result"
    }
   ],
   "source": [
    "# Sin usar variable local\n",
    "def max_of_three(n1, n2, n3):\n",
    "    if n1 > n2:\n",
    "        if n1 > n3:\n",
    "            return n1\n",
    "        elif n3 > n1:\n",
    "            return n3\n",
    "    elif n2 > n1:\n",
    "        if n2 > n3:\n",
    "            return n2\n",
    "        elif n3 > n2:\n",
    "            return n3\n",
    "        \n",
    "max_of_three(92, 82, 100)"
   ]
  },
  {
   "cell_type": "code",
   "execution_count": 2,
   "metadata": {},
   "outputs": [
    {
     "data": {
      "text/plain": [
       "192"
      ]
     },
     "execution_count": 2,
     "metadata": {},
     "output_type": "execute_result"
    }
   ],
   "source": [
    "# Usando variable local\n",
    "def max_of_three(n1, n2, n3):\n",
    "    max_of_three = None\n",
    "    if n1 > n2:\n",
    "        if n1 > n3:\n",
    "            max_of_three = n1\n",
    "        elif n3 > n1:\n",
    "            max_of_three = n3\n",
    "    elif n2 > n1:\n",
    "        if n2 > n3:\n",
    "            max_of_three = n2\n",
    "        elif n3 > n2:\n",
    "            max_of_three = n3\n",
    "    return max_of_three\n",
    "        \n",
    "max_of_three(92, 192, 100)"
   ]
  },
  {
   "cell_type": "code",
   "execution_count": 3,
   "metadata": {},
   "outputs": [
    {
     "data": {
      "text/plain": [
       "445"
      ]
     },
     "execution_count": 3,
     "metadata": {},
     "output_type": "execute_result"
    }
   ],
   "source": [
    "# Hacer lo mismo pero con una lista:\n",
    "def max_in_list(lista = []):\n",
    "    max_value = lista[0]\n",
    "    for value in lista:\n",
    "        if value > max_value:\n",
    "            max_value = value\n",
    "    return max_value\n",
    "max_in_list([2, 7, 9, 20, 445, 83, 23, 10, 54, 63])"
   ]
  },
  {
   "cell_type": "markdown",
   "metadata": {},
   "source": [
    "2. Write a function “centenario” that will take Name, and year of birth as inputs, check if year of birth\n",
    "is int and cast it to int if not, and print name together with the text explaining when the person is to\n",
    "have 100 years (hint: use isinstance)\n",
    "    - call to function: centenario(Antonio, 1967)\n",
    "    - output: Antonio will reach 100 years in 2067."
   ]
  },
  {
   "cell_type": "code",
   "execution_count": 4,
   "metadata": {},
   "outputs": [
    {
     "name": "stdout",
     "output_type": "stream",
     "text": [
      "year already in integer\n",
      "Antonio will reach 100 years in 2067.\n"
     ]
    }
   ],
   "source": [
    "def centenario(name, year):\n",
    "    if isinstance(year, int):\n",
    "        print(\"year already in integer\")\n",
    "    else:\n",
    "        year = int(year)\n",
    "        print(\"year converted to integer\")\n",
    "    print(str(name) + \" will reach 100 years in \" + str(year + 100) + \".\")\n",
    "    \n",
    "centenario('Antonio', 1967)"
   ]
  },
  {
   "cell_type": "markdown",
   "metadata": {},
   "source": [
    "### Quick Exercises 2"
   ]
  },
  {
   "cell_type": "markdown",
   "metadata": {},
   "source": [
    "1. Write a function to calculate the number of words, number of lines, and length of a string the same way\n",
    "the wc command does in the command line"
   ]
  },
  {
   "cell_type": "code",
   "execution_count": 5,
   "metadata": {},
   "outputs": [
    {
     "data": {
      "text/plain": [
       "(9, 2, 39)"
      ]
     },
     "execution_count": 5,
     "metadata": {},
     "output_type": "execute_result"
    }
   ],
   "source": [
    "def counter_text(text):\n",
    "    words = len(text.split())\n",
    "    lines = len(text.split('\\n'))\n",
    "    length = len(text)\n",
    "    return (words, lines, length)\n",
    "    \n",
    "text = \"\"\"Hola mi nombre es Mario\n",
    "y tengo 27 años\"\"\"\n",
    "\n",
    "counter_text(text)"
   ]
  },
  {
   "cell_type": "markdown",
   "metadata": {},
   "source": [
    "2. Write a Python program to remove the n<sup>th</sup> index character from a string. If the input string is empty print\n",
    "warning."
   ]
  },
  {
   "cell_type": "code",
   "execution_count": 15,
   "metadata": {},
   "outputs": [
    {
     "data": {
      "text/plain": [
       "'Quiero que quites el carácterporque no me gusta.'"
      ]
     },
     "execution_count": 15,
     "metadata": {},
     "output_type": "execute_result"
    }
   ],
   "source": [
    "def new_string(cadena = str(), index = int()):\n",
    "    if cadena == '':\n",
    "        return print(\"ERROR!\")\n",
    "    new_string = ''\n",
    "    for i,c in enumerate(cadena):\n",
    "        if i == index:\n",
    "            continue\n",
    "        else:\n",
    "            new_string += c\n",
    "    return new_string\n",
    "\n",
    "new_string(\"Quiero que quites el carácter^porque no me gusta.\", 29)"
   ]
  },
  {
   "cell_type": "markdown",
   "metadata": {},
   "source": [
    "### Quick Exercises 3"
   ]
  },
  {
   "cell_type": "markdown",
   "metadata": {},
   "source": [
    "1. While inside python, go to ~/Data/opentraveldata/ and list the files. Repeat the same for\n",
    "/home/dsc/Data/us_dot/otp and ~/Data/us_dot/traffic/."
   ]
  },
  {
   "cell_type": "code",
   "execution_count": 17,
   "metadata": {},
   "outputs": [
    {
     "name": "stdout",
     "output_type": "stream",
     "text": [
      "/home/dsc/Data/opentraveldata\n"
     ]
    },
    {
     "data": {
      "text/plain": [
       "['largest_file.txt',\n",
       " 'last_20.txt',\n",
       " 'last_3_aircraft_lines.txt',\n",
       " 'one',\n",
       " 'optd_aircraft.csv',\n",
       " 'optd_airlines.csv',\n",
       " 'optd_por_public.csv',\n",
       " 'ref_airline_nb_of_flights.csv',\n",
       " 'test_2',\n",
       " 'test_file',\n",
       " 'timestamp_header.txt']"
      ]
     },
     "execution_count": 17,
     "metadata": {},
     "output_type": "execute_result"
    }
   ],
   "source": [
    "%cd ~/Data/opentraveldata\n",
    "lista = ! ls\n",
    "lista"
   ]
  },
  {
   "cell_type": "code",
   "execution_count": 31,
   "metadata": {},
   "outputs": [
    {
     "name": "stdout",
     "output_type": "stream",
     "text": [
      "~/Data/opentraveldata/ 11\n",
      "\n",
      "/home/dsc/Data/us_dot/otp 1\n",
      "\n",
      "~/Data/us_dot/traffic/ 2\n",
      "\n"
     ]
    }
   ],
   "source": [
    "directorios = ['~/Data/opentraveldata/', '/home/dsc/Data/us_dot/otp', '~/Data/us_dot/traffic/']\n",
    "for directorio in directorios:\n",
    "    wc = ! (ls -l $directorio | wc -l)\n",
    "    print(directorio, int(wc[0])-1)\n",
    "    print(\"\")"
   ]
  },
  {
   "cell_type": "markdown",
   "metadata": {},
   "source": [
    "2. Write a function that will take text file and pattern as input parameters, and return the number of\n",
    "occurances of case insensitive pattern inside a text (similar to: grep -i –o pattern file | wc -l)"
   ]
  },
  {
   "cell_type": "code",
   "execution_count": 59,
   "metadata": {},
   "outputs": [
    {
     "data": {
      "text/plain": [
       "['11:Title: Adventures']"
      ]
     },
     "execution_count": 59,
     "metadata": {},
     "output_type": "execute_result"
    }
   ],
   "source": [
    "def num_ocu(file = '', pattern = ''):\n",
    "    a = ! (grep -inow $pattern $file)\n",
    "    return a\n",
    "num_ocu(\"/home/dsc/Data/shell/Finn.txt\", '\\'Title: Adventures\\'')"
   ]
  },
  {
   "cell_type": "markdown",
   "metadata": {},
   "source": [
    "3. Open Finn.txt file, read lines into a list. Remove trailing white spaces from each line . Write the\n",
    "resulting list to the new file. How many lines does the new file have? (hint: empty list is made with [\n",
    "] )"
   ]
  },
  {
   "cell_type": "code",
   "execution_count": 94,
   "metadata": {},
   "outputs": [
    {
     "name": "stdout",
     "output_type": "stream",
     "text": [
      "12363\n",
      "12363 /home/dsc/Data/shell/Finn.txt\n",
      "12363\n",
      "12243 Finn_without_trailing_withe_spaces.txt\n"
     ]
    }
   ],
   "source": [
    "with open(\"/home/dsc/Data/shell/Finn.txt\", 'r') as f:\n",
    "    text = f.readlines()\n",
    "    for line in text:\n",
    "        new_text.append(line.rstrip())\n",
    "    print(len(text))\n",
    "    ! (wc -l /home/dsc/Data/shell/Finn.txt)\n",
    "        \n",
    "with open(\"Finn_without_trailing_withe_spaces.txt\", 'w') as g:\n",
    "    new_text = []\n",
    "    for line in text:\n",
    "        g.write(line.rstrip() + \"\\n\")\n",
    "        new_text.append(line.rstrip())\n",
    "    print(len(new_text))\n",
    "    ! (wc -l Finn_without_trailing_withe_spaces.txt)\n"
   ]
  },
  {
   "cell_type": "markdown",
   "metadata": {},
   "source": [
    "4. Open Finn.txt file, read lines into a list. Create a new version of Finn_nbl.txt with no blank lines."
   ]
  },
  {
   "cell_type": "code",
   "execution_count": null,
   "metadata": {},
   "outputs": [],
   "source": []
  }
 ],
 "metadata": {
  "kernelspec": {
   "display_name": "Python 3",
   "language": "python",
   "name": "python3"
  },
  "language_info": {
   "codemirror_mode": {
    "name": "ipython",
    "version": 3
   },
   "file_extension": ".py",
   "mimetype": "text/x-python",
   "name": "python",
   "nbconvert_exporter": "python",
   "pygments_lexer": "ipython3",
   "version": "3.7.1"
  }
 },
 "nbformat": 4,
 "nbformat_minor": 2
}
