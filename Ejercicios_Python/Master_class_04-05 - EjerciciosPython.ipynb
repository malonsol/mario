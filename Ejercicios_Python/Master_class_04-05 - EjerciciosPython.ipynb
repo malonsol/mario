{
 "cells": [
  {
   "cell_type": "markdown",
   "metadata": {},
   "source": [
    "## Master_class_04-05 - EjerciciosPython"
   ]
  },
  {
   "cell_type": "markdown",
   "metadata": {},
   "source": [
    "### Quick Exercises 1"
   ]
  },
  {
   "cell_type": "markdown",
   "metadata": {},
   "source": [
    "1. Implement a function that takes as input three variables, and returns the largest of the three. Do\n",
    "this without using the Python max() function! Make one version without any local variable and\n",
    "another with one local variable."
   ]
  },
  {
   "cell_type": "code",
   "execution_count": 1,
   "metadata": {},
   "outputs": [
    {
     "data": {
      "text/plain": [
       "100"
      ]
     },
     "execution_count": 1,
     "metadata": {},
     "output_type": "execute_result"
    }
   ],
   "source": [
    "# Sin usar variable local\n",
    "def max_of_three(n1, n2, n3):\n",
    "    if n1 > n2:\n",
    "        if n1 > n3:\n",
    "            return n1\n",
    "        elif n3 > n1:\n",
    "            return n3\n",
    "    elif n2 > n1:\n",
    "        if n2 > n3:\n",
    "            return n2\n",
    "        elif n3 > n2:\n",
    "            return n3\n",
    "        \n",
    "max_of_three(92, 82, 100)"
   ]
  },
  {
   "cell_type": "code",
   "execution_count": 2,
   "metadata": {},
   "outputs": [
    {
     "data": {
      "text/plain": [
       "192"
      ]
     },
     "execution_count": 2,
     "metadata": {},
     "output_type": "execute_result"
    }
   ],
   "source": [
    "# Usando variable local\n",
    "def max_of_three(n1, n2, n3):\n",
    "    max_of_three = None\n",
    "    if n1 > n2:\n",
    "        if n1 > n3:\n",
    "            max_of_three = n1\n",
    "        elif n3 > n1:\n",
    "            max_of_three = n3\n",
    "    elif n2 > n1:\n",
    "        if n2 > n3:\n",
    "            max_of_three = n2\n",
    "        elif n3 > n2:\n",
    "            max_of_three = n3\n",
    "    return max_of_three\n",
    "        \n",
    "max_of_three(92, 192, 100)"
   ]
  },
  {
   "cell_type": "code",
   "execution_count": 3,
   "metadata": {},
   "outputs": [
    {
     "data": {
      "text/plain": [
       "445"
      ]
     },
     "execution_count": 3,
     "metadata": {},
     "output_type": "execute_result"
    }
   ],
   "source": [
    "# Hacer lo mismo pero con una lista:\n",
    "def max_in_list(lista = []):\n",
    "    max_value = lista[0]\n",
    "    for value in lista:\n",
    "        if value > max_value:\n",
    "            max_value = value\n",
    "    return max_value\n",
    "max_in_list([2, 7, 9, 20, 445, 83, 23, 10, 54, 63])"
   ]
  },
  {
   "cell_type": "markdown",
   "metadata": {},
   "source": [
    "2. Write a function “centenario” that will take Name, and year of birth as inputs, check if year of birth\n",
    "is int and cast it to int if not, and print name together with the text explaining when the person is to\n",
    "have 100 years (hint: use isinstance)\n",
    "    - call to function: centenario(Antonio, 1967)\n",
    "    - output: Antonio will reach 100 years in 2067."
   ]
  },
  {
   "cell_type": "code",
   "execution_count": 4,
   "metadata": {},
   "outputs": [
    {
     "name": "stdout",
     "output_type": "stream",
     "text": [
      "year already in integer\n",
      "Antonio will reach 100 years in 2067.\n"
     ]
    }
   ],
   "source": [
    "def centenario(name, year):\n",
    "    if isinstance(year, int):\n",
    "        print(\"year already in integer\")\n",
    "    else:\n",
    "        year = int(year)\n",
    "        print(\"year converted to integer\")\n",
    "    print(str(name) + \" will reach 100 years in \" + str(year + 100) + \".\")\n",
    "    \n",
    "centenario('Antonio', 1967)"
   ]
  },
  {
   "cell_type": "markdown",
   "metadata": {},
   "source": [
    "### Quick Exercises 2"
   ]
  },
  {
   "cell_type": "markdown",
   "metadata": {},
   "source": [
    "1. Write a function to calculate the number of words, number of lines, and length of a string the same way\n",
    "the wc command does in the command line"
   ]
  },
  {
   "cell_type": "code",
   "execution_count": 5,
   "metadata": {},
   "outputs": [
    {
     "data": {
      "text/plain": [
       "(9, 2, 39)"
      ]
     },
     "execution_count": 5,
     "metadata": {},
     "output_type": "execute_result"
    }
   ],
   "source": [
    "def counter_text(text):\n",
    "    words = len(text.split())\n",
    "    lines = len(text.split('\\n'))\n",
    "    length = len(text)\n",
    "    return (words, lines, length)\n",
    "    \n",
    "text = \"\"\"Hola mi nombre es Mario\n",
    "y tengo 27 años\"\"\"\n",
    "\n",
    "counter_text(text)"
   ]
  },
  {
   "cell_type": "markdown",
   "metadata": {},
   "source": [
    "2. Write a Python program to remove the n<sup>th</sup> index character from a string. If the input string is empty print\n",
    "warning."
   ]
  },
  {
   "cell_type": "code",
   "execution_count": 15,
   "metadata": {},
   "outputs": [
    {
     "data": {
      "text/plain": [
       "'Quiero que quites el carácterporque no me gusta.'"
      ]
     },
     "execution_count": 15,
     "metadata": {},
     "output_type": "execute_result"
    }
   ],
   "source": [
    "def new_string(cadena = str(), index = int()):\n",
    "    if cadena == '':\n",
    "        return print(\"ERROR!\")\n",
    "    new_string = ''\n",
    "    for i,c in enumerate(cadena):\n",
    "        if i == index:\n",
    "            continue\n",
    "        else:\n",
    "            new_string += c\n",
    "    return new_string\n",
    "\n",
    "new_string(\"Quiero que quites el carácter^porque no me gusta.\", 29)"
   ]
  },
  {
   "cell_type": "markdown",
   "metadata": {},
   "source": [
    "### Quick Exercises 3"
   ]
  },
  {
   "cell_type": "markdown",
   "metadata": {},
   "source": [
    "1. While inside python, go to ~/Data/opentraveldata/ and list the files. Repeat the same for\n",
    "/home/dsc/Data/us_dot/otp and ~/Data/us_dot/traffic/."
   ]
  },
  {
   "cell_type": "code",
   "execution_count": 17,
   "metadata": {},
   "outputs": [
    {
     "name": "stdout",
     "output_type": "stream",
     "text": [
      "/home/dsc/Data/opentraveldata\n"
     ]
    },
    {
     "data": {
      "text/plain": [
       "['largest_file.txt',\n",
       " 'last_20.txt',\n",
       " 'last_3_aircraft_lines.txt',\n",
       " 'one',\n",
       " 'optd_aircraft.csv',\n",
       " 'optd_airlines.csv',\n",
       " 'optd_por_public.csv',\n",
       " 'ref_airline_nb_of_flights.csv',\n",
       " 'test_2',\n",
       " 'test_file',\n",
       " 'timestamp_header.txt']"
      ]
     },
     "execution_count": 17,
     "metadata": {},
     "output_type": "execute_result"
    }
   ],
   "source": [
    "%cd ~/Data/opentraveldata\n",
    "lista = ! ls\n",
    "lista"
   ]
  },
  {
   "cell_type": "code",
   "execution_count": 31,
   "metadata": {},
   "outputs": [
    {
     "name": "stdout",
     "output_type": "stream",
     "text": [
      "~/Data/opentraveldata/ 11\n",
      "\n",
      "/home/dsc/Data/us_dot/otp 1\n",
      "\n",
      "~/Data/us_dot/traffic/ 2\n",
      "\n"
     ]
    }
   ],
   "source": [
    "directorios = ['~/Data/opentraveldata/', '/home/dsc/Data/us_dot/otp', '~/Data/us_dot/traffic/']\n",
    "for directorio in directorios:\n",
    "    wc = ! (ls -l $directorio | wc -l)\n",
    "    print(directorio, int(wc[0])-1)\n",
    "    print(\"\")"
   ]
  },
  {
   "cell_type": "markdown",
   "metadata": {},
   "source": [
    "2. Write a function that will take text file and pattern as input parameters, and return the number of\n",
    "occurances of case insensitive pattern inside a text (similar to: grep -i –o pattern file | wc -l)"
   ]
  },
  {
   "cell_type": "code",
   "execution_count": 59,
   "metadata": {},
   "outputs": [
    {
     "data": {
      "text/plain": [
       "['11:Title: Adventures']"
      ]
     },
     "execution_count": 59,
     "metadata": {},
     "output_type": "execute_result"
    }
   ],
   "source": [
    "def num_ocu(file = '', pattern = ''):\n",
    "    a = ! (grep -inow $pattern $file)\n",
    "    return a\n",
    "num_ocu(\"/home/dsc/Data/shell/Finn.txt\", '\\'Title: Adventures\\'')"
   ]
  },
  {
   "cell_type": "markdown",
   "metadata": {},
   "source": [
    "3. Open Finn.txt file, read lines into a list. Remove trailing white spaces from each line . Write the\n",
    "resulting list to the new file. How many lines does the new file have? (hint: empty list is made with [\n",
    "] )"
   ]
  },
  {
   "cell_type": "code",
   "execution_count": 94,
   "metadata": {},
   "outputs": [
    {
     "name": "stdout",
     "output_type": "stream",
     "text": [
      "12363\n",
      "12363 /home/dsc/Data/shell/Finn.txt\n",
      "12363\n",
      "12243 Finn_without_trailing_withe_spaces.txt\n"
     ]
    }
   ],
   "source": [
    "with open(\"/home/dsc/Data/shell/Finn.txt\", 'r') as f:\n",
    "    text = f.readlines()\n",
    "    for line in text:\n",
    "        new_text.append(line.rstrip())\n",
    "    print(len(text))\n",
    "    ! (wc -l /home/dsc/Data/shell/Finn.txt)\n",
    "        \n",
    "with open(\"Finn_without_trailing_withe_spaces.txt\", 'w') as g:\n",
    "    new_text = []\n",
    "    for line in text:\n",
    "        g.write(line.rstrip() + \"\\n\")\n",
    "        new_text.append(line.rstrip())\n",
    "    print(len(new_text))\n",
    "    ! (wc -l Finn_without_trailing_withe_spaces.txt)\n"
   ]
  },
  {
   "cell_type": "markdown",
   "metadata": {},
   "source": [
    "4. Open Finn.txt file, read lines into a list. Create a new version of Finn_nbl.txt with no blank lines."
   ]
  },
  {
   "cell_type": "code",
   "execution_count": 32,
   "metadata": {},
   "outputs": [],
   "source": [
    "with open (\"/home/dsc/Data/shell/Finn.txt\", 'r') as f:\n",
    "    original_text = f.readlines()\n",
    "    f.seek(0) # Return the cursor to the initial position\n",
    "    lines = []\n",
    "    for line in f:\n",
    "        if line == \"\\n\" or line == '\\ufeff\\n':\n",
    "            continue\n",
    "        else:\n",
    "            lines.append(line)\n",
    "            \n",
    "with open (\"/home/dsc/repos25/toni/Ejercicios_Python/Finn_NoBlanks.txt\", 'w') as f:\n",
    "    f.writelines(lines)"
   ]
  },
  {
   "cell_type": "code",
   "execution_count": 33,
   "metadata": {},
   "outputs": [
    {
     "data": {
      "text/plain": [
       "['\\ufeff\\n',\n",
       " '\\n',\n",
       " 'The Project Gutenberg EBook of Adventures of Huckleberry Finn, Complete\\n',\n",
       " 'by Mark Twain (Samuel Clemens)\\n',\n",
       " '\\n',\n",
       " 'This eBook is for the use of anyone anywhere at no cost and with almost\\n',\n",
       " 'no restrictions whatsoever. You may copy it, give it away or re-use\\n',\n",
       " 'it under the terms of the Project Gutenberg License included with this\\n',\n",
       " 'eBook or online at www.gutenberg.net\\n',\n",
       " '\\n']"
      ]
     },
     "execution_count": 33,
     "metadata": {},
     "output_type": "execute_result"
    }
   ],
   "source": [
    "original_text[0:10]"
   ]
  },
  {
   "cell_type": "markdown",
   "metadata": {},
   "source": [
    "5. Reset the workspace. Obtain the difference in number of lines between original Finn file and and\n",
    "the one without blank lines and print the result. (hint: use wc)"
   ]
  },
  {
   "cell_type": "code",
   "execution_count": 49,
   "metadata": {},
   "outputs": [
    {
     "data": {
      "text/plain": [
       "2690"
      ]
     },
     "execution_count": 49,
     "metadata": {},
     "output_type": "execute_result"
    }
   ],
   "source": [
    "# %reset\n",
    "lines_original = ! cut -d \"\" -f 1 /home/dsc/Data/shell/Finn.txt | wc -l\n",
    "lines_no_blank = ! cut -d \"\" -f 1 /home/dsc/repos25/toni/Ejercicios_Python/Finn_NoBlanks.txt | wc -l\n",
    "difference = int(lines_original[0]) - int(lines_no_blank[0])\n",
    "difference"
   ]
  },
  {
   "cell_type": "code",
   "execution_count": 44,
   "metadata": {},
   "outputs": [
    {
     "data": {
      "text/plain": [
       "['12363']"
      ]
     },
     "execution_count": 44,
     "metadata": {},
     "output_type": "execute_result"
    }
   ],
   "source": [
    "lines_original"
   ]
  },
  {
   "cell_type": "code",
   "execution_count": 45,
   "metadata": {},
   "outputs": [
    {
     "data": {
      "text/plain": [
       "['9673']"
      ]
     },
     "execution_count": 45,
     "metadata": {},
     "output_type": "execute_result"
    }
   ],
   "source": [
    "lines_no_blank"
   ]
  },
  {
   "cell_type": "markdown",
   "metadata": {},
   "source": [
    "### Quick Exercises 4"
   ]
  },
  {
   "cell_type": "markdown",
   "metadata": {},
   "source": [
    "1. For a sequence [1, 2, 3, 4, 5, 6, 7, 8 ] get the squared values using the lambda function."
   ]
  },
  {
   "cell_type": "code",
   "execution_count": 57,
   "metadata": {},
   "outputs": [
    {
     "data": {
      "text/plain": [
       "[1, 4, 9, 16, 25, 36, 49, 64]"
      ]
     },
     "execution_count": 57,
     "metadata": {},
     "output_type": "execute_result"
    }
   ],
   "source": [
    "# Option 1:\n",
    "[(lambda x : x**2)(x) for x in range(1, 9)]"
   ]
  },
  {
   "cell_type": "code",
   "execution_count": 58,
   "metadata": {},
   "outputs": [
    {
     "data": {
      "text/plain": [
       "[1, 4, 9, 16, 25, 36, 49, 64]"
      ]
     },
     "execution_count": 58,
     "metadata": {},
     "output_type": "execute_result"
    }
   ],
   "source": [
    "# Option 2:\n",
    "list(map(lambda x : x**2, range(1, 9)))"
   ]
  },
  {
   "cell_type": "markdown",
   "metadata": {},
   "source": [
    "2. Prepare a list with 10 names. Make a code that will put all vowels to capitals and every other\n",
    "character to lower letters."
   ]
  },
  {
   "cell_type": "code",
   "execution_count": 3,
   "metadata": {},
   "outputs": [
    {
     "data": {
      "text/plain": [
       "['pEdrO',\n",
       " 'rOsA',\n",
       " 'AnsElmO',\n",
       " 'lUcíA',\n",
       " 'AdrIAnA',\n",
       " 'lUIs',\n",
       " 'AntOnIO',\n",
       " 'EUfrAsIA',\n",
       " 'gAUdEncIO',\n",
       " 'hErmEnEgIldA']"
      ]
     },
     "execution_count": 3,
     "metadata": {},
     "output_type": "execute_result"
    }
   ],
   "source": [
    "names = [\n",
    "    'Pedro',\n",
    "    'Rosa',\n",
    "    'Anselmo',\n",
    "    'Lucía',\n",
    "    'Adriana',\n",
    "    'Luis',\n",
    "    'Antonio',\n",
    "    'Eufrasia',\n",
    "    'Gaudencio',\n",
    "    'Hermenegilda'\n",
    "]\n",
    "\n",
    "new_names = []\n",
    "for name in names:\n",
    "    new_name = ''\n",
    "    for letter in name:\n",
    "        if letter in 'aeiouAEIOU':\n",
    "            new_name += letter.capitalize()\n",
    "        else:\n",
    "            new_name += letter.lower()\n",
    "    new_names.append(new_name)\n",
    "\n",
    "new_names"
   ]
  },
  {
   "cell_type": "markdown",
   "metadata": {},
   "source": [
    "3. Prepare again a list with 10 names. Make a function with two input variables: list, and character; that\n",
    "returns a list of names containing one or more of input characters ’s inside the name."
   ]
  },
  {
   "cell_type": "code",
   "execution_count": 5,
   "metadata": {},
   "outputs": [
    {
     "data": {
      "text/plain": [
       "['Rosa', 'Lucía', 'Adriana', 'Eufrasia', 'Gaudencio', 'Hermenegilda']"
      ]
     },
     "execution_count": 5,
     "metadata": {},
     "output_type": "execute_result"
    }
   ],
   "source": [
    "def names_with_character(names=[], character=''):\n",
    "    names_with_character = []\n",
    "    for name in names:\n",
    "        if character in name:\n",
    "            names_with_character.append(name)\n",
    "    return names_with_character\n",
    "\n",
    "names = [\n",
    "    'Pedro',\n",
    "    'Rosa',\n",
    "    'Anselmo',\n",
    "    'Lucía',\n",
    "    'Adriana',\n",
    "    'Luis',\n",
    "    'Antonio',\n",
    "    'Eufrasia',\n",
    "    'Gaudencio',\n",
    "    'Hermenegilda'\n",
    "]\n",
    "\n",
    "names_with_character(names, 'a')"
   ]
  },
  {
   "cell_type": "markdown",
   "metadata": {},
   "source": [
    "4. Reverse word order from the input string"
   ]
  },
  {
   "cell_type": "code",
   "execution_count": 6,
   "metadata": {},
   "outputs": [
    {
     "name": "stdout",
     "output_type": "stream",
     "text": [
      "Insert your word to get it reversed: hola\n"
     ]
    },
    {
     "data": {
      "text/plain": [
       "'aloh'"
      ]
     },
     "execution_count": 6,
     "metadata": {},
     "output_type": "execute_result"
    }
   ],
   "source": [
    "input(\"Insert your word to get it reversed: \")[::-1]"
   ]
  },
  {
   "cell_type": "markdown",
   "metadata": {},
   "source": [
    "5. Create a function that accepts string as search string and returns number of lines with that string in a\n",
    "command history (hint : use a in b)"
   ]
  },
  {
   "cell_type": "code",
   "execution_count": 13,
   "metadata": {
    "scrolled": true
   },
   "outputs": [
    {
     "data": {
      "application/json": {
       "cell": {
        "!": "OSMagics",
        "HTML": "Other",
        "SVG": "Other",
        "bash": "Other",
        "capture": "ExecutionMagics",
        "debug": "ExecutionMagics",
        "file": "Other",
        "html": "DisplayMagics",
        "javascript": "DisplayMagics",
        "js": "DisplayMagics",
        "latex": "DisplayMagics",
        "markdown": "DisplayMagics",
        "perl": "Other",
        "prun": "ExecutionMagics",
        "pypy": "Other",
        "python": "Other",
        "python2": "Other",
        "python3": "Other",
        "ruby": "Other",
        "script": "ScriptMagics",
        "sh": "Other",
        "svg": "DisplayMagics",
        "sx": "OSMagics",
        "system": "OSMagics",
        "time": "ExecutionMagics",
        "timeit": "ExecutionMagics",
        "writefile": "OSMagics"
       },
       "line": {
        "alias": "OSMagics",
        "alias_magic": "BasicMagics",
        "autoawait": "AsyncMagics",
        "autocall": "AutoMagics",
        "automagic": "AutoMagics",
        "autosave": "KernelMagics",
        "bookmark": "OSMagics",
        "cat": "Other",
        "cd": "OSMagics",
        "clear": "KernelMagics",
        "colors": "BasicMagics",
        "config": "ConfigMagics",
        "connect_info": "KernelMagics",
        "cp": "Other",
        "debug": "ExecutionMagics",
        "dhist": "OSMagics",
        "dirs": "OSMagics",
        "doctest_mode": "BasicMagics",
        "ed": "Other",
        "edit": "KernelMagics",
        "env": "OSMagics",
        "gui": "BasicMagics",
        "hist": "Other",
        "history": "HistoryMagics",
        "killbgscripts": "ScriptMagics",
        "ldir": "Other",
        "less": "KernelMagics",
        "lf": "Other",
        "lk": "Other",
        "ll": "Other",
        "load": "CodeMagics",
        "load_ext": "ExtensionMagics",
        "loadpy": "CodeMagics",
        "logoff": "LoggingMagics",
        "logon": "LoggingMagics",
        "logstart": "LoggingMagics",
        "logstate": "LoggingMagics",
        "logstop": "LoggingMagics",
        "ls": "Other",
        "lsmagic": "BasicMagics",
        "lx": "Other",
        "macro": "ExecutionMagics",
        "magic": "BasicMagics",
        "man": "KernelMagics",
        "matplotlib": "PylabMagics",
        "mkdir": "Other",
        "more": "KernelMagics",
        "mv": "Other",
        "notebook": "BasicMagics",
        "page": "BasicMagics",
        "pastebin": "CodeMagics",
        "pdb": "ExecutionMagics",
        "pdef": "NamespaceMagics",
        "pdoc": "NamespaceMagics",
        "pfile": "NamespaceMagics",
        "pinfo": "NamespaceMagics",
        "pinfo2": "NamespaceMagics",
        "pip": "BasicMagics",
        "popd": "OSMagics",
        "pprint": "BasicMagics",
        "precision": "BasicMagics",
        "prun": "ExecutionMagics",
        "psearch": "NamespaceMagics",
        "psource": "NamespaceMagics",
        "pushd": "OSMagics",
        "pwd": "OSMagics",
        "pycat": "OSMagics",
        "pylab": "PylabMagics",
        "qtconsole": "KernelMagics",
        "quickref": "BasicMagics",
        "recall": "HistoryMagics",
        "rehashx": "OSMagics",
        "reload_ext": "ExtensionMagics",
        "rep": "Other",
        "rerun": "HistoryMagics",
        "reset": "NamespaceMagics",
        "reset_selective": "NamespaceMagics",
        "rm": "Other",
        "rmdir": "Other",
        "run": "ExecutionMagics",
        "save": "CodeMagics",
        "sc": "OSMagics",
        "set_env": "OSMagics",
        "store": "StoreMagics",
        "sx": "OSMagics",
        "system": "OSMagics",
        "tb": "ExecutionMagics",
        "time": "ExecutionMagics",
        "timeit": "ExecutionMagics",
        "unalias": "OSMagics",
        "unload_ext": "ExtensionMagics",
        "who": "NamespaceMagics",
        "who_ls": "NamespaceMagics",
        "whos": "NamespaceMagics",
        "xdel": "NamespaceMagics",
        "xmode": "BasicMagics"
       }
      },
      "text/plain": [
       "Available line magics:\n",
       "%alias  %alias_magic  %autoawait  %autocall  %automagic  %autosave  %bookmark  %cat  %cd  %clear  %colors  %config  %connect_info  %cp  %debug  %dhist  %dirs  %doctest_mode  %ed  %edit  %env  %gui  %hist  %history  %killbgscripts  %ldir  %less  %lf  %lk  %ll  %load  %load_ext  %loadpy  %logoff  %logon  %logstart  %logstate  %logstop  %ls  %lsmagic  %lx  %macro  %magic  %man  %matplotlib  %mkdir  %more  %mv  %notebook  %page  %pastebin  %pdb  %pdef  %pdoc  %pfile  %pinfo  %pinfo2  %popd  %pprint  %precision  %prun  %psearch  %psource  %pushd  %pwd  %pycat  %pylab  %qtconsole  %quickref  %recall  %rehashx  %reload_ext  %rep  %rerun  %reset  %reset_selective  %rm  %rmdir  %run  %save  %sc  %set_env  %store  %sx  %system  %tb  %time  %timeit  %unalias  %unload_ext  %who  %who_ls  %whos  %xdel  %xmode\n",
       "\n",
       "Available cell magics:\n",
       "%%!  %%HTML  %%SVG  %%bash  %%capture  %%debug  %%file  %%html  %%javascript  %%js  %%latex  %%markdown  %%perl  %%prun  %%pypy  %%python  %%python2  %%python3  %%ruby  %%script  %%sh  %%svg  %%sx  %%system  %%time  %%timeit  %%writefile\n",
       "\n",
       "Automagic is OFF, % prefix IS needed for line magics."
      ]
     },
     "execution_count": 13,
     "metadata": {},
     "output_type": "execute_result"
    }
   ],
   "source": [
    "%lsmagic"
   ]
  },
  {
   "cell_type": "code",
   "execution_count": 24,
   "metadata": {},
   "outputs": [
    {
     "data": {
      "text/plain": [
       "['',\n",
       " 'dir(str)',\n",
       " \"names = [\\n    'Pedro',\\n    'Rosa',\\n    'Anselmo',\\n    'Lucía',\\n    'Adriana',\\n    'Luis',\\n    'Antonio',\\n    'Eufrasia',\\n    'Gaudencio',\\n    'Hermenegilda'\\n]\\n\\n[letter.capitalize if letter in 'aeiouAEIOU' else letter.lower() for letter in names]\",\n",
       " \"names = [\\n    'Pedro',\\n    'Rosa',\\n    'Anselmo',\\n    'Lucía',\\n    'Adriana',\\n    'Luis',\\n    'Antonio',\\n    'Eufrasia',\\n    'Gaudencio',\\n    'Hermenegilda'\\n]\\n\\nnew_names = []\\nfor name in names:\\n    new_name = ''\\n    for letter in name:\\n        if letter in 'aeiouAEIOU':\\n            new_name += letter.capitalize()\\n        else:\\n            new_name += letter.lower()\\n    new_names.append(new_name)\\n\\nnew_names\",\n",
       " \"def names_with_character(names=[], character=''):\\n    names_with_character = []\\n    for name in names:\\n        if character in name:\\n            names_with_character.append(name)\\n\\nnames = [\\n    'Pedro',\\n    'Rosa',\\n    'Anselmo',\\n    'Lucía',\\n    'Adriana',\\n    'Luis',\\n    'Antonio',\\n    'Eufrasia',\\n    'Gaudencio',\\n    'Hermenegilda'\\n]\\n\\nnames_with_character(names, 'a')\",\n",
       " \"def names_with_character(names=[], character=''):\\n    names_with_character = []\\n    for name in names:\\n        if character in name:\\n            names_with_character.append(name)\\n    return names_with_character\\n\\nnames = [\\n    'Pedro',\\n    'Rosa',\\n    'Anselmo',\\n    'Lucía',\\n    'Adriana',\\n    'Luis',\\n    'Antonio',\\n    'Eufrasia',\\n    'Gaudencio',\\n    'Hermenegilda'\\n]\\n\\nnames_with_character(names, 'a')\",\n",
       " 'input(\"Insert your word to get it reversed: \")[::-1]',\n",
       " \"get_ipython().run_line_magic('hist', '')\",\n",
       " \"get_ipython().run_line_magic('history', '')\",\n",
       " \"get_ipython().run_line_magic('lsmagic', '')\",\n",
       " \"get_ipython().run_line_magic('lsmagic', '')\",\n",
       " \"get_ipython().run_line_magic('automagic', '')\",\n",
       " 'lsmagic',\n",
       " \"get_ipython().run_line_magic('lsmagic', '')\",\n",
       " \"get_ipython().run_line_magic('hist', '')\",\n",
       " \"get_ipython().run_line_magic('history', '')\",\n",
       " \"get_ipython().run_line_magic('dhist', '')\",\n",
       " \"get_ipython().run_line_magic('history', '-n')\",\n",
       " \"get_ipython().run_line_magic('history', '-g')\",\n",
       " 'ln',\n",
       " 'In',\n",
       " 'help(In)',\n",
       " 'dir(In)',\n",
       " 'readline.get_history_item()',\n",
       " 'In']"
      ]
     },
     "execution_count": 24,
     "metadata": {},
     "output_type": "execute_result"
    }
   ],
   "source": [
    "In"
   ]
  },
  {
   "cell_type": "code",
   "execution_count": 28,
   "metadata": {},
   "outputs": [
    {
     "data": {
      "text/plain": [
       "[(1, 'dir(str)'),\n",
       " (22, 'dir(In)'),\n",
       " (28,\n",
       "  \"def number_lines_history_with_string(string=''):\\n    history_list = []\\n    for i,line in enumerate(In):\\n        if string in line:\\n            history_list.append ((i, line))\\n    return history_list\\n\\nnumber_lines_history_with_string('dir')[0:10]\")]"
      ]
     },
     "execution_count": 28,
     "metadata": {},
     "output_type": "execute_result"
    }
   ],
   "source": [
    "def number_lines_history_with_string(string=''):\n",
    "    history_list = []\n",
    "    for i,line in enumerate(In):\n",
    "        if string in line:\n",
    "            history_list.append ((i, line))\n",
    "    return history_list\n",
    "\n",
    "number_lines_history_with_string('dir')[0:10]"
   ]
  },
  {
   "cell_type": "markdown",
   "metadata": {},
   "source": [
    "6. Write a Python function that takes a list of words and returns the length of the longest one."
   ]
  },
  {
   "cell_type": "code",
   "execution_count": 29,
   "metadata": {},
   "outputs": [
    {
     "data": {
      "text/plain": [
       "'Hermenegilda'"
      ]
     },
     "execution_count": 29,
     "metadata": {},
     "output_type": "execute_result"
    }
   ],
   "source": [
    "def longest(words=[]):\n",
    "    longest = ''\n",
    "    for word in words:\n",
    "        if len(word) > len(longest):\n",
    "            longest = word\n",
    "    return longest\n",
    "\n",
    "names = [\n",
    "    'Pedro',\n",
    "    'Rosa',\n",
    "    'Anselmo',\n",
    "    'Lucía',\n",
    "    'Adriana',\n",
    "    'Luis',\n",
    "    'Antonio',\n",
    "    'Eufrasia',\n",
    "    'Gaudencio',\n",
    "    'Hermenegilda'\n",
    "]\n",
    "\n",
    "longest(names)"
   ]
  },
  {
   "cell_type": "markdown",
   "metadata": {},
   "source": [
    "### Quick Exercises 5"
   ]
  },
  {
   "cell_type": "markdown",
   "metadata": {},
   "source": [
    "#### -------------> ¿No están las respuestas a este último set de ejercicios?"
   ]
  },
  {
   "cell_type": "markdown",
   "metadata": {},
   "source": [
    "1. Categorize a list of words by their first letter, meaning that the result of the operation is first letter\n",
    "and all the words from the input list starting with that letter. (hint: use dict)"
   ]
  },
  {
   "cell_type": "code",
   "execution_count": 31,
   "metadata": {},
   "outputs": [
    {
     "data": {
      "text/plain": [
       "{'P': ['Pedro'],\n",
       " 'R': ['Rosa'],\n",
       " 'A': ['Anselmo', 'Adriana', 'Antonio'],\n",
       " 'L': ['Lucía', 'Luis'],\n",
       " 'E': ['Eufrasia'],\n",
       " 'G': ['Gaudencio'],\n",
       " 'H': ['Hermenegilda']}"
      ]
     },
     "execution_count": 31,
     "metadata": {},
     "output_type": "execute_result"
    }
   ],
   "source": [
    "names = [\n",
    "    'Pedro',\n",
    "    'Rosa',\n",
    "    'Anselmo',\n",
    "    'Lucía',\n",
    "    'Adriana',\n",
    "    'Luis',\n",
    "    'Antonio',\n",
    "    'Eufrasia',\n",
    "    'Gaudencio',\n",
    "    'Hermenegilda'\n",
    "]\n",
    "\n",
    "d = {}\n",
    "for name in names:\n",
    "    if name[0] not in d.keys():\n",
    "        d[name[0]] = [name]\n",
    "    else:\n",
    "        d[name[0]].append(name)\n",
    "        \n",
    "d"
   ]
  },
  {
   "cell_type": "markdown",
   "metadata": {},
   "source": [
    "2. Sort a collection of strings by the number of distinct letters in each string. (hint: use set and lambda)"
   ]
  },
  {
   "cell_type": "code",
   "execution_count": 35,
   "metadata": {},
   "outputs": [
    {
     "data": {
      "text/plain": [
       "['Rosa',\n",
       " 'Luis',\n",
       " 'Pedro',\n",
       " 'Lucía',\n",
       " 'Antonio',\n",
       " 'Adriana',\n",
       " 'Anselmo',\n",
       " 'Eufrasia',\n",
       " 'Gaudencio',\n",
       " 'Hermenegilda']"
      ]
     },
     "execution_count": 35,
     "metadata": {},
     "output_type": "execute_result"
    }
   ],
   "source": [
    "names = [\n",
    "    'Pedro',\n",
    "    'Rosa',\n",
    "    'Anselmo',\n",
    "    'Lucía',\n",
    "    'Adriana',\n",
    "    'Luis',\n",
    "    'Antonio',\n",
    "    'Eufrasia',\n",
    "    'Gaudencio',\n",
    "    'Hermenegilda'\n",
    "]\n",
    "\n",
    "names.sort(key = lambda x:len(set(x)))\n",
    "names"
   ]
  },
  {
   "cell_type": "markdown",
   "metadata": {},
   "source": [
    "3. Reverse word order from the input string by using for comprehension"
   ]
  },
  {
   "cell_type": "code",
   "execution_count": 40,
   "metadata": {},
   "outputs": [
    {
     "data": {
      "text/plain": [
       "['estás', 'tal', 'qué', 'Hola']"
      ]
     },
     "execution_count": 40,
     "metadata": {},
     "output_type": "execute_result"
    }
   ],
   "source": [
    "string = 'Hola qué tal estás'\n",
    "[word for word in reversed(string.split())]"
   ]
  }
 ],
 "metadata": {
  "kernelspec": {
   "display_name": "Python 3",
   "language": "python",
   "name": "python3"
  },
  "language_info": {
   "codemirror_mode": {
    "name": "ipython",
    "version": 3
   },
   "file_extension": ".py",
   "mimetype": "text/x-python",
   "name": "python",
   "nbconvert_exporter": "python",
   "pygments_lexer": "ipython3",
   "version": "3.7.1"
  }
 },
 "nbformat": 4,
 "nbformat_minor": 2
}
