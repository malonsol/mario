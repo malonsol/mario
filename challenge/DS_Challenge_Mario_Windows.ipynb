{
 "cells": [
  {
   "cell_type": "markdown",
   "metadata": {},
   "source": [
    "Los datos  se encuentran en la máquina virtual:\n",
    "\n",
    "`/home/dsc/Data/challenge`:\n",
    "- `bookings.csv.bz2`\n",
    "- `searches.csv.bz2`"
   ]
  },
  {
   "cell_type": "code",
   "execution_count": 1,
   "metadata": {},
   "outputs": [],
   "source": [
    "compartido_VM = \"C:/Users/turge/CompartidoVM/Clases 12-13_DS Challenge\"\n",
    "compartido_windows = \"C:/Users/turge/CompartidoVM/Python_HostMachine_Windows\"\n",
    "\n",
    "bookings_path = compartido_VM + \"/bookings.csv.bz2\"\n",
    "searches_path = compartido_VM + \"/searches.csv.bz2\"\n",
    "\n",
    "bookings_nodup_path = compartido_windows + \"/bookings.nodup.csv.bz2\"\n",
    "searches_nodup_path = compartido_windows + \"/searches.nodup.csv.bz2\""
   ]
  },
  {
   "cell_type": "code",
   "execution_count": 2,
   "metadata": {
    "scrolled": true
   },
   "outputs": [],
   "source": [
    "import bz2\n",
    "import numpy as np\n",
    "import pandas as pd\n",
    "import matplotlib.pyplot as plt\n",
    "import seaborn as sns\n",
    "from tqdm import tqdm\n",
    "import json"
   ]
  },
  {
   "cell_type": "markdown",
   "metadata": {},
   "source": [
    "## Exercise 1\n",
    "\n",
    "#### Count the number of lines in Python for each file"
   ]
  },
  {
   "cell_type": "code",
   "execution_count": 3,
   "metadata": {},
   "outputs": [],
   "source": [
    "fileBz2 = bz2.BZ2File(bookings_path)"
   ]
  },
  {
   "cell_type": "code",
   "execution_count": 4,
   "metadata": {},
   "outputs": [
    {
     "data": {
      "text/plain": [
       "bz2.BZ2File"
      ]
     },
     "execution_count": 4,
     "metadata": {},
     "output_type": "execute_result"
    }
   ],
   "source": [
    "type(fileBz2)"
   ]
  },
  {
   "cell_type": "code",
   "execution_count": 11,
   "metadata": {},
   "outputs": [
    {
     "name": "stdout",
     "output_type": "stream",
     "text": [
      "10000011\n",
      "Wall time: 3min 9s\n"
     ]
    }
   ],
   "source": [
    "%%time\n",
    "fileBz2 = bz2.BZ2File(bookings_path)\n",
    "\n",
    "k = 0\n",
    "for line in fileBz2:\n",
    "    k += 1\n",
    "print(k)\n",
    "\n",
    "# Resultado: 10000011 filas"
   ]
  },
  {
   "cell_type": "code",
   "execution_count": 5,
   "metadata": {},
   "outputs": [
    {
     "data": {
      "text/plain": [
       "False"
      ]
     },
     "execution_count": 5,
     "metadata": {},
     "output_type": "execute_result"
    }
   ],
   "source": [
    "fileBz2.closed"
   ]
  },
  {
   "cell_type": "code",
   "execution_count": 6,
   "metadata": {},
   "outputs": [],
   "source": [
    "fileBz2.close()"
   ]
  },
  {
   "cell_type": "code",
   "execution_count": 7,
   "metadata": {},
   "outputs": [
    {
     "data": {
      "text/plain": [
       "True"
      ]
     },
     "execution_count": 7,
     "metadata": {},
     "output_type": "execute_result"
    }
   ],
   "source": [
    "fileBz2.closed"
   ]
  },
  {
   "cell_type": "markdown",
   "metadata": {},
   "source": [
    "Para evitar el problema de olvidar cerrar el archivo..."
   ]
  },
  {
   "cell_type": "code",
   "execution_count": 17,
   "metadata": {},
   "outputs": [
    {
     "name": "stdout",
     "output_type": "stream",
     "text": [
      "'Bookings' file has 10000011 rows.\n",
      "Wall time: 3min 7s\n"
     ]
    }
   ],
   "source": [
    "%%time\n",
    "with bz2.BZ2File(bookings_path) as fileBz2:\n",
    "    k = 0\n",
    "    for line in fileBz2:\n",
    "        k += 1\n",
    "# Cuando sales del \"with\" se cierra el archivo, y se previene así el problema del puntero\n",
    "bookings_path_rows = k\n",
    "print(\"'Bookings' file has {} rows.\".format(k))\n",
    "# Resultado: 10000011 filas"
   ]
  },
  {
   "cell_type": "code",
   "execution_count": 18,
   "metadata": {},
   "outputs": [
    {
     "name": "stdout",
     "output_type": "stream",
     "text": [
      "'Searches' file has 20390199 rows.\n",
      "Wall time: 3min 38s\n"
     ]
    }
   ],
   "source": [
    "%%time\n",
    "with bz2.BZ2File(searches_path) as fileBz2:\n",
    "    k = 0\n",
    "    for line in fileBz2:\n",
    "        k += 1\n",
    "# Cuando sales del \"with\" se cierra el archivo, y se previene así el problema del puntero\n",
    "searches_path_rows = k\n",
    "print(\"'Searches' file has {} rows.\".format(k))\n",
    "# Resultado: 20390199 filas"
   ]
  },
  {
   "cell_type": "code",
   "execution_count": 8,
   "metadata": {},
   "outputs": [
    {
     "data": {
      "text/plain": [
       "True"
      ]
     },
     "execution_count": 8,
     "metadata": {},
     "output_type": "execute_result"
    }
   ],
   "source": [
    "# Comprobación de que está cerrado:\n",
    "fileBz2.closed"
   ]
  },
  {
   "cell_type": "markdown",
   "metadata": {},
   "source": [
    "[Large, persistent DataFrame in pandas](https://stackoverflow.com/questions/11622652/large-persistent-dataframe-in-pandas/12193309#12193309)"
   ]
  },
  {
   "cell_type": "code",
   "execution_count": 90,
   "metadata": {
    "scrolled": false
   },
   "outputs": [
    {
     "name": "stdout",
     "output_type": "stream",
     "text": [
      "0 0\n",
      "1 500000\n",
      "2 1000000\n",
      "3 1000000\n",
      "4 1000000\n",
      "5 1000000\n",
      "6 1000000\n",
      "7 1000000\n",
      "8 1000000\n",
      "9 1000000\n",
      "10 1000000\n",
      "11 1000003\n",
      "12 1000003\n",
      "13 1000003\n",
      "14 1000003\n",
      "15 1000003\n",
      "16 1000003\n",
      "17 1000003\n",
      "18 1000003\n",
      "19 1000003\n",
      "20 1000003\n",
      "Wall time: 7min 55s\n"
     ]
    }
   ],
   "source": [
    "%%time\n",
    "# Eliminar los duplicates del archivo completo y creación del archivo resultante:\n",
    "tp = pd.read_csv(bookings_path,\n",
    "                 sep='^', \n",
    "                 iterator=True,\n",
    "                 chunksize=500000,\n",
    "                 low_memory=False,\n",
    "                 dtype=str)\n",
    "all_chunks = pd.DataFrame()\n",
    "\n",
    "for i, chunk in enumerate(tp):\n",
    "    print(i, len(all_chunks))\n",
    "    all_chunks = all_chunks.append(chunk)\n",
    "    all_chunks.drop_duplicates(inplace=True) # Eliminar todos los duplicados totales\n",
    "\n",
    "# Aprovechar para limpiar etiquetas de columnas:\n",
    "all_chunks.columns = all_chunks.columns.str.strip()\n",
    "all_chunks['dep_port'] = all_chunks['dep_port'].str.strip().str.upper()\n",
    "all_chunks['arr_port'] = all_chunks['arr_port'].str.strip().str.upper()\n",
    "\n",
    "all_chunks.to_csv(bookings_nodup_path,\n",
    "                  sep='^',\n",
    "                  index=False)\n",
    "\n",
    "# NOTA: tras cierto número de Chunks, deja de incluir nuevas filas porque son TODOS duplicados"
   ]
  },
  {
   "cell_type": "code",
   "execution_count": 91,
   "metadata": {
    "scrolled": false
   },
   "outputs": [
    {
     "name": "stdout",
     "output_type": "stream",
     "text": [
      "0 0\n",
      "1 358999\n",
      "2 358999\n",
      "3 359003\n",
      "4 359003\n",
      "5 359003\n",
      "6 359003\n",
      "7 359003\n",
      "8 359003\n",
      "9 359003\n",
      "10 359003\n",
      "11 359003\n",
      "12 359003\n",
      "13 359003\n",
      "14 359003\n",
      "15 359003\n",
      "16 359003\n",
      "17 359003\n",
      "18 359003\n",
      "19 359003\n",
      "20 359003\n",
      "21 359003\n",
      "22 359003\n",
      "23 359003\n",
      "24 359003\n",
      "25 359003\n",
      "26 359003\n",
      "27 359003\n",
      "28 359003\n",
      "29 359003\n",
      "30 359003\n",
      "31 359003\n",
      "32 359003\n",
      "33 359003\n",
      "34 359003\n",
      "35 359003\n",
      "36 359003\n",
      "37 359003\n",
      "38 359003\n",
      "39 359003\n",
      "40 359003\n",
      "Wall time: 7min 51s\n"
     ]
    }
   ],
   "source": [
    "%%time\n",
    "# Eliminar los duplicates del archivo completo y creación del archivo resultante:\n",
    "tp = pd.read_csv(searches_path,\n",
    "                 sep='^', \n",
    "                 iterator=True,\n",
    "                 chunksize=500000,\n",
    "                 low_memory=False,\n",
    "                 dtype=str)\n",
    "all_chunks = pd.DataFrame()\n",
    "\n",
    "for i, chunk in enumerate(tp):\n",
    "    print(i, len(all_chunks))\n",
    "    all_chunks = all_chunks.append(chunk)\n",
    "    all_chunks.drop_duplicates(inplace=True) # Eliminar todos los duplicados totales\n",
    "\n",
    "# Aprovechar para limpiar etiquetas de columnas:\n",
    "all_chunks.columns = all_chunks.columns.str.strip()\n",
    "all_chunks['Origin'] = all_chunks['Origin'].str.strip().str.upper()\n",
    "all_chunks['Destination'] = all_chunks['Destination'].str.strip().str.upper()\n",
    "\n",
    "all_chunks.to_csv(searches_nodup_path,\n",
    "                  sep='^',\n",
    "                  index=False)\n",
    "\n",
    "# NOTA: tras cierto número de Chunks, deja de incluir nuevas filas porque son TODOS duplicados"
   ]
  },
  {
   "cell_type": "markdown",
   "metadata": {},
   "source": [
    "## Exercise 2\n",
    "\n",
    "#### Top 10 arrival airports in the world in 2013 (using the bookings file)\n",
    "\n",
    "- Arrival airport is the column arr_port. It is the IATA code for the airport\n",
    "- To get the total number of passengers for an airport, you can sum the column pax, grouping by arr_port. Note that there is negative pax. That corresponds to cancelations. So to get the total number of passengers that have actually booked, you should sum including the negatives (that will remove the canceled bookings).\n",
    "- Print the top 10 arrival airports in the standard output, including the number of passengers.\n",
    "- **Bonus point**: Get the name of the city or airport corresponding to that airport (programatically, we suggest to have a look at **GeoBases in Github**)\n",
    "- **Bonus point**: Solve this problem using pandas (instead of any other approach)"
   ]
  },
  {
   "cell_type": "code",
   "execution_count": 26,
   "metadata": {
    "scrolled": true
   },
   "outputs": [
    {
     "name": "stderr",
     "output_type": "stream",
     "text": [
      "1it [00:00,  2.91it/s]"
     ]
    },
    {
     "name": "stdout",
     "output_type": "stream",
     "text": [
      "40 0\n"
     ]
    },
    {
     "name": "stderr",
     "output_type": "stream",
     "text": [
      "\r",
      "2it [00:00,  3.25it/s]"
     ]
    },
    {
     "name": "stdout",
     "output_type": "stream",
     "text": [
      "40 663\n"
     ]
    },
    {
     "name": "stderr",
     "output_type": "stream",
     "text": [
      "\r",
      "3it [00:00,  3.50it/s]"
     ]
    },
    {
     "name": "stdout",
     "output_type": "stream",
     "text": [
      "40 1342\n"
     ]
    },
    {
     "name": "stderr",
     "output_type": "stream",
     "text": [
      "\r",
      "4it [00:01,  3.74it/s]"
     ]
    },
    {
     "name": "stdout",
     "output_type": "stream",
     "text": [
      "40 2026\n"
     ]
    },
    {
     "name": "stderr",
     "output_type": "stream",
     "text": [
      "\r",
      "5it [00:01,  3.81it/s]"
     ]
    },
    {
     "name": "stdout",
     "output_type": "stream",
     "text": [
      "40 2781\n"
     ]
    },
    {
     "name": "stderr",
     "output_type": "stream",
     "text": [
      "\r",
      "6it [00:01,  4.00it/s]"
     ]
    },
    {
     "name": "stdout",
     "output_type": "stream",
     "text": [
      "40 3451\n"
     ]
    },
    {
     "name": "stderr",
     "output_type": "stream",
     "text": [
      "\r",
      "7it [00:01,  4.12it/s]"
     ]
    },
    {
     "name": "stdout",
     "output_type": "stream",
     "text": [
      "40 4188\n"
     ]
    },
    {
     "name": "stderr",
     "output_type": "stream",
     "text": [
      "\r",
      "8it [00:01,  4.25it/s]"
     ]
    },
    {
     "name": "stdout",
     "output_type": "stream",
     "text": [
      "40 4893\n"
     ]
    },
    {
     "name": "stderr",
     "output_type": "stream",
     "text": [
      "\r",
      "9it [00:02,  4.11it/s]"
     ]
    },
    {
     "name": "stdout",
     "output_type": "stream",
     "text": [
      "40 5607\n",
      "40"
     ]
    },
    {
     "name": "stderr",
     "output_type": "stream",
     "text": [
      "\r",
      "10it [00:02,  4.32it/s]"
     ]
    },
    {
     "name": "stdout",
     "output_type": "stream",
     "text": [
      " 6322\n"
     ]
    },
    {
     "name": "stderr",
     "output_type": "stream",
     "text": [
      "\r",
      "11it [00:02,  4.32it/s]"
     ]
    },
    {
     "name": "stdout",
     "output_type": "stream",
     "text": [
      "40 7039\n"
     ]
    },
    {
     "name": "stderr",
     "output_type": "stream",
     "text": [
      "\r",
      "12it [00:02,  4.30it/s]"
     ]
    },
    {
     "name": "stdout",
     "output_type": "stream",
     "text": [
      "40 7769\n"
     ]
    },
    {
     "name": "stderr",
     "output_type": "stream",
     "text": [
      "\r",
      "13it [00:03,  4.35it/s]"
     ]
    },
    {
     "name": "stdout",
     "output_type": "stream",
     "text": [
      "40 8497\n"
     ]
    },
    {
     "name": "stderr",
     "output_type": "stream",
     "text": [
      "\r",
      "14it [00:03,  4.39it/s]"
     ]
    },
    {
     "name": "stdout",
     "output_type": "stream",
     "text": [
      "40 9225\n"
     ]
    },
    {
     "name": "stderr",
     "output_type": "stream",
     "text": [
      "\r",
      "15it [00:03,  4.50it/s]"
     ]
    },
    {
     "name": "stdout",
     "output_type": "stream",
     "text": [
      "40 9942\n"
     ]
    },
    {
     "name": "stderr",
     "output_type": "stream",
     "text": [
      "\r",
      "16it [00:03,  4.41it/s]"
     ]
    },
    {
     "name": "stdout",
     "output_type": "stream",
     "text": [
      "40 10657\n"
     ]
    },
    {
     "name": "stderr",
     "output_type": "stream",
     "text": [
      "\r",
      "17it [00:03,  4.40it/s]"
     ]
    },
    {
     "name": "stdout",
     "output_type": "stream",
     "text": [
      "40 11370\n"
     ]
    },
    {
     "name": "stderr",
     "output_type": "stream",
     "text": [
      "\r",
      "18it [00:04,  4.29it/s]"
     ]
    },
    {
     "name": "stdout",
     "output_type": "stream",
     "text": [
      "40 12081\n"
     ]
    },
    {
     "name": "stderr",
     "output_type": "stream",
     "text": [
      "\r",
      "19it [00:04,  4.37it/s]"
     ]
    },
    {
     "name": "stdout",
     "output_type": "stream",
     "text": [
      "40 12790\n"
     ]
    },
    {
     "name": "stderr",
     "output_type": "stream",
     "text": [
      "\r",
      "20it [00:04,  4.34it/s]"
     ]
    },
    {
     "name": "stdout",
     "output_type": "stream",
     "text": [
      "40 13481\n"
     ]
    },
    {
     "name": "stderr",
     "output_type": "stream",
     "text": [
      "\r",
      "21it [00:04,  4.44it/s]"
     ]
    },
    {
     "name": "stdout",
     "output_type": "stream",
     "text": [
      "40 14209\n"
     ]
    },
    {
     "name": "stderr",
     "output_type": "stream",
     "text": [
      "\r",
      "22it [00:05,  4.28it/s]"
     ]
    },
    {
     "name": "stdout",
     "output_type": "stream",
     "text": [
      "40 14914\n"
     ]
    },
    {
     "name": "stderr",
     "output_type": "stream",
     "text": [
      "\r",
      "23it [00:05,  4.38it/s]"
     ]
    },
    {
     "name": "stdout",
     "output_type": "stream",
     "text": [
      "40 15630\n"
     ]
    },
    {
     "name": "stderr",
     "output_type": "stream",
     "text": [
      "\r",
      "24it [00:05,  4.51it/s]"
     ]
    },
    {
     "name": "stdout",
     "output_type": "stream",
     "text": [
      "40 16333\n"
     ]
    },
    {
     "name": "stderr",
     "output_type": "stream",
     "text": [
      "\r",
      "25it [00:05,  4.42it/s]"
     ]
    },
    {
     "name": "stdout",
     "output_type": "stream",
     "text": [
      "40 17041\n"
     ]
    },
    {
     "name": "stderr",
     "output_type": "stream",
     "text": [
      "\r",
      "26it [00:06,  4.33it/s]"
     ]
    },
    {
     "name": "stdout",
     "output_type": "stream",
     "text": [
      "40 17747\n",
      "40 18480\n"
     ]
    },
    {
     "name": "stderr",
     "output_type": "stream",
     "text": [
      "28it [00:06,  4.47it/s]"
     ]
    },
    {
     "name": "stdout",
     "output_type": "stream",
     "text": [
      "40 19194\n"
     ]
    },
    {
     "name": "stderr",
     "output_type": "stream",
     "text": [
      "\r",
      "29it [00:06,  4.40it/s]"
     ]
    },
    {
     "name": "stdout",
     "output_type": "stream",
     "text": [
      "40 19906\n"
     ]
    },
    {
     "name": "stderr",
     "output_type": "stream",
     "text": [
      "\r",
      "30it [00:06,  4.40it/s]"
     ]
    },
    {
     "name": "stdout",
     "output_type": "stream",
     "text": [
      "40 20618\n"
     ]
    },
    {
     "name": "stderr",
     "output_type": "stream",
     "text": [
      "\r",
      "31it [00:07,  4.33it/s]"
     ]
    },
    {
     "name": "stdout",
     "output_type": "stream",
     "text": [
      "40 21318\n"
     ]
    },
    {
     "name": "stderr",
     "output_type": "stream",
     "text": [
      "\r",
      "32it [00:07,  4.26it/s]"
     ]
    },
    {
     "name": "stdout",
     "output_type": "stream",
     "text": [
      "40 22050\n",
      "40 22768\n"
     ]
    },
    {
     "name": "stderr",
     "output_type": "stream",
     "text": [
      "34it [00:07,  4.26it/s]"
     ]
    },
    {
     "name": "stdout",
     "output_type": "stream",
     "text": [
      "40 23481\n"
     ]
    },
    {
     "name": "stderr",
     "output_type": "stream",
     "text": [
      "\r",
      "35it [00:08,  4.19it/s]"
     ]
    },
    {
     "name": "stdout",
     "output_type": "stream",
     "text": [
      "40 24215\n"
     ]
    },
    {
     "name": "stderr",
     "output_type": "stream",
     "text": [
      "\r",
      "36it [00:08,  4.30it/s]"
     ]
    },
    {
     "name": "stdout",
     "output_type": "stream",
     "text": [
      "40 24908\n"
     ]
    },
    {
     "name": "stderr",
     "output_type": "stream",
     "text": [
      "\r",
      "37it [00:08,  4.32it/s]"
     ]
    },
    {
     "name": "stdout",
     "output_type": "stream",
     "text": [
      "40 25622\n"
     ]
    },
    {
     "name": "stderr",
     "output_type": "stream",
     "text": [
      "\r",
      "38it [00:08,  4.25it/s]"
     ]
    },
    {
     "name": "stdout",
     "output_type": "stream",
     "text": [
      "40 26332\n"
     ]
    },
    {
     "name": "stderr",
     "output_type": "stream",
     "text": [
      "\r",
      "39it [00:09,  4.29it/s]"
     ]
    },
    {
     "name": "stdout",
     "output_type": "stream",
     "text": [
      "40 27045\n"
     ]
    },
    {
     "name": "stderr",
     "output_type": "stream",
     "text": [
      "\r",
      "40it [00:09,  4.32it/s]"
     ]
    },
    {
     "name": "stdout",
     "output_type": "stream",
     "text": [
      "40 27763\n"
     ]
    },
    {
     "name": "stderr",
     "output_type": "stream",
     "text": [
      "\r",
      "41it [00:09,  4.34it/s]"
     ]
    },
    {
     "name": "stdout",
     "output_type": "stream",
     "text": [
      "40 28477\n"
     ]
    },
    {
     "name": "stderr",
     "output_type": "stream",
     "text": [
      "\r",
      "42it [00:09,  4.37it/s]"
     ]
    },
    {
     "name": "stdout",
     "output_type": "stream",
     "text": [
      "40 29178\n"
     ]
    },
    {
     "name": "stderr",
     "output_type": "stream",
     "text": [
      "\r",
      "43it [00:09,  4.34it/s]"
     ]
    },
    {
     "name": "stdout",
     "output_type": "stream",
     "text": [
      "40 29906\n"
     ]
    },
    {
     "name": "stderr",
     "output_type": "stream",
     "text": [
      "\r",
      "44it [00:10,  4.38it/s]"
     ]
    },
    {
     "name": "stdout",
     "output_type": "stream",
     "text": [
      "40 30650\n"
     ]
    },
    {
     "name": "stderr",
     "output_type": "stream",
     "text": [
      "\r",
      "45it [00:10,  4.28it/s]"
     ]
    },
    {
     "name": "stdout",
     "output_type": "stream",
     "text": [
      "40 31406\n"
     ]
    },
    {
     "name": "stderr",
     "output_type": "stream",
     "text": [
      "\r",
      "46it [00:10,  4.32it/s]"
     ]
    },
    {
     "name": "stdout",
     "output_type": "stream",
     "text": [
      "40 32127\n"
     ]
    },
    {
     "name": "stderr",
     "output_type": "stream",
     "text": [
      "\r",
      "47it [00:10,  4.29it/s]"
     ]
    },
    {
     "name": "stdout",
     "output_type": "stream",
     "text": [
      "40 32855\n"
     ]
    },
    {
     "name": "stderr",
     "output_type": "stream",
     "text": [
      "\r",
      "48it [00:11,  4.22it/s]"
     ]
    },
    {
     "name": "stdout",
     "output_type": "stream",
     "text": [
      "40 33584\n"
     ]
    },
    {
     "name": "stderr",
     "output_type": "stream",
     "text": [
      "\r",
      "49it [00:11,  4.26it/s]"
     ]
    },
    {
     "name": "stdout",
     "output_type": "stream",
     "text": [
      "40 34297\n"
     ]
    },
    {
     "name": "stderr",
     "output_type": "stream",
     "text": [
      "\r",
      "50it [00:11,  4.37it/s]"
     ]
    },
    {
     "name": "stdout",
     "output_type": "stream",
     "text": [
      "40 35013\n"
     ]
    },
    {
     "name": "stderr",
     "output_type": "stream",
     "text": [
      "\r",
      "51it [00:11,  4.25it/s]"
     ]
    },
    {
     "name": "stdout",
     "output_type": "stream",
     "text": [
      "40 35728\n"
     ]
    },
    {
     "name": "stderr",
     "output_type": "stream",
     "text": [
      "\r",
      "52it [00:12,  4.03it/s]"
     ]
    },
    {
     "name": "stdout",
     "output_type": "stream",
     "text": [
      "40 36462\n"
     ]
    },
    {
     "name": "stderr",
     "output_type": "stream",
     "text": [
      "\r",
      "53it [00:12,  3.76it/s]"
     ]
    },
    {
     "name": "stdout",
     "output_type": "stream",
     "text": [
      "40 37194\n"
     ]
    },
    {
     "name": "stderr",
     "output_type": "stream",
     "text": [
      "\r",
      "54it [00:12,  3.65it/s]"
     ]
    },
    {
     "name": "stdout",
     "output_type": "stream",
     "text": [
      "40 37923\n"
     ]
    },
    {
     "name": "stderr",
     "output_type": "stream",
     "text": [
      "\r",
      "55it [00:12,  3.85it/s]"
     ]
    },
    {
     "name": "stdout",
     "output_type": "stream",
     "text": [
      "40 38655\n"
     ]
    },
    {
     "name": "stderr",
     "output_type": "stream",
     "text": [
      "\r",
      "56it [00:13,  3.99it/s]"
     ]
    },
    {
     "name": "stdout",
     "output_type": "stream",
     "text": [
      "40 39394\n"
     ]
    },
    {
     "name": "stderr",
     "output_type": "stream",
     "text": [
      "\r",
      "57it [00:13,  4.04it/s]"
     ]
    },
    {
     "name": "stdout",
     "output_type": "stream",
     "text": [
      "40 40120\n"
     ]
    },
    {
     "name": "stderr",
     "output_type": "stream",
     "text": [
      "\r",
      "58it [00:13,  4.13it/s]"
     ]
    },
    {
     "name": "stdout",
     "output_type": "stream",
     "text": [
      "40 40861\n"
     ]
    },
    {
     "name": "stderr",
     "output_type": "stream",
     "text": [
      "\r",
      "59it [00:13,  4.08it/s]"
     ]
    },
    {
     "name": "stdout",
     "output_type": "stream",
     "text": [
      "40 41620\n"
     ]
    },
    {
     "name": "stderr",
     "output_type": "stream",
     "text": [
      "\r",
      "60it [00:14,  4.09it/s]"
     ]
    },
    {
     "name": "stdout",
     "output_type": "stream",
     "text": [
      "40 42338\n"
     ]
    },
    {
     "name": "stderr",
     "output_type": "stream",
     "text": [
      "\r",
      "61it [00:14,  4.19it/s]"
     ]
    },
    {
     "name": "stdout",
     "output_type": "stream",
     "text": [
      "40 43051\n",
      "40"
     ]
    },
    {
     "name": "stderr",
     "output_type": "stream",
     "text": [
      "\r",
      "62it [00:14,  4.32it/s]"
     ]
    },
    {
     "name": "stdout",
     "output_type": "stream",
     "text": [
      " 43770\n"
     ]
    },
    {
     "name": "stderr",
     "output_type": "stream",
     "text": [
      "\r",
      "63it [00:14,  4.29it/s]"
     ]
    },
    {
     "name": "stdout",
     "output_type": "stream",
     "text": [
      "40 44468\n"
     ]
    },
    {
     "name": "stderr",
     "output_type": "stream",
     "text": [
      "\r",
      "64it [00:15,  4.27it/s]"
     ]
    },
    {
     "name": "stdout",
     "output_type": "stream",
     "text": [
      "40 45198\n",
      "40 45943\n"
     ]
    },
    {
     "name": "stderr",
     "output_type": "stream",
     "text": [
      "66it [00:15,  4.35it/s]"
     ]
    },
    {
     "name": "stdout",
     "output_type": "stream",
     "text": [
      "40 46664\n"
     ]
    },
    {
     "name": "stderr",
     "output_type": "stream",
     "text": [
      "\r",
      "67it [00:15,  4.30it/s]"
     ]
    },
    {
     "name": "stdout",
     "output_type": "stream",
     "text": [
      "40 47390\n"
     ]
    },
    {
     "name": "stderr",
     "output_type": "stream",
     "text": [
      "\r",
      "68it [00:16,  4.24it/s]"
     ]
    },
    {
     "name": "stdout",
     "output_type": "stream",
     "text": [
      "40 48149\n"
     ]
    },
    {
     "name": "stderr",
     "output_type": "stream",
     "text": [
      "\r",
      "69it [00:16,  4.33it/s]"
     ]
    },
    {
     "name": "stdout",
     "output_type": "stream",
     "text": [
      "40 48896\n"
     ]
    },
    {
     "name": "stderr",
     "output_type": "stream",
     "text": [
      "\r",
      "70it [00:16,  4.12it/s]"
     ]
    },
    {
     "name": "stdout",
     "output_type": "stream",
     "text": [
      "40 49642\n"
     ]
    },
    {
     "name": "stderr",
     "output_type": "stream",
     "text": [
      "\r",
      "71it [00:16,  4.22it/s]"
     ]
    },
    {
     "name": "stdout",
     "output_type": "stream",
     "text": [
      "40 50393\n"
     ]
    },
    {
     "name": "stderr",
     "output_type": "stream",
     "text": [
      "\r",
      "72it [00:16,  4.27it/s]"
     ]
    },
    {
     "name": "stdout",
     "output_type": "stream",
     "text": [
      "40 51122\n"
     ]
    },
    {
     "name": "stderr",
     "output_type": "stream",
     "text": [
      "\r",
      "73it [00:17,  4.16it/s]"
     ]
    },
    {
     "name": "stdout",
     "output_type": "stream",
     "text": [
      "40 51851\n"
     ]
    },
    {
     "name": "stderr",
     "output_type": "stream",
     "text": [
      "\r",
      "74it [00:17,  4.30it/s]"
     ]
    },
    {
     "name": "stdout",
     "output_type": "stream",
     "text": [
      "40 52602\n"
     ]
    },
    {
     "name": "stderr",
     "output_type": "stream",
     "text": [
      "\r",
      "75it [00:17,  4.25it/s]"
     ]
    },
    {
     "name": "stdout",
     "output_type": "stream",
     "text": [
      "40 53340\n"
     ]
    },
    {
     "name": "stderr",
     "output_type": "stream",
     "text": [
      "\r",
      "76it [00:17,  4.24it/s]"
     ]
    },
    {
     "name": "stdout",
     "output_type": "stream",
     "text": [
      "40 54078\n"
     ]
    },
    {
     "name": "stderr",
     "output_type": "stream",
     "text": [
      "\r",
      "77it [00:18,  4.26it/s]"
     ]
    },
    {
     "name": "stdout",
     "output_type": "stream",
     "text": [
      "40 54800\n"
     ]
    },
    {
     "name": "stderr",
     "output_type": "stream",
     "text": [
      "\r",
      "78it [00:18,  4.18it/s]"
     ]
    },
    {
     "name": "stdout",
     "output_type": "stream",
     "text": [
      "40 55551\n"
     ]
    },
    {
     "name": "stderr",
     "output_type": "stream",
     "text": [
      "\r",
      "79it [00:18,  4.16it/s]"
     ]
    },
    {
     "name": "stdout",
     "output_type": "stream",
     "text": [
      "40 56282\n"
     ]
    },
    {
     "name": "stderr",
     "output_type": "stream",
     "text": [
      "\r",
      "80it [00:18,  4.27it/s]"
     ]
    },
    {
     "name": "stdout",
     "output_type": "stream",
     "text": [
      "40 57007\n"
     ]
    },
    {
     "name": "stderr",
     "output_type": "stream",
     "text": [
      "\r",
      "81it [00:19,  4.18it/s]"
     ]
    },
    {
     "name": "stdout",
     "output_type": "stream",
     "text": [
      "40 57741\n"
     ]
    },
    {
     "name": "stderr",
     "output_type": "stream",
     "text": [
      "\r",
      "82it [00:19,  4.21it/s]"
     ]
    },
    {
     "name": "stdout",
     "output_type": "stream",
     "text": [
      "40 58451\n"
     ]
    },
    {
     "name": "stderr",
     "output_type": "stream",
     "text": [
      "\r",
      "83it [00:19,  4.29it/s]"
     ]
    },
    {
     "name": "stdout",
     "output_type": "stream",
     "text": [
      "40 59158\n"
     ]
    },
    {
     "name": "stderr",
     "output_type": "stream",
     "text": [
      "\r",
      "84it [00:19,  4.25it/s]"
     ]
    },
    {
     "name": "stdout",
     "output_type": "stream",
     "text": [
      "40 59901\n"
     ]
    },
    {
     "name": "stderr",
     "output_type": "stream",
     "text": [
      "\r",
      "85it [00:20,  4.19it/s]"
     ]
    },
    {
     "name": "stdout",
     "output_type": "stream",
     "text": [
      "40 60639\n"
     ]
    },
    {
     "name": "stderr",
     "output_type": "stream",
     "text": [
      "\r",
      "86it [00:20,  4.25it/s]"
     ]
    },
    {
     "name": "stdout",
     "output_type": "stream",
     "text": [
      "40 61367\n"
     ]
    },
    {
     "name": "stderr",
     "output_type": "stream",
     "text": [
      "\r",
      "87it [00:20,  4.30it/s]"
     ]
    },
    {
     "name": "stdout",
     "output_type": "stream",
     "text": [
      "40 62099\n"
     ]
    },
    {
     "name": "stderr",
     "output_type": "stream",
     "text": [
      "\r",
      "88it [00:20,  4.14it/s]"
     ]
    },
    {
     "name": "stdout",
     "output_type": "stream",
     "text": [
      "40 62814\n"
     ]
    },
    {
     "name": "stderr",
     "output_type": "stream",
     "text": [
      "\r",
      "89it [00:20,  4.23it/s]"
     ]
    },
    {
     "name": "stdout",
     "output_type": "stream",
     "text": [
      "40 63524\n"
     ]
    },
    {
     "name": "stderr",
     "output_type": "stream",
     "text": [
      "\r",
      "90it [00:21,  4.19it/s]"
     ]
    },
    {
     "name": "stdout",
     "output_type": "stream",
     "text": [
      "40 64264\n"
     ]
    },
    {
     "name": "stderr",
     "output_type": "stream",
     "text": [
      "\r",
      "91it [00:21,  4.22it/s]"
     ]
    },
    {
     "name": "stdout",
     "output_type": "stream",
     "text": [
      "40 65017\n"
     ]
    },
    {
     "name": "stderr",
     "output_type": "stream",
     "text": [
      "\r",
      "92it [00:21,  4.20it/s]"
     ]
    },
    {
     "name": "stdout",
     "output_type": "stream",
     "text": [
      "40 65753\n"
     ]
    },
    {
     "name": "stderr",
     "output_type": "stream",
     "text": [
      "\r",
      "93it [00:21,  4.16it/s]"
     ]
    },
    {
     "name": "stdout",
     "output_type": "stream",
     "text": [
      "40 66487\n"
     ]
    },
    {
     "name": "stderr",
     "output_type": "stream",
     "text": [
      "\r",
      "94it [00:22,  4.06it/s]"
     ]
    },
    {
     "name": "stdout",
     "output_type": "stream",
     "text": [
      "40 67244\n"
     ]
    },
    {
     "name": "stderr",
     "output_type": "stream",
     "text": [
      "\r",
      "95it [00:22,  4.15it/s]"
     ]
    },
    {
     "name": "stdout",
     "output_type": "stream",
     "text": [
      "40 67983\n"
     ]
    },
    {
     "name": "stderr",
     "output_type": "stream",
     "text": [
      "\r",
      "96it [00:22,  4.13it/s]"
     ]
    },
    {
     "name": "stdout",
     "output_type": "stream",
     "text": [
      "40 68727\n"
     ]
    },
    {
     "name": "stderr",
     "output_type": "stream",
     "text": [
      "\r",
      "97it [00:22,  4.09it/s]"
     ]
    },
    {
     "name": "stdout",
     "output_type": "stream",
     "text": [
      "40 69424\n"
     ]
    },
    {
     "name": "stderr",
     "output_type": "stream",
     "text": [
      "\r",
      "98it [00:23,  4.09it/s]"
     ]
    },
    {
     "name": "stdout",
     "output_type": "stream",
     "text": [
      "40 70147\n"
     ]
    },
    {
     "name": "stderr",
     "output_type": "stream",
     "text": [
      "\r",
      "99it [00:23,  4.15it/s]"
     ]
    },
    {
     "name": "stdout",
     "output_type": "stream",
     "text": [
      "40 70874\n"
     ]
    },
    {
     "name": "stderr",
     "output_type": "stream",
     "text": [
      "\r",
      "100it [00:23,  4.24it/s]"
     ]
    },
    {
     "name": "stdout",
     "output_type": "stream",
     "text": [
      "40 71605\n"
     ]
    },
    {
     "name": "stderr",
     "output_type": "stream",
     "text": [
      "\r",
      "101it [00:23,  4.14it/s]"
     ]
    },
    {
     "name": "stdout",
     "output_type": "stream",
     "text": [
      "40 72363\n"
     ]
    },
    {
     "name": "stderr",
     "output_type": "stream",
     "text": [
      "\r",
      "102it [00:24,  4.12it/s]"
     ]
    },
    {
     "name": "stdout",
     "output_type": "stream",
     "text": [
      "40 73027\n"
     ]
    },
    {
     "name": "stderr",
     "output_type": "stream",
     "text": [
      "\r",
      "103it [00:24,  4.13it/s]"
     ]
    },
    {
     "name": "stdout",
     "output_type": "stream",
     "text": [
      "40 73706\n"
     ]
    },
    {
     "name": "stderr",
     "output_type": "stream",
     "text": [
      "\r",
      "104it [00:24,  4.15it/s]"
     ]
    },
    {
     "name": "stdout",
     "output_type": "stream",
     "text": [
      "40 74390\n"
     ]
    },
    {
     "name": "stderr",
     "output_type": "stream",
     "text": [
      "\r",
      "105it [00:24,  4.10it/s]"
     ]
    },
    {
     "name": "stdout",
     "output_type": "stream",
     "text": [
      "40 75145\n"
     ]
    },
    {
     "name": "stderr",
     "output_type": "stream",
     "text": [
      "\r",
      "106it [00:25,  4.17it/s]"
     ]
    },
    {
     "name": "stdout",
     "output_type": "stream",
     "text": [
      "40 75815\n"
     ]
    },
    {
     "name": "stderr",
     "output_type": "stream",
     "text": [
      "\r",
      "107it [00:25,  4.10it/s]"
     ]
    },
    {
     "name": "stdout",
     "output_type": "stream",
     "text": [
      "40 76552\n"
     ]
    },
    {
     "name": "stderr",
     "output_type": "stream",
     "text": [
      "\r",
      "108it [00:25,  4.12it/s]"
     ]
    },
    {
     "name": "stdout",
     "output_type": "stream",
     "text": [
      "40 77256\n"
     ]
    },
    {
     "name": "stderr",
     "output_type": "stream",
     "text": [
      "\r",
      "109it [00:25,  4.11it/s]"
     ]
    },
    {
     "name": "stdout",
     "output_type": "stream",
     "text": [
      "40 77970\n"
     ]
    },
    {
     "name": "stderr",
     "output_type": "stream",
     "text": [
      "\r",
      "110it [00:26,  4.07it/s]"
     ]
    },
    {
     "name": "stdout",
     "output_type": "stream",
     "text": [
      "40 78685\n"
     ]
    },
    {
     "name": "stderr",
     "output_type": "stream",
     "text": [
      "\r",
      "111it [00:26,  4.07it/s]"
     ]
    },
    {
     "name": "stdout",
     "output_type": "stream",
     "text": [
      "40 79402\n"
     ]
    },
    {
     "name": "stderr",
     "output_type": "stream",
     "text": [
      "\r",
      "112it [00:26,  4.13it/s]"
     ]
    },
    {
     "name": "stdout",
     "output_type": "stream",
     "text": [
      "40 80133\n"
     ]
    },
    {
     "name": "stderr",
     "output_type": "stream",
     "text": [
      "\r",
      "113it [00:26,  4.03it/s]"
     ]
    },
    {
     "name": "stdout",
     "output_type": "stream",
     "text": [
      "40 80861\n"
     ]
    },
    {
     "name": "stderr",
     "output_type": "stream",
     "text": [
      "\r",
      "114it [00:27,  4.01it/s]"
     ]
    },
    {
     "name": "stdout",
     "output_type": "stream",
     "text": [
      "40 81589\n"
     ]
    },
    {
     "name": "stderr",
     "output_type": "stream",
     "text": [
      "\r",
      "115it [00:27,  4.15it/s]"
     ]
    },
    {
     "name": "stdout",
     "output_type": "stream",
     "text": [
      "40 82306\n"
     ]
    },
    {
     "name": "stderr",
     "output_type": "stream",
     "text": [
      "\r",
      "116it [00:27,  4.15it/s]"
     ]
    },
    {
     "name": "stdout",
     "output_type": "stream",
     "text": [
      "40 83022\n"
     ]
    },
    {
     "name": "stderr",
     "output_type": "stream",
     "text": [
      "\r",
      "117it [00:27,  4.09it/s]"
     ]
    },
    {
     "name": "stdout",
     "output_type": "stream",
     "text": [
      "40 83735\n"
     ]
    },
    {
     "name": "stderr",
     "output_type": "stream",
     "text": [
      "\r",
      "118it [00:28,  4.17it/s]"
     ]
    },
    {
     "name": "stdout",
     "output_type": "stream",
     "text": [
      "40 84446\n"
     ]
    },
    {
     "name": "stderr",
     "output_type": "stream",
     "text": [
      "\r",
      "119it [00:28,  4.09it/s]"
     ]
    },
    {
     "name": "stdout",
     "output_type": "stream",
     "text": [
      "40 85155\n"
     ]
    },
    {
     "name": "stderr",
     "output_type": "stream",
     "text": [
      "\r",
      "120it [00:28,  4.04it/s]"
     ]
    },
    {
     "name": "stdout",
     "output_type": "stream",
     "text": [
      "40 85846\n"
     ]
    },
    {
     "name": "stderr",
     "output_type": "stream",
     "text": [
      "\r",
      "121it [00:28,  4.09it/s]"
     ]
    },
    {
     "name": "stdout",
     "output_type": "stream",
     "text": [
      "40 86574\n"
     ]
    },
    {
     "name": "stderr",
     "output_type": "stream",
     "text": [
      "\r",
      "122it [00:28,  4.13it/s]"
     ]
    },
    {
     "name": "stdout",
     "output_type": "stream",
     "text": [
      "40 87279\n"
     ]
    },
    {
     "name": "stderr",
     "output_type": "stream",
     "text": [
      "\r",
      "123it [00:29,  4.02it/s]"
     ]
    },
    {
     "name": "stdout",
     "output_type": "stream",
     "text": [
      "40 87995\n"
     ]
    },
    {
     "name": "stderr",
     "output_type": "stream",
     "text": [
      "\r",
      "124it [00:29,  4.15it/s]"
     ]
    },
    {
     "name": "stdout",
     "output_type": "stream",
     "text": [
      "40 88698\n"
     ]
    },
    {
     "name": "stderr",
     "output_type": "stream",
     "text": [
      "\r",
      "125it [00:29,  4.06it/s]"
     ]
    },
    {
     "name": "stdout",
     "output_type": "stream",
     "text": [
      "40 89405\n"
     ]
    },
    {
     "name": "stderr",
     "output_type": "stream",
     "text": [
      "\r",
      "126it [00:29,  4.06it/s]"
     ]
    },
    {
     "name": "stdout",
     "output_type": "stream",
     "text": [
      "40 90112\n"
     ]
    },
    {
     "name": "stderr",
     "output_type": "stream",
     "text": [
      "\r",
      "127it [00:30,  4.05it/s]"
     ]
    },
    {
     "name": "stdout",
     "output_type": "stream",
     "text": [
      "40 90845\n"
     ]
    },
    {
     "name": "stderr",
     "output_type": "stream",
     "text": [
      "\r",
      "128it [00:30,  4.02it/s]"
     ]
    },
    {
     "name": "stdout",
     "output_type": "stream",
     "text": [
      "40 91559\n"
     ]
    },
    {
     "name": "stderr",
     "output_type": "stream",
     "text": [
      "\r",
      "129it [00:30,  3.95it/s]"
     ]
    },
    {
     "name": "stdout",
     "output_type": "stream",
     "text": [
      "40 92271\n"
     ]
    },
    {
     "name": "stderr",
     "output_type": "stream",
     "text": [
      "\r",
      "130it [00:30,  4.07it/s]"
     ]
    },
    {
     "name": "stdout",
     "output_type": "stream",
     "text": [
      "40 92983\n"
     ]
    },
    {
     "name": "stderr",
     "output_type": "stream",
     "text": [
      "\r",
      "131it [00:31,  4.05it/s]"
     ]
    },
    {
     "name": "stdout",
     "output_type": "stream",
     "text": [
      "40 93683\n"
     ]
    },
    {
     "name": "stderr",
     "output_type": "stream",
     "text": [
      "\r",
      "132it [00:31,  4.07it/s]"
     ]
    },
    {
     "name": "stdout",
     "output_type": "stream",
     "text": [
      "40 94415\n"
     ]
    },
    {
     "name": "stderr",
     "output_type": "stream",
     "text": [
      "\r",
      "133it [00:31,  4.03it/s]"
     ]
    },
    {
     "name": "stdout",
     "output_type": "stream",
     "text": [
      "40 95133\n"
     ]
    },
    {
     "name": "stderr",
     "output_type": "stream",
     "text": [
      "\r",
      "134it [00:31,  4.08it/s]"
     ]
    },
    {
     "name": "stdout",
     "output_type": "stream",
     "text": [
      "40 95845\n"
     ]
    },
    {
     "name": "stderr",
     "output_type": "stream",
     "text": [
      "\r",
      "135it [00:32,  4.06it/s]"
     ]
    },
    {
     "name": "stdout",
     "output_type": "stream",
     "text": [
      "40 96580\n"
     ]
    },
    {
     "name": "stderr",
     "output_type": "stream",
     "text": [
      "\r",
      "136it [00:32,  4.06it/s]"
     ]
    },
    {
     "name": "stdout",
     "output_type": "stream",
     "text": [
      "40 97273\n"
     ]
    },
    {
     "name": "stderr",
     "output_type": "stream",
     "text": [
      "\r",
      "137it [00:32,  3.99it/s]"
     ]
    },
    {
     "name": "stdout",
     "output_type": "stream",
     "text": [
      "40 97987\n"
     ]
    },
    {
     "name": "stderr",
     "output_type": "stream",
     "text": [
      "\r",
      "138it [00:32,  3.96it/s]"
     ]
    },
    {
     "name": "stdout",
     "output_type": "stream",
     "text": [
      "40 98697\n"
     ]
    },
    {
     "name": "stderr",
     "output_type": "stream",
     "text": [
      "\r",
      "139it [00:33,  4.02it/s]"
     ]
    },
    {
     "name": "stdout",
     "output_type": "stream",
     "text": [
      "40 99411\n"
     ]
    },
    {
     "name": "stderr",
     "output_type": "stream",
     "text": [
      "\r",
      "140it [00:33,  4.03it/s]"
     ]
    },
    {
     "name": "stdout",
     "output_type": "stream",
     "text": [
      "40 100128\n"
     ]
    },
    {
     "name": "stderr",
     "output_type": "stream",
     "text": [
      "\r",
      "141it [00:33,  3.98it/s]"
     ]
    },
    {
     "name": "stdout",
     "output_type": "stream",
     "text": [
      "40 100843\n"
     ]
    },
    {
     "name": "stderr",
     "output_type": "stream",
     "text": [
      "\r",
      "142it [00:33,  4.00it/s]"
     ]
    },
    {
     "name": "stdout",
     "output_type": "stream",
     "text": [
      "40 101544\n"
     ]
    },
    {
     "name": "stderr",
     "output_type": "stream",
     "text": [
      "\r",
      "143it [00:34,  3.98it/s]"
     ]
    },
    {
     "name": "stdout",
     "output_type": "stream",
     "text": [
      "40 102272\n"
     ]
    },
    {
     "name": "stderr",
     "output_type": "stream",
     "text": [
      "\r",
      "144it [00:34,  4.05it/s]"
     ]
    },
    {
     "name": "stdout",
     "output_type": "stream",
     "text": [
      "40 103016\n"
     ]
    },
    {
     "name": "stderr",
     "output_type": "stream",
     "text": [
      "\r",
      "145it [00:34,  3.96it/s]"
     ]
    },
    {
     "name": "stdout",
     "output_type": "stream",
     "text": [
      "40 103772\n"
     ]
    },
    {
     "name": "stderr",
     "output_type": "stream",
     "text": [
      "\r",
      "146it [00:34,  3.99it/s]"
     ]
    },
    {
     "name": "stdout",
     "output_type": "stream",
     "text": [
      "40 104493\n"
     ]
    },
    {
     "name": "stderr",
     "output_type": "stream",
     "text": [
      "\r",
      "147it [00:35,  3.88it/s]"
     ]
    },
    {
     "name": "stdout",
     "output_type": "stream",
     "text": [
      "40 105221\n"
     ]
    },
    {
     "name": "stderr",
     "output_type": "stream",
     "text": [
      "\r",
      "148it [00:35,  4.04it/s]"
     ]
    },
    {
     "name": "stdout",
     "output_type": "stream",
     "text": [
      "40 105950\n"
     ]
    },
    {
     "name": "stderr",
     "output_type": "stream",
     "text": [
      "\r",
      "149it [00:35,  3.96it/s]"
     ]
    },
    {
     "name": "stdout",
     "output_type": "stream",
     "text": [
      "40 106663\n"
     ]
    },
    {
     "name": "stderr",
     "output_type": "stream",
     "text": [
      "150it [00:35,  4.17it/s]"
     ]
    },
    {
     "name": "stdout",
     "output_type": "stream",
     "text": [
      "40 107379\n",
      "Wall time: 36.2 s\n"
     ]
    },
    {
     "name": "stderr",
     "output_type": "stream",
     "text": [
      "\n"
     ]
    }
   ],
   "source": [
    "%%time\n",
    "\n",
    "tp = pd.read_csv(bookings_nodup_path,\n",
    "                 usecols=['arr_port', 'pax'],\n",
    "                 sep='^',\n",
    "                 iterator=True,\n",
    "                 low_memory=False,\n",
    "                 chunksize=10000)\n",
    "\n",
    "iter_max = 1e8 # Usar '5' para test\n",
    "\n",
    "df_all = pd.DataFrame()\n",
    "for k, chunk in tqdm(enumerate(tp)):\n",
    "    chunk['arr_port'] = chunk['arr_port'].str.strip().str.upper()\n",
    "    group_chunk = chunk.groupby('arr_port').sum()\n",
    "    df_all = df_all.append(group_chunk).sort_values(by='pax', ascending=False)\n",
    "\n",
    "    if k == iter_max: # Comprobador\n",
    "        break # Comprobador\n",
    "\n",
    "\n",
    "group_all = df_all.groupby('arr_port').sum().sort_values(by='pax', ascending=False)\n",
    "group_all.to_csv('Exercise_2_result_df.csv',\n",
    "                 sep='^',\n",
    "                 index=False)"
   ]
  },
  {
   "cell_type": "code",
   "execution_count": 27,
   "metadata": {},
   "outputs": [
    {
     "data": {
      "text/html": [
       "<div>\n",
       "<style scoped>\n",
       "    .dataframe tbody tr th:only-of-type {\n",
       "        vertical-align: middle;\n",
       "    }\n",
       "\n",
       "    .dataframe tbody tr th {\n",
       "        vertical-align: top;\n",
       "    }\n",
       "\n",
       "    .dataframe thead th {\n",
       "        text-align: right;\n",
       "    }\n",
       "</style>\n",
       "<table border=\"1\" class=\"dataframe\">\n",
       "  <thead>\n",
       "    <tr style=\"text-align: right;\">\n",
       "      <th></th>\n",
       "      <th>pax</th>\n",
       "    </tr>\n",
       "    <tr>\n",
       "      <th>arr_port</th>\n",
       "      <th></th>\n",
       "    </tr>\n",
       "  </thead>\n",
       "  <tbody>\n",
       "    <tr>\n",
       "      <th>LHR</th>\n",
       "      <td>13560.0</td>\n",
       "    </tr>\n",
       "    <tr>\n",
       "      <th>MCO</th>\n",
       "      <td>10992.0</td>\n",
       "    </tr>\n",
       "    <tr>\n",
       "      <th>LAX</th>\n",
       "      <td>10695.0</td>\n",
       "    </tr>\n",
       "    <tr>\n",
       "      <th>LAS</th>\n",
       "      <td>10367.0</td>\n",
       "    </tr>\n",
       "    <tr>\n",
       "      <th>JFK</th>\n",
       "      <td>10115.0</td>\n",
       "    </tr>\n",
       "    <tr>\n",
       "      <th>...</th>\n",
       "      <td>...</td>\n",
       "    </tr>\n",
       "    <tr>\n",
       "      <th>SDJ</th>\n",
       "      <td>-11.0</td>\n",
       "    </tr>\n",
       "    <tr>\n",
       "      <th>MYJ</th>\n",
       "      <td>-16.0</td>\n",
       "    </tr>\n",
       "    <tr>\n",
       "      <th>SCQ</th>\n",
       "      <td>-23.0</td>\n",
       "    </tr>\n",
       "    <tr>\n",
       "      <th>MZV</th>\n",
       "      <td>-35.0</td>\n",
       "    </tr>\n",
       "    <tr>\n",
       "      <th>AYQ</th>\n",
       "      <td>-271.0</td>\n",
       "    </tr>\n",
       "  </tbody>\n",
       "</table>\n",
       "<p>2275 rows × 1 columns</p>\n",
       "</div>"
      ],
      "text/plain": [
       "              pax\n",
       "arr_port         \n",
       "LHR       13560.0\n",
       "MCO       10992.0\n",
       "LAX       10695.0\n",
       "LAS       10367.0\n",
       "JFK       10115.0\n",
       "...           ...\n",
       "SDJ         -11.0\n",
       "MYJ         -16.0\n",
       "SCQ         -23.0\n",
       "MZV         -35.0\n",
       "AYQ        -271.0\n",
       "\n",
       "[2275 rows x 1 columns]"
      ]
     },
     "execution_count": 27,
     "metadata": {},
     "output_type": "execute_result"
    }
   ],
   "source": [
    "group_all"
   ]
  },
  {
   "cell_type": "code",
   "execution_count": 5,
   "metadata": {
    "scrolled": true
   },
   "outputs": [
    {
     "name": "stderr",
     "output_type": "stream",
     "text": [
      "1001it [05:41,  2.93it/s]\n"
     ]
    },
    {
     "name": "stdout",
     "output_type": "stream",
     "text": [
      "Wall time: 5min 41s\n"
     ]
    }
   ],
   "source": [
    "%%time\n",
    "\n",
    "tp = pd.read_csv(bookings_path,\n",
    "                 usecols=['arr_port', 'pax'],\n",
    "                 sep='^',\n",
    "                 iterator=True,\n",
    "                 low_memory=False,\n",
    "                 chunksize=10000)\n",
    "\n",
    "iter_max = 1e8 # Usar '5' para test\n",
    "\n",
    "df_all = pd.DataFrame()\n",
    "for k, chunk in tqdm(enumerate(tp)):\n",
    "    chunk['arr_port'] = chunk['arr_port'].str.strip().str.upper()\n",
    "    group_chunk = chunk.groupby('arr_port').sum()\n",
    "    df_all = df_all.append(group_chunk).sort_values(by='pax', ascending=False)\n",
    "\n",
    "    if k == iter_max: # Comprobador\n",
    "        break # Comprobador\n",
    "\n",
    "\n",
    "group_all = df_all.groupby('arr_port').sum().sort_values(by='pax', ascending=False)\n",
    "group_all.to_csv('Exercise_2_result_df_withdup.csv',\n",
    "                 sep='^',\n",
    "                 index=True)"
   ]
  },
  {
   "cell_type": "code",
   "execution_count": 4,
   "metadata": {},
   "outputs": [
    {
     "data": {
      "text/html": [
       "<div>\n",
       "<style scoped>\n",
       "    .dataframe tbody tr th:only-of-type {\n",
       "        vertical-align: middle;\n",
       "    }\n",
       "\n",
       "    .dataframe tbody tr th {\n",
       "        vertical-align: top;\n",
       "    }\n",
       "\n",
       "    .dataframe thead th {\n",
       "        text-align: right;\n",
       "    }\n",
       "</style>\n",
       "<table border=\"1\" class=\"dataframe\">\n",
       "  <thead>\n",
       "    <tr style=\"text-align: right;\">\n",
       "      <th></th>\n",
       "      <th>pax</th>\n",
       "    </tr>\n",
       "    <tr>\n",
       "      <th>arr_port</th>\n",
       "      <th></th>\n",
       "    </tr>\n",
       "  </thead>\n",
       "  <tbody>\n",
       "    <tr>\n",
       "      <th>LHR</th>\n",
       "      <td>88809.0</td>\n",
       "    </tr>\n",
       "    <tr>\n",
       "      <th>MCO</th>\n",
       "      <td>70930.0</td>\n",
       "    </tr>\n",
       "    <tr>\n",
       "      <th>LAX</th>\n",
       "      <td>70530.0</td>\n",
       "    </tr>\n",
       "    <tr>\n",
       "      <th>LAS</th>\n",
       "      <td>69630.0</td>\n",
       "    </tr>\n",
       "    <tr>\n",
       "      <th>JFK</th>\n",
       "      <td>66270.0</td>\n",
       "    </tr>\n",
       "    <tr>\n",
       "      <th>...</th>\n",
       "      <td>...</td>\n",
       "    </tr>\n",
       "    <tr>\n",
       "      <th>MYJ</th>\n",
       "      <td>-80.0</td>\n",
       "    </tr>\n",
       "    <tr>\n",
       "      <th>UPG</th>\n",
       "      <td>-90.0</td>\n",
       "    </tr>\n",
       "    <tr>\n",
       "      <th>XWG</th>\n",
       "      <td>-90.0</td>\n",
       "    </tr>\n",
       "    <tr>\n",
       "      <th>MZV</th>\n",
       "      <td>-350.0</td>\n",
       "    </tr>\n",
       "    <tr>\n",
       "      <th>AYQ</th>\n",
       "      <td>-1270.0</td>\n",
       "    </tr>\n",
       "  </tbody>\n",
       "</table>\n",
       "<p>2275 rows × 1 columns</p>\n",
       "</div>"
      ],
      "text/plain": [
       "              pax\n",
       "arr_port         \n",
       "LHR       88809.0\n",
       "MCO       70930.0\n",
       "LAX       70530.0\n",
       "LAS       69630.0\n",
       "JFK       66270.0\n",
       "...           ...\n",
       "MYJ         -80.0\n",
       "UPG         -90.0\n",
       "XWG         -90.0\n",
       "MZV        -350.0\n",
       "AYQ       -1270.0\n",
       "\n",
       "[2275 rows x 1 columns]"
      ]
     },
     "execution_count": 4,
     "metadata": {},
     "output_type": "execute_result"
    }
   ],
   "source": [
    "group_all"
   ]
  },
  {
   "cell_type": "code",
   "execution_count": null,
   "metadata": {},
   "outputs": [],
   "source": []
  },
  {
   "cell_type": "markdown",
   "metadata": {},
   "source": [
    "## Exercise 3\n",
    "\n",
    "#### Plot the monthly number of searches for flights arriving at Málaga, Madrid or Barcelona\n",
    "\n",
    "- For the arriving airport, you can use the Destination column in the searches file.\n",
    "- Plot a curve for Málaga, another one for Madrid, and another one for Barcelona, in the same figure.\n",
    "- **Bonus point**: Solving this problem using pandas (instead of any other approach)"
   ]
  },
  {
   "cell_type": "code",
   "execution_count": 33,
   "metadata": {
    "scrolled": true
   },
   "outputs": [
    {
     "name": "stderr",
     "output_type": "stream",
     "text": [
      "2it [00:07,  3.86s/it]"
     ]
    },
    {
     "name": "stdout",
     "output_type": "stream",
     "text": [
      "Wall time: 7.77 s\n"
     ]
    },
    {
     "name": "stderr",
     "output_type": "stream",
     "text": [
      "\n"
     ]
    }
   ],
   "source": [
    "%%time\n",
    "\n",
    "# Importa el archivo, troceándolo en chunks (20390199 filas):\n",
    "tp = pd.read_csv(searches_nodup_path,\n",
    "                 sep='^',\n",
    "                 usecols=['Date','Destination'], \n",
    "                 iterator=True,\n",
    "                 chunksize=500000)\n",
    "\n",
    "# TEST: número de iteraciones máximas para testeo\n",
    "iter_max = 1e8\n",
    "# Crear un DataFrame vacío para appendear cada resultado de los chunks:\n",
    "df4 = pd.DataFrame()\n",
    "\n",
    "# Iterar por cada chunk:\n",
    "for k, chunk in tqdm(enumerate(tp)):\n",
    "    # TEST: al llegar al número máximo de iteraciones permitido, interrumpe el proceso:\n",
    "    if k == iter_max: # Comprobador\n",
    "        break # Comprobador\n",
    "    # Crear columnas auxiliares de Año y Mes:\n",
    "    chunk['year'] = chunk['Date'].str[:4]\n",
    "    chunk['month'] = chunk['Date'].str[5:7]\n",
    "    # Listar las ciudades (IATAs) buscadas:\n",
    "    cities = ['AGP', 'MAD', 'BCN']\n",
    "    # Filtrar por las ciudades buscadas:\n",
    "    df2 = chunk[chunk['Destination'].isin(cities)]\n",
    "    # Agrupar primero por Ciudad, luego por Año, y finalmente por Mes (reset_index para formato por columnas):\n",
    "    df3 = df2.groupby(['Destination', 'year', 'month']).count().reset_index()\n",
    "    # Appendear el grupo resultante al DataFrame inicialmente vacío (df4):\n",
    "    df4 = df4.append(df3)\n",
    "\n",
    "# Almacenar el df4 resultante:\n",
    "df4.to_csv('Exercise_3_result_df_withoutdup.csv',\n",
    "                 sep='^',\n",
    "                 index=False)"
   ]
  },
  {
   "cell_type": "code",
   "execution_count": 35,
   "metadata": {
    "scrolled": true
   },
   "outputs": [
    {
     "data": {
      "text/html": [
       "<div>\n",
       "<style scoped>\n",
       "    .dataframe tbody tr th:only-of-type {\n",
       "        vertical-align: middle;\n",
       "    }\n",
       "\n",
       "    .dataframe tbody tr th {\n",
       "        vertical-align: top;\n",
       "    }\n",
       "\n",
       "    .dataframe thead th {\n",
       "        text-align: right;\n",
       "    }\n",
       "</style>\n",
       "<table border=\"1\" class=\"dataframe\">\n",
       "  <thead>\n",
       "    <tr style=\"text-align: right;\">\n",
       "      <th></th>\n",
       "      <th>Destination</th>\n",
       "      <th>year</th>\n",
       "      <th>month</th>\n",
       "      <th>Date</th>\n",
       "    </tr>\n",
       "  </thead>\n",
       "  <tbody>\n",
       "    <tr>\n",
       "      <th>0</th>\n",
       "      <td>AGP</td>\n",
       "      <td>2013</td>\n",
       "      <td>01</td>\n",
       "      <td>338</td>\n",
       "    </tr>\n",
       "    <tr>\n",
       "      <th>1</th>\n",
       "      <td>AGP</td>\n",
       "      <td>2013</td>\n",
       "      <td>02</td>\n",
       "      <td>294</td>\n",
       "    </tr>\n",
       "    <tr>\n",
       "      <th>2</th>\n",
       "      <td>AGP</td>\n",
       "      <td>2013</td>\n",
       "      <td>03</td>\n",
       "      <td>212</td>\n",
       "    </tr>\n",
       "    <tr>\n",
       "      <th>3</th>\n",
       "      <td>AGP</td>\n",
       "      <td>2013</td>\n",
       "      <td>04</td>\n",
       "      <td>145</td>\n",
       "    </tr>\n",
       "    <tr>\n",
       "      <th>4</th>\n",
       "      <td>AGP</td>\n",
       "      <td>2013</td>\n",
       "      <td>05</td>\n",
       "      <td>190</td>\n",
       "    </tr>\n",
       "    <tr>\n",
       "      <th>5</th>\n",
       "      <td>AGP</td>\n",
       "      <td>2013</td>\n",
       "      <td>06</td>\n",
       "      <td>139</td>\n",
       "    </tr>\n",
       "    <tr>\n",
       "      <th>6</th>\n",
       "      <td>AGP</td>\n",
       "      <td>2013</td>\n",
       "      <td>07</td>\n",
       "      <td>156</td>\n",
       "    </tr>\n",
       "    <tr>\n",
       "      <th>7</th>\n",
       "      <td>AGP</td>\n",
       "      <td>2013</td>\n",
       "      <td>08</td>\n",
       "      <td>138</td>\n",
       "    </tr>\n",
       "    <tr>\n",
       "      <th>8</th>\n",
       "      <td>AGP</td>\n",
       "      <td>2013</td>\n",
       "      <td>09</td>\n",
       "      <td>143</td>\n",
       "    </tr>\n",
       "    <tr>\n",
       "      <th>9</th>\n",
       "      <td>AGP</td>\n",
       "      <td>2013</td>\n",
       "      <td>10</td>\n",
       "      <td>189</td>\n",
       "    </tr>\n",
       "    <tr>\n",
       "      <th>10</th>\n",
       "      <td>AGP</td>\n",
       "      <td>2013</td>\n",
       "      <td>11</td>\n",
       "      <td>228</td>\n",
       "    </tr>\n",
       "    <tr>\n",
       "      <th>11</th>\n",
       "      <td>AGP</td>\n",
       "      <td>2013</td>\n",
       "      <td>12</td>\n",
       "      <td>132</td>\n",
       "    </tr>\n",
       "    <tr>\n",
       "      <th>12</th>\n",
       "      <td>BCN</td>\n",
       "      <td>2013</td>\n",
       "      <td>01</td>\n",
       "      <td>1034</td>\n",
       "    </tr>\n",
       "    <tr>\n",
       "      <th>13</th>\n",
       "      <td>BCN</td>\n",
       "      <td>2013</td>\n",
       "      <td>02</td>\n",
       "      <td>994</td>\n",
       "    </tr>\n",
       "    <tr>\n",
       "      <th>14</th>\n",
       "      <td>BCN</td>\n",
       "      <td>2013</td>\n",
       "      <td>03</td>\n",
       "      <td>630</td>\n",
       "    </tr>\n",
       "    <tr>\n",
       "      <th>15</th>\n",
       "      <td>BCN</td>\n",
       "      <td>2013</td>\n",
       "      <td>04</td>\n",
       "      <td>548</td>\n",
       "    </tr>\n",
       "    <tr>\n",
       "      <th>16</th>\n",
       "      <td>BCN</td>\n",
       "      <td>2013</td>\n",
       "      <td>05</td>\n",
       "      <td>504</td>\n",
       "    </tr>\n",
       "    <tr>\n",
       "      <th>17</th>\n",
       "      <td>BCN</td>\n",
       "      <td>2013</td>\n",
       "      <td>06</td>\n",
       "      <td>465</td>\n",
       "    </tr>\n",
       "    <tr>\n",
       "      <th>18</th>\n",
       "      <td>BCN</td>\n",
       "      <td>2013</td>\n",
       "      <td>07</td>\n",
       "      <td>513</td>\n",
       "    </tr>\n",
       "    <tr>\n",
       "      <th>19</th>\n",
       "      <td>BCN</td>\n",
       "      <td>2013</td>\n",
       "      <td>08</td>\n",
       "      <td>475</td>\n",
       "    </tr>\n",
       "    <tr>\n",
       "      <th>20</th>\n",
       "      <td>BCN</td>\n",
       "      <td>2013</td>\n",
       "      <td>09</td>\n",
       "      <td>411</td>\n",
       "    </tr>\n",
       "    <tr>\n",
       "      <th>21</th>\n",
       "      <td>BCN</td>\n",
       "      <td>2013</td>\n",
       "      <td>10</td>\n",
       "      <td>597</td>\n",
       "    </tr>\n",
       "    <tr>\n",
       "      <th>22</th>\n",
       "      <td>BCN</td>\n",
       "      <td>2013</td>\n",
       "      <td>11</td>\n",
       "      <td>708</td>\n",
       "    </tr>\n",
       "    <tr>\n",
       "      <th>23</th>\n",
       "      <td>BCN</td>\n",
       "      <td>2013</td>\n",
       "      <td>12</td>\n",
       "      <td>550</td>\n",
       "    </tr>\n",
       "    <tr>\n",
       "      <th>24</th>\n",
       "      <td>MAD</td>\n",
       "      <td>2013</td>\n",
       "      <td>01</td>\n",
       "      <td>850</td>\n",
       "    </tr>\n",
       "    <tr>\n",
       "      <th>25</th>\n",
       "      <td>MAD</td>\n",
       "      <td>2013</td>\n",
       "      <td>02</td>\n",
       "      <td>800</td>\n",
       "    </tr>\n",
       "    <tr>\n",
       "      <th>26</th>\n",
       "      <td>MAD</td>\n",
       "      <td>2013</td>\n",
       "      <td>03</td>\n",
       "      <td>493</td>\n",
       "    </tr>\n",
       "    <tr>\n",
       "      <th>27</th>\n",
       "      <td>MAD</td>\n",
       "      <td>2013</td>\n",
       "      <td>04</td>\n",
       "      <td>443</td>\n",
       "    </tr>\n",
       "    <tr>\n",
       "      <th>28</th>\n",
       "      <td>MAD</td>\n",
       "      <td>2013</td>\n",
       "      <td>05</td>\n",
       "      <td>462</td>\n",
       "    </tr>\n",
       "    <tr>\n",
       "      <th>29</th>\n",
       "      <td>MAD</td>\n",
       "      <td>2013</td>\n",
       "      <td>06</td>\n",
       "      <td>400</td>\n",
       "    </tr>\n",
       "    <tr>\n",
       "      <th>30</th>\n",
       "      <td>MAD</td>\n",
       "      <td>2013</td>\n",
       "      <td>07</td>\n",
       "      <td>403</td>\n",
       "    </tr>\n",
       "    <tr>\n",
       "      <th>31</th>\n",
       "      <td>MAD</td>\n",
       "      <td>2013</td>\n",
       "      <td>08</td>\n",
       "      <td>383</td>\n",
       "    </tr>\n",
       "    <tr>\n",
       "      <th>32</th>\n",
       "      <td>MAD</td>\n",
       "      <td>2013</td>\n",
       "      <td>09</td>\n",
       "      <td>371</td>\n",
       "    </tr>\n",
       "    <tr>\n",
       "      <th>33</th>\n",
       "      <td>MAD</td>\n",
       "      <td>2013</td>\n",
       "      <td>10</td>\n",
       "      <td>665</td>\n",
       "    </tr>\n",
       "    <tr>\n",
       "      <th>34</th>\n",
       "      <td>MAD</td>\n",
       "      <td>2013</td>\n",
       "      <td>11</td>\n",
       "      <td>724</td>\n",
       "    </tr>\n",
       "    <tr>\n",
       "      <th>35</th>\n",
       "      <td>MAD</td>\n",
       "      <td>2013</td>\n",
       "      <td>12</td>\n",
       "      <td>518</td>\n",
       "    </tr>\n",
       "    <tr>\n",
       "      <th>0</th>\n",
       "      <td>AGP</td>\n",
       "      <td>2013</td>\n",
       "      <td>03</td>\n",
       "      <td>162</td>\n",
       "    </tr>\n",
       "    <tr>\n",
       "      <th>1</th>\n",
       "      <td>AGP</td>\n",
       "      <td>2013</td>\n",
       "      <td>04</td>\n",
       "      <td>145</td>\n",
       "    </tr>\n",
       "    <tr>\n",
       "      <th>2</th>\n",
       "      <td>AGP</td>\n",
       "      <td>2013</td>\n",
       "      <td>05</td>\n",
       "      <td>190</td>\n",
       "    </tr>\n",
       "    <tr>\n",
       "      <th>3</th>\n",
       "      <td>AGP</td>\n",
       "      <td>2013</td>\n",
       "      <td>06</td>\n",
       "      <td>139</td>\n",
       "    </tr>\n",
       "    <tr>\n",
       "      <th>4</th>\n",
       "      <td>AGP</td>\n",
       "      <td>2013</td>\n",
       "      <td>07</td>\n",
       "      <td>156</td>\n",
       "    </tr>\n",
       "    <tr>\n",
       "      <th>5</th>\n",
       "      <td>AGP</td>\n",
       "      <td>2013</td>\n",
       "      <td>08</td>\n",
       "      <td>138</td>\n",
       "    </tr>\n",
       "    <tr>\n",
       "      <th>6</th>\n",
       "      <td>AGP</td>\n",
       "      <td>2013</td>\n",
       "      <td>09</td>\n",
       "      <td>143</td>\n",
       "    </tr>\n",
       "    <tr>\n",
       "      <th>7</th>\n",
       "      <td>AGP</td>\n",
       "      <td>2013</td>\n",
       "      <td>10</td>\n",
       "      <td>41</td>\n",
       "    </tr>\n",
       "    <tr>\n",
       "      <th>8</th>\n",
       "      <td>BCN</td>\n",
       "      <td>2013</td>\n",
       "      <td>03</td>\n",
       "      <td>442</td>\n",
       "    </tr>\n",
       "    <tr>\n",
       "      <th>9</th>\n",
       "      <td>BCN</td>\n",
       "      <td>2013</td>\n",
       "      <td>04</td>\n",
       "      <td>548</td>\n",
       "    </tr>\n",
       "    <tr>\n",
       "      <th>10</th>\n",
       "      <td>BCN</td>\n",
       "      <td>2013</td>\n",
       "      <td>05</td>\n",
       "      <td>504</td>\n",
       "    </tr>\n",
       "    <tr>\n",
       "      <th>11</th>\n",
       "      <td>BCN</td>\n",
       "      <td>2013</td>\n",
       "      <td>06</td>\n",
       "      <td>465</td>\n",
       "    </tr>\n",
       "    <tr>\n",
       "      <th>12</th>\n",
       "      <td>BCN</td>\n",
       "      <td>2013</td>\n",
       "      <td>07</td>\n",
       "      <td>513</td>\n",
       "    </tr>\n",
       "    <tr>\n",
       "      <th>13</th>\n",
       "      <td>BCN</td>\n",
       "      <td>2013</td>\n",
       "      <td>08</td>\n",
       "      <td>475</td>\n",
       "    </tr>\n",
       "    <tr>\n",
       "      <th>14</th>\n",
       "      <td>BCN</td>\n",
       "      <td>2013</td>\n",
       "      <td>09</td>\n",
       "      <td>411</td>\n",
       "    </tr>\n",
       "    <tr>\n",
       "      <th>15</th>\n",
       "      <td>BCN</td>\n",
       "      <td>2013</td>\n",
       "      <td>10</td>\n",
       "      <td>121</td>\n",
       "    </tr>\n",
       "    <tr>\n",
       "      <th>16</th>\n",
       "      <td>MAD</td>\n",
       "      <td>2013</td>\n",
       "      <td>03</td>\n",
       "      <td>373</td>\n",
       "    </tr>\n",
       "    <tr>\n",
       "      <th>17</th>\n",
       "      <td>MAD</td>\n",
       "      <td>2013</td>\n",
       "      <td>04</td>\n",
       "      <td>443</td>\n",
       "    </tr>\n",
       "    <tr>\n",
       "      <th>18</th>\n",
       "      <td>MAD</td>\n",
       "      <td>2013</td>\n",
       "      <td>05</td>\n",
       "      <td>462</td>\n",
       "    </tr>\n",
       "    <tr>\n",
       "      <th>19</th>\n",
       "      <td>MAD</td>\n",
       "      <td>2013</td>\n",
       "      <td>06</td>\n",
       "      <td>400</td>\n",
       "    </tr>\n",
       "    <tr>\n",
       "      <th>20</th>\n",
       "      <td>MAD</td>\n",
       "      <td>2013</td>\n",
       "      <td>07</td>\n",
       "      <td>403</td>\n",
       "    </tr>\n",
       "    <tr>\n",
       "      <th>21</th>\n",
       "      <td>MAD</td>\n",
       "      <td>2013</td>\n",
       "      <td>08</td>\n",
       "      <td>383</td>\n",
       "    </tr>\n",
       "    <tr>\n",
       "      <th>22</th>\n",
       "      <td>MAD</td>\n",
       "      <td>2013</td>\n",
       "      <td>09</td>\n",
       "      <td>371</td>\n",
       "    </tr>\n",
       "    <tr>\n",
       "      <th>23</th>\n",
       "      <td>MAD</td>\n",
       "      <td>2013</td>\n",
       "      <td>10</td>\n",
       "      <td>125</td>\n",
       "    </tr>\n",
       "  </tbody>\n",
       "</table>\n",
       "</div>"
      ],
      "text/plain": [
       "   Destination  year month  Date\n",
       "0          AGP  2013    01   338\n",
       "1          AGP  2013    02   294\n",
       "2          AGP  2013    03   212\n",
       "3          AGP  2013    04   145\n",
       "4          AGP  2013    05   190\n",
       "5          AGP  2013    06   139\n",
       "6          AGP  2013    07   156\n",
       "7          AGP  2013    08   138\n",
       "8          AGP  2013    09   143\n",
       "9          AGP  2013    10   189\n",
       "10         AGP  2013    11   228\n",
       "11         AGP  2013    12   132\n",
       "12         BCN  2013    01  1034\n",
       "13         BCN  2013    02   994\n",
       "14         BCN  2013    03   630\n",
       "15         BCN  2013    04   548\n",
       "16         BCN  2013    05   504\n",
       "17         BCN  2013    06   465\n",
       "18         BCN  2013    07   513\n",
       "19         BCN  2013    08   475\n",
       "20         BCN  2013    09   411\n",
       "21         BCN  2013    10   597\n",
       "22         BCN  2013    11   708\n",
       "23         BCN  2013    12   550\n",
       "24         MAD  2013    01   850\n",
       "25         MAD  2013    02   800\n",
       "26         MAD  2013    03   493\n",
       "27         MAD  2013    04   443\n",
       "28         MAD  2013    05   462\n",
       "29         MAD  2013    06   400\n",
       "30         MAD  2013    07   403\n",
       "31         MAD  2013    08   383\n",
       "32         MAD  2013    09   371\n",
       "33         MAD  2013    10   665\n",
       "34         MAD  2013    11   724\n",
       "35         MAD  2013    12   518\n",
       "0          AGP  2013    03   162\n",
       "1          AGP  2013    04   145\n",
       "2          AGP  2013    05   190\n",
       "3          AGP  2013    06   139\n",
       "4          AGP  2013    07   156\n",
       "5          AGP  2013    08   138\n",
       "6          AGP  2013    09   143\n",
       "7          AGP  2013    10    41\n",
       "8          BCN  2013    03   442\n",
       "9          BCN  2013    04   548\n",
       "10         BCN  2013    05   504\n",
       "11         BCN  2013    06   465\n",
       "12         BCN  2013    07   513\n",
       "13         BCN  2013    08   475\n",
       "14         BCN  2013    09   411\n",
       "15         BCN  2013    10   121\n",
       "16         MAD  2013    03   373\n",
       "17         MAD  2013    04   443\n",
       "18         MAD  2013    05   462\n",
       "19         MAD  2013    06   400\n",
       "20         MAD  2013    07   403\n",
       "21         MAD  2013    08   383\n",
       "22         MAD  2013    09   371\n",
       "23         MAD  2013    10   125"
      ]
     },
     "execution_count": 35,
     "metadata": {},
     "output_type": "execute_result"
    }
   ],
   "source": [
    "df4"
   ]
  },
  {
   "cell_type": "code",
   "execution_count": 36,
   "metadata": {},
   "outputs": [
    {
     "data": {
      "text/plain": [
       "<AxesSubplot:xlabel='month', ylabel='Date'>"
      ]
     },
     "execution_count": 36,
     "metadata": {},
     "output_type": "execute_result"
    },
    {
     "data": {
      "image/png": "[encoded data removed]",
      "text/plain": [
       "<Figure size 576x360 with 1 Axes>"
      ]
     },
     "metadata": {
      "needs_background": "light"
     },
     "output_type": "display_data"
    }
   ],
   "source": [
    "# Plotea el resultado final\n",
    "fig,ax1 = plt.subplots(figsize=(8,5))\n",
    "sns.lineplot(data=df4[df4['year'] == '2013'],\n",
    "            x='month',\n",
    "            y='Date',\n",
    "            hue='Destination',\n",
    "            ax=ax1)"
   ]
  },
  {
   "cell_type": "code",
   "execution_count": 143,
   "metadata": {},
   "outputs": [],
   "source": [
    "# Repetición, esta vez con el archivo conn duplicados:"
   ]
  },
  {
   "cell_type": "code",
   "execution_count": 37,
   "metadata": {
    "scrolled": true
   },
   "outputs": [
    {
     "name": "stderr",
     "output_type": "stream",
     "text": [
      "41it [03:47,  5.54s/it]"
     ]
    },
    {
     "name": "stdout",
     "output_type": "stream",
     "text": [
      "Wall time: 3min 47s\n"
     ]
    },
    {
     "name": "stderr",
     "output_type": "stream",
     "text": [
      "\n"
     ]
    }
   ],
   "source": [
    "%%time\n",
    "\n",
    "# Importa el archivo, troceándolo en chunks (20390199 filas):\n",
    "tp = pd.read_csv(searches_path,\n",
    "                 sep='^',\n",
    "                 usecols=['Date','Destination'], \n",
    "                 iterator=True,\n",
    "                 chunksize=500000)\n",
    "\n",
    "# TEST: número de iteraciones máximas para testeo\n",
    "iter_max = 1e8\n",
    "# Crear un DataFrame vacío para appendear cada resultado de los chunks:\n",
    "df4 = pd.DataFrame()\n",
    "\n",
    "# Iterar por cada chunk:\n",
    "for k, chunk in tqdm(enumerate(tp)):\n",
    "    # TEST: al llegar al número máximo de iteraciones permitido, interrumpe el proceso:\n",
    "    if k == iter_max: # Comprobador\n",
    "        break # Comprobador\n",
    "    # Crear columnas auxiliares de Año y Mes:\n",
    "    chunk['year'] = chunk['Date'].str[:4]\n",
    "    chunk['month'] = chunk['Date'].str[5:7]\n",
    "    # Listar las ciudades (IATAs) buscadas:\n",
    "    cities = ['AGP', 'MAD', 'BCN']\n",
    "    # Filtrar por las ciudades buscadas:\n",
    "    df2 = chunk[chunk['Destination'].isin(cities)]\n",
    "    # Agrupar primero por Ciudad, luego por Año, y finalmente por Mes (reset_index para formato por columnas):\n",
    "    df3 = df2.groupby(['Destination', 'year', 'month']).count().reset_index()\n",
    "    # Appendear el grupo resultante al DataFrame inicialmente vacío (df4):\n",
    "    df4 = df4.append(df3)\n",
    "\n",
    "# Almacenar el df4 resultante:\n",
    "df4.to_csv('Exercise_3_result_df_withdup.csv',\n",
    "                 sep='^',\n",
    "                 index=False)"
   ]
  },
  {
   "cell_type": "code",
   "execution_count": 38,
   "metadata": {
    "scrolled": true
   },
   "outputs": [
    {
     "data": {
      "text/html": [
       "<div>\n",
       "<style scoped>\n",
       "    .dataframe tbody tr th:only-of-type {\n",
       "        vertical-align: middle;\n",
       "    }\n",
       "\n",
       "    .dataframe tbody tr th {\n",
       "        vertical-align: top;\n",
       "    }\n",
       "\n",
       "    .dataframe thead th {\n",
       "        text-align: right;\n",
       "    }\n",
       "</style>\n",
       "<table border=\"1\" class=\"dataframe\">\n",
       "  <thead>\n",
       "    <tr style=\"text-align: right;\">\n",
       "      <th></th>\n",
       "      <th>Destination</th>\n",
       "      <th>year</th>\n",
       "      <th>month</th>\n",
       "      <th>Date</th>\n",
       "    </tr>\n",
       "  </thead>\n",
       "  <tbody>\n",
       "    <tr>\n",
       "      <th>0</th>\n",
       "      <td>AGP</td>\n",
       "      <td>2013</td>\n",
       "      <td>01</td>\n",
       "      <td>338</td>\n",
       "    </tr>\n",
       "    <tr>\n",
       "      <th>1</th>\n",
       "      <td>AGP</td>\n",
       "      <td>2013</td>\n",
       "      <td>02</td>\n",
       "      <td>294</td>\n",
       "    </tr>\n",
       "    <tr>\n",
       "      <th>2</th>\n",
       "      <td>AGP</td>\n",
       "      <td>2013</td>\n",
       "      <td>03</td>\n",
       "      <td>374</td>\n",
       "    </tr>\n",
       "    <tr>\n",
       "      <th>3</th>\n",
       "      <td>AGP</td>\n",
       "      <td>2013</td>\n",
       "      <td>04</td>\n",
       "      <td>290</td>\n",
       "    </tr>\n",
       "    <tr>\n",
       "      <th>4</th>\n",
       "      <td>AGP</td>\n",
       "      <td>2013</td>\n",
       "      <td>05</td>\n",
       "      <td>310</td>\n",
       "    </tr>\n",
       "    <tr>\n",
       "      <th>...</th>\n",
       "      <td>...</td>\n",
       "      <td>...</td>\n",
       "      <td>...</td>\n",
       "      <td>...</td>\n",
       "    </tr>\n",
       "    <tr>\n",
       "      <th>31</th>\n",
       "      <td>MAD</td>\n",
       "      <td>2013</td>\n",
       "      <td>08</td>\n",
       "      <td>383</td>\n",
       "    </tr>\n",
       "    <tr>\n",
       "      <th>32</th>\n",
       "      <td>MAD</td>\n",
       "      <td>2013</td>\n",
       "      <td>09</td>\n",
       "      <td>594</td>\n",
       "    </tr>\n",
       "    <tr>\n",
       "      <th>33</th>\n",
       "      <td>MAD</td>\n",
       "      <td>2013</td>\n",
       "      <td>10</td>\n",
       "      <td>569</td>\n",
       "    </tr>\n",
       "    <tr>\n",
       "      <th>34</th>\n",
       "      <td>MAD</td>\n",
       "      <td>2013</td>\n",
       "      <td>11</td>\n",
       "      <td>362</td>\n",
       "    </tr>\n",
       "    <tr>\n",
       "      <th>35</th>\n",
       "      <td>MAD</td>\n",
       "      <td>2013</td>\n",
       "      <td>12</td>\n",
       "      <td>259</td>\n",
       "    </tr>\n",
       "  </tbody>\n",
       "</table>\n",
       "<p>1476 rows × 4 columns</p>\n",
       "</div>"
      ],
      "text/plain": [
       "   Destination  year month  Date\n",
       "0          AGP  2013    01   338\n",
       "1          AGP  2013    02   294\n",
       "2          AGP  2013    03   374\n",
       "3          AGP  2013    04   290\n",
       "4          AGP  2013    05   310\n",
       "..         ...   ...   ...   ...\n",
       "31         MAD  2013    08   383\n",
       "32         MAD  2013    09   594\n",
       "33         MAD  2013    10   569\n",
       "34         MAD  2013    11   362\n",
       "35         MAD  2013    12   259\n",
       "\n",
       "[1476 rows x 4 columns]"
      ]
     },
     "execution_count": 38,
     "metadata": {},
     "output_type": "execute_result"
    }
   ],
   "source": [
    "df4"
   ]
  },
  {
   "cell_type": "code",
   "execution_count": 39,
   "metadata": {},
   "outputs": [
    {
     "data": {
      "text/plain": [
       "<AxesSubplot:xlabel='month', ylabel='Date'>"
      ]
     },
     "execution_count": 39,
     "metadata": {},
     "output_type": "execute_result"
    },
    {
     "data": {
      "image/png": "[encoded data removed]",
      "text/plain": [
       "<Figure size 576x360 with 1 Axes>"
      ]
     },
     "metadata": {
      "needs_background": "light"
     },
     "output_type": "display_data"
    }
   ],
   "source": [
    "# Plotea el resultado final\n",
    "fig,ax1 = plt.subplots(figsize=(8,5))\n",
    "sns.lineplot(data=df4[df4['year'] == '2013'],\n",
    "            x='month',\n",
    "            y='Date',\n",
    "            hue='Destination',\n",
    "            ax=ax1)"
   ]
  },
  {
   "cell_type": "markdown",
   "metadata": {},
   "source": [
    "## Exercise 4\n",
    "\n",
    "#### Match searches with bookings\n",
    "\n",
    "- For every search in the searches file, find out whether the search ended up in a booking or not (using the info in the bookings file). For instance, search and booking origin and destination should match.\n",
    "- For the bookings file, origin and destination are the columns dep_port and arr_port, respectively.\n",
    "- Generate a CSV file with the search data, and an additional field, containing 1 if the search ended up in a booking, and 0 otherwise."
   ]
  },
  {
   "cell_type": "code",
   "execution_count": 9,
   "metadata": {},
   "outputs": [],
   "source": [
    "pd.set_option('display.max_columns', None)"
   ]
  },
  {
   "cell_type": "code",
   "execution_count": 92,
   "metadata": {},
   "outputs": [
    {
     "name": "stderr",
     "output_type": "stream",
     "text": [
      "1it [00:01,  1.72s/it]\n",
      "1it [00:02,  2.43s/it]"
     ]
    },
    {
     "name": "stdout",
     "output_type": "stream",
     "text": [
      "Wall time: 4.24 s\n"
     ]
    },
    {
     "name": "stderr",
     "output_type": "stream",
     "text": [
      "\n"
     ]
    }
   ],
   "source": [
    "%%time\n",
    "\n",
    "# SAMPLE !!!\n",
    "\n",
    "# Importa los archivos, troceándolos en chunks:\n",
    "tp_searches_all = pd.read_csv(searches_nodup_path,\n",
    "                 sep='^',\n",
    "                 nrows=100000,\n",
    "                 iterator=True,\n",
    "                 chunksize=500000)\n",
    "\n",
    "tp_bookings_all = pd.read_csv(bookings_nodup_path,\n",
    "                 sep='^',\n",
    "                 nrows=100000,\n",
    "                 iterator=True,\n",
    "                 chunksize=500000)\n",
    "\n",
    "# TEST: número de iteraciones máximas para testeo\n",
    "iter_max = 5\n",
    "# Crear DataFrames vacíos para appendear cada resultado de los chunks:\n",
    "df_s_all = pd.DataFrame()\n",
    "df_b_all = pd.DataFrame()\n",
    "\n",
    "# Iterar por cada chunk:\n",
    "for k, chunk in tqdm(enumerate(tp_searches_all)):\n",
    "    # TEST: al llegar al número máximo de iteraciones permitido, interrumpe el proceso:\n",
    "    if k == iter_max: # Comprobador\n",
    "        break # Comprobador\n",
    "    df_s_all = df_s_all.append(chunk)\n",
    "    \n",
    "for k, chunk in tqdm(enumerate(tp_bookings_all)):\n",
    "    # TEST: al llegar al número máximo de iteraciones permitido, interrumpe el proceso:\n",
    "    if k == iter_max: # Comprobador\n",
    "        break # Comprobador\n",
    "    df_b_all = df_b_all.append(chunk)"
   ]
  },
  {
   "cell_type": "code",
   "execution_count": 93,
   "metadata": {
    "scrolled": false
   },
   "outputs": [
    {
     "data": {
      "text/html": [
       "<div>\n",
       "<style scoped>\n",
       "    .dataframe tbody tr th:only-of-type {\n",
       "        vertical-align: middle;\n",
       "    }\n",
       "\n",
       "    .dataframe tbody tr th {\n",
       "        vertical-align: top;\n",
       "    }\n",
       "\n",
       "    .dataframe thead th {\n",
       "        text-align: right;\n",
       "    }\n",
       "</style>\n",
       "<table border=\"1\" class=\"dataframe\">\n",
       "  <thead>\n",
       "    <tr style=\"text-align: right;\">\n",
       "      <th></th>\n",
       "      <th>Date</th>\n",
       "      <th>Time</th>\n",
       "      <th>TxnCode</th>\n",
       "      <th>OfficeID</th>\n",
       "      <th>Country</th>\n",
       "      <th>Origin</th>\n",
       "      <th>Destination</th>\n",
       "      <th>RoundTrip</th>\n",
       "      <th>NbSegments</th>\n",
       "      <th>Seg1Departure</th>\n",
       "      <th>Seg1Arrival</th>\n",
       "      <th>Seg1Date</th>\n",
       "      <th>Seg1Carrier</th>\n",
       "      <th>Seg1BookingCode</th>\n",
       "      <th>Seg2Departure</th>\n",
       "      <th>Seg2Arrival</th>\n",
       "      <th>Seg2Date</th>\n",
       "      <th>Seg2Carrier</th>\n",
       "      <th>Seg2BookingCode</th>\n",
       "      <th>Seg3Departure</th>\n",
       "      <th>Seg3Arrival</th>\n",
       "      <th>Seg3Date</th>\n",
       "      <th>Seg3Carrier</th>\n",
       "      <th>Seg3BookingCode</th>\n",
       "      <th>Seg4Departure</th>\n",
       "      <th>Seg4Arrival</th>\n",
       "      <th>Seg4Date</th>\n",
       "      <th>Seg4Carrier</th>\n",
       "      <th>Seg4BookingCode</th>\n",
       "      <th>Seg5Departure</th>\n",
       "      <th>Seg5Arrival</th>\n",
       "      <th>Seg5Date</th>\n",
       "      <th>Seg5Carrier</th>\n",
       "      <th>Seg5BookingCode</th>\n",
       "      <th>Seg6Departure</th>\n",
       "      <th>Seg6Arrival</th>\n",
       "      <th>Seg6Date</th>\n",
       "      <th>Seg6Carrier</th>\n",
       "      <th>Seg6BookingCode</th>\n",
       "      <th>From</th>\n",
       "      <th>IsPublishedForNeg</th>\n",
       "      <th>IsFromInternet</th>\n",
       "      <th>IsFromVista</th>\n",
       "      <th>TerminalID</th>\n",
       "      <th>InternetOffice</th>\n",
       "      <th>itinerary</th>\n",
       "    </tr>\n",
       "  </thead>\n",
       "  <tbody>\n",
       "    <tr>\n",
       "      <th>0</th>\n",
       "      <td>2013-01-01</td>\n",
       "      <td>20:25:57</td>\n",
       "      <td>MPT</td>\n",
       "      <td>624d8c3ac0b3a7ca03e3c167e0f48327</td>\n",
       "      <td>DE</td>\n",
       "      <td>TXL</td>\n",
       "      <td>AUH</td>\n",
       "      <td>1</td>\n",
       "      <td>2</td>\n",
       "      <td>TXL</td>\n",
       "      <td>AUH</td>\n",
       "      <td>2013-01-26</td>\n",
       "      <td>D2</td>\n",
       "      <td>NaN</td>\n",
       "      <td>AUH</td>\n",
       "      <td>TXL</td>\n",
       "      <td>2013-02-02</td>\n",
       "      <td>D2</td>\n",
       "      <td>NaN</td>\n",
       "      <td>NaN</td>\n",
       "      <td>NaN</td>\n",
       "      <td>NaN</td>\n",
       "      <td>NaN</td>\n",
       "      <td>NaN</td>\n",
       "      <td>NaN</td>\n",
       "      <td>NaN</td>\n",
       "      <td>NaN</td>\n",
       "      <td>NaN</td>\n",
       "      <td>NaN</td>\n",
       "      <td>NaN</td>\n",
       "      <td>NaN</td>\n",
       "      <td>NaN</td>\n",
       "      <td>NaN</td>\n",
       "      <td>NaN</td>\n",
       "      <td>NaN</td>\n",
       "      <td>NaN</td>\n",
       "      <td>NaN</td>\n",
       "      <td>NaN</td>\n",
       "      <td>NaN</td>\n",
       "      <td>1ASIWS</td>\n",
       "      <td>0</td>\n",
       "      <td>0</td>\n",
       "      <td>0</td>\n",
       "      <td>d41d8cd98f00b204e9800998ecf8427e</td>\n",
       "      <td>FRA</td>\n",
       "      <td>TXL-AUH</td>\n",
       "    </tr>\n",
       "    <tr>\n",
       "      <th>1</th>\n",
       "      <td>2013-01-01</td>\n",
       "      <td>10:15:33</td>\n",
       "      <td>MPT</td>\n",
       "      <td>b0af35b31588dc4ab06d5cf2986e8e02</td>\n",
       "      <td>MD</td>\n",
       "      <td>ATH</td>\n",
       "      <td>MIL</td>\n",
       "      <td>0</td>\n",
       "      <td>1</td>\n",
       "      <td>ATH</td>\n",
       "      <td>MIL</td>\n",
       "      <td>2013-01-04</td>\n",
       "      <td>NaN</td>\n",
       "      <td>NaN</td>\n",
       "      <td>NaN</td>\n",
       "      <td>NaN</td>\n",
       "      <td>NaN</td>\n",
       "      <td>NaN</td>\n",
       "      <td>NaN</td>\n",
       "      <td>NaN</td>\n",
       "      <td>NaN</td>\n",
       "      <td>NaN</td>\n",
       "      <td>NaN</td>\n",
       "      <td>NaN</td>\n",
       "      <td>NaN</td>\n",
       "      <td>NaN</td>\n",
       "      <td>NaN</td>\n",
       "      <td>NaN</td>\n",
       "      <td>NaN</td>\n",
       "      <td>NaN</td>\n",
       "      <td>NaN</td>\n",
       "      <td>NaN</td>\n",
       "      <td>NaN</td>\n",
       "      <td>NaN</td>\n",
       "      <td>NaN</td>\n",
       "      <td>NaN</td>\n",
       "      <td>NaN</td>\n",
       "      <td>NaN</td>\n",
       "      <td>NaN</td>\n",
       "      <td>1ASIWS</td>\n",
       "      <td>0</td>\n",
       "      <td>0</td>\n",
       "      <td>0</td>\n",
       "      <td>d41d8cd98f00b204e9800998ecf8427e</td>\n",
       "      <td>KIV</td>\n",
       "      <td>ATH-MIL</td>\n",
       "    </tr>\n",
       "    <tr>\n",
       "      <th>2</th>\n",
       "      <td>2013-01-01</td>\n",
       "      <td>18:04:49</td>\n",
       "      <td>MPT</td>\n",
       "      <td>3561a60621de06ab1badc8ca55699ef3</td>\n",
       "      <td>US</td>\n",
       "      <td>ICT</td>\n",
       "      <td>SFO</td>\n",
       "      <td>1</td>\n",
       "      <td>2</td>\n",
       "      <td>ICT</td>\n",
       "      <td>SFO</td>\n",
       "      <td>2013-08-02</td>\n",
       "      <td>NaN</td>\n",
       "      <td>NaN</td>\n",
       "      <td>SFO</td>\n",
       "      <td>ICT</td>\n",
       "      <td>2013-08-09</td>\n",
       "      <td>NaN</td>\n",
       "      <td>NaN</td>\n",
       "      <td>NaN</td>\n",
       "      <td>NaN</td>\n",
       "      <td>NaN</td>\n",
       "      <td>NaN</td>\n",
       "      <td>NaN</td>\n",
       "      <td>NaN</td>\n",
       "      <td>NaN</td>\n",
       "      <td>NaN</td>\n",
       "      <td>NaN</td>\n",
       "      <td>NaN</td>\n",
       "      <td>NaN</td>\n",
       "      <td>NaN</td>\n",
       "      <td>NaN</td>\n",
       "      <td>NaN</td>\n",
       "      <td>NaN</td>\n",
       "      <td>NaN</td>\n",
       "      <td>NaN</td>\n",
       "      <td>NaN</td>\n",
       "      <td>NaN</td>\n",
       "      <td>NaN</td>\n",
       "      <td>1ASIWS</td>\n",
       "      <td>0</td>\n",
       "      <td>0</td>\n",
       "      <td>0</td>\n",
       "      <td>d41d8cd98f00b204e9800998ecf8427e</td>\n",
       "      <td>NYC</td>\n",
       "      <td>ICT-SFO</td>\n",
       "    </tr>\n",
       "    <tr>\n",
       "      <th>3</th>\n",
       "      <td>2013-01-01</td>\n",
       "      <td>17:42:40</td>\n",
       "      <td>FXP</td>\n",
       "      <td>1864e5e8013d9414150e91d26b6a558b</td>\n",
       "      <td>SE</td>\n",
       "      <td>RNB</td>\n",
       "      <td>ARN</td>\n",
       "      <td>0</td>\n",
       "      <td>1</td>\n",
       "      <td>RNB</td>\n",
       "      <td>ARN</td>\n",
       "      <td>2013-01-02</td>\n",
       "      <td>DU</td>\n",
       "      <td>W</td>\n",
       "      <td>NaN</td>\n",
       "      <td>NaN</td>\n",
       "      <td>NaN</td>\n",
       "      <td>NaN</td>\n",
       "      <td>NaN</td>\n",
       "      <td>NaN</td>\n",
       "      <td>NaN</td>\n",
       "      <td>NaN</td>\n",
       "      <td>NaN</td>\n",
       "      <td>NaN</td>\n",
       "      <td>NaN</td>\n",
       "      <td>NaN</td>\n",
       "      <td>NaN</td>\n",
       "      <td>NaN</td>\n",
       "      <td>NaN</td>\n",
       "      <td>NaN</td>\n",
       "      <td>NaN</td>\n",
       "      <td>NaN</td>\n",
       "      <td>NaN</td>\n",
       "      <td>NaN</td>\n",
       "      <td>NaN</td>\n",
       "      <td>NaN</td>\n",
       "      <td>NaN</td>\n",
       "      <td>NaN</td>\n",
       "      <td>NaN</td>\n",
       "      <td>1ASI</td>\n",
       "      <td>0</td>\n",
       "      <td>0</td>\n",
       "      <td>0</td>\n",
       "      <td>d41d8cd98f00b204e9800998ecf8427e</td>\n",
       "      <td>STO</td>\n",
       "      <td>RNB-ARN</td>\n",
       "    </tr>\n",
       "    <tr>\n",
       "      <th>4</th>\n",
       "      <td>2013-01-01</td>\n",
       "      <td>17:48:29</td>\n",
       "      <td>MPT</td>\n",
       "      <td>1ec336348f44207d2e0027dc3a68c118</td>\n",
       "      <td>NO</td>\n",
       "      <td>OSL</td>\n",
       "      <td>MAD</td>\n",
       "      <td>1</td>\n",
       "      <td>2</td>\n",
       "      <td>OSL</td>\n",
       "      <td>MAD</td>\n",
       "      <td>2013-03-22</td>\n",
       "      <td>NaN</td>\n",
       "      <td>NaN</td>\n",
       "      <td>MAD</td>\n",
       "      <td>OSL</td>\n",
       "      <td>2013-03-31</td>\n",
       "      <td>NaN</td>\n",
       "      <td>NaN</td>\n",
       "      <td>NaN</td>\n",
       "      <td>NaN</td>\n",
       "      <td>NaN</td>\n",
       "      <td>NaN</td>\n",
       "      <td>NaN</td>\n",
       "      <td>NaN</td>\n",
       "      <td>NaN</td>\n",
       "      <td>NaN</td>\n",
       "      <td>NaN</td>\n",
       "      <td>NaN</td>\n",
       "      <td>NaN</td>\n",
       "      <td>NaN</td>\n",
       "      <td>NaN</td>\n",
       "      <td>NaN</td>\n",
       "      <td>NaN</td>\n",
       "      <td>NaN</td>\n",
       "      <td>NaN</td>\n",
       "      <td>NaN</td>\n",
       "      <td>NaN</td>\n",
       "      <td>NaN</td>\n",
       "      <td>1ASIWS</td>\n",
       "      <td>0</td>\n",
       "      <td>0</td>\n",
       "      <td>0</td>\n",
       "      <td>d41d8cd98f00b204e9800998ecf8427e</td>\n",
       "      <td>OSL</td>\n",
       "      <td>OSL-MAD</td>\n",
       "    </tr>\n",
       "    <tr>\n",
       "      <th>...</th>\n",
       "      <td>...</td>\n",
       "      <td>...</td>\n",
       "      <td>...</td>\n",
       "      <td>...</td>\n",
       "      <td>...</td>\n",
       "      <td>...</td>\n",
       "      <td>...</td>\n",
       "      <td>...</td>\n",
       "      <td>...</td>\n",
       "      <td>...</td>\n",
       "      <td>...</td>\n",
       "      <td>...</td>\n",
       "      <td>...</td>\n",
       "      <td>...</td>\n",
       "      <td>...</td>\n",
       "      <td>...</td>\n",
       "      <td>...</td>\n",
       "      <td>...</td>\n",
       "      <td>...</td>\n",
       "      <td>...</td>\n",
       "      <td>...</td>\n",
       "      <td>...</td>\n",
       "      <td>...</td>\n",
       "      <td>...</td>\n",
       "      <td>...</td>\n",
       "      <td>...</td>\n",
       "      <td>...</td>\n",
       "      <td>...</td>\n",
       "      <td>...</td>\n",
       "      <td>...</td>\n",
       "      <td>...</td>\n",
       "      <td>...</td>\n",
       "      <td>...</td>\n",
       "      <td>...</td>\n",
       "      <td>...</td>\n",
       "      <td>...</td>\n",
       "      <td>...</td>\n",
       "      <td>...</td>\n",
       "      <td>...</td>\n",
       "      <td>...</td>\n",
       "      <td>...</td>\n",
       "      <td>...</td>\n",
       "      <td>...</td>\n",
       "      <td>...</td>\n",
       "      <td>...</td>\n",
       "      <td>...</td>\n",
       "    </tr>\n",
       "    <tr>\n",
       "      <th>99995</th>\n",
       "      <td>2013-04-10</td>\n",
       "      <td>12:51:24</td>\n",
       "      <td>MPT</td>\n",
       "      <td>533d88ecea8b7fb3425bdf1246cb3763</td>\n",
       "      <td>IN</td>\n",
       "      <td>DEL</td>\n",
       "      <td>TRV</td>\n",
       "      <td>1</td>\n",
       "      <td>2</td>\n",
       "      <td>DEL</td>\n",
       "      <td>TRV</td>\n",
       "      <td>2013-04-13</td>\n",
       "      <td>NaN</td>\n",
       "      <td>NaN</td>\n",
       "      <td>TRV</td>\n",
       "      <td>DEL</td>\n",
       "      <td>2013-04-15</td>\n",
       "      <td>NaN</td>\n",
       "      <td>NaN</td>\n",
       "      <td>NaN</td>\n",
       "      <td>NaN</td>\n",
       "      <td>NaN</td>\n",
       "      <td>NaN</td>\n",
       "      <td>NaN</td>\n",
       "      <td>NaN</td>\n",
       "      <td>NaN</td>\n",
       "      <td>NaN</td>\n",
       "      <td>NaN</td>\n",
       "      <td>NaN</td>\n",
       "      <td>NaN</td>\n",
       "      <td>NaN</td>\n",
       "      <td>NaN</td>\n",
       "      <td>NaN</td>\n",
       "      <td>NaN</td>\n",
       "      <td>NaN</td>\n",
       "      <td>NaN</td>\n",
       "      <td>NaN</td>\n",
       "      <td>NaN</td>\n",
       "      <td>NaN</td>\n",
       "      <td>1ASIWS</td>\n",
       "      <td>0</td>\n",
       "      <td>0</td>\n",
       "      <td>0</td>\n",
       "      <td>d41d8cd98f00b204e9800998ecf8427e</td>\n",
       "      <td>DEL</td>\n",
       "      <td>DEL-TRV</td>\n",
       "    </tr>\n",
       "    <tr>\n",
       "      <th>99996</th>\n",
       "      <td>2013-04-10</td>\n",
       "      <td>11:18:09</td>\n",
       "      <td>MPT</td>\n",
       "      <td>19901d49edef6724c65e38ee8d5957b7</td>\n",
       "      <td>US</td>\n",
       "      <td>BUF</td>\n",
       "      <td>AUA</td>\n",
       "      <td>1</td>\n",
       "      <td>2</td>\n",
       "      <td>BUF</td>\n",
       "      <td>AUA</td>\n",
       "      <td>2013-06-08</td>\n",
       "      <td>NaN</td>\n",
       "      <td>NaN</td>\n",
       "      <td>AUA</td>\n",
       "      <td>BUF</td>\n",
       "      <td>2013-06-13</td>\n",
       "      <td>NaN</td>\n",
       "      <td>NaN</td>\n",
       "      <td>NaN</td>\n",
       "      <td>NaN</td>\n",
       "      <td>NaN</td>\n",
       "      <td>NaN</td>\n",
       "      <td>NaN</td>\n",
       "      <td>NaN</td>\n",
       "      <td>NaN</td>\n",
       "      <td>NaN</td>\n",
       "      <td>NaN</td>\n",
       "      <td>NaN</td>\n",
       "      <td>NaN</td>\n",
       "      <td>NaN</td>\n",
       "      <td>NaN</td>\n",
       "      <td>NaN</td>\n",
       "      <td>NaN</td>\n",
       "      <td>NaN</td>\n",
       "      <td>NaN</td>\n",
       "      <td>NaN</td>\n",
       "      <td>NaN</td>\n",
       "      <td>NaN</td>\n",
       "      <td>1ASIWS</td>\n",
       "      <td>0</td>\n",
       "      <td>0</td>\n",
       "      <td>0</td>\n",
       "      <td>d41d8cd98f00b204e9800998ecf8427e</td>\n",
       "      <td>NYC</td>\n",
       "      <td>BUF-AUA</td>\n",
       "    </tr>\n",
       "    <tr>\n",
       "      <th>99997</th>\n",
       "      <td>2013-04-10</td>\n",
       "      <td>20:40:47</td>\n",
       "      <td>MPT</td>\n",
       "      <td>8b4fa4e121637f583bfa86ef0fa26c9e</td>\n",
       "      <td>US</td>\n",
       "      <td>JFK</td>\n",
       "      <td>KUL</td>\n",
       "      <td>1</td>\n",
       "      <td>2</td>\n",
       "      <td>JFK</td>\n",
       "      <td>KUL</td>\n",
       "      <td>2013-05-02</td>\n",
       "      <td>NaN</td>\n",
       "      <td>NaN</td>\n",
       "      <td>KUL</td>\n",
       "      <td>JFK</td>\n",
       "      <td>2013-06-19</td>\n",
       "      <td>NaN</td>\n",
       "      <td>NaN</td>\n",
       "      <td>NaN</td>\n",
       "      <td>NaN</td>\n",
       "      <td>NaN</td>\n",
       "      <td>NaN</td>\n",
       "      <td>NaN</td>\n",
       "      <td>NaN</td>\n",
       "      <td>NaN</td>\n",
       "      <td>NaN</td>\n",
       "      <td>NaN</td>\n",
       "      <td>NaN</td>\n",
       "      <td>NaN</td>\n",
       "      <td>NaN</td>\n",
       "      <td>NaN</td>\n",
       "      <td>NaN</td>\n",
       "      <td>NaN</td>\n",
       "      <td>NaN</td>\n",
       "      <td>NaN</td>\n",
       "      <td>NaN</td>\n",
       "      <td>NaN</td>\n",
       "      <td>NaN</td>\n",
       "      <td>1ASIWS</td>\n",
       "      <td>0</td>\n",
       "      <td>0</td>\n",
       "      <td>0</td>\n",
       "      <td>d41d8cd98f00b204e9800998ecf8427e</td>\n",
       "      <td>LAS</td>\n",
       "      <td>JFK-KUL</td>\n",
       "    </tr>\n",
       "    <tr>\n",
       "      <th>99998</th>\n",
       "      <td>2013-04-10</td>\n",
       "      <td>05:39:16</td>\n",
       "      <td>MPT</td>\n",
       "      <td>8b4fa4e121637f583bfa86ef0fa26c9e</td>\n",
       "      <td>US</td>\n",
       "      <td>STL</td>\n",
       "      <td>SEA</td>\n",
       "      <td>0</td>\n",
       "      <td>1</td>\n",
       "      <td>STL</td>\n",
       "      <td>SEA</td>\n",
       "      <td>2013-06-10</td>\n",
       "      <td>NaN</td>\n",
       "      <td>NaN</td>\n",
       "      <td>NaN</td>\n",
       "      <td>NaN</td>\n",
       "      <td>NaN</td>\n",
       "      <td>NaN</td>\n",
       "      <td>NaN</td>\n",
       "      <td>NaN</td>\n",
       "      <td>NaN</td>\n",
       "      <td>NaN</td>\n",
       "      <td>NaN</td>\n",
       "      <td>NaN</td>\n",
       "      <td>NaN</td>\n",
       "      <td>NaN</td>\n",
       "      <td>NaN</td>\n",
       "      <td>NaN</td>\n",
       "      <td>NaN</td>\n",
       "      <td>NaN</td>\n",
       "      <td>NaN</td>\n",
       "      <td>NaN</td>\n",
       "      <td>NaN</td>\n",
       "      <td>NaN</td>\n",
       "      <td>NaN</td>\n",
       "      <td>NaN</td>\n",
       "      <td>NaN</td>\n",
       "      <td>NaN</td>\n",
       "      <td>NaN</td>\n",
       "      <td>1ASIWS</td>\n",
       "      <td>0</td>\n",
       "      <td>0</td>\n",
       "      <td>0</td>\n",
       "      <td>d41d8cd98f00b204e9800998ecf8427e</td>\n",
       "      <td>LAS</td>\n",
       "      <td>STL-SEA</td>\n",
       "    </tr>\n",
       "    <tr>\n",
       "      <th>99999</th>\n",
       "      <td>2013-04-10</td>\n",
       "      <td>12:26:15</td>\n",
       "      <td>MPT</td>\n",
       "      <td>9aa037e8d4135205e54688c113ed7e80</td>\n",
       "      <td>DE</td>\n",
       "      <td>MUC</td>\n",
       "      <td>HAM</td>\n",
       "      <td>1</td>\n",
       "      <td>2</td>\n",
       "      <td>MUC</td>\n",
       "      <td>HAM</td>\n",
       "      <td>2013-06-08</td>\n",
       "      <td>NaN</td>\n",
       "      <td>NaN</td>\n",
       "      <td>HAM</td>\n",
       "      <td>MUC</td>\n",
       "      <td>2013-06-10</td>\n",
       "      <td>NaN</td>\n",
       "      <td>NaN</td>\n",
       "      <td>NaN</td>\n",
       "      <td>NaN</td>\n",
       "      <td>NaN</td>\n",
       "      <td>NaN</td>\n",
       "      <td>NaN</td>\n",
       "      <td>NaN</td>\n",
       "      <td>NaN</td>\n",
       "      <td>NaN</td>\n",
       "      <td>NaN</td>\n",
       "      <td>NaN</td>\n",
       "      <td>NaN</td>\n",
       "      <td>NaN</td>\n",
       "      <td>NaN</td>\n",
       "      <td>NaN</td>\n",
       "      <td>NaN</td>\n",
       "      <td>NaN</td>\n",
       "      <td>NaN</td>\n",
       "      <td>NaN</td>\n",
       "      <td>NaN</td>\n",
       "      <td>NaN</td>\n",
       "      <td>1ASI</td>\n",
       "      <td>0</td>\n",
       "      <td>0</td>\n",
       "      <td>0</td>\n",
       "      <td>d41d8cd98f00b204e9800998ecf8427e</td>\n",
       "      <td>BER</td>\n",
       "      <td>MUC-HAM</td>\n",
       "    </tr>\n",
       "  </tbody>\n",
       "</table>\n",
       "<p>100000 rows × 46 columns</p>\n",
       "</div>"
      ],
      "text/plain": [
       "             Date      Time TxnCode                          OfficeID Country  \\\n",
       "0      2013-01-01  20:25:57     MPT  624d8c3ac0b3a7ca03e3c167e0f48327      DE   \n",
       "1      2013-01-01  10:15:33     MPT  b0af35b31588dc4ab06d5cf2986e8e02      MD   \n",
       "2      2013-01-01  18:04:49     MPT  3561a60621de06ab1badc8ca55699ef3      US   \n",
       "3      2013-01-01  17:42:40     FXP  1864e5e8013d9414150e91d26b6a558b      SE   \n",
       "4      2013-01-01  17:48:29     MPT  1ec336348f44207d2e0027dc3a68c118      NO   \n",
       "...           ...       ...     ...                               ...     ...   \n",
       "99995  2013-04-10  12:51:24     MPT  533d88ecea8b7fb3425bdf1246cb3763      IN   \n",
       "99996  2013-04-10  11:18:09     MPT  19901d49edef6724c65e38ee8d5957b7      US   \n",
       "99997  2013-04-10  20:40:47     MPT  8b4fa4e121637f583bfa86ef0fa26c9e      US   \n",
       "99998  2013-04-10  05:39:16     MPT  8b4fa4e121637f583bfa86ef0fa26c9e      US   \n",
       "99999  2013-04-10  12:26:15     MPT  9aa037e8d4135205e54688c113ed7e80      DE   \n",
       "\n",
       "      Origin Destination  RoundTrip  NbSegments Seg1Departure Seg1Arrival  \\\n",
       "0        TXL         AUH          1           2           TXL         AUH   \n",
       "1        ATH         MIL          0           1           ATH         MIL   \n",
       "2        ICT         SFO          1           2           ICT         SFO   \n",
       "3        RNB         ARN          0           1           RNB         ARN   \n",
       "4        OSL         MAD          1           2           OSL         MAD   \n",
       "...      ...         ...        ...         ...           ...         ...   \n",
       "99995    DEL         TRV          1           2           DEL         TRV   \n",
       "99996    BUF         AUA          1           2           BUF         AUA   \n",
       "99997    JFK         KUL          1           2           JFK         KUL   \n",
       "99998    STL         SEA          0           1           STL         SEA   \n",
       "99999    MUC         HAM          1           2           MUC         HAM   \n",
       "\n",
       "         Seg1Date Seg1Carrier Seg1BookingCode Seg2Departure Seg2Arrival  \\\n",
       "0      2013-01-26          D2             NaN           AUH         TXL   \n",
       "1      2013-01-04         NaN             NaN           NaN         NaN   \n",
       "2      2013-08-02         NaN             NaN           SFO         ICT   \n",
       "3      2013-01-02          DU               W           NaN         NaN   \n",
       "4      2013-03-22         NaN             NaN           MAD         OSL   \n",
       "...           ...         ...             ...           ...         ...   \n",
       "99995  2013-04-13         NaN             NaN           TRV         DEL   \n",
       "99996  2013-06-08         NaN             NaN           AUA         BUF   \n",
       "99997  2013-05-02         NaN             NaN           KUL         JFK   \n",
       "99998  2013-06-10         NaN             NaN           NaN         NaN   \n",
       "99999  2013-06-08         NaN             NaN           HAM         MUC   \n",
       "\n",
       "         Seg2Date Seg2Carrier Seg2BookingCode Seg3Departure Seg3Arrival  \\\n",
       "0      2013-02-02          D2             NaN           NaN         NaN   \n",
       "1             NaN         NaN             NaN           NaN         NaN   \n",
       "2      2013-08-09         NaN             NaN           NaN         NaN   \n",
       "3             NaN         NaN             NaN           NaN         NaN   \n",
       "4      2013-03-31         NaN             NaN           NaN         NaN   \n",
       "...           ...         ...             ...           ...         ...   \n",
       "99995  2013-04-15         NaN             NaN           NaN         NaN   \n",
       "99996  2013-06-13         NaN             NaN           NaN         NaN   \n",
       "99997  2013-06-19         NaN             NaN           NaN         NaN   \n",
       "99998         NaN         NaN             NaN           NaN         NaN   \n",
       "99999  2013-06-10         NaN             NaN           NaN         NaN   \n",
       "\n",
       "      Seg3Date Seg3Carrier Seg3BookingCode Seg4Departure Seg4Arrival Seg4Date  \\\n",
       "0          NaN         NaN             NaN           NaN         NaN      NaN   \n",
       "1          NaN         NaN             NaN           NaN         NaN      NaN   \n",
       "2          NaN         NaN             NaN           NaN         NaN      NaN   \n",
       "3          NaN         NaN             NaN           NaN         NaN      NaN   \n",
       "4          NaN         NaN             NaN           NaN         NaN      NaN   \n",
       "...        ...         ...             ...           ...         ...      ...   \n",
       "99995      NaN         NaN             NaN           NaN         NaN      NaN   \n",
       "99996      NaN         NaN             NaN           NaN         NaN      NaN   \n",
       "99997      NaN         NaN             NaN           NaN         NaN      NaN   \n",
       "99998      NaN         NaN             NaN           NaN         NaN      NaN   \n",
       "99999      NaN         NaN             NaN           NaN         NaN      NaN   \n",
       "\n",
       "      Seg4Carrier Seg4BookingCode Seg5Departure Seg5Arrival Seg5Date  \\\n",
       "0             NaN             NaN           NaN         NaN      NaN   \n",
       "1             NaN             NaN           NaN         NaN      NaN   \n",
       "2             NaN             NaN           NaN         NaN      NaN   \n",
       "3             NaN             NaN           NaN         NaN      NaN   \n",
       "4             NaN             NaN           NaN         NaN      NaN   \n",
       "...           ...             ...           ...         ...      ...   \n",
       "99995         NaN             NaN           NaN         NaN      NaN   \n",
       "99996         NaN             NaN           NaN         NaN      NaN   \n",
       "99997         NaN             NaN           NaN         NaN      NaN   \n",
       "99998         NaN             NaN           NaN         NaN      NaN   \n",
       "99999         NaN             NaN           NaN         NaN      NaN   \n",
       "\n",
       "      Seg5Carrier Seg5BookingCode Seg6Departure Seg6Arrival Seg6Date  \\\n",
       "0             NaN             NaN           NaN         NaN      NaN   \n",
       "1             NaN             NaN           NaN         NaN      NaN   \n",
       "2             NaN             NaN           NaN         NaN      NaN   \n",
       "3             NaN             NaN           NaN         NaN      NaN   \n",
       "4             NaN             NaN           NaN         NaN      NaN   \n",
       "...           ...             ...           ...         ...      ...   \n",
       "99995         NaN             NaN           NaN         NaN      NaN   \n",
       "99996         NaN             NaN           NaN         NaN      NaN   \n",
       "99997         NaN             NaN           NaN         NaN      NaN   \n",
       "99998         NaN             NaN           NaN         NaN      NaN   \n",
       "99999         NaN             NaN           NaN         NaN      NaN   \n",
       "\n",
       "      Seg6Carrier Seg6BookingCode    From  IsPublishedForNeg  IsFromInternet  \\\n",
       "0             NaN             NaN  1ASIWS                  0               0   \n",
       "1             NaN             NaN  1ASIWS                  0               0   \n",
       "2             NaN             NaN  1ASIWS                  0               0   \n",
       "3             NaN             NaN    1ASI                  0               0   \n",
       "4             NaN             NaN  1ASIWS                  0               0   \n",
       "...           ...             ...     ...                ...             ...   \n",
       "99995         NaN             NaN  1ASIWS                  0               0   \n",
       "99996         NaN             NaN  1ASIWS                  0               0   \n",
       "99997         NaN             NaN  1ASIWS                  0               0   \n",
       "99998         NaN             NaN  1ASIWS                  0               0   \n",
       "99999         NaN             NaN    1ASI                  0               0   \n",
       "\n",
       "       IsFromVista                        TerminalID InternetOffice itinerary  \n",
       "0                0  d41d8cd98f00b204e9800998ecf8427e            FRA   TXL-AUH  \n",
       "1                0  d41d8cd98f00b204e9800998ecf8427e            KIV   ATH-MIL  \n",
       "2                0  d41d8cd98f00b204e9800998ecf8427e            NYC   ICT-SFO  \n",
       "3                0  d41d8cd98f00b204e9800998ecf8427e            STO   RNB-ARN  \n",
       "4                0  d41d8cd98f00b204e9800998ecf8427e            OSL   OSL-MAD  \n",
       "...            ...                               ...            ...       ...  \n",
       "99995            0  d41d8cd98f00b204e9800998ecf8427e            DEL   DEL-TRV  \n",
       "99996            0  d41d8cd98f00b204e9800998ecf8427e            NYC   BUF-AUA  \n",
       "99997            0  d41d8cd98f00b204e9800998ecf8427e            LAS   JFK-KUL  \n",
       "99998            0  d41d8cd98f00b204e9800998ecf8427e            LAS   STL-SEA  \n",
       "99999            0  d41d8cd98f00b204e9800998ecf8427e            BER   MUC-HAM  \n",
       "\n",
       "[100000 rows x 46 columns]"
      ]
     },
     "execution_count": 93,
     "metadata": {},
     "output_type": "execute_result"
    }
   ],
   "source": [
    "df_s_all['itinerary'] = df_s_all['Origin'].str[:] + \"-\" + df_s_all['Destination'].str[:]\n",
    "df_s_all"
   ]
  },
  {
   "cell_type": "code",
   "execution_count": 94,
   "metadata": {},
   "outputs": [
    {
     "data": {
      "text/plain": [
       "Index(['Date', 'Time', 'TxnCode', 'OfficeID', 'Country', 'Origin',\n",
       "       'Destination', 'RoundTrip', 'NbSegments', 'Seg1Departure',\n",
       "       'Seg1Arrival', 'Seg1Date', 'Seg1Carrier', 'Seg1BookingCode',\n",
       "       'Seg2Departure', 'Seg2Arrival', 'Seg2Date', 'Seg2Carrier',\n",
       "       'Seg2BookingCode', 'Seg3Departure', 'Seg3Arrival', 'Seg3Date',\n",
       "       'Seg3Carrier', 'Seg3BookingCode', 'Seg4Departure', 'Seg4Arrival',\n",
       "       'Seg4Date', 'Seg4Carrier', 'Seg4BookingCode', 'Seg5Departure',\n",
       "       'Seg5Arrival', 'Seg5Date', 'Seg5Carrier', 'Seg5BookingCode',\n",
       "       'Seg6Departure', 'Seg6Arrival', 'Seg6Date', 'Seg6Carrier',\n",
       "       'Seg6BookingCode', 'From', 'IsPublishedForNeg', 'IsFromInternet',\n",
       "       'IsFromVista', 'TerminalID', 'InternetOffice', 'itinerary'],\n",
       "      dtype='object')"
      ]
     },
     "execution_count": 94,
     "metadata": {},
     "output_type": "execute_result"
    }
   ],
   "source": [
    "df_s_all_cols = df_s_all.columns\n",
    "df_s_all_cols"
   ]
  },
  {
   "cell_type": "code",
   "execution_count": 95,
   "metadata": {
    "scrolled": true
   },
   "outputs": [
    {
     "data": {
      "text/html": [
       "<div>\n",
       "<style scoped>\n",
       "    .dataframe tbody tr th:only-of-type {\n",
       "        vertical-align: middle;\n",
       "    }\n",
       "\n",
       "    .dataframe tbody tr th {\n",
       "        vertical-align: top;\n",
       "    }\n",
       "\n",
       "    .dataframe thead th {\n",
       "        text-align: right;\n",
       "    }\n",
       "</style>\n",
       "<table border=\"1\" class=\"dataframe\">\n",
       "  <thead>\n",
       "    <tr style=\"text-align: right;\">\n",
       "      <th></th>\n",
       "      <th>act_date</th>\n",
       "      <th>source</th>\n",
       "      <th>pos_ctry</th>\n",
       "      <th>pos_iata</th>\n",
       "      <th>pos_oid</th>\n",
       "      <th>rloc</th>\n",
       "      <th>cre_date</th>\n",
       "      <th>duration</th>\n",
       "      <th>distance</th>\n",
       "      <th>dep_port</th>\n",
       "      <th>dep_city</th>\n",
       "      <th>dep_ctry</th>\n",
       "      <th>arr_port</th>\n",
       "      <th>arr_city</th>\n",
       "      <th>arr_ctry</th>\n",
       "      <th>lst_port</th>\n",
       "      <th>lst_city</th>\n",
       "      <th>lst_ctry</th>\n",
       "      <th>brd_port</th>\n",
       "      <th>brd_city</th>\n",
       "      <th>brd_ctry</th>\n",
       "      <th>off_port</th>\n",
       "      <th>off_city</th>\n",
       "      <th>off_ctry</th>\n",
       "      <th>mkt_port</th>\n",
       "      <th>mkt_city</th>\n",
       "      <th>mkt_ctry</th>\n",
       "      <th>intl</th>\n",
       "      <th>route</th>\n",
       "      <th>carrier</th>\n",
       "      <th>bkg_class</th>\n",
       "      <th>cab_class</th>\n",
       "      <th>brd_time</th>\n",
       "      <th>off_time</th>\n",
       "      <th>pax</th>\n",
       "      <th>year</th>\n",
       "      <th>month</th>\n",
       "      <th>oid</th>\n",
       "      <th>itinerary</th>\n",
       "    </tr>\n",
       "  </thead>\n",
       "  <tbody>\n",
       "    <tr>\n",
       "      <th>0</th>\n",
       "      <td>2013-03-05 00:00:00</td>\n",
       "      <td>1A</td>\n",
       "      <td>DE</td>\n",
       "      <td>a68dd7ae953c8acfb187a1af2dcbe123</td>\n",
       "      <td>1a11ae49fcbf545fd2afc1a24d88d2b7</td>\n",
       "      <td>ea65900e72d71f4626378e2ebd298267</td>\n",
       "      <td>2013-02-22 00:00:00</td>\n",
       "      <td>1708</td>\n",
       "      <td>0</td>\n",
       "      <td>ZRH</td>\n",
       "      <td>ZRH</td>\n",
       "      <td>CH</td>\n",
       "      <td>LHR</td>\n",
       "      <td>LON</td>\n",
       "      <td>GB</td>\n",
       "      <td>ZRH</td>\n",
       "      <td>ZRH</td>\n",
       "      <td>CH</td>\n",
       "      <td>LHR</td>\n",
       "      <td>LON</td>\n",
       "      <td>GB</td>\n",
       "      <td>ZRH</td>\n",
       "      <td>ZRH</td>\n",
       "      <td>CH</td>\n",
       "      <td>LHRZRH</td>\n",
       "      <td>LONZRH</td>\n",
       "      <td>CHGB</td>\n",
       "      <td>1</td>\n",
       "      <td>LHRZRH</td>\n",
       "      <td>VI</td>\n",
       "      <td>T</td>\n",
       "      <td>Y</td>\n",
       "      <td>2013-03-07 08:50:00</td>\n",
       "      <td>2013-03-07 11:33:37</td>\n",
       "      <td>-1</td>\n",
       "      <td>2013</td>\n",
       "      <td>3</td>\n",
       "      <td>NULL</td>\n",
       "      <td>ZRH-LHR</td>\n",
       "    </tr>\n",
       "    <tr>\n",
       "      <th>1</th>\n",
       "      <td>2013-03-26 00:00:00</td>\n",
       "      <td>1A</td>\n",
       "      <td>US</td>\n",
       "      <td>e612b9eeeee6f17f42d9b0d3b79e75ca</td>\n",
       "      <td>7437560d8f276d6d05eeb806d9e7edee</td>\n",
       "      <td>737295a86982c941f1c2da9a46a14043</td>\n",
       "      <td>2013-03-26 00:00:00</td>\n",
       "      <td>135270</td>\n",
       "      <td>0</td>\n",
       "      <td>SAL</td>\n",
       "      <td>SAL</td>\n",
       "      <td>SV</td>\n",
       "      <td>CLT</td>\n",
       "      <td>CLT</td>\n",
       "      <td>US</td>\n",
       "      <td>SAL</td>\n",
       "      <td>SAL</td>\n",
       "      <td>SV</td>\n",
       "      <td>SAL</td>\n",
       "      <td>SAL</td>\n",
       "      <td>SV</td>\n",
       "      <td>CLT</td>\n",
       "      <td>CLT</td>\n",
       "      <td>US</td>\n",
       "      <td>CLTSAL</td>\n",
       "      <td>CLTSAL</td>\n",
       "      <td>SVUS</td>\n",
       "      <td>1</td>\n",
       "      <td>SALATLCLT</td>\n",
       "      <td>NV</td>\n",
       "      <td>L</td>\n",
       "      <td>Y</td>\n",
       "      <td>2013-04-12 13:04:00</td>\n",
       "      <td>2013-04-12 22:05:40</td>\n",
       "      <td>1</td>\n",
       "      <td>2013</td>\n",
       "      <td>3</td>\n",
       "      <td>NULL</td>\n",
       "      <td>SAL-CLT</td>\n",
       "    </tr>\n",
       "    <tr>\n",
       "      <th>2</th>\n",
       "      <td>2013-03-26 00:00:00</td>\n",
       "      <td>1A</td>\n",
       "      <td>US</td>\n",
       "      <td>e612b9eeeee6f17f42d9b0d3b79e75ca</td>\n",
       "      <td>7437560d8f276d6d05eeb806d9e7edee</td>\n",
       "      <td>737295a86982c941f1c2da9a46a14043</td>\n",
       "      <td>2013-03-26 00:00:00</td>\n",
       "      <td>135270</td>\n",
       "      <td>0</td>\n",
       "      <td>SAL</td>\n",
       "      <td>SAL</td>\n",
       "      <td>SV</td>\n",
       "      <td>CLT</td>\n",
       "      <td>CLT</td>\n",
       "      <td>US</td>\n",
       "      <td>SAL</td>\n",
       "      <td>SAL</td>\n",
       "      <td>SV</td>\n",
       "      <td>CLT</td>\n",
       "      <td>CLT</td>\n",
       "      <td>US</td>\n",
       "      <td>SAL</td>\n",
       "      <td>SAL</td>\n",
       "      <td>SV</td>\n",
       "      <td>CLTSAL</td>\n",
       "      <td>CLTSAL</td>\n",
       "      <td>SVUS</td>\n",
       "      <td>1</td>\n",
       "      <td>CLTATLSAL</td>\n",
       "      <td>NV</td>\n",
       "      <td>U</td>\n",
       "      <td>Y</td>\n",
       "      <td>2013-07-15 07:00:00</td>\n",
       "      <td>2013-07-15 11:34:51</td>\n",
       "      <td>1</td>\n",
       "      <td>2013</td>\n",
       "      <td>3</td>\n",
       "      <td>NULL</td>\n",
       "      <td>SAL-CLT</td>\n",
       "    </tr>\n",
       "    <tr>\n",
       "      <th>3</th>\n",
       "      <td>2013-03-26 00:00:00</td>\n",
       "      <td>1A</td>\n",
       "      <td>AU</td>\n",
       "      <td>0f984b3bb6bd06661c95529bbd6193bc</td>\n",
       "      <td>36472c6dbaf7afec9136ac40364e2794</td>\n",
       "      <td>5ecf00fdcbcec761c43dc7285253d0c1</td>\n",
       "      <td>2013-03-26 00:00:00</td>\n",
       "      <td>30885</td>\n",
       "      <td>0</td>\n",
       "      <td>AKL</td>\n",
       "      <td>AKL</td>\n",
       "      <td>NZ</td>\n",
       "      <td>SVO</td>\n",
       "      <td>MOW</td>\n",
       "      <td>RU</td>\n",
       "      <td>AKL</td>\n",
       "      <td>AKL</td>\n",
       "      <td>NZ</td>\n",
       "      <td>AKL</td>\n",
       "      <td>AKL</td>\n",
       "      <td>NZ</td>\n",
       "      <td>SVO</td>\n",
       "      <td>MOW</td>\n",
       "      <td>RU</td>\n",
       "      <td>AKLSVO</td>\n",
       "      <td>AKLMOW</td>\n",
       "      <td>NZRU</td>\n",
       "      <td>1</td>\n",
       "      <td>AKLHKGSVO</td>\n",
       "      <td>XK</td>\n",
       "      <td>G</td>\n",
       "      <td>Y</td>\n",
       "      <td>2013-04-24 23:59:00</td>\n",
       "      <td>2013-04-25 16:06:31</td>\n",
       "      <td>1</td>\n",
       "      <td>2013</td>\n",
       "      <td>3</td>\n",
       "      <td>SYDA82546</td>\n",
       "      <td>AKL-SVO</td>\n",
       "    </tr>\n",
       "    <tr>\n",
       "      <th>4</th>\n",
       "      <td>2013-03-26 00:00:00</td>\n",
       "      <td>1A</td>\n",
       "      <td>AU</td>\n",
       "      <td>0f984b3bb6bd06661c95529bbd6193bc</td>\n",
       "      <td>36472c6dbaf7afec9136ac40364e2794</td>\n",
       "      <td>5ecf00fdcbcec761c43dc7285253d0c1</td>\n",
       "      <td>2013-03-26 00:00:00</td>\n",
       "      <td>30885</td>\n",
       "      <td>0</td>\n",
       "      <td>AKL</td>\n",
       "      <td>AKL</td>\n",
       "      <td>NZ</td>\n",
       "      <td>SVO</td>\n",
       "      <td>MOW</td>\n",
       "      <td>RU</td>\n",
       "      <td>AKL</td>\n",
       "      <td>AKL</td>\n",
       "      <td>NZ</td>\n",
       "      <td>SVO</td>\n",
       "      <td>MOW</td>\n",
       "      <td>RU</td>\n",
       "      <td>AKL</td>\n",
       "      <td>AKL</td>\n",
       "      <td>NZ</td>\n",
       "      <td>AKLSVO</td>\n",
       "      <td>AKLMOW</td>\n",
       "      <td>NZRU</td>\n",
       "      <td>1</td>\n",
       "      <td>SVOHKGAKL</td>\n",
       "      <td>XK</td>\n",
       "      <td>G</td>\n",
       "      <td>Y</td>\n",
       "      <td>2013-05-14 20:15:00</td>\n",
       "      <td>2013-05-16 10:44:50</td>\n",
       "      <td>1</td>\n",
       "      <td>2013</td>\n",
       "      <td>3</td>\n",
       "      <td>SYDA82546</td>\n",
       "      <td>AKL-SVO</td>\n",
       "    </tr>\n",
       "    <tr>\n",
       "      <th>...</th>\n",
       "      <td>...</td>\n",
       "      <td>...</td>\n",
       "      <td>...</td>\n",
       "      <td>...</td>\n",
       "      <td>...</td>\n",
       "      <td>...</td>\n",
       "      <td>...</td>\n",
       "      <td>...</td>\n",
       "      <td>...</td>\n",
       "      <td>...</td>\n",
       "      <td>...</td>\n",
       "      <td>...</td>\n",
       "      <td>...</td>\n",
       "      <td>...</td>\n",
       "      <td>...</td>\n",
       "      <td>...</td>\n",
       "      <td>...</td>\n",
       "      <td>...</td>\n",
       "      <td>...</td>\n",
       "      <td>...</td>\n",
       "      <td>...</td>\n",
       "      <td>...</td>\n",
       "      <td>...</td>\n",
       "      <td>...</td>\n",
       "      <td>...</td>\n",
       "      <td>...</td>\n",
       "      <td>...</td>\n",
       "      <td>...</td>\n",
       "      <td>...</td>\n",
       "      <td>...</td>\n",
       "      <td>...</td>\n",
       "      <td>...</td>\n",
       "      <td>...</td>\n",
       "      <td>...</td>\n",
       "      <td>...</td>\n",
       "      <td>...</td>\n",
       "      <td>...</td>\n",
       "      <td>...</td>\n",
       "      <td>...</td>\n",
       "    </tr>\n",
       "    <tr>\n",
       "      <th>99995</th>\n",
       "      <td>2013-03-03 00:00:00</td>\n",
       "      <td>1G</td>\n",
       "      <td>FR</td>\n",
       "      <td>a17ff438d62736177e21cee453a8902c</td>\n",
       "      <td>f0181fdb07090669940ab0b77092dea7</td>\n",
       "      <td>c534700c8c6578655ea00d7d9056cde0</td>\n",
       "      <td>2013-02-28 00:00:00</td>\n",
       "      <td>11731</td>\n",
       "      <td>0</td>\n",
       "      <td>DEL</td>\n",
       "      <td>DEL</td>\n",
       "      <td>IN</td>\n",
       "      <td>IXL</td>\n",
       "      <td>IXL</td>\n",
       "      <td>IN</td>\n",
       "      <td>DEL</td>\n",
       "      <td>DEL</td>\n",
       "      <td>IN</td>\n",
       "      <td>DEL</td>\n",
       "      <td>DEL</td>\n",
       "      <td>IN</td>\n",
       "      <td>IXL</td>\n",
       "      <td>IXL</td>\n",
       "      <td>IN</td>\n",
       "      <td>DELIXL</td>\n",
       "      <td>DELIXL</td>\n",
       "      <td>ININ</td>\n",
       "      <td>0</td>\n",
       "      <td>DELIXL</td>\n",
       "      <td>CH</td>\n",
       "      <td>N</td>\n",
       "      <td>Y</td>\n",
       "      <td>2013-05-02 05:40:00</td>\n",
       "      <td>2013-05-02 07:11:47</td>\n",
       "      <td>2</td>\n",
       "      <td>2013</td>\n",
       "      <td>3</td>\n",
       "      <td>NULL</td>\n",
       "      <td>DEL-IXL</td>\n",
       "    </tr>\n",
       "    <tr>\n",
       "      <th>99996</th>\n",
       "      <td>2013-03-05 00:00:00</td>\n",
       "      <td>1G</td>\n",
       "      <td>FR</td>\n",
       "      <td>a17ff438d62736177e21cee453a8902c</td>\n",
       "      <td>f0181fdb07090669940ab0b77092dea7</td>\n",
       "      <td>c534700c8c6578655ea00d7d9056cde0</td>\n",
       "      <td>2013-02-28 00:00:00</td>\n",
       "      <td>11731</td>\n",
       "      <td>0</td>\n",
       "      <td>DEL</td>\n",
       "      <td>DEL</td>\n",
       "      <td>IN</td>\n",
       "      <td>IXL</td>\n",
       "      <td>IXL</td>\n",
       "      <td>IN</td>\n",
       "      <td>DEL</td>\n",
       "      <td>DEL</td>\n",
       "      <td>IN</td>\n",
       "      <td>DEL</td>\n",
       "      <td>DEL</td>\n",
       "      <td>IN</td>\n",
       "      <td>IXL</td>\n",
       "      <td>IXL</td>\n",
       "      <td>IN</td>\n",
       "      <td>DELIXL</td>\n",
       "      <td>DELIXL</td>\n",
       "      <td>ININ</td>\n",
       "      <td>0</td>\n",
       "      <td>DELIXL</td>\n",
       "      <td>CH</td>\n",
       "      <td>N</td>\n",
       "      <td>Y</td>\n",
       "      <td>2013-05-02 05:40:00</td>\n",
       "      <td>2013-05-02 07:11:47</td>\n",
       "      <td>-2</td>\n",
       "      <td>2013</td>\n",
       "      <td>3</td>\n",
       "      <td>NULL</td>\n",
       "      <td>DEL-IXL</td>\n",
       "    </tr>\n",
       "    <tr>\n",
       "      <th>99997</th>\n",
       "      <td>2013-03-05 00:00:00</td>\n",
       "      <td>1G</td>\n",
       "      <td>FR</td>\n",
       "      <td>a17ff438d62736177e21cee453a8902c</td>\n",
       "      <td>f0181fdb07090669940ab0b77092dea7</td>\n",
       "      <td>c534700c8c6578655ea00d7d9056cde0</td>\n",
       "      <td>2013-02-28 00:00:00</td>\n",
       "      <td>11731</td>\n",
       "      <td>0</td>\n",
       "      <td>DEL</td>\n",
       "      <td>DEL</td>\n",
       "      <td>IN</td>\n",
       "      <td>IXL</td>\n",
       "      <td>IXL</td>\n",
       "      <td>IN</td>\n",
       "      <td>DEL</td>\n",
       "      <td>DEL</td>\n",
       "      <td>IN</td>\n",
       "      <td>IXL</td>\n",
       "      <td>IXL</td>\n",
       "      <td>IN</td>\n",
       "      <td>DEL</td>\n",
       "      <td>DEL</td>\n",
       "      <td>IN</td>\n",
       "      <td>DELIXL</td>\n",
       "      <td>DELIXL</td>\n",
       "      <td>ININ</td>\n",
       "      <td>0</td>\n",
       "      <td>IXLDEL</td>\n",
       "      <td>CH</td>\n",
       "      <td>Q</td>\n",
       "      <td>Y</td>\n",
       "      <td>2013-05-10 07:40:00</td>\n",
       "      <td>2013-05-10 09:11:47</td>\n",
       "      <td>-2</td>\n",
       "      <td>2013</td>\n",
       "      <td>3</td>\n",
       "      <td>NULL</td>\n",
       "      <td>DEL-IXL</td>\n",
       "    </tr>\n",
       "    <tr>\n",
       "      <th>99998</th>\n",
       "      <td>2013-03-20 00:00:00</td>\n",
       "      <td>1G</td>\n",
       "      <td>ZA</td>\n",
       "      <td>355368d5d743bd879313059478579059</td>\n",
       "      <td>a6dc7522954b518c8530ee2058ac946a</td>\n",
       "      <td>34ce3041cf21fe149b175c82dc991183</td>\n",
       "      <td>2013-03-20 00:00:00</td>\n",
       "      <td>4612</td>\n",
       "      <td>0</td>\n",
       "      <td>HLA</td>\n",
       "      <td>JNB</td>\n",
       "      <td>ZA</td>\n",
       "      <td>CPT</td>\n",
       "      <td>CPT</td>\n",
       "      <td>ZA</td>\n",
       "      <td>HLA</td>\n",
       "      <td>JNB</td>\n",
       "      <td>ZA</td>\n",
       "      <td>HLA</td>\n",
       "      <td>JNB</td>\n",
       "      <td>ZA</td>\n",
       "      <td>CPT</td>\n",
       "      <td>CPT</td>\n",
       "      <td>ZA</td>\n",
       "      <td>CPTHLA</td>\n",
       "      <td>CPTJNB</td>\n",
       "      <td>ZAZA</td>\n",
       "      <td>0</td>\n",
       "      <td>HLACPT</td>\n",
       "      <td>WX</td>\n",
       "      <td>O</td>\n",
       "      <td>Y</td>\n",
       "      <td>2013-06-14 14:55:00</td>\n",
       "      <td>2013-06-14 17:12:14</td>\n",
       "      <td>2</td>\n",
       "      <td>2013</td>\n",
       "      <td>3</td>\n",
       "      <td>NULL</td>\n",
       "      <td>HLA-CPT</td>\n",
       "    </tr>\n",
       "    <tr>\n",
       "      <th>99999</th>\n",
       "      <td>2013-03-20 00:00:00</td>\n",
       "      <td>1G</td>\n",
       "      <td>ZA</td>\n",
       "      <td>355368d5d743bd879313059478579059</td>\n",
       "      <td>a6dc7522954b518c8530ee2058ac946a</td>\n",
       "      <td>34ce3041cf21fe149b175c82dc991183</td>\n",
       "      <td>2013-03-20 00:00:00</td>\n",
       "      <td>4612</td>\n",
       "      <td>0</td>\n",
       "      <td>HLA</td>\n",
       "      <td>JNB</td>\n",
       "      <td>ZA</td>\n",
       "      <td>CPT</td>\n",
       "      <td>CPT</td>\n",
       "      <td>ZA</td>\n",
       "      <td>HLA</td>\n",
       "      <td>JNB</td>\n",
       "      <td>ZA</td>\n",
       "      <td>CPT</td>\n",
       "      <td>CPT</td>\n",
       "      <td>ZA</td>\n",
       "      <td>HLA</td>\n",
       "      <td>JNB</td>\n",
       "      <td>ZA</td>\n",
       "      <td>CPTHLA</td>\n",
       "      <td>CPTJNB</td>\n",
       "      <td>ZAZA</td>\n",
       "      <td>0</td>\n",
       "      <td>CPTHLA</td>\n",
       "      <td>WX</td>\n",
       "      <td>I</td>\n",
       "      <td>C</td>\n",
       "      <td>2013-06-17 17:30:00</td>\n",
       "      <td>2013-06-17 19:47:14</td>\n",
       "      <td>2</td>\n",
       "      <td>2013</td>\n",
       "      <td>3</td>\n",
       "      <td>NULL</td>\n",
       "      <td>HLA-CPT</td>\n",
       "    </tr>\n",
       "  </tbody>\n",
       "</table>\n",
       "<p>100000 rows × 39 columns</p>\n",
       "</div>"
      ],
      "text/plain": [
       "                  act_date  source  pos_ctry  \\\n",
       "0      2013-03-05 00:00:00  1A      DE         \n",
       "1      2013-03-26 00:00:00  1A      US         \n",
       "2      2013-03-26 00:00:00  1A      US         \n",
       "3      2013-03-26 00:00:00  1A      AU         \n",
       "4      2013-03-26 00:00:00  1A      AU         \n",
       "...                    ...     ...       ...   \n",
       "99995  2013-03-03 00:00:00  1G      FR         \n",
       "99996  2013-03-05 00:00:00  1G      FR         \n",
       "99997  2013-03-05 00:00:00  1G      FR         \n",
       "99998  2013-03-20 00:00:00  1G      ZA         \n",
       "99999  2013-03-20 00:00:00  1G      ZA         \n",
       "\n",
       "                               pos_iata                           pos_oid  \\\n",
       "0      a68dd7ae953c8acfb187a1af2dcbe123  1a11ae49fcbf545fd2afc1a24d88d2b7   \n",
       "1      e612b9eeeee6f17f42d9b0d3b79e75ca  7437560d8f276d6d05eeb806d9e7edee   \n",
       "2      e612b9eeeee6f17f42d9b0d3b79e75ca  7437560d8f276d6d05eeb806d9e7edee   \n",
       "3      0f984b3bb6bd06661c95529bbd6193bc  36472c6dbaf7afec9136ac40364e2794   \n",
       "4      0f984b3bb6bd06661c95529bbd6193bc  36472c6dbaf7afec9136ac40364e2794   \n",
       "...                                 ...                               ...   \n",
       "99995  a17ff438d62736177e21cee453a8902c  f0181fdb07090669940ab0b77092dea7   \n",
       "99996  a17ff438d62736177e21cee453a8902c  f0181fdb07090669940ab0b77092dea7   \n",
       "99997  a17ff438d62736177e21cee453a8902c  f0181fdb07090669940ab0b77092dea7   \n",
       "99998  355368d5d743bd879313059478579059  a6dc7522954b518c8530ee2058ac946a   \n",
       "99999  355368d5d743bd879313059478579059  a6dc7522954b518c8530ee2058ac946a   \n",
       "\n",
       "                                   rloc             cre_date  duration  \\\n",
       "0      ea65900e72d71f4626378e2ebd298267  2013-02-22 00:00:00      1708   \n",
       "1      737295a86982c941f1c2da9a46a14043  2013-03-26 00:00:00    135270   \n",
       "2      737295a86982c941f1c2da9a46a14043  2013-03-26 00:00:00    135270   \n",
       "3      5ecf00fdcbcec761c43dc7285253d0c1  2013-03-26 00:00:00     30885   \n",
       "4      5ecf00fdcbcec761c43dc7285253d0c1  2013-03-26 00:00:00     30885   \n",
       "...                                 ...                  ...       ...   \n",
       "99995  c534700c8c6578655ea00d7d9056cde0  2013-02-28 00:00:00     11731   \n",
       "99996  c534700c8c6578655ea00d7d9056cde0  2013-02-28 00:00:00     11731   \n",
       "99997  c534700c8c6578655ea00d7d9056cde0  2013-02-28 00:00:00     11731   \n",
       "99998  34ce3041cf21fe149b175c82dc991183  2013-03-20 00:00:00      4612   \n",
       "99999  34ce3041cf21fe149b175c82dc991183  2013-03-20 00:00:00      4612   \n",
       "\n",
       "       distance dep_port  dep_city  dep_ctry arr_port  arr_city  arr_ctry  \\\n",
       "0             0      ZRH  ZRH       CH            LHR  LON       GB         \n",
       "1             0      SAL  SAL       SV            CLT  CLT       US         \n",
       "2             0      SAL  SAL       SV            CLT  CLT       US         \n",
       "3             0      AKL  AKL       NZ            SVO  MOW       RU         \n",
       "4             0      AKL  AKL       NZ            SVO  MOW       RU         \n",
       "...         ...      ...       ...       ...      ...       ...       ...   \n",
       "99995         0      DEL  DEL       IN            IXL  IXL       IN         \n",
       "99996         0      DEL  DEL       IN            IXL  IXL       IN         \n",
       "99997         0      DEL  DEL       IN            IXL  IXL       IN         \n",
       "99998         0      HLA  JNB       ZA            CPT  CPT       ZA         \n",
       "99999         0      HLA  JNB       ZA            CPT  CPT       ZA         \n",
       "\n",
       "       lst_port  lst_city  lst_ctry  brd_port  brd_city  brd_ctry  off_port  \\\n",
       "0      ZRH       ZRH       CH        LHR       LON       GB        ZRH        \n",
       "1      SAL       SAL       SV        SAL       SAL       SV        CLT        \n",
       "2      SAL       SAL       SV        CLT       CLT       US        SAL        \n",
       "3      AKL       AKL       NZ        AKL       AKL       NZ        SVO        \n",
       "4      AKL       AKL       NZ        SVO       MOW       RU        AKL        \n",
       "...         ...       ...       ...       ...       ...       ...       ...   \n",
       "99995  DEL       DEL       IN        DEL       DEL       IN        IXL        \n",
       "99996  DEL       DEL       IN        DEL       DEL       IN        IXL        \n",
       "99997  DEL       DEL       IN        IXL       IXL       IN        DEL        \n",
       "99998  HLA       JNB       ZA        HLA       JNB       ZA        CPT        \n",
       "99999  HLA       JNB       ZA        CPT       CPT       ZA        HLA        \n",
       "\n",
       "       off_city  off_ctry  mkt_port  mkt_city  mkt_ctry  intl  \\\n",
       "0      ZRH       CH        LHRZRH    LONZRH    CHGB         1   \n",
       "1      CLT       US        CLTSAL    CLTSAL    SVUS         1   \n",
       "2      SAL       SV        CLTSAL    CLTSAL    SVUS         1   \n",
       "3      MOW       RU        AKLSVO    AKLMOW    NZRU         1   \n",
       "4      AKL       NZ        AKLSVO    AKLMOW    NZRU         1   \n",
       "...         ...       ...       ...       ...       ...   ...   \n",
       "99995  IXL       IN        DELIXL    DELIXL    ININ         0   \n",
       "99996  IXL       IN        DELIXL    DELIXL    ININ         0   \n",
       "99997  DEL       IN        DELIXL    DELIXL    ININ         0   \n",
       "99998  CPT       ZA        CPTHLA    CPTJNB    ZAZA         0   \n",
       "99999  JNB       ZA        CPTHLA    CPTJNB    ZAZA         0   \n",
       "\n",
       "                 route carrier  bkg_class  cab_class             brd_time  \\\n",
       "0      LHRZRH               VI  T          Y          2013-03-07 08:50:00   \n",
       "1      SALATLCLT            NV  L          Y          2013-04-12 13:04:00   \n",
       "2      CLTATLSAL            NV  U          Y          2013-07-15 07:00:00   \n",
       "3      AKLHKGSVO            XK  G          Y          2013-04-24 23:59:00   \n",
       "4      SVOHKGAKL            XK  G          Y          2013-05-14 20:15:00   \n",
       "...                ...     ...        ...        ...                  ...   \n",
       "99995  DELIXL               CH  N          Y          2013-05-02 05:40:00   \n",
       "99996  DELIXL               CH  N          Y          2013-05-02 05:40:00   \n",
       "99997  IXLDEL               CH  Q          Y          2013-05-10 07:40:00   \n",
       "99998  HLACPT               WX  O          Y          2013-06-14 14:55:00   \n",
       "99999  CPTHLA               WX  I          C          2013-06-17 17:30:00   \n",
       "\n",
       "                  off_time  pax  year  month        oid itinerary  \n",
       "0      2013-03-07 11:33:37   -1  2013      3  NULL        ZRH-LHR  \n",
       "1      2013-04-12 22:05:40    1  2013      3  NULL        SAL-CLT  \n",
       "2      2013-07-15 11:34:51    1  2013      3  NULL        SAL-CLT  \n",
       "3      2013-04-25 16:06:31    1  2013      3  SYDA82546   AKL-SVO  \n",
       "4      2013-05-16 10:44:50    1  2013      3  SYDA82546   AKL-SVO  \n",
       "...                    ...  ...   ...    ...        ...       ...  \n",
       "99995  2013-05-02 07:11:47    2  2013      3  NULL        DEL-IXL  \n",
       "99996  2013-05-02 07:11:47   -2  2013      3  NULL        DEL-IXL  \n",
       "99997  2013-05-10 09:11:47   -2  2013      3  NULL        DEL-IXL  \n",
       "99998  2013-06-14 17:12:14    2  2013      3  NULL        HLA-CPT  \n",
       "99999  2013-06-17 19:47:14    2  2013      3  NULL        HLA-CPT  \n",
       "\n",
       "[100000 rows x 39 columns]"
      ]
     },
     "execution_count": 95,
     "metadata": {},
     "output_type": "execute_result"
    }
   ],
   "source": [
    "df_b_all['itinerary'] = df_b_all['dep_port'].str[:] + \"-\" + df_b_all['arr_port'].str[:]\n",
    "df_b_all"
   ]
  },
  {
   "cell_type": "code",
   "execution_count": 96,
   "metadata": {
    "scrolled": true
   },
   "outputs": [
    {
     "data": {
      "text/plain": [
       "Index(['act_date', 'source', 'pos_ctry', 'pos_iata', 'pos_oid', 'rloc',\n",
       "       'cre_date', 'duration', 'distance', 'dep_port', 'dep_city', 'dep_ctry',\n",
       "       'arr_port', 'arr_city', 'arr_ctry', 'lst_port', 'lst_city', 'lst_ctry',\n",
       "       'brd_port', 'brd_city', 'brd_ctry', 'off_port', 'off_city', 'off_ctry',\n",
       "       'mkt_port', 'mkt_city', 'mkt_ctry', 'intl', 'route', 'carrier',\n",
       "       'bkg_class', 'cab_class', 'brd_time', 'off_time', 'pax', 'year',\n",
       "       'month', 'oid', 'itinerary'],\n",
       "      dtype='object')"
      ]
     },
     "execution_count": 96,
     "metadata": {},
     "output_type": "execute_result"
    }
   ],
   "source": [
    "df_b_all_cols = df_b_all.columns\n",
    "df_b_all_cols"
   ]
  },
  {
   "cell_type": "code",
   "execution_count": 97,
   "metadata": {},
   "outputs": [
    {
     "data": {
      "text/html": [
       "<div>\n",
       "<style scoped>\n",
       "    .dataframe tbody tr th:only-of-type {\n",
       "        vertical-align: middle;\n",
       "    }\n",
       "\n",
       "    .dataframe tbody tr th {\n",
       "        vertical-align: top;\n",
       "    }\n",
       "\n",
       "    .dataframe thead th {\n",
       "        text-align: right;\n",
       "    }\n",
       "</style>\n",
       "<table border=\"1\" class=\"dataframe\">\n",
       "  <thead>\n",
       "    <tr style=\"text-align: right;\">\n",
       "      <th></th>\n",
       "      <th>Date</th>\n",
       "      <th>Time</th>\n",
       "      <th>TxnCode</th>\n",
       "      <th>OfficeID</th>\n",
       "      <th>Country</th>\n",
       "      <th>Origin</th>\n",
       "      <th>Destination</th>\n",
       "      <th>RoundTrip</th>\n",
       "      <th>NbSegments</th>\n",
       "      <th>Seg1Departure</th>\n",
       "      <th>Seg1Arrival</th>\n",
       "      <th>Seg1Date</th>\n",
       "      <th>Seg1Carrier</th>\n",
       "      <th>Seg1BookingCode</th>\n",
       "      <th>Seg2Departure</th>\n",
       "      <th>Seg2Arrival</th>\n",
       "      <th>Seg2Date</th>\n",
       "      <th>Seg2Carrier</th>\n",
       "      <th>Seg2BookingCode</th>\n",
       "      <th>Seg3Departure</th>\n",
       "      <th>Seg3Arrival</th>\n",
       "      <th>Seg3Date</th>\n",
       "      <th>Seg3Carrier</th>\n",
       "      <th>Seg3BookingCode</th>\n",
       "      <th>Seg4Departure</th>\n",
       "      <th>Seg4Arrival</th>\n",
       "      <th>Seg4Date</th>\n",
       "      <th>Seg4Carrier</th>\n",
       "      <th>Seg4BookingCode</th>\n",
       "      <th>Seg5Departure</th>\n",
       "      <th>Seg5Arrival</th>\n",
       "      <th>Seg5Date</th>\n",
       "      <th>Seg5Carrier</th>\n",
       "      <th>Seg5BookingCode</th>\n",
       "      <th>Seg6Departure</th>\n",
       "      <th>Seg6Arrival</th>\n",
       "      <th>Seg6Date</th>\n",
       "      <th>Seg6Carrier</th>\n",
       "      <th>Seg6BookingCode</th>\n",
       "      <th>From</th>\n",
       "      <th>IsPublishedForNeg</th>\n",
       "      <th>IsFromInternet</th>\n",
       "      <th>IsFromVista</th>\n",
       "      <th>TerminalID</th>\n",
       "      <th>InternetOffice</th>\n",
       "      <th>itinerary</th>\n",
       "    </tr>\n",
       "  </thead>\n",
       "  <tbody>\n",
       "    <tr>\n",
       "      <th>0</th>\n",
       "      <td>2013-01-01</td>\n",
       "      <td>20:25:57</td>\n",
       "      <td>MPT</td>\n",
       "      <td>624d8c3ac0b3a7ca03e3c167e0f48327</td>\n",
       "      <td>DE</td>\n",
       "      <td>TXL</td>\n",
       "      <td>AUH</td>\n",
       "      <td>1</td>\n",
       "      <td>2</td>\n",
       "      <td>TXL</td>\n",
       "      <td>AUH</td>\n",
       "      <td>2013-01-26</td>\n",
       "      <td>D2</td>\n",
       "      <td>NaN</td>\n",
       "      <td>AUH</td>\n",
       "      <td>TXL</td>\n",
       "      <td>2013-02-02</td>\n",
       "      <td>D2</td>\n",
       "      <td>NaN</td>\n",
       "      <td>NaN</td>\n",
       "      <td>NaN</td>\n",
       "      <td>NaN</td>\n",
       "      <td>NaN</td>\n",
       "      <td>NaN</td>\n",
       "      <td>NaN</td>\n",
       "      <td>NaN</td>\n",
       "      <td>NaN</td>\n",
       "      <td>NaN</td>\n",
       "      <td>NaN</td>\n",
       "      <td>NaN</td>\n",
       "      <td>NaN</td>\n",
       "      <td>NaN</td>\n",
       "      <td>NaN</td>\n",
       "      <td>NaN</td>\n",
       "      <td>NaN</td>\n",
       "      <td>NaN</td>\n",
       "      <td>NaN</td>\n",
       "      <td>NaN</td>\n",
       "      <td>NaN</td>\n",
       "      <td>1ASIWS</td>\n",
       "      <td>0</td>\n",
       "      <td>0</td>\n",
       "      <td>0</td>\n",
       "      <td>d41d8cd98f00b204e9800998ecf8427e</td>\n",
       "      <td>FRA</td>\n",
       "      <td>TXL-AUH</td>\n",
       "    </tr>\n",
       "    <tr>\n",
       "      <th>1</th>\n",
       "      <td>2013-01-01</td>\n",
       "      <td>10:15:33</td>\n",
       "      <td>MPT</td>\n",
       "      <td>b0af35b31588dc4ab06d5cf2986e8e02</td>\n",
       "      <td>MD</td>\n",
       "      <td>ATH</td>\n",
       "      <td>MIL</td>\n",
       "      <td>0</td>\n",
       "      <td>1</td>\n",
       "      <td>ATH</td>\n",
       "      <td>MIL</td>\n",
       "      <td>2013-01-04</td>\n",
       "      <td>NaN</td>\n",
       "      <td>NaN</td>\n",
       "      <td>NaN</td>\n",
       "      <td>NaN</td>\n",
       "      <td>NaN</td>\n",
       "      <td>NaN</td>\n",
       "      <td>NaN</td>\n",
       "      <td>NaN</td>\n",
       "      <td>NaN</td>\n",
       "      <td>NaN</td>\n",
       "      <td>NaN</td>\n",
       "      <td>NaN</td>\n",
       "      <td>NaN</td>\n",
       "      <td>NaN</td>\n",
       "      <td>NaN</td>\n",
       "      <td>NaN</td>\n",
       "      <td>NaN</td>\n",
       "      <td>NaN</td>\n",
       "      <td>NaN</td>\n",
       "      <td>NaN</td>\n",
       "      <td>NaN</td>\n",
       "      <td>NaN</td>\n",
       "      <td>NaN</td>\n",
       "      <td>NaN</td>\n",
       "      <td>NaN</td>\n",
       "      <td>NaN</td>\n",
       "      <td>NaN</td>\n",
       "      <td>1ASIWS</td>\n",
       "      <td>0</td>\n",
       "      <td>0</td>\n",
       "      <td>0</td>\n",
       "      <td>d41d8cd98f00b204e9800998ecf8427e</td>\n",
       "      <td>KIV</td>\n",
       "      <td>ATH-MIL</td>\n",
       "    </tr>\n",
       "    <tr>\n",
       "      <th>2</th>\n",
       "      <td>2013-01-01</td>\n",
       "      <td>18:04:49</td>\n",
       "      <td>MPT</td>\n",
       "      <td>3561a60621de06ab1badc8ca55699ef3</td>\n",
       "      <td>US</td>\n",
       "      <td>ICT</td>\n",
       "      <td>SFO</td>\n",
       "      <td>1</td>\n",
       "      <td>2</td>\n",
       "      <td>ICT</td>\n",
       "      <td>SFO</td>\n",
       "      <td>2013-08-02</td>\n",
       "      <td>NaN</td>\n",
       "      <td>NaN</td>\n",
       "      <td>SFO</td>\n",
       "      <td>ICT</td>\n",
       "      <td>2013-08-09</td>\n",
       "      <td>NaN</td>\n",
       "      <td>NaN</td>\n",
       "      <td>NaN</td>\n",
       "      <td>NaN</td>\n",
       "      <td>NaN</td>\n",
       "      <td>NaN</td>\n",
       "      <td>NaN</td>\n",
       "      <td>NaN</td>\n",
       "      <td>NaN</td>\n",
       "      <td>NaN</td>\n",
       "      <td>NaN</td>\n",
       "      <td>NaN</td>\n",
       "      <td>NaN</td>\n",
       "      <td>NaN</td>\n",
       "      <td>NaN</td>\n",
       "      <td>NaN</td>\n",
       "      <td>NaN</td>\n",
       "      <td>NaN</td>\n",
       "      <td>NaN</td>\n",
       "      <td>NaN</td>\n",
       "      <td>NaN</td>\n",
       "      <td>NaN</td>\n",
       "      <td>1ASIWS</td>\n",
       "      <td>0</td>\n",
       "      <td>0</td>\n",
       "      <td>0</td>\n",
       "      <td>d41d8cd98f00b204e9800998ecf8427e</td>\n",
       "      <td>NYC</td>\n",
       "      <td>ICT-SFO</td>\n",
       "    </tr>\n",
       "    <tr>\n",
       "      <th>3</th>\n",
       "      <td>2013-01-01</td>\n",
       "      <td>17:42:40</td>\n",
       "      <td>FXP</td>\n",
       "      <td>1864e5e8013d9414150e91d26b6a558b</td>\n",
       "      <td>SE</td>\n",
       "      <td>RNB</td>\n",
       "      <td>ARN</td>\n",
       "      <td>0</td>\n",
       "      <td>1</td>\n",
       "      <td>RNB</td>\n",
       "      <td>ARN</td>\n",
       "      <td>2013-01-02</td>\n",
       "      <td>DU</td>\n",
       "      <td>W</td>\n",
       "      <td>NaN</td>\n",
       "      <td>NaN</td>\n",
       "      <td>NaN</td>\n",
       "      <td>NaN</td>\n",
       "      <td>NaN</td>\n",
       "      <td>NaN</td>\n",
       "      <td>NaN</td>\n",
       "      <td>NaN</td>\n",
       "      <td>NaN</td>\n",
       "      <td>NaN</td>\n",
       "      <td>NaN</td>\n",
       "      <td>NaN</td>\n",
       "      <td>NaN</td>\n",
       "      <td>NaN</td>\n",
       "      <td>NaN</td>\n",
       "      <td>NaN</td>\n",
       "      <td>NaN</td>\n",
       "      <td>NaN</td>\n",
       "      <td>NaN</td>\n",
       "      <td>NaN</td>\n",
       "      <td>NaN</td>\n",
       "      <td>NaN</td>\n",
       "      <td>NaN</td>\n",
       "      <td>NaN</td>\n",
       "      <td>NaN</td>\n",
       "      <td>1ASI</td>\n",
       "      <td>0</td>\n",
       "      <td>0</td>\n",
       "      <td>0</td>\n",
       "      <td>d41d8cd98f00b204e9800998ecf8427e</td>\n",
       "      <td>STO</td>\n",
       "      <td>RNB-ARN</td>\n",
       "    </tr>\n",
       "    <tr>\n",
       "      <th>4</th>\n",
       "      <td>2013-01-01</td>\n",
       "      <td>17:48:29</td>\n",
       "      <td>MPT</td>\n",
       "      <td>1ec336348f44207d2e0027dc3a68c118</td>\n",
       "      <td>NO</td>\n",
       "      <td>OSL</td>\n",
       "      <td>MAD</td>\n",
       "      <td>1</td>\n",
       "      <td>2</td>\n",
       "      <td>OSL</td>\n",
       "      <td>MAD</td>\n",
       "      <td>2013-03-22</td>\n",
       "      <td>NaN</td>\n",
       "      <td>NaN</td>\n",
       "      <td>MAD</td>\n",
       "      <td>OSL</td>\n",
       "      <td>2013-03-31</td>\n",
       "      <td>NaN</td>\n",
       "      <td>NaN</td>\n",
       "      <td>NaN</td>\n",
       "      <td>NaN</td>\n",
       "      <td>NaN</td>\n",
       "      <td>NaN</td>\n",
       "      <td>NaN</td>\n",
       "      <td>NaN</td>\n",
       "      <td>NaN</td>\n",
       "      <td>NaN</td>\n",
       "      <td>NaN</td>\n",
       "      <td>NaN</td>\n",
       "      <td>NaN</td>\n",
       "      <td>NaN</td>\n",
       "      <td>NaN</td>\n",
       "      <td>NaN</td>\n",
       "      <td>NaN</td>\n",
       "      <td>NaN</td>\n",
       "      <td>NaN</td>\n",
       "      <td>NaN</td>\n",
       "      <td>NaN</td>\n",
       "      <td>NaN</td>\n",
       "      <td>1ASIWS</td>\n",
       "      <td>0</td>\n",
       "      <td>0</td>\n",
       "      <td>0</td>\n",
       "      <td>d41d8cd98f00b204e9800998ecf8427e</td>\n",
       "      <td>OSL</td>\n",
       "      <td>OSL-MAD</td>\n",
       "    </tr>\n",
       "  </tbody>\n",
       "</table>\n",
       "</div>"
      ],
      "text/plain": [
       "         Date      Time TxnCode                          OfficeID Country  \\\n",
       "0  2013-01-01  20:25:57     MPT  624d8c3ac0b3a7ca03e3c167e0f48327      DE   \n",
       "1  2013-01-01  10:15:33     MPT  b0af35b31588dc4ab06d5cf2986e8e02      MD   \n",
       "2  2013-01-01  18:04:49     MPT  3561a60621de06ab1badc8ca55699ef3      US   \n",
       "3  2013-01-01  17:42:40     FXP  1864e5e8013d9414150e91d26b6a558b      SE   \n",
       "4  2013-01-01  17:48:29     MPT  1ec336348f44207d2e0027dc3a68c118      NO   \n",
       "\n",
       "  Origin Destination  RoundTrip  NbSegments Seg1Departure Seg1Arrival  \\\n",
       "0    TXL         AUH          1           2           TXL         AUH   \n",
       "1    ATH         MIL          0           1           ATH         MIL   \n",
       "2    ICT         SFO          1           2           ICT         SFO   \n",
       "3    RNB         ARN          0           1           RNB         ARN   \n",
       "4    OSL         MAD          1           2           OSL         MAD   \n",
       "\n",
       "     Seg1Date Seg1Carrier Seg1BookingCode Seg2Departure Seg2Arrival  \\\n",
       "0  2013-01-26          D2             NaN           AUH         TXL   \n",
       "1  2013-01-04         NaN             NaN           NaN         NaN   \n",
       "2  2013-08-02         NaN             NaN           SFO         ICT   \n",
       "3  2013-01-02          DU               W           NaN         NaN   \n",
       "4  2013-03-22         NaN             NaN           MAD         OSL   \n",
       "\n",
       "     Seg2Date Seg2Carrier Seg2BookingCode Seg3Departure Seg3Arrival Seg3Date  \\\n",
       "0  2013-02-02          D2             NaN           NaN         NaN      NaN   \n",
       "1         NaN         NaN             NaN           NaN         NaN      NaN   \n",
       "2  2013-08-09         NaN             NaN           NaN         NaN      NaN   \n",
       "3         NaN         NaN             NaN           NaN         NaN      NaN   \n",
       "4  2013-03-31         NaN             NaN           NaN         NaN      NaN   \n",
       "\n",
       "  Seg3Carrier Seg3BookingCode Seg4Departure Seg4Arrival Seg4Date Seg4Carrier  \\\n",
       "0         NaN             NaN           NaN         NaN      NaN         NaN   \n",
       "1         NaN             NaN           NaN         NaN      NaN         NaN   \n",
       "2         NaN             NaN           NaN         NaN      NaN         NaN   \n",
       "3         NaN             NaN           NaN         NaN      NaN         NaN   \n",
       "4         NaN             NaN           NaN         NaN      NaN         NaN   \n",
       "\n",
       "  Seg4BookingCode Seg5Departure Seg5Arrival Seg5Date Seg5Carrier  \\\n",
       "0             NaN           NaN         NaN      NaN         NaN   \n",
       "1             NaN           NaN         NaN      NaN         NaN   \n",
       "2             NaN           NaN         NaN      NaN         NaN   \n",
       "3             NaN           NaN         NaN      NaN         NaN   \n",
       "4             NaN           NaN         NaN      NaN         NaN   \n",
       "\n",
       "  Seg5BookingCode Seg6Departure Seg6Arrival Seg6Date Seg6Carrier  \\\n",
       "0             NaN           NaN         NaN      NaN         NaN   \n",
       "1             NaN           NaN         NaN      NaN         NaN   \n",
       "2             NaN           NaN         NaN      NaN         NaN   \n",
       "3             NaN           NaN         NaN      NaN         NaN   \n",
       "4             NaN           NaN         NaN      NaN         NaN   \n",
       "\n",
       "  Seg6BookingCode    From  IsPublishedForNeg  IsFromInternet  IsFromVista  \\\n",
       "0             NaN  1ASIWS                  0               0            0   \n",
       "1             NaN  1ASIWS                  0               0            0   \n",
       "2             NaN  1ASIWS                  0               0            0   \n",
       "3             NaN    1ASI                  0               0            0   \n",
       "4             NaN  1ASIWS                  0               0            0   \n",
       "\n",
       "                         TerminalID InternetOffice itinerary  \n",
       "0  d41d8cd98f00b204e9800998ecf8427e            FRA   TXL-AUH  \n",
       "1  d41d8cd98f00b204e9800998ecf8427e            KIV   ATH-MIL  \n",
       "2  d41d8cd98f00b204e9800998ecf8427e            NYC   ICT-SFO  \n",
       "3  d41d8cd98f00b204e9800998ecf8427e            STO   RNB-ARN  \n",
       "4  d41d8cd98f00b204e9800998ecf8427e            OSL   OSL-MAD  "
      ]
     },
     "execution_count": 97,
     "metadata": {},
     "output_type": "execute_result"
    }
   ],
   "source": [
    "df_s_all.head(5)"
   ]
  },
  {
   "cell_type": "code",
   "execution_count": 98,
   "metadata": {},
   "outputs": [
    {
     "data": {
      "text/html": [
       "<div>\n",
       "<style scoped>\n",
       "    .dataframe tbody tr th:only-of-type {\n",
       "        vertical-align: middle;\n",
       "    }\n",
       "\n",
       "    .dataframe tbody tr th {\n",
       "        vertical-align: top;\n",
       "    }\n",
       "\n",
       "    .dataframe thead th {\n",
       "        text-align: right;\n",
       "    }\n",
       "</style>\n",
       "<table border=\"1\" class=\"dataframe\">\n",
       "  <thead>\n",
       "    <tr style=\"text-align: right;\">\n",
       "      <th></th>\n",
       "      <th>act_date</th>\n",
       "      <th>source</th>\n",
       "      <th>pos_ctry</th>\n",
       "      <th>pos_iata</th>\n",
       "      <th>pos_oid</th>\n",
       "      <th>rloc</th>\n",
       "      <th>cre_date</th>\n",
       "      <th>duration</th>\n",
       "      <th>distance</th>\n",
       "      <th>dep_port</th>\n",
       "      <th>dep_city</th>\n",
       "      <th>dep_ctry</th>\n",
       "      <th>arr_port</th>\n",
       "      <th>arr_city</th>\n",
       "      <th>arr_ctry</th>\n",
       "      <th>lst_port</th>\n",
       "      <th>lst_city</th>\n",
       "      <th>lst_ctry</th>\n",
       "      <th>brd_port</th>\n",
       "      <th>brd_city</th>\n",
       "      <th>brd_ctry</th>\n",
       "      <th>off_port</th>\n",
       "      <th>off_city</th>\n",
       "      <th>off_ctry</th>\n",
       "      <th>mkt_port</th>\n",
       "      <th>mkt_city</th>\n",
       "      <th>mkt_ctry</th>\n",
       "      <th>intl</th>\n",
       "      <th>route</th>\n",
       "      <th>carrier</th>\n",
       "      <th>bkg_class</th>\n",
       "      <th>cab_class</th>\n",
       "      <th>brd_time</th>\n",
       "      <th>off_time</th>\n",
       "      <th>pax</th>\n",
       "      <th>year</th>\n",
       "      <th>month</th>\n",
       "      <th>oid</th>\n",
       "      <th>itinerary</th>\n",
       "    </tr>\n",
       "  </thead>\n",
       "  <tbody>\n",
       "    <tr>\n",
       "      <th>0</th>\n",
       "      <td>2013-03-05 00:00:00</td>\n",
       "      <td>1A</td>\n",
       "      <td>DE</td>\n",
       "      <td>a68dd7ae953c8acfb187a1af2dcbe123</td>\n",
       "      <td>1a11ae49fcbf545fd2afc1a24d88d2b7</td>\n",
       "      <td>ea65900e72d71f4626378e2ebd298267</td>\n",
       "      <td>2013-02-22 00:00:00</td>\n",
       "      <td>1708</td>\n",
       "      <td>0</td>\n",
       "      <td>ZRH</td>\n",
       "      <td>ZRH</td>\n",
       "      <td>CH</td>\n",
       "      <td>LHR</td>\n",
       "      <td>LON</td>\n",
       "      <td>GB</td>\n",
       "      <td>ZRH</td>\n",
       "      <td>ZRH</td>\n",
       "      <td>CH</td>\n",
       "      <td>LHR</td>\n",
       "      <td>LON</td>\n",
       "      <td>GB</td>\n",
       "      <td>ZRH</td>\n",
       "      <td>ZRH</td>\n",
       "      <td>CH</td>\n",
       "      <td>LHRZRH</td>\n",
       "      <td>LONZRH</td>\n",
       "      <td>CHGB</td>\n",
       "      <td>1</td>\n",
       "      <td>LHRZRH</td>\n",
       "      <td>VI</td>\n",
       "      <td>T</td>\n",
       "      <td>Y</td>\n",
       "      <td>2013-03-07 08:50:00</td>\n",
       "      <td>2013-03-07 11:33:37</td>\n",
       "      <td>-1</td>\n",
       "      <td>2013</td>\n",
       "      <td>3</td>\n",
       "      <td>NULL</td>\n",
       "      <td>ZRH-LHR</td>\n",
       "    </tr>\n",
       "    <tr>\n",
       "      <th>1</th>\n",
       "      <td>2013-03-26 00:00:00</td>\n",
       "      <td>1A</td>\n",
       "      <td>US</td>\n",
       "      <td>e612b9eeeee6f17f42d9b0d3b79e75ca</td>\n",
       "      <td>7437560d8f276d6d05eeb806d9e7edee</td>\n",
       "      <td>737295a86982c941f1c2da9a46a14043</td>\n",
       "      <td>2013-03-26 00:00:00</td>\n",
       "      <td>135270</td>\n",
       "      <td>0</td>\n",
       "      <td>SAL</td>\n",
       "      <td>SAL</td>\n",
       "      <td>SV</td>\n",
       "      <td>CLT</td>\n",
       "      <td>CLT</td>\n",
       "      <td>US</td>\n",
       "      <td>SAL</td>\n",
       "      <td>SAL</td>\n",
       "      <td>SV</td>\n",
       "      <td>SAL</td>\n",
       "      <td>SAL</td>\n",
       "      <td>SV</td>\n",
       "      <td>CLT</td>\n",
       "      <td>CLT</td>\n",
       "      <td>US</td>\n",
       "      <td>CLTSAL</td>\n",
       "      <td>CLTSAL</td>\n",
       "      <td>SVUS</td>\n",
       "      <td>1</td>\n",
       "      <td>SALATLCLT</td>\n",
       "      <td>NV</td>\n",
       "      <td>L</td>\n",
       "      <td>Y</td>\n",
       "      <td>2013-04-12 13:04:00</td>\n",
       "      <td>2013-04-12 22:05:40</td>\n",
       "      <td>1</td>\n",
       "      <td>2013</td>\n",
       "      <td>3</td>\n",
       "      <td>NULL</td>\n",
       "      <td>SAL-CLT</td>\n",
       "    </tr>\n",
       "    <tr>\n",
       "      <th>2</th>\n",
       "      <td>2013-03-26 00:00:00</td>\n",
       "      <td>1A</td>\n",
       "      <td>US</td>\n",
       "      <td>e612b9eeeee6f17f42d9b0d3b79e75ca</td>\n",
       "      <td>7437560d8f276d6d05eeb806d9e7edee</td>\n",
       "      <td>737295a86982c941f1c2da9a46a14043</td>\n",
       "      <td>2013-03-26 00:00:00</td>\n",
       "      <td>135270</td>\n",
       "      <td>0</td>\n",
       "      <td>SAL</td>\n",
       "      <td>SAL</td>\n",
       "      <td>SV</td>\n",
       "      <td>CLT</td>\n",
       "      <td>CLT</td>\n",
       "      <td>US</td>\n",
       "      <td>SAL</td>\n",
       "      <td>SAL</td>\n",
       "      <td>SV</td>\n",
       "      <td>CLT</td>\n",
       "      <td>CLT</td>\n",
       "      <td>US</td>\n",
       "      <td>SAL</td>\n",
       "      <td>SAL</td>\n",
       "      <td>SV</td>\n",
       "      <td>CLTSAL</td>\n",
       "      <td>CLTSAL</td>\n",
       "      <td>SVUS</td>\n",
       "      <td>1</td>\n",
       "      <td>CLTATLSAL</td>\n",
       "      <td>NV</td>\n",
       "      <td>U</td>\n",
       "      <td>Y</td>\n",
       "      <td>2013-07-15 07:00:00</td>\n",
       "      <td>2013-07-15 11:34:51</td>\n",
       "      <td>1</td>\n",
       "      <td>2013</td>\n",
       "      <td>3</td>\n",
       "      <td>NULL</td>\n",
       "      <td>SAL-CLT</td>\n",
       "    </tr>\n",
       "    <tr>\n",
       "      <th>3</th>\n",
       "      <td>2013-03-26 00:00:00</td>\n",
       "      <td>1A</td>\n",
       "      <td>AU</td>\n",
       "      <td>0f984b3bb6bd06661c95529bbd6193bc</td>\n",
       "      <td>36472c6dbaf7afec9136ac40364e2794</td>\n",
       "      <td>5ecf00fdcbcec761c43dc7285253d0c1</td>\n",
       "      <td>2013-03-26 00:00:00</td>\n",
       "      <td>30885</td>\n",
       "      <td>0</td>\n",
       "      <td>AKL</td>\n",
       "      <td>AKL</td>\n",
       "      <td>NZ</td>\n",
       "      <td>SVO</td>\n",
       "      <td>MOW</td>\n",
       "      <td>RU</td>\n",
       "      <td>AKL</td>\n",
       "      <td>AKL</td>\n",
       "      <td>NZ</td>\n",
       "      <td>AKL</td>\n",
       "      <td>AKL</td>\n",
       "      <td>NZ</td>\n",
       "      <td>SVO</td>\n",
       "      <td>MOW</td>\n",
       "      <td>RU</td>\n",
       "      <td>AKLSVO</td>\n",
       "      <td>AKLMOW</td>\n",
       "      <td>NZRU</td>\n",
       "      <td>1</td>\n",
       "      <td>AKLHKGSVO</td>\n",
       "      <td>XK</td>\n",
       "      <td>G</td>\n",
       "      <td>Y</td>\n",
       "      <td>2013-04-24 23:59:00</td>\n",
       "      <td>2013-04-25 16:06:31</td>\n",
       "      <td>1</td>\n",
       "      <td>2013</td>\n",
       "      <td>3</td>\n",
       "      <td>SYDA82546</td>\n",
       "      <td>AKL-SVO</td>\n",
       "    </tr>\n",
       "    <tr>\n",
       "      <th>4</th>\n",
       "      <td>2013-03-26 00:00:00</td>\n",
       "      <td>1A</td>\n",
       "      <td>AU</td>\n",
       "      <td>0f984b3bb6bd06661c95529bbd6193bc</td>\n",
       "      <td>36472c6dbaf7afec9136ac40364e2794</td>\n",
       "      <td>5ecf00fdcbcec761c43dc7285253d0c1</td>\n",
       "      <td>2013-03-26 00:00:00</td>\n",
       "      <td>30885</td>\n",
       "      <td>0</td>\n",
       "      <td>AKL</td>\n",
       "      <td>AKL</td>\n",
       "      <td>NZ</td>\n",
       "      <td>SVO</td>\n",
       "      <td>MOW</td>\n",
       "      <td>RU</td>\n",
       "      <td>AKL</td>\n",
       "      <td>AKL</td>\n",
       "      <td>NZ</td>\n",
       "      <td>SVO</td>\n",
       "      <td>MOW</td>\n",
       "      <td>RU</td>\n",
       "      <td>AKL</td>\n",
       "      <td>AKL</td>\n",
       "      <td>NZ</td>\n",
       "      <td>AKLSVO</td>\n",
       "      <td>AKLMOW</td>\n",
       "      <td>NZRU</td>\n",
       "      <td>1</td>\n",
       "      <td>SVOHKGAKL</td>\n",
       "      <td>XK</td>\n",
       "      <td>G</td>\n",
       "      <td>Y</td>\n",
       "      <td>2013-05-14 20:15:00</td>\n",
       "      <td>2013-05-16 10:44:50</td>\n",
       "      <td>1</td>\n",
       "      <td>2013</td>\n",
       "      <td>3</td>\n",
       "      <td>SYDA82546</td>\n",
       "      <td>AKL-SVO</td>\n",
       "    </tr>\n",
       "  </tbody>\n",
       "</table>\n",
       "</div>"
      ],
      "text/plain": [
       "              act_date  source  pos_ctry                          pos_iata  \\\n",
       "0  2013-03-05 00:00:00  1A      DE        a68dd7ae953c8acfb187a1af2dcbe123   \n",
       "1  2013-03-26 00:00:00  1A      US        e612b9eeeee6f17f42d9b0d3b79e75ca   \n",
       "2  2013-03-26 00:00:00  1A      US        e612b9eeeee6f17f42d9b0d3b79e75ca   \n",
       "3  2013-03-26 00:00:00  1A      AU        0f984b3bb6bd06661c95529bbd6193bc   \n",
       "4  2013-03-26 00:00:00  1A      AU        0f984b3bb6bd06661c95529bbd6193bc   \n",
       "\n",
       "                            pos_oid                              rloc  \\\n",
       "0  1a11ae49fcbf545fd2afc1a24d88d2b7  ea65900e72d71f4626378e2ebd298267   \n",
       "1  7437560d8f276d6d05eeb806d9e7edee  737295a86982c941f1c2da9a46a14043   \n",
       "2  7437560d8f276d6d05eeb806d9e7edee  737295a86982c941f1c2da9a46a14043   \n",
       "3  36472c6dbaf7afec9136ac40364e2794  5ecf00fdcbcec761c43dc7285253d0c1   \n",
       "4  36472c6dbaf7afec9136ac40364e2794  5ecf00fdcbcec761c43dc7285253d0c1   \n",
       "\n",
       "              cre_date  duration  distance dep_port  dep_city  dep_ctry  \\\n",
       "0  2013-02-22 00:00:00      1708         0      ZRH  ZRH       CH         \n",
       "1  2013-03-26 00:00:00    135270         0      SAL  SAL       SV         \n",
       "2  2013-03-26 00:00:00    135270         0      SAL  SAL       SV         \n",
       "3  2013-03-26 00:00:00     30885         0      AKL  AKL       NZ         \n",
       "4  2013-03-26 00:00:00     30885         0      AKL  AKL       NZ         \n",
       "\n",
       "  arr_port  arr_city  arr_ctry  lst_port  lst_city  lst_ctry  brd_port  \\\n",
       "0      LHR  LON       GB        ZRH       ZRH       CH        LHR        \n",
       "1      CLT  CLT       US        SAL       SAL       SV        SAL        \n",
       "2      CLT  CLT       US        SAL       SAL       SV        CLT        \n",
       "3      SVO  MOW       RU        AKL       AKL       NZ        AKL        \n",
       "4      SVO  MOW       RU        AKL       AKL       NZ        SVO        \n",
       "\n",
       "   brd_city  brd_ctry  off_port  off_city  off_ctry  mkt_port  mkt_city  \\\n",
       "0  LON       GB        ZRH       ZRH       CH        LHRZRH    LONZRH     \n",
       "1  SAL       SV        CLT       CLT       US        CLTSAL    CLTSAL     \n",
       "2  CLT       US        SAL       SAL       SV        CLTSAL    CLTSAL     \n",
       "3  AKL       NZ        SVO       MOW       RU        AKLSVO    AKLMOW     \n",
       "4  MOW       RU        AKL       AKL       NZ        AKLSVO    AKLMOW     \n",
       "\n",
       "   mkt_ctry  intl            route carrier  bkg_class  cab_class  \\\n",
       "0  CHGB         1  LHRZRH               VI  T          Y           \n",
       "1  SVUS         1  SALATLCLT            NV  L          Y           \n",
       "2  SVUS         1  CLTATLSAL            NV  U          Y           \n",
       "3  NZRU         1  AKLHKGSVO            XK  G          Y           \n",
       "4  NZRU         1  SVOHKGAKL            XK  G          Y           \n",
       "\n",
       "              brd_time             off_time  pax  year  month        oid  \\\n",
       "0  2013-03-07 08:50:00  2013-03-07 11:33:37   -1  2013      3  NULL        \n",
       "1  2013-04-12 13:04:00  2013-04-12 22:05:40    1  2013      3  NULL        \n",
       "2  2013-07-15 07:00:00  2013-07-15 11:34:51    1  2013      3  NULL        \n",
       "3  2013-04-24 23:59:00  2013-04-25 16:06:31    1  2013      3  SYDA82546   \n",
       "4  2013-05-14 20:15:00  2013-05-16 10:44:50    1  2013      3  SYDA82546   \n",
       "\n",
       "  itinerary  \n",
       "0   ZRH-LHR  \n",
       "1   SAL-CLT  \n",
       "2   SAL-CLT  \n",
       "3   AKL-SVO  \n",
       "4   AKL-SVO  "
      ]
     },
     "execution_count": 98,
     "metadata": {},
     "output_type": "execute_result"
    }
   ],
   "source": [
    "df_b_all.head(5)"
   ]
  },
  {
   "cell_type": "code",
   "execution_count": null,
   "metadata": {},
   "outputs": [],
   "source": []
  },
  {
   "cell_type": "code",
   "execution_count": null,
   "metadata": {},
   "outputs": [],
   "source": []
  },
  {
   "cell_type": "code",
   "execution_count": null,
   "metadata": {},
   "outputs": [],
   "source": []
  },
  {
   "cell_type": "code",
   "execution_count": 99,
   "metadata": {},
   "outputs": [
    {
     "name": "stderr",
     "output_type": "stream",
     "text": [
      "1it [00:01,  1.07s/it]\n",
      "1it [00:01,  1.92s/it]"
     ]
    },
    {
     "name": "stdout",
     "output_type": "stream",
     "text": [
      "Wall time: 3.04 s\n"
     ]
    },
    {
     "name": "stderr",
     "output_type": "stream",
     "text": [
      "\n"
     ]
    }
   ],
   "source": [
    "%%time\n",
    "\n",
    "# SAMPLE !!!\n",
    "\n",
    "# Importa los archivos, troceándolos en chunks:\n",
    "tp_searches = pd.read_csv(searches_nodup_path,\n",
    "                 sep='^',\n",
    "                 nrows=100000,\n",
    "                 usecols=['Date', 'Time', 'Origin', 'Destination', 'OfficeID', 'TerminalID'],\n",
    "                 iterator=True,\n",
    "                 chunksize=500000)\n",
    "\n",
    "tp_bookings = pd.read_csv(bookings_nodup_path,\n",
    "                 sep='^',\n",
    "                 nrows=100000,\n",
    "                 usecols=['act_date', 'dep_port', 'arr_port', 'pax', 'pos_iata', 'pos_oid', 'rloc'],\n",
    "                 iterator=True,\n",
    "                 chunksize=500000)\n",
    "\n",
    "# TEST: número de iteraciones máximas para testeo\n",
    "iter_max = 5\n",
    "# Crear DataFrames vacíos para appendear cada resultado de los chunks:\n",
    "df_s = pd.DataFrame()\n",
    "df_b = pd.DataFrame()\n",
    "\n",
    "# Iterar por cada chunk:\n",
    "for k, chunk in tqdm(enumerate(tp_searches)):\n",
    "    # TEST: al llegar al número máximo de iteraciones permitido, interrumpe el proceso:\n",
    "    if k == iter_max: # Comprobador\n",
    "        break # Comprobador\n",
    "    df_s = df_s.append(chunk)\n",
    "    \n",
    "for k, chunk in tqdm(enumerate(tp_bookings)):\n",
    "    # TEST: al llegar al número máximo de iteraciones permitido, interrumpe el proceso:\n",
    "    if k == iter_max: # Comprobador\n",
    "        break # Comprobador\n",
    "    df_b = df_b.append(chunk)"
   ]
  },
  {
   "cell_type": "code",
   "execution_count": 100,
   "metadata": {
    "scrolled": false
   },
   "outputs": [
    {
     "data": {
      "text/html": [
       "<div>\n",
       "<style scoped>\n",
       "    .dataframe tbody tr th:only-of-type {\n",
       "        vertical-align: middle;\n",
       "    }\n",
       "\n",
       "    .dataframe tbody tr th {\n",
       "        vertical-align: top;\n",
       "    }\n",
       "\n",
       "    .dataframe thead th {\n",
       "        text-align: right;\n",
       "    }\n",
       "</style>\n",
       "<table border=\"1\" class=\"dataframe\">\n",
       "  <thead>\n",
       "    <tr style=\"text-align: right;\">\n",
       "      <th></th>\n",
       "      <th>Date</th>\n",
       "      <th>Time</th>\n",
       "      <th>OfficeID</th>\n",
       "      <th>Origin</th>\n",
       "      <th>Destination</th>\n",
       "      <th>TerminalID</th>\n",
       "    </tr>\n",
       "  </thead>\n",
       "  <tbody>\n",
       "    <tr>\n",
       "      <th>0</th>\n",
       "      <td>2013-01-01</td>\n",
       "      <td>20:25:57</td>\n",
       "      <td>624d8c3ac0b3a7ca03e3c167e0f48327</td>\n",
       "      <td>TXL</td>\n",
       "      <td>AUH</td>\n",
       "      <td>d41d8cd98f00b204e9800998ecf8427e</td>\n",
       "    </tr>\n",
       "    <tr>\n",
       "      <th>1</th>\n",
       "      <td>2013-01-01</td>\n",
       "      <td>10:15:33</td>\n",
       "      <td>b0af35b31588dc4ab06d5cf2986e8e02</td>\n",
       "      <td>ATH</td>\n",
       "      <td>MIL</td>\n",
       "      <td>d41d8cd98f00b204e9800998ecf8427e</td>\n",
       "    </tr>\n",
       "    <tr>\n",
       "      <th>2</th>\n",
       "      <td>2013-01-01</td>\n",
       "      <td>18:04:49</td>\n",
       "      <td>3561a60621de06ab1badc8ca55699ef3</td>\n",
       "      <td>ICT</td>\n",
       "      <td>SFO</td>\n",
       "      <td>d41d8cd98f00b204e9800998ecf8427e</td>\n",
       "    </tr>\n",
       "    <tr>\n",
       "      <th>3</th>\n",
       "      <td>2013-01-01</td>\n",
       "      <td>17:42:40</td>\n",
       "      <td>1864e5e8013d9414150e91d26b6a558b</td>\n",
       "      <td>RNB</td>\n",
       "      <td>ARN</td>\n",
       "      <td>d41d8cd98f00b204e9800998ecf8427e</td>\n",
       "    </tr>\n",
       "    <tr>\n",
       "      <th>4</th>\n",
       "      <td>2013-01-01</td>\n",
       "      <td>17:48:29</td>\n",
       "      <td>1ec336348f44207d2e0027dc3a68c118</td>\n",
       "      <td>OSL</td>\n",
       "      <td>MAD</td>\n",
       "      <td>d41d8cd98f00b204e9800998ecf8427e</td>\n",
       "    </tr>\n",
       "    <tr>\n",
       "      <th>...</th>\n",
       "      <td>...</td>\n",
       "      <td>...</td>\n",
       "      <td>...</td>\n",
       "      <td>...</td>\n",
       "      <td>...</td>\n",
       "      <td>...</td>\n",
       "    </tr>\n",
       "    <tr>\n",
       "      <th>99995</th>\n",
       "      <td>2013-04-10</td>\n",
       "      <td>12:51:24</td>\n",
       "      <td>533d88ecea8b7fb3425bdf1246cb3763</td>\n",
       "      <td>DEL</td>\n",
       "      <td>TRV</td>\n",
       "      <td>d41d8cd98f00b204e9800998ecf8427e</td>\n",
       "    </tr>\n",
       "    <tr>\n",
       "      <th>99996</th>\n",
       "      <td>2013-04-10</td>\n",
       "      <td>11:18:09</td>\n",
       "      <td>19901d49edef6724c65e38ee8d5957b7</td>\n",
       "      <td>BUF</td>\n",
       "      <td>AUA</td>\n",
       "      <td>d41d8cd98f00b204e9800998ecf8427e</td>\n",
       "    </tr>\n",
       "    <tr>\n",
       "      <th>99997</th>\n",
       "      <td>2013-04-10</td>\n",
       "      <td>20:40:47</td>\n",
       "      <td>8b4fa4e121637f583bfa86ef0fa26c9e</td>\n",
       "      <td>JFK</td>\n",
       "      <td>KUL</td>\n",
       "      <td>d41d8cd98f00b204e9800998ecf8427e</td>\n",
       "    </tr>\n",
       "    <tr>\n",
       "      <th>99998</th>\n",
       "      <td>2013-04-10</td>\n",
       "      <td>05:39:16</td>\n",
       "      <td>8b4fa4e121637f583bfa86ef0fa26c9e</td>\n",
       "      <td>STL</td>\n",
       "      <td>SEA</td>\n",
       "      <td>d41d8cd98f00b204e9800998ecf8427e</td>\n",
       "    </tr>\n",
       "    <tr>\n",
       "      <th>99999</th>\n",
       "      <td>2013-04-10</td>\n",
       "      <td>12:26:15</td>\n",
       "      <td>9aa037e8d4135205e54688c113ed7e80</td>\n",
       "      <td>MUC</td>\n",
       "      <td>HAM</td>\n",
       "      <td>d41d8cd98f00b204e9800998ecf8427e</td>\n",
       "    </tr>\n",
       "  </tbody>\n",
       "</table>\n",
       "<p>100000 rows × 6 columns</p>\n",
       "</div>"
      ],
      "text/plain": [
       "             Date      Time                          OfficeID Origin  \\\n",
       "0      2013-01-01  20:25:57  624d8c3ac0b3a7ca03e3c167e0f48327    TXL   \n",
       "1      2013-01-01  10:15:33  b0af35b31588dc4ab06d5cf2986e8e02    ATH   \n",
       "2      2013-01-01  18:04:49  3561a60621de06ab1badc8ca55699ef3    ICT   \n",
       "3      2013-01-01  17:42:40  1864e5e8013d9414150e91d26b6a558b    RNB   \n",
       "4      2013-01-01  17:48:29  1ec336348f44207d2e0027dc3a68c118    OSL   \n",
       "...           ...       ...                               ...    ...   \n",
       "99995  2013-04-10  12:51:24  533d88ecea8b7fb3425bdf1246cb3763    DEL   \n",
       "99996  2013-04-10  11:18:09  19901d49edef6724c65e38ee8d5957b7    BUF   \n",
       "99997  2013-04-10  20:40:47  8b4fa4e121637f583bfa86ef0fa26c9e    JFK   \n",
       "99998  2013-04-10  05:39:16  8b4fa4e121637f583bfa86ef0fa26c9e    STL   \n",
       "99999  2013-04-10  12:26:15  9aa037e8d4135205e54688c113ed7e80    MUC   \n",
       "\n",
       "      Destination                        TerminalID  \n",
       "0             AUH  d41d8cd98f00b204e9800998ecf8427e  \n",
       "1             MIL  d41d8cd98f00b204e9800998ecf8427e  \n",
       "2             SFO  d41d8cd98f00b204e9800998ecf8427e  \n",
       "3             ARN  d41d8cd98f00b204e9800998ecf8427e  \n",
       "4             MAD  d41d8cd98f00b204e9800998ecf8427e  \n",
       "...           ...                               ...  \n",
       "99995         TRV  d41d8cd98f00b204e9800998ecf8427e  \n",
       "99996         AUA  d41d8cd98f00b204e9800998ecf8427e  \n",
       "99997         KUL  d41d8cd98f00b204e9800998ecf8427e  \n",
       "99998         SEA  d41d8cd98f00b204e9800998ecf8427e  \n",
       "99999         HAM  d41d8cd98f00b204e9800998ecf8427e  \n",
       "\n",
       "[100000 rows x 6 columns]"
      ]
     },
     "execution_count": 100,
     "metadata": {},
     "output_type": "execute_result"
    }
   ],
   "source": [
    "df_s"
   ]
  },
  {
   "cell_type": "code",
   "execution_count": 101,
   "metadata": {
    "scrolled": true
   },
   "outputs": [
    {
     "data": {
      "text/html": [
       "<div>\n",
       "<style scoped>\n",
       "    .dataframe tbody tr th:only-of-type {\n",
       "        vertical-align: middle;\n",
       "    }\n",
       "\n",
       "    .dataframe tbody tr th {\n",
       "        vertical-align: top;\n",
       "    }\n",
       "\n",
       "    .dataframe thead th {\n",
       "        text-align: right;\n",
       "    }\n",
       "</style>\n",
       "<table border=\"1\" class=\"dataframe\">\n",
       "  <thead>\n",
       "    <tr style=\"text-align: right;\">\n",
       "      <th></th>\n",
       "      <th>Date</th>\n",
       "      <th>Time</th>\n",
       "      <th>OfficeID</th>\n",
       "      <th>Origin</th>\n",
       "      <th>Destination</th>\n",
       "      <th>TerminalID</th>\n",
       "      <th>itinerary</th>\n",
       "      <th>key</th>\n",
       "    </tr>\n",
       "  </thead>\n",
       "  <tbody>\n",
       "    <tr>\n",
       "      <th>0</th>\n",
       "      <td>2013-01-01</td>\n",
       "      <td>20:25:57</td>\n",
       "      <td>624d8c3ac0b3a7ca03e3c167e0f48327</td>\n",
       "      <td>TXL</td>\n",
       "      <td>AUH</td>\n",
       "      <td>d41d8cd98f00b204e9800998ecf8427e</td>\n",
       "      <td>TXL-AUH</td>\n",
       "      <td>TXL-AUH-624d8c3ac0b3a7ca03e3c167e0f48327</td>\n",
       "    </tr>\n",
       "    <tr>\n",
       "      <th>1</th>\n",
       "      <td>2013-01-01</td>\n",
       "      <td>10:15:33</td>\n",
       "      <td>b0af35b31588dc4ab06d5cf2986e8e02</td>\n",
       "      <td>ATH</td>\n",
       "      <td>MIL</td>\n",
       "      <td>d41d8cd98f00b204e9800998ecf8427e</td>\n",
       "      <td>ATH-MIL</td>\n",
       "      <td>ATH-MIL-b0af35b31588dc4ab06d5cf2986e8e02</td>\n",
       "    </tr>\n",
       "    <tr>\n",
       "      <th>2</th>\n",
       "      <td>2013-01-01</td>\n",
       "      <td>18:04:49</td>\n",
       "      <td>3561a60621de06ab1badc8ca55699ef3</td>\n",
       "      <td>ICT</td>\n",
       "      <td>SFO</td>\n",
       "      <td>d41d8cd98f00b204e9800998ecf8427e</td>\n",
       "      <td>ICT-SFO</td>\n",
       "      <td>ICT-SFO-3561a60621de06ab1badc8ca55699ef3</td>\n",
       "    </tr>\n",
       "    <tr>\n",
       "      <th>3</th>\n",
       "      <td>2013-01-01</td>\n",
       "      <td>17:42:40</td>\n",
       "      <td>1864e5e8013d9414150e91d26b6a558b</td>\n",
       "      <td>RNB</td>\n",
       "      <td>ARN</td>\n",
       "      <td>d41d8cd98f00b204e9800998ecf8427e</td>\n",
       "      <td>RNB-ARN</td>\n",
       "      <td>RNB-ARN-1864e5e8013d9414150e91d26b6a558b</td>\n",
       "    </tr>\n",
       "    <tr>\n",
       "      <th>4</th>\n",
       "      <td>2013-01-01</td>\n",
       "      <td>17:48:29</td>\n",
       "      <td>1ec336348f44207d2e0027dc3a68c118</td>\n",
       "      <td>OSL</td>\n",
       "      <td>MAD</td>\n",
       "      <td>d41d8cd98f00b204e9800998ecf8427e</td>\n",
       "      <td>OSL-MAD</td>\n",
       "      <td>OSL-MAD-1ec336348f44207d2e0027dc3a68c118</td>\n",
       "    </tr>\n",
       "    <tr>\n",
       "      <th>...</th>\n",
       "      <td>...</td>\n",
       "      <td>...</td>\n",
       "      <td>...</td>\n",
       "      <td>...</td>\n",
       "      <td>...</td>\n",
       "      <td>...</td>\n",
       "      <td>...</td>\n",
       "      <td>...</td>\n",
       "    </tr>\n",
       "    <tr>\n",
       "      <th>99995</th>\n",
       "      <td>2013-04-10</td>\n",
       "      <td>12:51:24</td>\n",
       "      <td>533d88ecea8b7fb3425bdf1246cb3763</td>\n",
       "      <td>DEL</td>\n",
       "      <td>TRV</td>\n",
       "      <td>d41d8cd98f00b204e9800998ecf8427e</td>\n",
       "      <td>DEL-TRV</td>\n",
       "      <td>DEL-TRV-533d88ecea8b7fb3425bdf1246cb3763</td>\n",
       "    </tr>\n",
       "    <tr>\n",
       "      <th>99996</th>\n",
       "      <td>2013-04-10</td>\n",
       "      <td>11:18:09</td>\n",
       "      <td>19901d49edef6724c65e38ee8d5957b7</td>\n",
       "      <td>BUF</td>\n",
       "      <td>AUA</td>\n",
       "      <td>d41d8cd98f00b204e9800998ecf8427e</td>\n",
       "      <td>BUF-AUA</td>\n",
       "      <td>BUF-AUA-19901d49edef6724c65e38ee8d5957b7</td>\n",
       "    </tr>\n",
       "    <tr>\n",
       "      <th>99997</th>\n",
       "      <td>2013-04-10</td>\n",
       "      <td>20:40:47</td>\n",
       "      <td>8b4fa4e121637f583bfa86ef0fa26c9e</td>\n",
       "      <td>JFK</td>\n",
       "      <td>KUL</td>\n",
       "      <td>d41d8cd98f00b204e9800998ecf8427e</td>\n",
       "      <td>JFK-KUL</td>\n",
       "      <td>JFK-KUL-8b4fa4e121637f583bfa86ef0fa26c9e</td>\n",
       "    </tr>\n",
       "    <tr>\n",
       "      <th>99998</th>\n",
       "      <td>2013-04-10</td>\n",
       "      <td>05:39:16</td>\n",
       "      <td>8b4fa4e121637f583bfa86ef0fa26c9e</td>\n",
       "      <td>STL</td>\n",
       "      <td>SEA</td>\n",
       "      <td>d41d8cd98f00b204e9800998ecf8427e</td>\n",
       "      <td>STL-SEA</td>\n",
       "      <td>STL-SEA-8b4fa4e121637f583bfa86ef0fa26c9e</td>\n",
       "    </tr>\n",
       "    <tr>\n",
       "      <th>99999</th>\n",
       "      <td>2013-04-10</td>\n",
       "      <td>12:26:15</td>\n",
       "      <td>9aa037e8d4135205e54688c113ed7e80</td>\n",
       "      <td>MUC</td>\n",
       "      <td>HAM</td>\n",
       "      <td>d41d8cd98f00b204e9800998ecf8427e</td>\n",
       "      <td>MUC-HAM</td>\n",
       "      <td>MUC-HAM-9aa037e8d4135205e54688c113ed7e80</td>\n",
       "    </tr>\n",
       "  </tbody>\n",
       "</table>\n",
       "<p>100000 rows × 8 columns</p>\n",
       "</div>"
      ],
      "text/plain": [
       "             Date      Time                          OfficeID Origin  \\\n",
       "0      2013-01-01  20:25:57  624d8c3ac0b3a7ca03e3c167e0f48327    TXL   \n",
       "1      2013-01-01  10:15:33  b0af35b31588dc4ab06d5cf2986e8e02    ATH   \n",
       "2      2013-01-01  18:04:49  3561a60621de06ab1badc8ca55699ef3    ICT   \n",
       "3      2013-01-01  17:42:40  1864e5e8013d9414150e91d26b6a558b    RNB   \n",
       "4      2013-01-01  17:48:29  1ec336348f44207d2e0027dc3a68c118    OSL   \n",
       "...           ...       ...                               ...    ...   \n",
       "99995  2013-04-10  12:51:24  533d88ecea8b7fb3425bdf1246cb3763    DEL   \n",
       "99996  2013-04-10  11:18:09  19901d49edef6724c65e38ee8d5957b7    BUF   \n",
       "99997  2013-04-10  20:40:47  8b4fa4e121637f583bfa86ef0fa26c9e    JFK   \n",
       "99998  2013-04-10  05:39:16  8b4fa4e121637f583bfa86ef0fa26c9e    STL   \n",
       "99999  2013-04-10  12:26:15  9aa037e8d4135205e54688c113ed7e80    MUC   \n",
       "\n",
       "      Destination                        TerminalID itinerary  \\\n",
       "0             AUH  d41d8cd98f00b204e9800998ecf8427e   TXL-AUH   \n",
       "1             MIL  d41d8cd98f00b204e9800998ecf8427e   ATH-MIL   \n",
       "2             SFO  d41d8cd98f00b204e9800998ecf8427e   ICT-SFO   \n",
       "3             ARN  d41d8cd98f00b204e9800998ecf8427e   RNB-ARN   \n",
       "4             MAD  d41d8cd98f00b204e9800998ecf8427e   OSL-MAD   \n",
       "...           ...                               ...       ...   \n",
       "99995         TRV  d41d8cd98f00b204e9800998ecf8427e   DEL-TRV   \n",
       "99996         AUA  d41d8cd98f00b204e9800998ecf8427e   BUF-AUA   \n",
       "99997         KUL  d41d8cd98f00b204e9800998ecf8427e   JFK-KUL   \n",
       "99998         SEA  d41d8cd98f00b204e9800998ecf8427e   STL-SEA   \n",
       "99999         HAM  d41d8cd98f00b204e9800998ecf8427e   MUC-HAM   \n",
       "\n",
       "                                            key  \n",
       "0      TXL-AUH-624d8c3ac0b3a7ca03e3c167e0f48327  \n",
       "1      ATH-MIL-b0af35b31588dc4ab06d5cf2986e8e02  \n",
       "2      ICT-SFO-3561a60621de06ab1badc8ca55699ef3  \n",
       "3      RNB-ARN-1864e5e8013d9414150e91d26b6a558b  \n",
       "4      OSL-MAD-1ec336348f44207d2e0027dc3a68c118  \n",
       "...                                         ...  \n",
       "99995  DEL-TRV-533d88ecea8b7fb3425bdf1246cb3763  \n",
       "99996  BUF-AUA-19901d49edef6724c65e38ee8d5957b7  \n",
       "99997  JFK-KUL-8b4fa4e121637f583bfa86ef0fa26c9e  \n",
       "99998  STL-SEA-8b4fa4e121637f583bfa86ef0fa26c9e  \n",
       "99999  MUC-HAM-9aa037e8d4135205e54688c113ed7e80  \n",
       "\n",
       "[100000 rows x 8 columns]"
      ]
     },
     "execution_count": 101,
     "metadata": {},
     "output_type": "execute_result"
    }
   ],
   "source": [
    "df_s['itinerary'] = df_s['Origin'].str[:] + \"-\" + df_s['Destination'].str[:]\n",
    "df_s['key'] = df_s['itinerary'].str[:] + \"-\" + df_s['OfficeID'].str[:]\n",
    "df_s"
   ]
  },
  {
   "cell_type": "code",
   "execution_count": 102,
   "metadata": {
    "scrolled": false
   },
   "outputs": [
    {
     "data": {
      "text/plain": [
       "Date           object\n",
       "Time           object\n",
       "OfficeID       object\n",
       "Origin         object\n",
       "Destination    object\n",
       "TerminalID     object\n",
       "itinerary      object\n",
       "key            object\n",
       "dtype: object"
      ]
     },
     "execution_count": 102,
     "metadata": {},
     "output_type": "execute_result"
    }
   ],
   "source": [
    "df_s.dtypes"
   ]
  },
  {
   "cell_type": "code",
   "execution_count": 103,
   "metadata": {
    "scrolled": true
   },
   "outputs": [
    {
     "data": {
      "text/html": [
       "<div>\n",
       "<style scoped>\n",
       "    .dataframe tbody tr th:only-of-type {\n",
       "        vertical-align: middle;\n",
       "    }\n",
       "\n",
       "    .dataframe tbody tr th {\n",
       "        vertical-align: top;\n",
       "    }\n",
       "\n",
       "    .dataframe thead th {\n",
       "        text-align: right;\n",
       "    }\n",
       "</style>\n",
       "<table border=\"1\" class=\"dataframe\">\n",
       "  <thead>\n",
       "    <tr style=\"text-align: right;\">\n",
       "      <th></th>\n",
       "      <th>act_date</th>\n",
       "      <th>pos_iata</th>\n",
       "      <th>pos_oid</th>\n",
       "      <th>rloc</th>\n",
       "      <th>dep_port</th>\n",
       "      <th>arr_port</th>\n",
       "      <th>pax</th>\n",
       "    </tr>\n",
       "  </thead>\n",
       "  <tbody>\n",
       "    <tr>\n",
       "      <th>0</th>\n",
       "      <td>2013-03-05 00:00:00</td>\n",
       "      <td>a68dd7ae953c8acfb187a1af2dcbe123</td>\n",
       "      <td>1a11ae49fcbf545fd2afc1a24d88d2b7</td>\n",
       "      <td>ea65900e72d71f4626378e2ebd298267</td>\n",
       "      <td>ZRH</td>\n",
       "      <td>LHR</td>\n",
       "      <td>-1</td>\n",
       "    </tr>\n",
       "    <tr>\n",
       "      <th>1</th>\n",
       "      <td>2013-03-26 00:00:00</td>\n",
       "      <td>e612b9eeeee6f17f42d9b0d3b79e75ca</td>\n",
       "      <td>7437560d8f276d6d05eeb806d9e7edee</td>\n",
       "      <td>737295a86982c941f1c2da9a46a14043</td>\n",
       "      <td>SAL</td>\n",
       "      <td>CLT</td>\n",
       "      <td>1</td>\n",
       "    </tr>\n",
       "    <tr>\n",
       "      <th>2</th>\n",
       "      <td>2013-03-26 00:00:00</td>\n",
       "      <td>e612b9eeeee6f17f42d9b0d3b79e75ca</td>\n",
       "      <td>7437560d8f276d6d05eeb806d9e7edee</td>\n",
       "      <td>737295a86982c941f1c2da9a46a14043</td>\n",
       "      <td>SAL</td>\n",
       "      <td>CLT</td>\n",
       "      <td>1</td>\n",
       "    </tr>\n",
       "    <tr>\n",
       "      <th>3</th>\n",
       "      <td>2013-03-26 00:00:00</td>\n",
       "      <td>0f984b3bb6bd06661c95529bbd6193bc</td>\n",
       "      <td>36472c6dbaf7afec9136ac40364e2794</td>\n",
       "      <td>5ecf00fdcbcec761c43dc7285253d0c1</td>\n",
       "      <td>AKL</td>\n",
       "      <td>SVO</td>\n",
       "      <td>1</td>\n",
       "    </tr>\n",
       "    <tr>\n",
       "      <th>4</th>\n",
       "      <td>2013-03-26 00:00:00</td>\n",
       "      <td>0f984b3bb6bd06661c95529bbd6193bc</td>\n",
       "      <td>36472c6dbaf7afec9136ac40364e2794</td>\n",
       "      <td>5ecf00fdcbcec761c43dc7285253d0c1</td>\n",
       "      <td>AKL</td>\n",
       "      <td>SVO</td>\n",
       "      <td>1</td>\n",
       "    </tr>\n",
       "    <tr>\n",
       "      <th>...</th>\n",
       "      <td>...</td>\n",
       "      <td>...</td>\n",
       "      <td>...</td>\n",
       "      <td>...</td>\n",
       "      <td>...</td>\n",
       "      <td>...</td>\n",
       "      <td>...</td>\n",
       "    </tr>\n",
       "    <tr>\n",
       "      <th>99995</th>\n",
       "      <td>2013-03-03 00:00:00</td>\n",
       "      <td>a17ff438d62736177e21cee453a8902c</td>\n",
       "      <td>f0181fdb07090669940ab0b77092dea7</td>\n",
       "      <td>c534700c8c6578655ea00d7d9056cde0</td>\n",
       "      <td>DEL</td>\n",
       "      <td>IXL</td>\n",
       "      <td>2</td>\n",
       "    </tr>\n",
       "    <tr>\n",
       "      <th>99996</th>\n",
       "      <td>2013-03-05 00:00:00</td>\n",
       "      <td>a17ff438d62736177e21cee453a8902c</td>\n",
       "      <td>f0181fdb07090669940ab0b77092dea7</td>\n",
       "      <td>c534700c8c6578655ea00d7d9056cde0</td>\n",
       "      <td>DEL</td>\n",
       "      <td>IXL</td>\n",
       "      <td>-2</td>\n",
       "    </tr>\n",
       "    <tr>\n",
       "      <th>99997</th>\n",
       "      <td>2013-03-05 00:00:00</td>\n",
       "      <td>a17ff438d62736177e21cee453a8902c</td>\n",
       "      <td>f0181fdb07090669940ab0b77092dea7</td>\n",
       "      <td>c534700c8c6578655ea00d7d9056cde0</td>\n",
       "      <td>DEL</td>\n",
       "      <td>IXL</td>\n",
       "      <td>-2</td>\n",
       "    </tr>\n",
       "    <tr>\n",
       "      <th>99998</th>\n",
       "      <td>2013-03-20 00:00:00</td>\n",
       "      <td>355368d5d743bd879313059478579059</td>\n",
       "      <td>a6dc7522954b518c8530ee2058ac946a</td>\n",
       "      <td>34ce3041cf21fe149b175c82dc991183</td>\n",
       "      <td>HLA</td>\n",
       "      <td>CPT</td>\n",
       "      <td>2</td>\n",
       "    </tr>\n",
       "    <tr>\n",
       "      <th>99999</th>\n",
       "      <td>2013-03-20 00:00:00</td>\n",
       "      <td>355368d5d743bd879313059478579059</td>\n",
       "      <td>a6dc7522954b518c8530ee2058ac946a</td>\n",
       "      <td>34ce3041cf21fe149b175c82dc991183</td>\n",
       "      <td>HLA</td>\n",
       "      <td>CPT</td>\n",
       "      <td>2</td>\n",
       "    </tr>\n",
       "  </tbody>\n",
       "</table>\n",
       "<p>100000 rows × 7 columns</p>\n",
       "</div>"
      ],
      "text/plain": [
       "                  act_date                          pos_iata  \\\n",
       "0      2013-03-05 00:00:00  a68dd7ae953c8acfb187a1af2dcbe123   \n",
       "1      2013-03-26 00:00:00  e612b9eeeee6f17f42d9b0d3b79e75ca   \n",
       "2      2013-03-26 00:00:00  e612b9eeeee6f17f42d9b0d3b79e75ca   \n",
       "3      2013-03-26 00:00:00  0f984b3bb6bd06661c95529bbd6193bc   \n",
       "4      2013-03-26 00:00:00  0f984b3bb6bd06661c95529bbd6193bc   \n",
       "...                    ...                               ...   \n",
       "99995  2013-03-03 00:00:00  a17ff438d62736177e21cee453a8902c   \n",
       "99996  2013-03-05 00:00:00  a17ff438d62736177e21cee453a8902c   \n",
       "99997  2013-03-05 00:00:00  a17ff438d62736177e21cee453a8902c   \n",
       "99998  2013-03-20 00:00:00  355368d5d743bd879313059478579059   \n",
       "99999  2013-03-20 00:00:00  355368d5d743bd879313059478579059   \n",
       "\n",
       "                                pos_oid                              rloc  \\\n",
       "0      1a11ae49fcbf545fd2afc1a24d88d2b7  ea65900e72d71f4626378e2ebd298267   \n",
       "1      7437560d8f276d6d05eeb806d9e7edee  737295a86982c941f1c2da9a46a14043   \n",
       "2      7437560d8f276d6d05eeb806d9e7edee  737295a86982c941f1c2da9a46a14043   \n",
       "3      36472c6dbaf7afec9136ac40364e2794  5ecf00fdcbcec761c43dc7285253d0c1   \n",
       "4      36472c6dbaf7afec9136ac40364e2794  5ecf00fdcbcec761c43dc7285253d0c1   \n",
       "...                                 ...                               ...   \n",
       "99995  f0181fdb07090669940ab0b77092dea7  c534700c8c6578655ea00d7d9056cde0   \n",
       "99996  f0181fdb07090669940ab0b77092dea7  c534700c8c6578655ea00d7d9056cde0   \n",
       "99997  f0181fdb07090669940ab0b77092dea7  c534700c8c6578655ea00d7d9056cde0   \n",
       "99998  a6dc7522954b518c8530ee2058ac946a  34ce3041cf21fe149b175c82dc991183   \n",
       "99999  a6dc7522954b518c8530ee2058ac946a  34ce3041cf21fe149b175c82dc991183   \n",
       "\n",
       "      dep_port arr_port  pax  \n",
       "0          ZRH      LHR   -1  \n",
       "1          SAL      CLT    1  \n",
       "2          SAL      CLT    1  \n",
       "3          AKL      SVO    1  \n",
       "4          AKL      SVO    1  \n",
       "...        ...      ...  ...  \n",
       "99995      DEL      IXL    2  \n",
       "99996      DEL      IXL   -2  \n",
       "99997      DEL      IXL   -2  \n",
       "99998      HLA      CPT    2  \n",
       "99999      HLA      CPT    2  \n",
       "\n",
       "[100000 rows x 7 columns]"
      ]
     },
     "execution_count": 103,
     "metadata": {},
     "output_type": "execute_result"
    }
   ],
   "source": [
    "df_b"
   ]
  },
  {
   "cell_type": "code",
   "execution_count": 104,
   "metadata": {
    "scrolled": true
   },
   "outputs": [
    {
     "data": {
      "text/html": [
       "<div>\n",
       "<style scoped>\n",
       "    .dataframe tbody tr th:only-of-type {\n",
       "        vertical-align: middle;\n",
       "    }\n",
       "\n",
       "    .dataframe tbody tr th {\n",
       "        vertical-align: top;\n",
       "    }\n",
       "\n",
       "    .dataframe thead th {\n",
       "        text-align: right;\n",
       "    }\n",
       "</style>\n",
       "<table border=\"1\" class=\"dataframe\">\n",
       "  <thead>\n",
       "    <tr style=\"text-align: right;\">\n",
       "      <th></th>\n",
       "      <th>act_date</th>\n",
       "      <th>pos_iata</th>\n",
       "      <th>pos_oid</th>\n",
       "      <th>rloc</th>\n",
       "      <th>dep_port</th>\n",
       "      <th>arr_port</th>\n",
       "      <th>pax</th>\n",
       "      <th>Date</th>\n",
       "      <th>Time</th>\n",
       "      <th>itinerary</th>\n",
       "      <th>key</th>\n",
       "    </tr>\n",
       "  </thead>\n",
       "  <tbody>\n",
       "    <tr>\n",
       "      <th>0</th>\n",
       "      <td>2013-03-05 00:00:00</td>\n",
       "      <td>a68dd7ae953c8acfb187a1af2dcbe123</td>\n",
       "      <td>1a11ae49fcbf545fd2afc1a24d88d2b7</td>\n",
       "      <td>ea65900e72d71f4626378e2ebd298267</td>\n",
       "      <td>ZRH</td>\n",
       "      <td>LHR</td>\n",
       "      <td>-1</td>\n",
       "      <td>2013-03-05</td>\n",
       "      <td>00:00:00</td>\n",
       "      <td>ZRH-LHR</td>\n",
       "      <td>ZRH-LHR-1a11ae49fcbf545fd2afc1a24d88d2b7</td>\n",
       "    </tr>\n",
       "    <tr>\n",
       "      <th>1</th>\n",
       "      <td>2013-03-26 00:00:00</td>\n",
       "      <td>e612b9eeeee6f17f42d9b0d3b79e75ca</td>\n",
       "      <td>7437560d8f276d6d05eeb806d9e7edee</td>\n",
       "      <td>737295a86982c941f1c2da9a46a14043</td>\n",
       "      <td>SAL</td>\n",
       "      <td>CLT</td>\n",
       "      <td>1</td>\n",
       "      <td>2013-03-26</td>\n",
       "      <td>00:00:00</td>\n",
       "      <td>SAL-CLT</td>\n",
       "      <td>SAL-CLT-7437560d8f276d6d05eeb806d9e7edee</td>\n",
       "    </tr>\n",
       "    <tr>\n",
       "      <th>2</th>\n",
       "      <td>2013-03-26 00:00:00</td>\n",
       "      <td>e612b9eeeee6f17f42d9b0d3b79e75ca</td>\n",
       "      <td>7437560d8f276d6d05eeb806d9e7edee</td>\n",
       "      <td>737295a86982c941f1c2da9a46a14043</td>\n",
       "      <td>SAL</td>\n",
       "      <td>CLT</td>\n",
       "      <td>1</td>\n",
       "      <td>2013-03-26</td>\n",
       "      <td>00:00:00</td>\n",
       "      <td>SAL-CLT</td>\n",
       "      <td>SAL-CLT-7437560d8f276d6d05eeb806d9e7edee</td>\n",
       "    </tr>\n",
       "    <tr>\n",
       "      <th>3</th>\n",
       "      <td>2013-03-26 00:00:00</td>\n",
       "      <td>0f984b3bb6bd06661c95529bbd6193bc</td>\n",
       "      <td>36472c6dbaf7afec9136ac40364e2794</td>\n",
       "      <td>5ecf00fdcbcec761c43dc7285253d0c1</td>\n",
       "      <td>AKL</td>\n",
       "      <td>SVO</td>\n",
       "      <td>1</td>\n",
       "      <td>2013-03-26</td>\n",
       "      <td>00:00:00</td>\n",
       "      <td>AKL-SVO</td>\n",
       "      <td>AKL-SVO-36472c6dbaf7afec9136ac40364e2794</td>\n",
       "    </tr>\n",
       "    <tr>\n",
       "      <th>4</th>\n",
       "      <td>2013-03-26 00:00:00</td>\n",
       "      <td>0f984b3bb6bd06661c95529bbd6193bc</td>\n",
       "      <td>36472c6dbaf7afec9136ac40364e2794</td>\n",
       "      <td>5ecf00fdcbcec761c43dc7285253d0c1</td>\n",
       "      <td>AKL</td>\n",
       "      <td>SVO</td>\n",
       "      <td>1</td>\n",
       "      <td>2013-03-26</td>\n",
       "      <td>00:00:00</td>\n",
       "      <td>AKL-SVO</td>\n",
       "      <td>AKL-SVO-36472c6dbaf7afec9136ac40364e2794</td>\n",
       "    </tr>\n",
       "    <tr>\n",
       "      <th>...</th>\n",
       "      <td>...</td>\n",
       "      <td>...</td>\n",
       "      <td>...</td>\n",
       "      <td>...</td>\n",
       "      <td>...</td>\n",
       "      <td>...</td>\n",
       "      <td>...</td>\n",
       "      <td>...</td>\n",
       "      <td>...</td>\n",
       "      <td>...</td>\n",
       "      <td>...</td>\n",
       "    </tr>\n",
       "    <tr>\n",
       "      <th>99995</th>\n",
       "      <td>2013-03-03 00:00:00</td>\n",
       "      <td>a17ff438d62736177e21cee453a8902c</td>\n",
       "      <td>f0181fdb07090669940ab0b77092dea7</td>\n",
       "      <td>c534700c8c6578655ea00d7d9056cde0</td>\n",
       "      <td>DEL</td>\n",
       "      <td>IXL</td>\n",
       "      <td>2</td>\n",
       "      <td>2013-03-03</td>\n",
       "      <td>00:00:00</td>\n",
       "      <td>DEL-IXL</td>\n",
       "      <td>DEL-IXL-f0181fdb07090669940ab0b77092dea7</td>\n",
       "    </tr>\n",
       "    <tr>\n",
       "      <th>99996</th>\n",
       "      <td>2013-03-05 00:00:00</td>\n",
       "      <td>a17ff438d62736177e21cee453a8902c</td>\n",
       "      <td>f0181fdb07090669940ab0b77092dea7</td>\n",
       "      <td>c534700c8c6578655ea00d7d9056cde0</td>\n",
       "      <td>DEL</td>\n",
       "      <td>IXL</td>\n",
       "      <td>-2</td>\n",
       "      <td>2013-03-05</td>\n",
       "      <td>00:00:00</td>\n",
       "      <td>DEL-IXL</td>\n",
       "      <td>DEL-IXL-f0181fdb07090669940ab0b77092dea7</td>\n",
       "    </tr>\n",
       "    <tr>\n",
       "      <th>99997</th>\n",
       "      <td>2013-03-05 00:00:00</td>\n",
       "      <td>a17ff438d62736177e21cee453a8902c</td>\n",
       "      <td>f0181fdb07090669940ab0b77092dea7</td>\n",
       "      <td>c534700c8c6578655ea00d7d9056cde0</td>\n",
       "      <td>DEL</td>\n",
       "      <td>IXL</td>\n",
       "      <td>-2</td>\n",
       "      <td>2013-03-05</td>\n",
       "      <td>00:00:00</td>\n",
       "      <td>DEL-IXL</td>\n",
       "      <td>DEL-IXL-f0181fdb07090669940ab0b77092dea7</td>\n",
       "    </tr>\n",
       "    <tr>\n",
       "      <th>99998</th>\n",
       "      <td>2013-03-20 00:00:00</td>\n",
       "      <td>355368d5d743bd879313059478579059</td>\n",
       "      <td>a6dc7522954b518c8530ee2058ac946a</td>\n",
       "      <td>34ce3041cf21fe149b175c82dc991183</td>\n",
       "      <td>HLA</td>\n",
       "      <td>CPT</td>\n",
       "      <td>2</td>\n",
       "      <td>2013-03-20</td>\n",
       "      <td>00:00:00</td>\n",
       "      <td>HLA-CPT</td>\n",
       "      <td>HLA-CPT-a6dc7522954b518c8530ee2058ac946a</td>\n",
       "    </tr>\n",
       "    <tr>\n",
       "      <th>99999</th>\n",
       "      <td>2013-03-20 00:00:00</td>\n",
       "      <td>355368d5d743bd879313059478579059</td>\n",
       "      <td>a6dc7522954b518c8530ee2058ac946a</td>\n",
       "      <td>34ce3041cf21fe149b175c82dc991183</td>\n",
       "      <td>HLA</td>\n",
       "      <td>CPT</td>\n",
       "      <td>2</td>\n",
       "      <td>2013-03-20</td>\n",
       "      <td>00:00:00</td>\n",
       "      <td>HLA-CPT</td>\n",
       "      <td>HLA-CPT-a6dc7522954b518c8530ee2058ac946a</td>\n",
       "    </tr>\n",
       "  </tbody>\n",
       "</table>\n",
       "<p>100000 rows × 11 columns</p>\n",
       "</div>"
      ],
      "text/plain": [
       "                  act_date                          pos_iata  \\\n",
       "0      2013-03-05 00:00:00  a68dd7ae953c8acfb187a1af2dcbe123   \n",
       "1      2013-03-26 00:00:00  e612b9eeeee6f17f42d9b0d3b79e75ca   \n",
       "2      2013-03-26 00:00:00  e612b9eeeee6f17f42d9b0d3b79e75ca   \n",
       "3      2013-03-26 00:00:00  0f984b3bb6bd06661c95529bbd6193bc   \n",
       "4      2013-03-26 00:00:00  0f984b3bb6bd06661c95529bbd6193bc   \n",
       "...                    ...                               ...   \n",
       "99995  2013-03-03 00:00:00  a17ff438d62736177e21cee453a8902c   \n",
       "99996  2013-03-05 00:00:00  a17ff438d62736177e21cee453a8902c   \n",
       "99997  2013-03-05 00:00:00  a17ff438d62736177e21cee453a8902c   \n",
       "99998  2013-03-20 00:00:00  355368d5d743bd879313059478579059   \n",
       "99999  2013-03-20 00:00:00  355368d5d743bd879313059478579059   \n",
       "\n",
       "                                pos_oid                              rloc  \\\n",
       "0      1a11ae49fcbf545fd2afc1a24d88d2b7  ea65900e72d71f4626378e2ebd298267   \n",
       "1      7437560d8f276d6d05eeb806d9e7edee  737295a86982c941f1c2da9a46a14043   \n",
       "2      7437560d8f276d6d05eeb806d9e7edee  737295a86982c941f1c2da9a46a14043   \n",
       "3      36472c6dbaf7afec9136ac40364e2794  5ecf00fdcbcec761c43dc7285253d0c1   \n",
       "4      36472c6dbaf7afec9136ac40364e2794  5ecf00fdcbcec761c43dc7285253d0c1   \n",
       "...                                 ...                               ...   \n",
       "99995  f0181fdb07090669940ab0b77092dea7  c534700c8c6578655ea00d7d9056cde0   \n",
       "99996  f0181fdb07090669940ab0b77092dea7  c534700c8c6578655ea00d7d9056cde0   \n",
       "99997  f0181fdb07090669940ab0b77092dea7  c534700c8c6578655ea00d7d9056cde0   \n",
       "99998  a6dc7522954b518c8530ee2058ac946a  34ce3041cf21fe149b175c82dc991183   \n",
       "99999  a6dc7522954b518c8530ee2058ac946a  34ce3041cf21fe149b175c82dc991183   \n",
       "\n",
       "      dep_port arr_port  pax         Date      Time itinerary  \\\n",
       "0          ZRH      LHR   -1  2013-03-05   00:00:00   ZRH-LHR   \n",
       "1          SAL      CLT    1  2013-03-26   00:00:00   SAL-CLT   \n",
       "2          SAL      CLT    1  2013-03-26   00:00:00   SAL-CLT   \n",
       "3          AKL      SVO    1  2013-03-26   00:00:00   AKL-SVO   \n",
       "4          AKL      SVO    1  2013-03-26   00:00:00   AKL-SVO   \n",
       "...        ...      ...  ...          ...       ...       ...   \n",
       "99995      DEL      IXL    2  2013-03-03   00:00:00   DEL-IXL   \n",
       "99996      DEL      IXL   -2  2013-03-05   00:00:00   DEL-IXL   \n",
       "99997      DEL      IXL   -2  2013-03-05   00:00:00   DEL-IXL   \n",
       "99998      HLA      CPT    2  2013-03-20   00:00:00   HLA-CPT   \n",
       "99999      HLA      CPT    2  2013-03-20   00:00:00   HLA-CPT   \n",
       "\n",
       "                                            key  \n",
       "0      ZRH-LHR-1a11ae49fcbf545fd2afc1a24d88d2b7  \n",
       "1      SAL-CLT-7437560d8f276d6d05eeb806d9e7edee  \n",
       "2      SAL-CLT-7437560d8f276d6d05eeb806d9e7edee  \n",
       "3      AKL-SVO-36472c6dbaf7afec9136ac40364e2794  \n",
       "4      AKL-SVO-36472c6dbaf7afec9136ac40364e2794  \n",
       "...                                         ...  \n",
       "99995  DEL-IXL-f0181fdb07090669940ab0b77092dea7  \n",
       "99996  DEL-IXL-f0181fdb07090669940ab0b77092dea7  \n",
       "99997  DEL-IXL-f0181fdb07090669940ab0b77092dea7  \n",
       "99998  HLA-CPT-a6dc7522954b518c8530ee2058ac946a  \n",
       "99999  HLA-CPT-a6dc7522954b518c8530ee2058ac946a  \n",
       "\n",
       "[100000 rows x 11 columns]"
      ]
     },
     "execution_count": 104,
     "metadata": {},
     "output_type": "execute_result"
    }
   ],
   "source": [
    "df_b['Date'] = df_b['act_date'].str[:11]\n",
    "df_b['Time'] = df_b['act_date'].str[11:]\n",
    "df_b['itinerary'] = df_b['dep_port'].str[:] + \"-\" + df_b['arr_port'].str[:]\n",
    "df_b['key'] = df_b['itinerary'].str[:] + \"-\" + df_b['pos_oid'].str[:]\n",
    "df_b"
   ]
  },
  {
   "cell_type": "code",
   "execution_count": 105,
   "metadata": {
    "scrolled": true
   },
   "outputs": [
    {
     "data": {
      "text/plain": [
       "act_date     object\n",
       "pos_iata     object\n",
       "pos_oid      object\n",
       "rloc         object\n",
       "dep_port     object\n",
       "arr_port     object\n",
       "pax           int64\n",
       "Date         object\n",
       "Time         object\n",
       "itinerary    object\n",
       "key          object\n",
       "dtype: object"
      ]
     },
     "execution_count": 105,
     "metadata": {},
     "output_type": "execute_result"
    }
   ],
   "source": [
    "df_b.dtypes"
   ]
  },
  {
   "cell_type": "code",
   "execution_count": 106,
   "metadata": {},
   "outputs": [
    {
     "data": {
      "text/html": [
       "<div>\n",
       "<style scoped>\n",
       "    .dataframe tbody tr th:only-of-type {\n",
       "        vertical-align: middle;\n",
       "    }\n",
       "\n",
       "    .dataframe tbody tr th {\n",
       "        vertical-align: top;\n",
       "    }\n",
       "\n",
       "    .dataframe thead th {\n",
       "        text-align: right;\n",
       "    }\n",
       "</style>\n",
       "<table border=\"1\" class=\"dataframe\">\n",
       "  <thead>\n",
       "    <tr style=\"text-align: right;\">\n",
       "      <th></th>\n",
       "      <th>Date</th>\n",
       "      <th>Time</th>\n",
       "      <th>OfficeID</th>\n",
       "      <th>Origin</th>\n",
       "      <th>Destination</th>\n",
       "      <th>TerminalID</th>\n",
       "      <th>itinerary</th>\n",
       "      <th>key</th>\n",
       "    </tr>\n",
       "  </thead>\n",
       "  <tbody>\n",
       "    <tr>\n",
       "      <th>0</th>\n",
       "      <td>2013-01-01</td>\n",
       "      <td>20:25:57</td>\n",
       "      <td>624d8c3ac0b3a7ca03e3c167e0f48327</td>\n",
       "      <td>TXL</td>\n",
       "      <td>AUH</td>\n",
       "      <td>d41d8cd98f00b204e9800998ecf8427e</td>\n",
       "      <td>TXL-AUH</td>\n",
       "      <td>TXL-AUH-624d8c3ac0b3a7ca03e3c167e0f48327</td>\n",
       "    </tr>\n",
       "    <tr>\n",
       "      <th>1</th>\n",
       "      <td>2013-01-01</td>\n",
       "      <td>10:15:33</td>\n",
       "      <td>b0af35b31588dc4ab06d5cf2986e8e02</td>\n",
       "      <td>ATH</td>\n",
       "      <td>MIL</td>\n",
       "      <td>d41d8cd98f00b204e9800998ecf8427e</td>\n",
       "      <td>ATH-MIL</td>\n",
       "      <td>ATH-MIL-b0af35b31588dc4ab06d5cf2986e8e02</td>\n",
       "    </tr>\n",
       "    <tr>\n",
       "      <th>2</th>\n",
       "      <td>2013-01-01</td>\n",
       "      <td>18:04:49</td>\n",
       "      <td>3561a60621de06ab1badc8ca55699ef3</td>\n",
       "      <td>ICT</td>\n",
       "      <td>SFO</td>\n",
       "      <td>d41d8cd98f00b204e9800998ecf8427e</td>\n",
       "      <td>ICT-SFO</td>\n",
       "      <td>ICT-SFO-3561a60621de06ab1badc8ca55699ef3</td>\n",
       "    </tr>\n",
       "    <tr>\n",
       "      <th>3</th>\n",
       "      <td>2013-01-01</td>\n",
       "      <td>17:42:40</td>\n",
       "      <td>1864e5e8013d9414150e91d26b6a558b</td>\n",
       "      <td>RNB</td>\n",
       "      <td>ARN</td>\n",
       "      <td>d41d8cd98f00b204e9800998ecf8427e</td>\n",
       "      <td>RNB-ARN</td>\n",
       "      <td>RNB-ARN-1864e5e8013d9414150e91d26b6a558b</td>\n",
       "    </tr>\n",
       "    <tr>\n",
       "      <th>4</th>\n",
       "      <td>2013-01-01</td>\n",
       "      <td>17:48:29</td>\n",
       "      <td>1ec336348f44207d2e0027dc3a68c118</td>\n",
       "      <td>OSL</td>\n",
       "      <td>MAD</td>\n",
       "      <td>d41d8cd98f00b204e9800998ecf8427e</td>\n",
       "      <td>OSL-MAD</td>\n",
       "      <td>OSL-MAD-1ec336348f44207d2e0027dc3a68c118</td>\n",
       "    </tr>\n",
       "  </tbody>\n",
       "</table>\n",
       "</div>"
      ],
      "text/plain": [
       "         Date      Time                          OfficeID Origin Destination  \\\n",
       "0  2013-01-01  20:25:57  624d8c3ac0b3a7ca03e3c167e0f48327    TXL         AUH   \n",
       "1  2013-01-01  10:15:33  b0af35b31588dc4ab06d5cf2986e8e02    ATH         MIL   \n",
       "2  2013-01-01  18:04:49  3561a60621de06ab1badc8ca55699ef3    ICT         SFO   \n",
       "3  2013-01-01  17:42:40  1864e5e8013d9414150e91d26b6a558b    RNB         ARN   \n",
       "4  2013-01-01  17:48:29  1ec336348f44207d2e0027dc3a68c118    OSL         MAD   \n",
       "\n",
       "                         TerminalID itinerary  \\\n",
       "0  d41d8cd98f00b204e9800998ecf8427e   TXL-AUH   \n",
       "1  d41d8cd98f00b204e9800998ecf8427e   ATH-MIL   \n",
       "2  d41d8cd98f00b204e9800998ecf8427e   ICT-SFO   \n",
       "3  d41d8cd98f00b204e9800998ecf8427e   RNB-ARN   \n",
       "4  d41d8cd98f00b204e9800998ecf8427e   OSL-MAD   \n",
       "\n",
       "                                        key  \n",
       "0  TXL-AUH-624d8c3ac0b3a7ca03e3c167e0f48327  \n",
       "1  ATH-MIL-b0af35b31588dc4ab06d5cf2986e8e02  \n",
       "2  ICT-SFO-3561a60621de06ab1badc8ca55699ef3  \n",
       "3  RNB-ARN-1864e5e8013d9414150e91d26b6a558b  \n",
       "4  OSL-MAD-1ec336348f44207d2e0027dc3a68c118  "
      ]
     },
     "execution_count": 106,
     "metadata": {},
     "output_type": "execute_result"
    }
   ],
   "source": [
    "df_s.head(5)"
   ]
  },
  {
   "cell_type": "code",
   "execution_count": 107,
   "metadata": {},
   "outputs": [
    {
     "data": {
      "text/html": [
       "<div>\n",
       "<style scoped>\n",
       "    .dataframe tbody tr th:only-of-type {\n",
       "        vertical-align: middle;\n",
       "    }\n",
       "\n",
       "    .dataframe tbody tr th {\n",
       "        vertical-align: top;\n",
       "    }\n",
       "\n",
       "    .dataframe thead th {\n",
       "        text-align: right;\n",
       "    }\n",
       "</style>\n",
       "<table border=\"1\" class=\"dataframe\">\n",
       "  <thead>\n",
       "    <tr style=\"text-align: right;\">\n",
       "      <th></th>\n",
       "      <th>act_date</th>\n",
       "      <th>pos_iata</th>\n",
       "      <th>pos_oid</th>\n",
       "      <th>rloc</th>\n",
       "      <th>dep_port</th>\n",
       "      <th>arr_port</th>\n",
       "      <th>pax</th>\n",
       "      <th>Date</th>\n",
       "      <th>Time</th>\n",
       "      <th>itinerary</th>\n",
       "      <th>key</th>\n",
       "    </tr>\n",
       "  </thead>\n",
       "  <tbody>\n",
       "    <tr>\n",
       "      <th>0</th>\n",
       "      <td>2013-03-05 00:00:00</td>\n",
       "      <td>a68dd7ae953c8acfb187a1af2dcbe123</td>\n",
       "      <td>1a11ae49fcbf545fd2afc1a24d88d2b7</td>\n",
       "      <td>ea65900e72d71f4626378e2ebd298267</td>\n",
       "      <td>ZRH</td>\n",
       "      <td>LHR</td>\n",
       "      <td>-1</td>\n",
       "      <td>2013-03-05</td>\n",
       "      <td>00:00:00</td>\n",
       "      <td>ZRH-LHR</td>\n",
       "      <td>ZRH-LHR-1a11ae49fcbf545fd2afc1a24d88d2b7</td>\n",
       "    </tr>\n",
       "    <tr>\n",
       "      <th>1</th>\n",
       "      <td>2013-03-26 00:00:00</td>\n",
       "      <td>e612b9eeeee6f17f42d9b0d3b79e75ca</td>\n",
       "      <td>7437560d8f276d6d05eeb806d9e7edee</td>\n",
       "      <td>737295a86982c941f1c2da9a46a14043</td>\n",
       "      <td>SAL</td>\n",
       "      <td>CLT</td>\n",
       "      <td>1</td>\n",
       "      <td>2013-03-26</td>\n",
       "      <td>00:00:00</td>\n",
       "      <td>SAL-CLT</td>\n",
       "      <td>SAL-CLT-7437560d8f276d6d05eeb806d9e7edee</td>\n",
       "    </tr>\n",
       "    <tr>\n",
       "      <th>2</th>\n",
       "      <td>2013-03-26 00:00:00</td>\n",
       "      <td>e612b9eeeee6f17f42d9b0d3b79e75ca</td>\n",
       "      <td>7437560d8f276d6d05eeb806d9e7edee</td>\n",
       "      <td>737295a86982c941f1c2da9a46a14043</td>\n",
       "      <td>SAL</td>\n",
       "      <td>CLT</td>\n",
       "      <td>1</td>\n",
       "      <td>2013-03-26</td>\n",
       "      <td>00:00:00</td>\n",
       "      <td>SAL-CLT</td>\n",
       "      <td>SAL-CLT-7437560d8f276d6d05eeb806d9e7edee</td>\n",
       "    </tr>\n",
       "    <tr>\n",
       "      <th>3</th>\n",
       "      <td>2013-03-26 00:00:00</td>\n",
       "      <td>0f984b3bb6bd06661c95529bbd6193bc</td>\n",
       "      <td>36472c6dbaf7afec9136ac40364e2794</td>\n",
       "      <td>5ecf00fdcbcec761c43dc7285253d0c1</td>\n",
       "      <td>AKL</td>\n",
       "      <td>SVO</td>\n",
       "      <td>1</td>\n",
       "      <td>2013-03-26</td>\n",
       "      <td>00:00:00</td>\n",
       "      <td>AKL-SVO</td>\n",
       "      <td>AKL-SVO-36472c6dbaf7afec9136ac40364e2794</td>\n",
       "    </tr>\n",
       "    <tr>\n",
       "      <th>4</th>\n",
       "      <td>2013-03-26 00:00:00</td>\n",
       "      <td>0f984b3bb6bd06661c95529bbd6193bc</td>\n",
       "      <td>36472c6dbaf7afec9136ac40364e2794</td>\n",
       "      <td>5ecf00fdcbcec761c43dc7285253d0c1</td>\n",
       "      <td>AKL</td>\n",
       "      <td>SVO</td>\n",
       "      <td>1</td>\n",
       "      <td>2013-03-26</td>\n",
       "      <td>00:00:00</td>\n",
       "      <td>AKL-SVO</td>\n",
       "      <td>AKL-SVO-36472c6dbaf7afec9136ac40364e2794</td>\n",
       "    </tr>\n",
       "  </tbody>\n",
       "</table>\n",
       "</div>"
      ],
      "text/plain": [
       "              act_date                          pos_iata  \\\n",
       "0  2013-03-05 00:00:00  a68dd7ae953c8acfb187a1af2dcbe123   \n",
       "1  2013-03-26 00:00:00  e612b9eeeee6f17f42d9b0d3b79e75ca   \n",
       "2  2013-03-26 00:00:00  e612b9eeeee6f17f42d9b0d3b79e75ca   \n",
       "3  2013-03-26 00:00:00  0f984b3bb6bd06661c95529bbd6193bc   \n",
       "4  2013-03-26 00:00:00  0f984b3bb6bd06661c95529bbd6193bc   \n",
       "\n",
       "                            pos_oid                              rloc  \\\n",
       "0  1a11ae49fcbf545fd2afc1a24d88d2b7  ea65900e72d71f4626378e2ebd298267   \n",
       "1  7437560d8f276d6d05eeb806d9e7edee  737295a86982c941f1c2da9a46a14043   \n",
       "2  7437560d8f276d6d05eeb806d9e7edee  737295a86982c941f1c2da9a46a14043   \n",
       "3  36472c6dbaf7afec9136ac40364e2794  5ecf00fdcbcec761c43dc7285253d0c1   \n",
       "4  36472c6dbaf7afec9136ac40364e2794  5ecf00fdcbcec761c43dc7285253d0c1   \n",
       "\n",
       "  dep_port arr_port  pax         Date      Time itinerary  \\\n",
       "0      ZRH      LHR   -1  2013-03-05   00:00:00   ZRH-LHR   \n",
       "1      SAL      CLT    1  2013-03-26   00:00:00   SAL-CLT   \n",
       "2      SAL      CLT    1  2013-03-26   00:00:00   SAL-CLT   \n",
       "3      AKL      SVO    1  2013-03-26   00:00:00   AKL-SVO   \n",
       "4      AKL      SVO    1  2013-03-26   00:00:00   AKL-SVO   \n",
       "\n",
       "                                        key  \n",
       "0  ZRH-LHR-1a11ae49fcbf545fd2afc1a24d88d2b7  \n",
       "1  SAL-CLT-7437560d8f276d6d05eeb806d9e7edee  \n",
       "2  SAL-CLT-7437560d8f276d6d05eeb806d9e7edee  \n",
       "3  AKL-SVO-36472c6dbaf7afec9136ac40364e2794  \n",
       "4  AKL-SVO-36472c6dbaf7afec9136ac40364e2794  "
      ]
     },
     "execution_count": 107,
     "metadata": {},
     "output_type": "execute_result"
    }
   ],
   "source": [
    "df_b.head(5)"
   ]
  },
  {
   "cell_type": "markdown",
   "metadata": {},
   "source": [
    "### Empezar a buscar 'keys' para hacer joins con OfficeID/TerminalID vs pos_iata/pos_oid/rloc"
   ]
  },
  {
   "cell_type": "markdown",
   "metadata": {},
   "source": [
    "Resultado de *merges* ***inner*** para 100000 filas de ambos archivos:\n",
    "- OfficeID:\n",
    "    - pos_iata → 0 filas resultantes\n",
    "    - pos_oid → 2165 filas resultantes → **Hacer el merge así !!**\n",
    "    - rloc → 0 filas resultantes\n",
    "- OfficeID:\n",
    "    - pos_iata → 0 filas resultantes\n",
    "    - pos_oid → 0 filas resultantes\n",
    "    - rloc → 0 filas resultantes"
   ]
  },
  {
   "cell_type": "code",
   "execution_count": 108,
   "metadata": {
    "scrolled": true
   },
   "outputs": [
    {
     "name": "stdout",
     "output_type": "stream",
     "text": [
      "2165\n"
     ]
    },
    {
     "data": {
      "text/html": [
       "<div>\n",
       "<style scoped>\n",
       "    .dataframe tbody tr th:only-of-type {\n",
       "        vertical-align: middle;\n",
       "    }\n",
       "\n",
       "    .dataframe tbody tr th {\n",
       "        vertical-align: top;\n",
       "    }\n",
       "\n",
       "    .dataframe thead th {\n",
       "        text-align: right;\n",
       "    }\n",
       "</style>\n",
       "<table border=\"1\" class=\"dataframe\">\n",
       "  <thead>\n",
       "    <tr style=\"text-align: right;\">\n",
       "      <th></th>\n",
       "      <th>Date_s</th>\n",
       "      <th>Time_s</th>\n",
       "      <th>OfficeID</th>\n",
       "      <th>Origin</th>\n",
       "      <th>Destination</th>\n",
       "      <th>TerminalID</th>\n",
       "      <th>itinerary_s</th>\n",
       "      <th>key</th>\n",
       "      <th>act_date</th>\n",
       "      <th>pos_iata</th>\n",
       "      <th>pos_oid</th>\n",
       "      <th>rloc</th>\n",
       "      <th>dep_port</th>\n",
       "      <th>arr_port</th>\n",
       "      <th>pax</th>\n",
       "      <th>Date_b</th>\n",
       "      <th>Time_b</th>\n",
       "      <th>itinerary_b</th>\n",
       "    </tr>\n",
       "  </thead>\n",
       "  <tbody>\n",
       "    <tr>\n",
       "      <th>0</th>\n",
       "      <td>2013-01-01</td>\n",
       "      <td>10:16:26</td>\n",
       "      <td>715773658985f59706880801440e0678</td>\n",
       "      <td>HEL</td>\n",
       "      <td>AYT</td>\n",
       "      <td>d41d8cd98f00b204e9800998ecf8427e</td>\n",
       "      <td>HEL-AYT</td>\n",
       "      <td>HEL-AYT-715773658985f59706880801440e0678</td>\n",
       "      <td>2013-03-12 00:00:00</td>\n",
       "      <td>724f21fb091feb71e043241fe4fbc2b5</td>\n",
       "      <td>715773658985f59706880801440e0678</td>\n",
       "      <td>5ce5cffaf3d759eede16ee018bb8cea1</td>\n",
       "      <td>HEL</td>\n",
       "      <td>AYT</td>\n",
       "      <td>4</td>\n",
       "      <td>2013-03-12</td>\n",
       "      <td>00:00:00</td>\n",
       "      <td>HEL-AYT</td>\n",
       "    </tr>\n",
       "    <tr>\n",
       "      <th>1</th>\n",
       "      <td>2013-01-01</td>\n",
       "      <td>10:16:26</td>\n",
       "      <td>715773658985f59706880801440e0678</td>\n",
       "      <td>HEL</td>\n",
       "      <td>AYT</td>\n",
       "      <td>d41d8cd98f00b204e9800998ecf8427e</td>\n",
       "      <td>HEL-AYT</td>\n",
       "      <td>HEL-AYT-715773658985f59706880801440e0678</td>\n",
       "      <td>2013-03-12 00:00:00</td>\n",
       "      <td>724f21fb091feb71e043241fe4fbc2b5</td>\n",
       "      <td>715773658985f59706880801440e0678</td>\n",
       "      <td>5ce5cffaf3d759eede16ee018bb8cea1</td>\n",
       "      <td>HEL</td>\n",
       "      <td>AYT</td>\n",
       "      <td>4</td>\n",
       "      <td>2013-03-12</td>\n",
       "      <td>00:00:00</td>\n",
       "      <td>HEL-AYT</td>\n",
       "    </tr>\n",
       "    <tr>\n",
       "      <th>2</th>\n",
       "      <td>2013-01-22</td>\n",
       "      <td>11:33:44</td>\n",
       "      <td>715773658985f59706880801440e0678</td>\n",
       "      <td>HEL</td>\n",
       "      <td>AYT</td>\n",
       "      <td>d41d8cd98f00b204e9800998ecf8427e</td>\n",
       "      <td>HEL-AYT</td>\n",
       "      <td>HEL-AYT-715773658985f59706880801440e0678</td>\n",
       "      <td>2013-03-12 00:00:00</td>\n",
       "      <td>724f21fb091feb71e043241fe4fbc2b5</td>\n",
       "      <td>715773658985f59706880801440e0678</td>\n",
       "      <td>5ce5cffaf3d759eede16ee018bb8cea1</td>\n",
       "      <td>HEL</td>\n",
       "      <td>AYT</td>\n",
       "      <td>4</td>\n",
       "      <td>2013-03-12</td>\n",
       "      <td>00:00:00</td>\n",
       "      <td>HEL-AYT</td>\n",
       "    </tr>\n",
       "    <tr>\n",
       "      <th>3</th>\n",
       "      <td>2013-01-22</td>\n",
       "      <td>11:33:44</td>\n",
       "      <td>715773658985f59706880801440e0678</td>\n",
       "      <td>HEL</td>\n",
       "      <td>AYT</td>\n",
       "      <td>d41d8cd98f00b204e9800998ecf8427e</td>\n",
       "      <td>HEL-AYT</td>\n",
       "      <td>HEL-AYT-715773658985f59706880801440e0678</td>\n",
       "      <td>2013-03-12 00:00:00</td>\n",
       "      <td>724f21fb091feb71e043241fe4fbc2b5</td>\n",
       "      <td>715773658985f59706880801440e0678</td>\n",
       "      <td>5ce5cffaf3d759eede16ee018bb8cea1</td>\n",
       "      <td>HEL</td>\n",
       "      <td>AYT</td>\n",
       "      <td>4</td>\n",
       "      <td>2013-03-12</td>\n",
       "      <td>00:00:00</td>\n",
       "      <td>HEL-AYT</td>\n",
       "    </tr>\n",
       "    <tr>\n",
       "      <th>4</th>\n",
       "      <td>2013-02-09</td>\n",
       "      <td>06:36:36</td>\n",
       "      <td>715773658985f59706880801440e0678</td>\n",
       "      <td>HEL</td>\n",
       "      <td>AYT</td>\n",
       "      <td>d41d8cd98f00b204e9800998ecf8427e</td>\n",
       "      <td>HEL-AYT</td>\n",
       "      <td>HEL-AYT-715773658985f59706880801440e0678</td>\n",
       "      <td>2013-03-12 00:00:00</td>\n",
       "      <td>724f21fb091feb71e043241fe4fbc2b5</td>\n",
       "      <td>715773658985f59706880801440e0678</td>\n",
       "      <td>5ce5cffaf3d759eede16ee018bb8cea1</td>\n",
       "      <td>HEL</td>\n",
       "      <td>AYT</td>\n",
       "      <td>4</td>\n",
       "      <td>2013-03-12</td>\n",
       "      <td>00:00:00</td>\n",
       "      <td>HEL-AYT</td>\n",
       "    </tr>\n",
       "  </tbody>\n",
       "</table>\n",
       "</div>"
      ],
      "text/plain": [
       "       Date_s    Time_s                          OfficeID Origin Destination  \\\n",
       "0  2013-01-01  10:16:26  715773658985f59706880801440e0678    HEL         AYT   \n",
       "1  2013-01-01  10:16:26  715773658985f59706880801440e0678    HEL         AYT   \n",
       "2  2013-01-22  11:33:44  715773658985f59706880801440e0678    HEL         AYT   \n",
       "3  2013-01-22  11:33:44  715773658985f59706880801440e0678    HEL         AYT   \n",
       "4  2013-02-09  06:36:36  715773658985f59706880801440e0678    HEL         AYT   \n",
       "\n",
       "                         TerminalID itinerary_s  \\\n",
       "0  d41d8cd98f00b204e9800998ecf8427e     HEL-AYT   \n",
       "1  d41d8cd98f00b204e9800998ecf8427e     HEL-AYT   \n",
       "2  d41d8cd98f00b204e9800998ecf8427e     HEL-AYT   \n",
       "3  d41d8cd98f00b204e9800998ecf8427e     HEL-AYT   \n",
       "4  d41d8cd98f00b204e9800998ecf8427e     HEL-AYT   \n",
       "\n",
       "                                        key             act_date  \\\n",
       "0  HEL-AYT-715773658985f59706880801440e0678  2013-03-12 00:00:00   \n",
       "1  HEL-AYT-715773658985f59706880801440e0678  2013-03-12 00:00:00   \n",
       "2  HEL-AYT-715773658985f59706880801440e0678  2013-03-12 00:00:00   \n",
       "3  HEL-AYT-715773658985f59706880801440e0678  2013-03-12 00:00:00   \n",
       "4  HEL-AYT-715773658985f59706880801440e0678  2013-03-12 00:00:00   \n",
       "\n",
       "                           pos_iata                           pos_oid  \\\n",
       "0  724f21fb091feb71e043241fe4fbc2b5  715773658985f59706880801440e0678   \n",
       "1  724f21fb091feb71e043241fe4fbc2b5  715773658985f59706880801440e0678   \n",
       "2  724f21fb091feb71e043241fe4fbc2b5  715773658985f59706880801440e0678   \n",
       "3  724f21fb091feb71e043241fe4fbc2b5  715773658985f59706880801440e0678   \n",
       "4  724f21fb091feb71e043241fe4fbc2b5  715773658985f59706880801440e0678   \n",
       "\n",
       "                               rloc dep_port arr_port  pax       Date_b  \\\n",
       "0  5ce5cffaf3d759eede16ee018bb8cea1      HEL      AYT    4  2013-03-12    \n",
       "1  5ce5cffaf3d759eede16ee018bb8cea1      HEL      AYT    4  2013-03-12    \n",
       "2  5ce5cffaf3d759eede16ee018bb8cea1      HEL      AYT    4  2013-03-12    \n",
       "3  5ce5cffaf3d759eede16ee018bb8cea1      HEL      AYT    4  2013-03-12    \n",
       "4  5ce5cffaf3d759eede16ee018bb8cea1      HEL      AYT    4  2013-03-12    \n",
       "\n",
       "     Time_b itinerary_b  \n",
       "0  00:00:00     HEL-AYT  \n",
       "1  00:00:00     HEL-AYT  \n",
       "2  00:00:00     HEL-AYT  \n",
       "3  00:00:00     HEL-AYT  \n",
       "4  00:00:00     HEL-AYT  "
      ]
     },
     "execution_count": 108,
     "metadata": {},
     "output_type": "execute_result"
    }
   ],
   "source": [
    "df_mrg = df_s.merge(right=df_b,\n",
    "           how='inner', # Inner solo para hacer la prueba por si no hubiera ningún común\n",
    "           left_on='key',\n",
    "           right_on='key',\n",
    "           suffixes=['_s', '_b'])\n",
    "print(len(df_mrg))\n",
    "df_mrg.head(5)"
   ]
  },
  {
   "cell_type": "code",
   "execution_count": 109,
   "metadata": {},
   "outputs": [
    {
     "data": {
      "text/html": [
       "<div>\n",
       "<style scoped>\n",
       "    .dataframe tbody tr th:only-of-type {\n",
       "        vertical-align: middle;\n",
       "    }\n",
       "\n",
       "    .dataframe tbody tr th {\n",
       "        vertical-align: top;\n",
       "    }\n",
       "\n",
       "    .dataframe thead th {\n",
       "        text-align: right;\n",
       "    }\n",
       "</style>\n",
       "<table border=\"1\" class=\"dataframe\">\n",
       "  <thead>\n",
       "    <tr style=\"text-align: right;\">\n",
       "      <th></th>\n",
       "      <th>Date</th>\n",
       "      <th>Time</th>\n",
       "      <th>OfficeID</th>\n",
       "      <th>Origin</th>\n",
       "      <th>Destination</th>\n",
       "      <th>TerminalID</th>\n",
       "      <th>itinerary</th>\n",
       "      <th>key</th>\n",
       "    </tr>\n",
       "  </thead>\n",
       "  <tbody>\n",
       "    <tr>\n",
       "      <th>133</th>\n",
       "      <td>2013-01-01</td>\n",
       "      <td>10:16:26</td>\n",
       "      <td>715773658985f59706880801440e0678</td>\n",
       "      <td>HEL</td>\n",
       "      <td>AYT</td>\n",
       "      <td>d41d8cd98f00b204e9800998ecf8427e</td>\n",
       "      <td>HEL-AYT</td>\n",
       "      <td>HEL-AYT-715773658985f59706880801440e0678</td>\n",
       "    </tr>\n",
       "  </tbody>\n",
       "</table>\n",
       "</div>"
      ],
      "text/plain": [
       "           Date      Time                          OfficeID Origin  \\\n",
       "133  2013-01-01  10:16:26  715773658985f59706880801440e0678    HEL   \n",
       "\n",
       "    Destination                        TerminalID itinerary  \\\n",
       "133         AYT  d41d8cd98f00b204e9800998ecf8427e   HEL-AYT   \n",
       "\n",
       "                                          key  \n",
       "133  HEL-AYT-715773658985f59706880801440e0678  "
      ]
     },
     "execution_count": 109,
     "metadata": {},
     "output_type": "execute_result"
    }
   ],
   "source": [
    "df_s[(df_s['Date'] == '2013-01-01') &\\\n",
    "     (df_s['OfficeID'] == '715773658985f59706880801440e0678') &\\\n",
    "     (df_s['itinerary'] == 'HEL-AYT')]"
   ]
  },
  {
   "cell_type": "code",
   "execution_count": 110,
   "metadata": {},
   "outputs": [
    {
     "data": {
      "text/html": [
       "<div>\n",
       "<style scoped>\n",
       "    .dataframe tbody tr th:only-of-type {\n",
       "        vertical-align: middle;\n",
       "    }\n",
       "\n",
       "    .dataframe tbody tr th {\n",
       "        vertical-align: top;\n",
       "    }\n",
       "\n",
       "    .dataframe thead th {\n",
       "        text-align: right;\n",
       "    }\n",
       "</style>\n",
       "<table border=\"1\" class=\"dataframe\">\n",
       "  <thead>\n",
       "    <tr style=\"text-align: right;\">\n",
       "      <th></th>\n",
       "      <th>Date</th>\n",
       "      <th>Time</th>\n",
       "      <th>TxnCode</th>\n",
       "      <th>OfficeID</th>\n",
       "      <th>Country</th>\n",
       "      <th>Origin</th>\n",
       "      <th>Destination</th>\n",
       "      <th>RoundTrip</th>\n",
       "      <th>NbSegments</th>\n",
       "      <th>Seg1Departure</th>\n",
       "      <th>Seg1Arrival</th>\n",
       "      <th>Seg1Date</th>\n",
       "      <th>Seg1Carrier</th>\n",
       "      <th>Seg1BookingCode</th>\n",
       "      <th>Seg2Departure</th>\n",
       "      <th>Seg2Arrival</th>\n",
       "      <th>Seg2Date</th>\n",
       "      <th>Seg2Carrier</th>\n",
       "      <th>Seg2BookingCode</th>\n",
       "      <th>Seg3Departure</th>\n",
       "      <th>Seg3Arrival</th>\n",
       "      <th>Seg3Date</th>\n",
       "      <th>Seg3Carrier</th>\n",
       "      <th>Seg3BookingCode</th>\n",
       "      <th>Seg4Departure</th>\n",
       "      <th>Seg4Arrival</th>\n",
       "      <th>Seg4Date</th>\n",
       "      <th>Seg4Carrier</th>\n",
       "      <th>Seg4BookingCode</th>\n",
       "      <th>Seg5Departure</th>\n",
       "      <th>Seg5Arrival</th>\n",
       "      <th>Seg5Date</th>\n",
       "      <th>Seg5Carrier</th>\n",
       "      <th>Seg5BookingCode</th>\n",
       "      <th>Seg6Departure</th>\n",
       "      <th>Seg6Arrival</th>\n",
       "      <th>Seg6Date</th>\n",
       "      <th>Seg6Carrier</th>\n",
       "      <th>Seg6BookingCode</th>\n",
       "      <th>From</th>\n",
       "      <th>IsPublishedForNeg</th>\n",
       "      <th>IsFromInternet</th>\n",
       "      <th>IsFromVista</th>\n",
       "      <th>TerminalID</th>\n",
       "      <th>InternetOffice</th>\n",
       "      <th>itinerary</th>\n",
       "    </tr>\n",
       "  </thead>\n",
       "  <tbody>\n",
       "    <tr>\n",
       "      <th>133</th>\n",
       "      <td>2013-01-01</td>\n",
       "      <td>10:16:26</td>\n",
       "      <td>MPT</td>\n",
       "      <td>715773658985f59706880801440e0678</td>\n",
       "      <td>FI</td>\n",
       "      <td>HEL</td>\n",
       "      <td>AYT</td>\n",
       "      <td>1</td>\n",
       "      <td>2</td>\n",
       "      <td>HEL</td>\n",
       "      <td>AYT</td>\n",
       "      <td>2013-06-01</td>\n",
       "      <td>NaN</td>\n",
       "      <td>NaN</td>\n",
       "      <td>AYT</td>\n",
       "      <td>HEL</td>\n",
       "      <td>2013-06-08</td>\n",
       "      <td>NaN</td>\n",
       "      <td>NaN</td>\n",
       "      <td>NaN</td>\n",
       "      <td>NaN</td>\n",
       "      <td>NaN</td>\n",
       "      <td>NaN</td>\n",
       "      <td>NaN</td>\n",
       "      <td>NaN</td>\n",
       "      <td>NaN</td>\n",
       "      <td>NaN</td>\n",
       "      <td>NaN</td>\n",
       "      <td>NaN</td>\n",
       "      <td>NaN</td>\n",
       "      <td>NaN</td>\n",
       "      <td>NaN</td>\n",
       "      <td>NaN</td>\n",
       "      <td>NaN</td>\n",
       "      <td>NaN</td>\n",
       "      <td>NaN</td>\n",
       "      <td>NaN</td>\n",
       "      <td>NaN</td>\n",
       "      <td>NaN</td>\n",
       "      <td>1ASIWS</td>\n",
       "      <td>0</td>\n",
       "      <td>0</td>\n",
       "      <td>0</td>\n",
       "      <td>d41d8cd98f00b204e9800998ecf8427e</td>\n",
       "      <td>HEL</td>\n",
       "      <td>HEL-AYT</td>\n",
       "    </tr>\n",
       "  </tbody>\n",
       "</table>\n",
       "</div>"
      ],
      "text/plain": [
       "           Date      Time TxnCode                          OfficeID Country  \\\n",
       "133  2013-01-01  10:16:26     MPT  715773658985f59706880801440e0678      FI   \n",
       "\n",
       "    Origin Destination  RoundTrip  NbSegments Seg1Departure Seg1Arrival  \\\n",
       "133    HEL         AYT          1           2           HEL         AYT   \n",
       "\n",
       "       Seg1Date Seg1Carrier Seg1BookingCode Seg2Departure Seg2Arrival  \\\n",
       "133  2013-06-01         NaN             NaN           AYT         HEL   \n",
       "\n",
       "       Seg2Date Seg2Carrier Seg2BookingCode Seg3Departure Seg3Arrival  \\\n",
       "133  2013-06-08         NaN             NaN           NaN         NaN   \n",
       "\n",
       "    Seg3Date Seg3Carrier Seg3BookingCode Seg4Departure Seg4Arrival Seg4Date  \\\n",
       "133      NaN         NaN             NaN           NaN         NaN      NaN   \n",
       "\n",
       "    Seg4Carrier Seg4BookingCode Seg5Departure Seg5Arrival Seg5Date  \\\n",
       "133         NaN             NaN           NaN         NaN      NaN   \n",
       "\n",
       "    Seg5Carrier Seg5BookingCode Seg6Departure Seg6Arrival Seg6Date  \\\n",
       "133         NaN             NaN           NaN         NaN      NaN   \n",
       "\n",
       "    Seg6Carrier Seg6BookingCode    From  IsPublishedForNeg  IsFromInternet  \\\n",
       "133         NaN             NaN  1ASIWS                  0               0   \n",
       "\n",
       "     IsFromVista                        TerminalID InternetOffice itinerary  \n",
       "133            0  d41d8cd98f00b204e9800998ecf8427e            HEL   HEL-AYT  "
      ]
     },
     "execution_count": 110,
     "metadata": {},
     "output_type": "execute_result"
    }
   ],
   "source": [
    "df_s_all[(df_s_all['Date'] == '2013-01-01') &\\\n",
    "     (df_s_all['OfficeID'] == '715773658985f59706880801440e0678') &\\\n",
    "     (df_s_all['itinerary'] == 'HEL-AYT')]"
   ]
  },
  {
   "cell_type": "code",
   "execution_count": 111,
   "metadata": {
    "scrolled": true
   },
   "outputs": [
    {
     "data": {
      "text/html": [
       "<div>\n",
       "<style scoped>\n",
       "    .dataframe tbody tr th:only-of-type {\n",
       "        vertical-align: middle;\n",
       "    }\n",
       "\n",
       "    .dataframe tbody tr th {\n",
       "        vertical-align: top;\n",
       "    }\n",
       "\n",
       "    .dataframe thead th {\n",
       "        text-align: right;\n",
       "    }\n",
       "</style>\n",
       "<table border=\"1\" class=\"dataframe\">\n",
       "  <thead>\n",
       "    <tr style=\"text-align: right;\">\n",
       "      <th></th>\n",
       "      <th>act_date</th>\n",
       "      <th>pos_iata</th>\n",
       "      <th>pos_oid</th>\n",
       "      <th>rloc</th>\n",
       "      <th>dep_port</th>\n",
       "      <th>arr_port</th>\n",
       "      <th>pax</th>\n",
       "      <th>Date</th>\n",
       "      <th>Time</th>\n",
       "      <th>itinerary</th>\n",
       "      <th>key</th>\n",
       "    </tr>\n",
       "  </thead>\n",
       "  <tbody>\n",
       "    <tr>\n",
       "      <th>10564</th>\n",
       "      <td>2013-03-12 00:00:00</td>\n",
       "      <td>724f21fb091feb71e043241fe4fbc2b5</td>\n",
       "      <td>715773658985f59706880801440e0678</td>\n",
       "      <td>5ce5cffaf3d759eede16ee018bb8cea1</td>\n",
       "      <td>HEL</td>\n",
       "      <td>AYT</td>\n",
       "      <td>4</td>\n",
       "      <td>2013-03-12</td>\n",
       "      <td>00:00:00</td>\n",
       "      <td>HEL-AYT</td>\n",
       "      <td>HEL-AYT-715773658985f59706880801440e0678</td>\n",
       "    </tr>\n",
       "    <tr>\n",
       "      <th>10565</th>\n",
       "      <td>2013-03-12 00:00:00</td>\n",
       "      <td>724f21fb091feb71e043241fe4fbc2b5</td>\n",
       "      <td>715773658985f59706880801440e0678</td>\n",
       "      <td>5ce5cffaf3d759eede16ee018bb8cea1</td>\n",
       "      <td>HEL</td>\n",
       "      <td>AYT</td>\n",
       "      <td>4</td>\n",
       "      <td>2013-03-12</td>\n",
       "      <td>00:00:00</td>\n",
       "      <td>HEL-AYT</td>\n",
       "      <td>HEL-AYT-715773658985f59706880801440e0678</td>\n",
       "    </tr>\n",
       "  </tbody>\n",
       "</table>\n",
       "</div>"
      ],
      "text/plain": [
       "                  act_date                          pos_iata  \\\n",
       "10564  2013-03-12 00:00:00  724f21fb091feb71e043241fe4fbc2b5   \n",
       "10565  2013-03-12 00:00:00  724f21fb091feb71e043241fe4fbc2b5   \n",
       "\n",
       "                                pos_oid                              rloc  \\\n",
       "10564  715773658985f59706880801440e0678  5ce5cffaf3d759eede16ee018bb8cea1   \n",
       "10565  715773658985f59706880801440e0678  5ce5cffaf3d759eede16ee018bb8cea1   \n",
       "\n",
       "      dep_port arr_port  pax         Date      Time itinerary  \\\n",
       "10564      HEL      AYT    4  2013-03-12   00:00:00   HEL-AYT   \n",
       "10565      HEL      AYT    4  2013-03-12   00:00:00   HEL-AYT   \n",
       "\n",
       "                                            key  \n",
       "10564  HEL-AYT-715773658985f59706880801440e0678  \n",
       "10565  HEL-AYT-715773658985f59706880801440e0678  "
      ]
     },
     "execution_count": 111,
     "metadata": {},
     "output_type": "execute_result"
    }
   ],
   "source": [
    "df_b[(df_b['pos_oid'] == '715773658985f59706880801440e0678') &\\\n",
    "     (df_b['itinerary'] == 'HEL-AYT')]"
   ]
  },
  {
   "cell_type": "code",
   "execution_count": 112,
   "metadata": {
    "scrolled": true
   },
   "outputs": [
    {
     "data": {
      "text/html": [
       "<div>\n",
       "<style scoped>\n",
       "    .dataframe tbody tr th:only-of-type {\n",
       "        vertical-align: middle;\n",
       "    }\n",
       "\n",
       "    .dataframe tbody tr th {\n",
       "        vertical-align: top;\n",
       "    }\n",
       "\n",
       "    .dataframe thead th {\n",
       "        text-align: right;\n",
       "    }\n",
       "</style>\n",
       "<table border=\"1\" class=\"dataframe\">\n",
       "  <thead>\n",
       "    <tr style=\"text-align: right;\">\n",
       "      <th></th>\n",
       "      <th>act_date</th>\n",
       "      <th>source</th>\n",
       "      <th>pos_ctry</th>\n",
       "      <th>pos_iata</th>\n",
       "      <th>pos_oid</th>\n",
       "      <th>rloc</th>\n",
       "      <th>cre_date</th>\n",
       "      <th>duration</th>\n",
       "      <th>distance</th>\n",
       "      <th>dep_port</th>\n",
       "      <th>dep_city</th>\n",
       "      <th>dep_ctry</th>\n",
       "      <th>arr_port</th>\n",
       "      <th>arr_city</th>\n",
       "      <th>arr_ctry</th>\n",
       "      <th>lst_port</th>\n",
       "      <th>lst_city</th>\n",
       "      <th>lst_ctry</th>\n",
       "      <th>brd_port</th>\n",
       "      <th>brd_city</th>\n",
       "      <th>brd_ctry</th>\n",
       "      <th>off_port</th>\n",
       "      <th>off_city</th>\n",
       "      <th>off_ctry</th>\n",
       "      <th>mkt_port</th>\n",
       "      <th>mkt_city</th>\n",
       "      <th>mkt_ctry</th>\n",
       "      <th>intl</th>\n",
       "      <th>route</th>\n",
       "      <th>carrier</th>\n",
       "      <th>bkg_class</th>\n",
       "      <th>cab_class</th>\n",
       "      <th>brd_time</th>\n",
       "      <th>off_time</th>\n",
       "      <th>pax</th>\n",
       "      <th>year</th>\n",
       "      <th>month</th>\n",
       "      <th>oid</th>\n",
       "      <th>itinerary</th>\n",
       "    </tr>\n",
       "  </thead>\n",
       "  <tbody>\n",
       "    <tr>\n",
       "      <th>10564</th>\n",
       "      <td>2013-03-12 00:00:00</td>\n",
       "      <td>1A</td>\n",
       "      <td>FI</td>\n",
       "      <td>724f21fb091feb71e043241fe4fbc2b5</td>\n",
       "      <td>715773658985f59706880801440e0678</td>\n",
       "      <td>5ce5cffaf3d759eede16ee018bb8cea1</td>\n",
       "      <td>2013-03-12 00:00:00</td>\n",
       "      <td>10325</td>\n",
       "      <td>0</td>\n",
       "      <td>HEL</td>\n",
       "      <td>HEL</td>\n",
       "      <td>FI</td>\n",
       "      <td>AYT</td>\n",
       "      <td>AYT</td>\n",
       "      <td>TR</td>\n",
       "      <td>HEL</td>\n",
       "      <td>HEL</td>\n",
       "      <td>FI</td>\n",
       "      <td>HEL</td>\n",
       "      <td>HEL</td>\n",
       "      <td>FI</td>\n",
       "      <td>AYT</td>\n",
       "      <td>AYT</td>\n",
       "      <td>TR</td>\n",
       "      <td>AYTHEL</td>\n",
       "      <td>AYTHEL</td>\n",
       "      <td>FITR</td>\n",
       "      <td>1</td>\n",
       "      <td>HELISTESBAYT</td>\n",
       "      <td>EU</td>\n",
       "      <td>Q</td>\n",
       "      <td>Y</td>\n",
       "      <td>2013-03-22 13:20:00</td>\n",
       "      <td>2013-03-23 00:01:41</td>\n",
       "      <td>4</td>\n",
       "      <td>2013</td>\n",
       "      <td>3</td>\n",
       "      <td>HELSG38SR</td>\n",
       "      <td>HEL-AYT</td>\n",
       "    </tr>\n",
       "    <tr>\n",
       "      <th>10565</th>\n",
       "      <td>2013-03-12 00:00:00</td>\n",
       "      <td>1A</td>\n",
       "      <td>FI</td>\n",
       "      <td>724f21fb091feb71e043241fe4fbc2b5</td>\n",
       "      <td>715773658985f59706880801440e0678</td>\n",
       "      <td>5ce5cffaf3d759eede16ee018bb8cea1</td>\n",
       "      <td>2013-03-12 00:00:00</td>\n",
       "      <td>10325</td>\n",
       "      <td>0</td>\n",
       "      <td>HEL</td>\n",
       "      <td>HEL</td>\n",
       "      <td>FI</td>\n",
       "      <td>AYT</td>\n",
       "      <td>AYT</td>\n",
       "      <td>TR</td>\n",
       "      <td>HEL</td>\n",
       "      <td>HEL</td>\n",
       "      <td>FI</td>\n",
       "      <td>AYT</td>\n",
       "      <td>AYT</td>\n",
       "      <td>TR</td>\n",
       "      <td>HEL</td>\n",
       "      <td>HEL</td>\n",
       "      <td>FI</td>\n",
       "      <td>AYTHEL</td>\n",
       "      <td>AYTHEL</td>\n",
       "      <td>FITR</td>\n",
       "      <td>1</td>\n",
       "      <td>AYTISTHEL</td>\n",
       "      <td>EU</td>\n",
       "      <td>W</td>\n",
       "      <td>Y</td>\n",
       "      <td>2013-03-29 11:10:00</td>\n",
       "      <td>2013-03-29 17:25:50</td>\n",
       "      <td>4</td>\n",
       "      <td>2013</td>\n",
       "      <td>3</td>\n",
       "      <td>HELSG38SR</td>\n",
       "      <td>HEL-AYT</td>\n",
       "    </tr>\n",
       "  </tbody>\n",
       "</table>\n",
       "</div>"
      ],
      "text/plain": [
       "                  act_date  source  pos_ctry  \\\n",
       "10564  2013-03-12 00:00:00  1A      FI         \n",
       "10565  2013-03-12 00:00:00  1A      FI         \n",
       "\n",
       "                               pos_iata                           pos_oid  \\\n",
       "10564  724f21fb091feb71e043241fe4fbc2b5  715773658985f59706880801440e0678   \n",
       "10565  724f21fb091feb71e043241fe4fbc2b5  715773658985f59706880801440e0678   \n",
       "\n",
       "                                   rloc             cre_date  duration  \\\n",
       "10564  5ce5cffaf3d759eede16ee018bb8cea1  2013-03-12 00:00:00     10325   \n",
       "10565  5ce5cffaf3d759eede16ee018bb8cea1  2013-03-12 00:00:00     10325   \n",
       "\n",
       "       distance dep_port  dep_city  dep_ctry arr_port  arr_city  arr_ctry  \\\n",
       "10564         0      HEL  HEL       FI            AYT  AYT       TR         \n",
       "10565         0      HEL  HEL       FI            AYT  AYT       TR         \n",
       "\n",
       "       lst_port  lst_city  lst_ctry  brd_port  brd_city  brd_ctry  off_port  \\\n",
       "10564  HEL       HEL       FI        HEL       HEL       FI        AYT        \n",
       "10565  HEL       HEL       FI        AYT       AYT       TR        HEL        \n",
       "\n",
       "       off_city  off_ctry  mkt_port  mkt_city  mkt_ctry  intl         route  \\\n",
       "10564  AYT       TR        AYTHEL    AYTHEL    FITR         1  HELISTESBAYT   \n",
       "10565  HEL       FI        AYTHEL    AYTHEL    FITR         1  AYTISTHEL      \n",
       "\n",
       "      carrier  bkg_class  cab_class             brd_time             off_time  \\\n",
       "10564      EU  Q          Y          2013-03-22 13:20:00  2013-03-23 00:01:41   \n",
       "10565      EU  W          Y          2013-03-29 11:10:00  2013-03-29 17:25:50   \n",
       "\n",
       "       pax  year  month        oid itinerary  \n",
       "10564    4  2013      3  HELSG38SR   HEL-AYT  \n",
       "10565    4  2013      3  HELSG38SR   HEL-AYT  "
      ]
     },
     "execution_count": 112,
     "metadata": {},
     "output_type": "execute_result"
    }
   ],
   "source": [
    "df_b_all[(df_b_all['pos_oid'] == '715773658985f59706880801440e0678') &\\\n",
    "     (df_b_all['dep_port'] == 'HEL') & (df_b_all['arr_port'] == 'AYT')]"
   ]
  },
  {
   "cell_type": "markdown",
   "metadata": {},
   "source": [
    "## Exercise 5\n",
    "\n",
    "#### Write a Web Service\n",
    "\n",
    "- Wrap the output of the second exercise in a web service that returns the data in JSON format (instead of printing to the  standard output).\n",
    "- The web service should accept a parameter n>0. For the top 10 airports, n is 10. For the X top airports, n is X."
   ]
  },
  {
   "cell_type": "code",
   "execution_count": 179,
   "metadata": {},
   "outputs": [],
   "source": [
    "csv_path = compartido_windows + '/Exercise_2_result_df_withdup.csv'\n",
    "json_path = compartido_windows + '/Exercise_5_json.json'"
   ]
  },
  {
   "cell_type": "code",
   "execution_count": 173,
   "metadata": {
    "scrolled": true
   },
   "outputs": [
    {
     "data": {
      "text/html": [
       "<div>\n",
       "<style scoped>\n",
       "    .dataframe tbody tr th:only-of-type {\n",
       "        vertical-align: middle;\n",
       "    }\n",
       "\n",
       "    .dataframe tbody tr th {\n",
       "        vertical-align: top;\n",
       "    }\n",
       "\n",
       "    .dataframe thead th {\n",
       "        text-align: right;\n",
       "    }\n",
       "</style>\n",
       "<table border=\"1\" class=\"dataframe\">\n",
       "  <thead>\n",
       "    <tr style=\"text-align: right;\">\n",
       "      <th></th>\n",
       "      <th>arr_port</th>\n",
       "      <th>pax</th>\n",
       "    </tr>\n",
       "  </thead>\n",
       "  <tbody>\n",
       "    <tr>\n",
       "      <th>0</th>\n",
       "      <td>LHR</td>\n",
       "      <td>88809.0</td>\n",
       "    </tr>\n",
       "    <tr>\n",
       "      <th>1</th>\n",
       "      <td>MCO</td>\n",
       "      <td>70930.0</td>\n",
       "    </tr>\n",
       "    <tr>\n",
       "      <th>2</th>\n",
       "      <td>LAX</td>\n",
       "      <td>70530.0</td>\n",
       "    </tr>\n",
       "    <tr>\n",
       "      <th>3</th>\n",
       "      <td>LAS</td>\n",
       "      <td>69630.0</td>\n",
       "    </tr>\n",
       "    <tr>\n",
       "      <th>4</th>\n",
       "      <td>JFK</td>\n",
       "      <td>66270.0</td>\n",
       "    </tr>\n",
       "    <tr>\n",
       "      <th>5</th>\n",
       "      <td>CDG</td>\n",
       "      <td>64490.0</td>\n",
       "    </tr>\n",
       "    <tr>\n",
       "      <th>6</th>\n",
       "      <td>BKK</td>\n",
       "      <td>59460.0</td>\n",
       "    </tr>\n",
       "    <tr>\n",
       "      <th>7</th>\n",
       "      <td>MIA</td>\n",
       "      <td>58150.0</td>\n",
       "    </tr>\n",
       "    <tr>\n",
       "      <th>8</th>\n",
       "      <td>SFO</td>\n",
       "      <td>58000.0</td>\n",
       "    </tr>\n",
       "    <tr>\n",
       "      <th>9</th>\n",
       "      <td>DXB</td>\n",
       "      <td>55590.0</td>\n",
       "    </tr>\n",
       "    <tr>\n",
       "      <th>10</th>\n",
       "      <td>ORD</td>\n",
       "      <td>53200.0</td>\n",
       "    </tr>\n",
       "  </tbody>\n",
       "</table>\n",
       "</div>"
      ],
      "text/plain": [
       "   arr_port      pax\n",
       "0       LHR  88809.0\n",
       "1       MCO  70930.0\n",
       "2       LAX  70530.0\n",
       "3       LAS  69630.0\n",
       "4       JFK  66270.0\n",
       "5       CDG  64490.0\n",
       "6       BKK  59460.0\n",
       "7       MIA  58150.0\n",
       "8       SFO  58000.0\n",
       "9       DXB  55590.0\n",
       "10      ORD  53200.0"
      ]
     },
     "execution_count": 173,
     "metadata": {},
     "output_type": "execute_result"
    }
   ],
   "source": [
    "df = pd.read_csv(csv_path, delimiter='^', nrows=11)\n",
    "df"
   ]
  },
  {
   "cell_type": "code",
   "execution_count": 174,
   "metadata": {},
   "outputs": [
    {
     "data": {
      "text/plain": [
       "{'arr_port': {0: 'LHR',\n",
       "  1: 'MCO',\n",
       "  2: 'LAX',\n",
       "  3: 'LAS',\n",
       "  4: 'JFK',\n",
       "  5: 'CDG',\n",
       "  6: 'BKK',\n",
       "  7: 'MIA',\n",
       "  8: 'SFO',\n",
       "  9: 'DXB',\n",
       "  10: 'ORD'},\n",
       " 'pax': {0: 88809.0,\n",
       "  1: 70930.0,\n",
       "  2: 70530.0,\n",
       "  3: 69630.0,\n",
       "  4: 66270.0,\n",
       "  5: 64490.0,\n",
       "  6: 59460.0,\n",
       "  7: 58150.0,\n",
       "  8: 58000.0,\n",
       "  9: 55590.0,\n",
       "  10: 53200.0}}"
      ]
     },
     "execution_count": 174,
     "metadata": {},
     "output_type": "execute_result"
    }
   ],
   "source": [
    "df.to_dict()"
   ]
  },
  {
   "cell_type": "code",
   "execution_count": 175,
   "metadata": {
    "scrolled": true
   },
   "outputs": [
    {
     "data": {
      "text/plain": [
       "'{\"arr_port\": {\"0\": \"LHR\", \"1\": \"MCO\", \"2\": \"LAX\", \"3\": \"LAS\", \"4\": \"JFK\", \"5\": \"CDG\", \"6\": \"BKK\", \"7\": \"MIA\", \"8\": \"SFO\", \"9\": \"DXB\", \"10\": \"ORD\"}, \"pax\": {\"0\": 88809.0, \"1\": 70930.0, \"2\": 70530.0, \"3\": 69630.0, \"4\": 66270.0, \"5\": 64490.0, \"6\": 59460.0, \"7\": 58150.0, \"8\": 58000.0, \"9\": 55590.0, \"10\": 53200.0}}'"
      ]
     },
     "execution_count": 175,
     "metadata": {},
     "output_type": "execute_result"
    }
   ],
   "source": [
    "df_json = json.dumps(df.to_dict())\n",
    "df_json"
   ]
  },
  {
   "cell_type": "code",
   "execution_count": 176,
   "metadata": {
    "scrolled": true
   },
   "outputs": [
    {
     "data": {
      "text/plain": [
       "'{\\n    \"arr_port\": {\\n        \"0\": \"LHR\",\\n        \"1\": \"MCO\",\\n        \"2\": \"LAX\",\\n        \"3\": \"LAS\",\\n        \"4\": \"JFK\",\\n        \"5\": \"CDG\",\\n        \"6\": \"BKK\",\\n        \"7\": \"MIA\",\\n        \"8\": \"SFO\",\\n        \"9\": \"DXB\",\\n        \"10\": \"ORD\"\\n    },\\n    \"pax\": {\\n        \"0\": 88809.0,\\n        \"1\": 70930.0,\\n        \"2\": 70530.0,\\n        \"3\": 69630.0,\\n        \"4\": 66270.0,\\n        \"5\": 64490.0,\\n        \"6\": 59460.0,\\n        \"7\": 58150.0,\\n        \"8\": 58000.0,\\n        \"9\": 55590.0,\\n        \"10\": 53200.0\\n    }\\n}'"
      ]
     },
     "execution_count": 176,
     "metadata": {},
     "output_type": "execute_result"
    }
   ],
   "source": [
    "df_json = json.dumps(df.to_dict(), indent=4)\n",
    "\n",
    "with open(json_path, mode='w') as f:\n",
    "    f.write(df_json)\n",
    "\n",
    "df_json"
   ]
  },
  {
   "cell_type": "code",
   "execution_count": 177,
   "metadata": {
    "scrolled": false
   },
   "outputs": [
    {
     "data": {
      "text/html": [
       "\n",
       "<div id=\"altair-viz-03ce9e8dd11a41dca6b22706e8757ddf\"></div>\n",
       "<script type=\"text/javascript\">\n",
       "  (function(spec, embedOpt){\n",
       "    let outputDiv = document.currentScript.previousElementSibling;\n",
       "    if (outputDiv.id !== \"altair-viz-03ce9e8dd11a41dca6b22706e8757ddf\") {\n",
       "      outputDiv = document.getElementById(\"altair-viz-03ce9e8dd11a41dca6b22706e8757ddf\");\n",
       "    }\n",
       "    const paths = {\n",
       "      \"vega\": \"https://cdn.jsdelivr.net/npm//vega@5?noext\",\n",
       "      \"vega-lib\": \"https://cdn.jsdelivr.net/npm//vega-lib?noext\",\n",
       "      \"vega-lite\": \"https://cdn.jsdelivr.net/npm//vega-lite@4.8.1?noext\",\n",
       "      \"vega-embed\": \"https://cdn.jsdelivr.net/npm//vega-embed@6?noext\",\n",
       "    };\n",
       "\n",
       "    function loadScript(lib) {\n",
       "      return new Promise(function(resolve, reject) {\n",
       "        var s = document.createElement('script');\n",
       "        s.src = paths[lib];\n",
       "        s.async = true;\n",
       "        s.onload = () => resolve(paths[lib]);\n",
       "        s.onerror = () => reject(`Error loading script: ${paths[lib]}`);\n",
       "        document.getElementsByTagName(\"head\")[0].appendChild(s);\n",
       "      });\n",
       "    }\n",
       "\n",
       "    function showError(err) {\n",
       "      outputDiv.innerHTML = `<div class=\"error\" style=\"color:red;\">${err}</div>`;\n",
       "      throw err;\n",
       "    }\n",
       "\n",
       "    function displayChart(vegaEmbed) {\n",
       "      vegaEmbed(outputDiv, spec, embedOpt)\n",
       "        .catch(err => showError(`Javascript Error: ${err.message}<br>This usually means there's a typo in your chart specification. See the javascript console for the full traceback.`));\n",
       "    }\n",
       "\n",
       "    if(typeof define === \"function\" && define.amd) {\n",
       "      requirejs.config({paths});\n",
       "      require([\"vega-embed\"], displayChart, err => showError(`Error loading script: ${err.message}`));\n",
       "    } else if (typeof vegaEmbed === \"function\") {\n",
       "      displayChart(vegaEmbed);\n",
       "    } else {\n",
       "      loadScript(\"vega\")\n",
       "        .then(() => loadScript(\"vega-lite\"))\n",
       "        .then(() => loadScript(\"vega-embed\"))\n",
       "        .catch(showError)\n",
       "        .then(() => displayChart(vegaEmbed));\n",
       "    }\n",
       "  })({\"config\": {\"view\": {\"continuousWidth\": 400, \"continuousHeight\": 300}}, \"data\": {\"name\": \"data-41a715afce624db63d3ea5e8f54c3d92\"}, \"mark\": \"bar\", \"encoding\": {\"x\": {\"type\": \"quantitative\", \"field\": \"pax\"}, \"y\": {\"type\": \"nominal\", \"field\": \"arr_port\", \"sort\": \"-x\"}}, \"selection\": {\"selector041\": {\"type\": \"interval\", \"bind\": \"scales\", \"encodings\": [\"x\", \"y\"]}}, \"title\": \"Pax vs Arrival_Airport\", \"$schema\": \"https://vega.github.io/schema/vega-lite/v4.8.1.json\", \"datasets\": {\"data-41a715afce624db63d3ea5e8f54c3d92\": [{\"arr_port\": \"LHR\", \"pax\": 88809}, {\"arr_port\": \"MCO\", \"pax\": 70930}, {\"arr_port\": \"LAX\", \"pax\": 70530}, {\"arr_port\": \"LAS\", \"pax\": 69630}, {\"arr_port\": \"JFK\", \"pax\": 66270}, {\"arr_port\": \"CDG\", \"pax\": 64490}, {\"arr_port\": \"BKK\", \"pax\": 59460}, {\"arr_port\": \"MIA\", \"pax\": 58150}, {\"arr_port\": \"SFO\", \"pax\": 58000}, {\"arr_port\": \"DXB\", \"pax\": 55590}, {\"arr_port\": \"ORD\", \"pax\": 53200}]}}, {\"mode\": \"vega-lite\"});\n",
       "</script>"
      ],
      "text/plain": [
       "alt.Chart(...)"
      ]
     },
     "execution_count": 177,
     "metadata": {},
     "output_type": "execute_result"
    }
   ],
   "source": [
    "import streamlit as st\n",
    "import pandas as pd\n",
    "import altair as alt\n",
    "import matplotlib.pyplot as plt\n",
    "\n",
    "st.title('Exercise 5 - Web Service')\n",
    "st.subheader('This is a Web Service which returns the data from Exercise 2 in a JSON format.')\n",
    "\n",
    "df = pd.read_json(json_path, typ='frame')\n",
    "\n",
    "st.markdown(\"\"\"\n",
    "### This is the data resulting from Exercise 2:\n",
    "\n",
    "\"\"\")\n",
    "\n",
    "st.table(df)\n",
    "\n",
    "st.markdown(\"\"\"\n",
    "### Below is presented such data in a graphical mode:\n",
    "\n",
    "\"\"\")\n",
    "\n",
    "bars = alt.Chart(df).mark_bar().encode(\n",
    "    x='pax:Q',\n",
    "    y=alt.Y('arr_port:N', sort='-x')\n",
    ").properties(\n",
    "    # width=300,\n",
    "    # height=150,\n",
    "    title='Pax vs Arrival_Airport'\n",
    ").interactive()\n",
    "\n",
    "bars"
   ]
  },
  {
   "cell_type": "markdown",
   "metadata": {},
   "source": [
    "## [Welcome to Streamlit](https://docs.streamlit.io/en/stable/)"
   ]
  },
  {
   "cell_type": "markdown",
   "metadata": {},
   "source": [
    "[Running streamlit in a Jupyter cell?](https://discuss.streamlit.io/t/running-streamlit-in-a-jupyter-cell/584)\n",
    "\n",
    "**It’s not currently possible to run Streamlit inside Jupyter**. There are several reasons for this, but the most fundamental one is: Streamlit starts a server on the main thread, so it would block the Jupyter kernel and you wouldn’t be able to use it for anything else.\n",
    "\n",
    "The way Streamlit addresses the problem of “quick iteration”, is to watch your Python files and live-update the app when the files change.\n",
    "\n",
    "So the quick iteration loop in Streamlit is:\n",
    "\n",
    "1. write my_app.py\n",
    "2. strealmit run my_app.py\n",
    "3. edit my_app.py and save\n",
    "4. click “Always rerun” on the top-right prompt in Streamlit\n",
    "   From now on every time you save the app will immediately update.\n",
    "   So:\n",
    "5. edit my_app.py and save again\n",
    "    → The app will automatically update\n",
    "6. edit my_app.py and save again\n",
    "    → The app will automatically update\n",
    "    etc."
   ]
  },
  {
   "cell_type": "markdown",
   "metadata": {},
   "source": [
    "Para ejecutar la Web App resultante:\n",
    "\n",
    "1. Abrir el Anaconda Prompt (como Administrador)\n",
    "   - Si aún no se ha instalado `streamlit`: `pip install streamlit`\n",
    "2. Ejecutar la siguiente línea: `streamlit run <nombre_archivo.py>`\n",
    "3. Se abrirá una nueva pestaña en Chrome\n",
    "4. Si se efectúan cambios en el código, actualizar (F5) dicha pestaña tras haber guardado"
   ]
  },
  {
   "cell_type": "code",
   "execution_count": 8,
   "metadata": {
    "scrolled": true
   },
   "outputs": [
    {
     "name": "stdout",
     "output_type": "stream",
     "text": [
      "Overwriting Exercise_5_web_service.py\n"
     ]
    }
   ],
   "source": [
    "%%writefile Exercise_5_web_service.py\n",
    "\n",
    "# Importación de los módulos necesarios:\n",
    "import numpy as np\n",
    "import pandas as pd\n",
    "import json\n",
    "import streamlit as st\n",
    "import altair as alt\n",
    "\n",
    "# Declaración de rutas para lectura/escritura de archivos:\n",
    "compartido_windows = \"C:/Users/turge/CompartidoVM/Python_HostMachine_Windows\"\n",
    "csv_path = compartido_windows + '/Exercise_2_result_df_withdup.csv'\n",
    "json_path = compartido_windows + '/Exercise_5_json.json'\n",
    "\n",
    "\n",
    "######## Comienzo del diseño del Web Service ########   \n",
    "\n",
    "# Encabezados iniciales:\n",
    "st.title('Exercise 5 - Web Service')\n",
    "st.subheader('This is a Web Service which returns the data from Exercise 2 in a JSON format.')\n",
    "# Botón de testeo:\n",
    "if st.button('WELCOME!'):\n",
    "    st.write('Welcome to this Web App!')\n",
    "else:\n",
    "    st.write('Are you ready?')\n",
    "# Mostrar resultados:    \n",
    "st.markdown(\"\"\"\n",
    "### This is the data resulting from Exercise 2:\n",
    "\"\"\")\n",
    "\n",
    "x = st.slider(label='Select the number or airports you want to see:',\n",
    "              min_value=1,\n",
    "              max_value=100, # En realidad, habría hasta 2275 aeropuertos, pero para mejor visualización\n",
    "              value=11,\n",
    "              step=10)\n",
    "st.text('You have selected {} airports.'.format(x-1))\n",
    "\n",
    "if x > 0:\n",
    "    # Preparación de datos para el Web Service:\n",
    "    df = pd.read_csv(csv_path, delimiter='^', nrows=x)\n",
    "    df_json = json.dumps(df.to_dict()) # volcado del DataFrame en un formato JSON\n",
    "    st.json(df_json)\n",
    "    # Generación del gráfico de barras horizontal:    \n",
    "    bars_h = alt.Chart(df).mark_bar().encode(\n",
    "        x='pax:Q',\n",
    "        y=alt.Y('arr_port:N', sort='-x')\n",
    "    ).properties(\n",
    "        # width=300,\n",
    "        # height=150,\n",
    "        title='Pax vs Arrival_Airport'\n",
    "    ).interactive()\n",
    "    # Generación del gráfico de barras vertical:    \n",
    "    bars_v = alt.Chart(df).mark_bar().encode(\n",
    "        x=alt.X('arr_port:N', sort='-x'),\n",
    "        y=alt.Y('pax:Q')\n",
    "    ).properties(\n",
    "        # width=300,\n",
    "        # height=150,\n",
    "        title='Pax vs Arrival_Airport'\n",
    "    ).interactive()\n",
    "    # Checkbox: mostrar/ocultar gráfico\n",
    "    st.markdown(\"\"\"\n",
    "    #### Do you want to visualize the data in a graphical way?\n",
    "    \"\"\")\n",
    "    graph = st.checkbox(label ='Show graph', value=False)\n",
    "    if graph:\n",
    "        st.markdown(\"\"\"\n",
    "        ### Below is presented such data in a graphical mode:\n",
    "        \"\"\")\n",
    "        # Radio button: gráfico horizontal/vertical\n",
    "        bar_type = st.radio(label=\"Select the type of graph:\",\n",
    "                            options=['Horizontal', 'Vertical'],\n",
    "                            index=0)\n",
    "        if bar_type == 'Horizontal':\n",
    "            st.write(bars_h)\n",
    "        elif bar_type == 'Vertical':\n",
    "            st.write(bars_v)\n",
    "        # st.balloons() # Chorrada graciosa\n",
    "    else:\n",
    "        st.text(\"(Nothing to show)\")\n",
    "\n",
    "######## Fin del diseño del Web Service ########\n"
   ]
  },
  {
   "cell_type": "code",
   "execution_count": null,
   "metadata": {},
   "outputs": [],
   "source": []
  }
 ],
 "metadata": {
  "kernelspec": {
   "display_name": "Python 3",
   "language": "python",
   "name": "python3"
  },
  "language_info": {
   "codemirror_mode": {
    "name": "ipython",
    "version": 3
   },
   "file_extension": ".py",
   "mimetype": "text/x-python",
   "name": "python",
   "nbconvert_exporter": "python",
   "pygments_lexer": "ipython3",
   "version": "3.8.5"
  }
 },
 "nbformat": 4,
 "nbformat_minor": 4
}
