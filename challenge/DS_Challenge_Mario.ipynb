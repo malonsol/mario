{
 "cells": [
  {
   "cell_type": "markdown",
   "metadata": {},
   "source": [
    "Los datos  se encuentran en la máquina virtual:\n",
    "\n",
    "`/home/dsc/Data/challenge`:\n",
    "- `bookings.csv.bz2`\n",
    "- `searches.csv.bz2`"
   ]
  },
  {
   "cell_type": "markdown",
   "metadata": {},
   "source": [
    "## Exercise 1\n",
    "\n",
    "#### Count the number of lines in Python for each file"
   ]
  },
  {
   "cell_type": "markdown",
   "metadata": {},
   "source": [
    "[How to decompress a .bz2 file](https://superuser.com/questions/480950/how-to-decompress-a-bz2-file)\n",
    "\n",
    "- Modify original content: `bzip2 -d filename.bz2`\n",
    "- Preserve original content: `bzip2 -dk filename.bz2`\n",
    "\n",
    "\n",
    "[How can I view a compressed file content](https://stackoverflow.com/questions/12646843/how-can-i-view-a-compressed-file-content)\n",
    "\n",
    "You can use bzcat and pipe its output:\n",
    "\n",
    "     echo '1' > test\n",
    "     bzip2 test\n",
    "     bzcat test.bz2\n",
    "     >>> 1\n"
   ]
  },
  {
   "cell_type": "markdown",
   "metadata": {},
   "source": [
    "[Passing Values to and from the Shell](https://jakevdp.github.io/PythonDataScienceHandbook/01.05-ipython-and-shell-commands.html#Passing-Values-to-and-from-the-Shell)\n",
    "\n",
    "You can save the output of any shell command to a Python list using the assignment operator:\n",
    " \n",
    "    In [4]: contents = !ls\n",
    "\n",
    "    In [5]: print(contents)\n",
    "    ['myproject.txt']\n",
    "    \n",
    "Communication in the other direction–passing Python variables into the shell–is possible using the {varname} syntax:\n",
    "\n",
    "    In [9]: message = \"hello from Python\"\n",
    "\n",
    "    In [10]: !echo {message}\n",
    "    hello from Python"
   ]
  },
  {
   "cell_type": "code",
   "execution_count": 1,
   "metadata": {
    "scrolled": true
   },
   "outputs": [
    {
     "name": "stdout",
     "output_type": "stream",
     "text": [
      "bookings.csv.bz2  searches.csv.bz2\r\n"
     ]
    }
   ],
   "source": [
    "!ls /home/dsc/Data/challenge"
   ]
  },
  {
   "cell_type": "markdown",
   "metadata": {},
   "source": [
    "Dado que son archivos muy grandes, hacemos un archivo con una muestra de las 10000 primeras filas, y manejaremos ese en adelante para las pruebas iniciales."
   ]
  },
  {
   "cell_type": "code",
   "execution_count": 2,
   "metadata": {},
   "outputs": [
    {
     "name": "stdout",
     "output_type": "stream",
     "text": [
      "\r\n",
      "bzcat: I/O or other error, bailing out.  Possible reason follows.\r\n",
      "bzcat: Broken pipe\r\n",
      "\tInput file = /home/dsc/Data/challenge/bookings.csv.bz2, output file = (stdout)\r\n"
     ]
    }
   ],
   "source": [
    "!bzcat /home/dsc/Data/challenge/bookings.csv.bz2 | head -n 10000 > bookings.sample.csv"
   ]
  },
  {
   "cell_type": "code",
   "execution_count": 3,
   "metadata": {},
   "outputs": [],
   "source": [
    "!bzip2 -f bookings.sample.csv"
   ]
  },
  {
   "cell_type": "code",
   "execution_count": 4,
   "metadata": {
    "scrolled": true
   },
   "outputs": [
    {
     "name": "stdout",
     "output_type": "stream",
     "text": [
      "total 784\r\n",
      "-rw-rw-r-- 1 dsc dsc 535893 nov 21 09:13 bookings.sample.csv.bz2\r\n",
      "-rwxrwxrwx 1 dsc dsc  18535 nov 21 09:13 DS_Challenge_Mario.ipynb\r\n",
      "-rw-rw-r-- 1 dsc dsc 244720 nov 20 21:48 searches.sample.csv.bz2\r\n"
     ]
    }
   ],
   "source": [
    "!ls -l"
   ]
  },
  {
   "cell_type": "markdown",
   "metadata": {},
   "source": [
    "Confirmamos que ya tenemos un archivo \"juguete\" para empezar a trabajar."
   ]
  },
  {
   "cell_type": "code",
   "execution_count": 5,
   "metadata": {},
   "outputs": [
    {
     "name": "stdout",
     "output_type": "stream",
     "text": [
      "10000\n",
      "CPU times: user 22.7 ms, sys: 8.84 ms, total: 31.5 ms\n",
      "Wall time: 906 ms\n"
     ]
    }
   ],
   "source": [
    "%%time\n",
    "\n",
    "!bzcat bookings.sample.csv.bz2 | wc -l"
   ]
  },
  {
   "cell_type": "code",
   "execution_count": 6,
   "metadata": {},
   "outputs": [],
   "source": [
    "import bz2"
   ]
  },
  {
   "cell_type": "code",
   "execution_count": 7,
   "metadata": {},
   "outputs": [],
   "source": [
    "fileBz2 = bz2.BZ2File('bookings.sample.csv.bz2')"
   ]
  },
  {
   "cell_type": "code",
   "execution_count": 8,
   "metadata": {},
   "outputs": [
    {
     "data": {
      "text/plain": [
       "bz2.BZ2File"
      ]
     },
     "execution_count": 8,
     "metadata": {},
     "output_type": "execute_result"
    }
   ],
   "source": [
    "type(fileBz2)"
   ]
  },
  {
   "cell_type": "code",
   "execution_count": 9,
   "metadata": {},
   "outputs": [
    {
     "name": "stdout",
     "output_type": "stream",
     "text": [
      "10000\n"
     ]
    }
   ],
   "source": [
    "fileBz2 = bz2.BZ2File('bookings.sample.csv.bz2')\n",
    "\n",
    "k = 0\n",
    "for line in fileBz2:\n",
    "    k += 1\n",
    "print(k)"
   ]
  },
  {
   "cell_type": "code",
   "execution_count": 10,
   "metadata": {},
   "outputs": [
    {
     "data": {
      "text/plain": [
       "False"
      ]
     },
     "execution_count": 10,
     "metadata": {},
     "output_type": "execute_result"
    }
   ],
   "source": [
    "fileBz2.closed"
   ]
  },
  {
   "cell_type": "code",
   "execution_count": 11,
   "metadata": {},
   "outputs": [],
   "source": [
    "fileBz2.close()"
   ]
  },
  {
   "cell_type": "markdown",
   "metadata": {},
   "source": [
    "Para evitar el problema de olvidar cerrar el archivo..."
   ]
  },
  {
   "cell_type": "code",
   "execution_count": 12,
   "metadata": {},
   "outputs": [
    {
     "name": "stdout",
     "output_type": "stream",
     "text": [
      "10000\n"
     ]
    }
   ],
   "source": [
    "with bz2.BZ2File('bookings.sample.csv.bz2') as fileBz2:\n",
    "    k = 0\n",
    "    for line in fileBz2:\n",
    "        k += 1\n",
    "# Cuando sales del \"with\" se cierra el archivo, y se previene así el problema del puntero\n",
    "print(k)"
   ]
  },
  {
   "cell_type": "code",
   "execution_count": 13,
   "metadata": {
    "scrolled": true
   },
   "outputs": [
    {
     "name": "stdout",
     "output_type": "stream",
     "text": [
      "\r\n",
      "bzcat: I/O or other error, bailing out.  Possible reason follows.\r\n",
      "bzcat: Broken pipe\r\n",
      "\tInput file = /home/dsc/Data/challenge/bookings.csv.bz2, output file = (stdout)\r\n"
     ]
    }
   ],
   "source": [
    "!bzcat /home/dsc/Data/challenge/bookings.csv.bz2 | head -n 10000 > searches.sample.csv"
   ]
  },
  {
   "cell_type": "code",
   "execution_count": 14,
   "metadata": {},
   "outputs": [],
   "source": [
    "!bzip2 -f searches.sample.csv"
   ]
  },
  {
   "cell_type": "code",
   "execution_count": 15,
   "metadata": {},
   "outputs": [
    {
     "name": "stdout",
     "output_type": "stream",
     "text": [
      "10000\n",
      "CPU times: user 16.9 ms, sys: 4.78 ms, total: 21.7 ms\n",
      "Wall time: 671 ms\n"
     ]
    }
   ],
   "source": [
    "%%time\n",
    "\n",
    "!bzcat searches.sample.csv.bz2 | wc -l"
   ]
  },
  {
   "cell_type": "code",
   "execution_count": 16,
   "metadata": {},
   "outputs": [
    {
     "name": "stdout",
     "output_type": "stream",
     "text": [
      "10000\n"
     ]
    }
   ],
   "source": [
    "with bz2.BZ2File('searches.sample.csv.bz2') as fileBz2:\n",
    "    k = 0\n",
    "    for line in fileBz2:\n",
    "        k += 1\n",
    "# Cuando sales del \"with\" se cierra el archivo, y se previene así el problema del puntero\n",
    "print(k)"
   ]
  },
  {
   "cell_type": "code",
   "execution_count": 17,
   "metadata": {},
   "outputs": [
    {
     "data": {
      "text/plain": [
       "True"
      ]
     },
     "execution_count": 17,
     "metadata": {},
     "output_type": "execute_result"
    }
   ],
   "source": [
    "# Comprobación de que está cerrado:\n",
    "fileBz2.closed"
   ]
  },
  {
   "cell_type": "markdown",
   "metadata": {},
   "source": [
    "## Exercise 2\n",
    "\n",
    "#### Top 10 arrival airports in the world in 2013 (using the bookings file)\n",
    "\n",
    "- Arrival airport is the column arr_port. It is the IATA code for the airport\n",
    "- To get the total number of passengers for an airport, you can sum the column pax, grouping by arr_port. Note that there is negative pax. That corresponds to cancelations. So to get the total number of passengers that have actually booked, you should sum including the negatives (that will remove the canceled bookings).\n",
    "- Print the top 10 arrival airports in the standard output, including the number of passengers.\n",
    "- **Bonus point**: Get the name of the city or airport corresponding to that airport (programatically, we suggest to have a look at **GeoBases in Github**)\n",
    "- **Bonus point**: Solve this problem using pandas (instead of any other approach)"
   ]
  },
  {
   "cell_type": "markdown",
   "metadata": {},
   "source": [
    "[Large, persistent DataFrame in pandas](https://stackoverflow.com/questions/11622652/large-persistent-dataframe-in-pandas/12193309#12193309)"
   ]
  },
  {
   "cell_type": "raw",
   "metadata": {},
   "source": [
    "%%time\n",
    "\n",
    "# 'chunksize' indica el número de filas que se asignará a cada trozo del iterador (TextFileReader)\n",
    "\n",
    "import pandas as pd\n",
    "\n",
    "tp = pd.read_csv('/home/dsc/Data/challenge/bookings.csv.bz2', sep='^', iterator=True, chunksize=1000)  # gives TextFileReader, which is iterable with chunks of 1000 rows.\n",
    "df = pd.concat(tp, ignore_index=True)  # df is DataFrame. If errors, do `list(tp)` instead of `tp`\n",
    "\n",
    "# Kernel died..."
   ]
  },
  {
   "cell_type": "raw",
   "metadata": {},
   "source": [
    "reader.get_chunk(1e7) \n",
    "\n",
    "# Kernel died..."
   ]
  },
  {
   "cell_type": "code",
   "execution_count": 18,
   "metadata": {},
   "outputs": [],
   "source": [
    "# %%time\n",
    "\n",
    "# import pandas as pd\n",
    "\n",
    "# tp = pd.read_csv('/home/dsc/Data/challenge/bookings.csv.bz2', sep='^', iterator=True, chunksize=1000)  # gives TextFileReader, which is iterable with chunks of 1000 rows.\n",
    "# # df = pd.concat(tp, ignore_index=True)  # df is DataFrame. If errors, do `list(tp)` instead of `tp`\n",
    "\n",
    "# for chunk in tp:\n",
    "#     cols = chunk.columns\n",
    "#     new_cols = []\n",
    "#     for col in cols:\n",
    "#         new_col = col.strip()\n",
    "#         new_cols.append(new_col)\n",
    "#     chunk.columns = new_cols\n",
    "#     break\n",
    "# chunk.columns"
   ]
  },
  {
   "cell_type": "code",
   "execution_count": 19,
   "metadata": {
    "scrolled": true
   },
   "outputs": [],
   "source": [
    "# %%time\n",
    "\n",
    "# arr_port = ! bzcat /home/dsc/Data/challenge/bookings.csv.bz2 | cut -d \"^\" -f 13"
   ]
  },
  {
   "cell_type": "code",
   "execution_count": 20,
   "metadata": {},
   "outputs": [
    {
     "data": {
      "text/html": [
       "<div>\n",
       "<style scoped>\n",
       "    .dataframe tbody tr th:only-of-type {\n",
       "        vertical-align: middle;\n",
       "    }\n",
       "\n",
       "    .dataframe tbody tr th {\n",
       "        vertical-align: top;\n",
       "    }\n",
       "\n",
       "    .dataframe thead th {\n",
       "        text-align: right;\n",
       "    }\n",
       "</style>\n",
       "<table border=\"1\" class=\"dataframe\">\n",
       "  <thead>\n",
       "    <tr style=\"text-align: right;\">\n",
       "      <th></th>\n",
       "      <th>act_date</th>\n",
       "      <th>source</th>\n",
       "      <th>pos_ctry</th>\n",
       "      <th>pos_iata</th>\n",
       "      <th>pos_oid</th>\n",
       "      <th>rloc</th>\n",
       "      <th>cre_date</th>\n",
       "      <th>duration</th>\n",
       "      <th>distance</th>\n",
       "      <th>dep_port</th>\n",
       "      <th>...</th>\n",
       "      <th>route</th>\n",
       "      <th>carrier</th>\n",
       "      <th>bkg_class</th>\n",
       "      <th>cab_class</th>\n",
       "      <th>brd_time</th>\n",
       "      <th>off_time</th>\n",
       "      <th>pax</th>\n",
       "      <th>year</th>\n",
       "      <th>month</th>\n",
       "      <th>oid</th>\n",
       "    </tr>\n",
       "  </thead>\n",
       "  <tbody>\n",
       "    <tr>\n",
       "      <th>0</th>\n",
       "      <td>2013-03-05 00:00:00</td>\n",
       "      <td>1A</td>\n",
       "      <td>DE</td>\n",
       "      <td>a68dd7ae953c8acfb187a1af2dcbe123</td>\n",
       "      <td>1a11ae49fcbf545fd2afc1a24d88d2b7</td>\n",
       "      <td>ea65900e72d71f4626378e2ebd298267</td>\n",
       "      <td>2013-02-22 00:00:00</td>\n",
       "      <td>1708</td>\n",
       "      <td>0</td>\n",
       "      <td>ZRH</td>\n",
       "      <td>...</td>\n",
       "      <td>LHRZRH</td>\n",
       "      <td>VI</td>\n",
       "      <td>T</td>\n",
       "      <td>Y</td>\n",
       "      <td>2013-03-07 08:50:00</td>\n",
       "      <td>2013-03-07 11:33:37</td>\n",
       "      <td>-1</td>\n",
       "      <td>2013</td>\n",
       "      <td>3</td>\n",
       "      <td>NULL</td>\n",
       "    </tr>\n",
       "    <tr>\n",
       "      <th>1</th>\n",
       "      <td>2013-03-26 00:00:00</td>\n",
       "      <td>1A</td>\n",
       "      <td>US</td>\n",
       "      <td>e612b9eeeee6f17f42d9b0d3b79e75ca</td>\n",
       "      <td>7437560d8f276d6d05eeb806d9e7edee</td>\n",
       "      <td>737295a86982c941f1c2da9a46a14043</td>\n",
       "      <td>2013-03-26 00:00:00</td>\n",
       "      <td>135270</td>\n",
       "      <td>0</td>\n",
       "      <td>SAL</td>\n",
       "      <td>...</td>\n",
       "      <td>SALATLCLT</td>\n",
       "      <td>NV</td>\n",
       "      <td>L</td>\n",
       "      <td>Y</td>\n",
       "      <td>2013-04-12 13:04:00</td>\n",
       "      <td>2013-04-12 22:05:40</td>\n",
       "      <td>1</td>\n",
       "      <td>2013</td>\n",
       "      <td>3</td>\n",
       "      <td>NULL</td>\n",
       "    </tr>\n",
       "    <tr>\n",
       "      <th>2</th>\n",
       "      <td>2013-03-26 00:00:00</td>\n",
       "      <td>1A</td>\n",
       "      <td>US</td>\n",
       "      <td>e612b9eeeee6f17f42d9b0d3b79e75ca</td>\n",
       "      <td>7437560d8f276d6d05eeb806d9e7edee</td>\n",
       "      <td>737295a86982c941f1c2da9a46a14043</td>\n",
       "      <td>2013-03-26 00:00:00</td>\n",
       "      <td>135270</td>\n",
       "      <td>0</td>\n",
       "      <td>SAL</td>\n",
       "      <td>...</td>\n",
       "      <td>CLTATLSAL</td>\n",
       "      <td>NV</td>\n",
       "      <td>U</td>\n",
       "      <td>Y</td>\n",
       "      <td>2013-07-15 07:00:00</td>\n",
       "      <td>2013-07-15 11:34:51</td>\n",
       "      <td>1</td>\n",
       "      <td>2013</td>\n",
       "      <td>3</td>\n",
       "      <td>NULL</td>\n",
       "    </tr>\n",
       "    <tr>\n",
       "      <th>3</th>\n",
       "      <td>2013-03-26 00:00:00</td>\n",
       "      <td>1A</td>\n",
       "      <td>AU</td>\n",
       "      <td>0f984b3bb6bd06661c95529bbd6193bc</td>\n",
       "      <td>36472c6dbaf7afec9136ac40364e2794</td>\n",
       "      <td>5ecf00fdcbcec761c43dc7285253d0c1</td>\n",
       "      <td>2013-03-26 00:00:00</td>\n",
       "      <td>30885</td>\n",
       "      <td>0</td>\n",
       "      <td>AKL</td>\n",
       "      <td>...</td>\n",
       "      <td>AKLHKGSVO</td>\n",
       "      <td>XK</td>\n",
       "      <td>G</td>\n",
       "      <td>Y</td>\n",
       "      <td>2013-04-24 23:59:00</td>\n",
       "      <td>2013-04-25 16:06:31</td>\n",
       "      <td>1</td>\n",
       "      <td>2013</td>\n",
       "      <td>3</td>\n",
       "      <td>SYDA82546</td>\n",
       "    </tr>\n",
       "    <tr>\n",
       "      <th>4</th>\n",
       "      <td>2013-03-26 00:00:00</td>\n",
       "      <td>1A</td>\n",
       "      <td>AU</td>\n",
       "      <td>0f984b3bb6bd06661c95529bbd6193bc</td>\n",
       "      <td>36472c6dbaf7afec9136ac40364e2794</td>\n",
       "      <td>5ecf00fdcbcec761c43dc7285253d0c1</td>\n",
       "      <td>2013-03-26 00:00:00</td>\n",
       "      <td>30885</td>\n",
       "      <td>0</td>\n",
       "      <td>AKL</td>\n",
       "      <td>...</td>\n",
       "      <td>SVOHKGAKL</td>\n",
       "      <td>XK</td>\n",
       "      <td>G</td>\n",
       "      <td>Y</td>\n",
       "      <td>2013-05-14 20:15:00</td>\n",
       "      <td>2013-05-16 10:44:50</td>\n",
       "      <td>1</td>\n",
       "      <td>2013</td>\n",
       "      <td>3</td>\n",
       "      <td>SYDA82546</td>\n",
       "    </tr>\n",
       "  </tbody>\n",
       "</table>\n",
       "<p>5 rows × 38 columns</p>\n",
       "</div>"
      ],
      "text/plain": [
       "   act_date             source  pos_ctry                          pos_iata  \\\n",
       "0  2013-03-05 00:00:00  1A      DE        a68dd7ae953c8acfb187a1af2dcbe123   \n",
       "1  2013-03-26 00:00:00  1A      US        e612b9eeeee6f17f42d9b0d3b79e75ca   \n",
       "2  2013-03-26 00:00:00  1A      US        e612b9eeeee6f17f42d9b0d3b79e75ca   \n",
       "3  2013-03-26 00:00:00  1A      AU        0f984b3bb6bd06661c95529bbd6193bc   \n",
       "4  2013-03-26 00:00:00  1A      AU        0f984b3bb6bd06661c95529bbd6193bc   \n",
       "\n",
       "                          pos_oid                      rloc            \\\n",
       "0  1a11ae49fcbf545fd2afc1a24d88d2b7  ea65900e72d71f4626378e2ebd298267   \n",
       "1  7437560d8f276d6d05eeb806d9e7edee  737295a86982c941f1c2da9a46a14043   \n",
       "2  7437560d8f276d6d05eeb806d9e7edee  737295a86982c941f1c2da9a46a14043   \n",
       "3  36472c6dbaf7afec9136ac40364e2794  5ecf00fdcbcec761c43dc7285253d0c1   \n",
       "4  36472c6dbaf7afec9136ac40364e2794  5ecf00fdcbcec761c43dc7285253d0c1   \n",
       "\n",
       "   cre_date             duration  distance  dep_port  ...  route            \\\n",
       "0  2013-02-22 00:00:00      1708         0  ZRH       ...  LHRZRH            \n",
       "1  2013-03-26 00:00:00    135270         0  SAL       ...  SALATLCLT         \n",
       "2  2013-03-26 00:00:00    135270         0  SAL       ...  CLTATLSAL         \n",
       "3  2013-03-26 00:00:00     30885         0  AKL       ...  AKLHKGSVO         \n",
       "4  2013-03-26 00:00:00     30885         0  AKL       ...  SVOHKGAKL         \n",
       "\n",
       "  carrier  bkg_class  cab_class  brd_time             off_time            pax  \\\n",
       "0      VI  T          Y          2013-03-07 08:50:00  2013-03-07 11:33:37  -1   \n",
       "1      NV  L          Y          2013-04-12 13:04:00  2013-04-12 22:05:40   1   \n",
       "2      NV  U          Y          2013-07-15 07:00:00  2013-07-15 11:34:51   1   \n",
       "3      XK  G          Y          2013-04-24 23:59:00  2013-04-25 16:06:31   1   \n",
       "4      XK  G          Y          2013-05-14 20:15:00  2013-05-16 10:44:50   1   \n",
       "\n",
       "   year month  oid        \n",
       "0  2013     3  NULL       \n",
       "1  2013     3  NULL       \n",
       "2  2013     3  NULL       \n",
       "3  2013     3  SYDA82546  \n",
       "4  2013     3  SYDA82546  \n",
       "\n",
       "[5 rows x 38 columns]"
      ]
     },
     "execution_count": 20,
     "metadata": {},
     "output_type": "execute_result"
    }
   ],
   "source": [
    "# Trabajando con el sample:\n",
    "\n",
    "import pandas as pd\n",
    "\n",
    "df = pd.read_csv('bookings.sample.csv.bz2', sep='^')\n",
    "df.head()"
   ]
  },
  {
   "cell_type": "code",
   "execution_count": 21,
   "metadata": {},
   "outputs": [
    {
     "data": {
      "text/plain": [
       "Index(['act_date           ', 'source', 'pos_ctry', 'pos_iata', 'pos_oid  ',\n",
       "       'rloc          ', 'cre_date           ', 'duration', 'distance',\n",
       "       'dep_port', 'dep_city', 'dep_ctry', 'arr_port', 'arr_city', 'arr_ctry',\n",
       "       'lst_port', 'lst_city', 'lst_ctry', 'brd_port', 'brd_city', 'brd_ctry',\n",
       "       'off_port', 'off_city', 'off_ctry', 'mkt_port', 'mkt_city', 'mkt_ctry',\n",
       "       'intl', 'route          ', 'carrier', 'bkg_class', 'cab_class',\n",
       "       'brd_time           ', 'off_time           ', 'pax', 'year', 'month',\n",
       "       'oid      '],\n",
       "      dtype='object')"
      ]
     },
     "execution_count": 21,
     "metadata": {},
     "output_type": "execute_result"
    }
   ],
   "source": [
    "df.columns"
   ]
  },
  {
   "cell_type": "code",
   "execution_count": 22,
   "metadata": {
    "scrolled": true
   },
   "outputs": [
    {
     "data": {
      "text/plain": [
       "Index(['act_date', 'source', 'pos_ctry', 'pos_iata', 'pos_oid', 'rloc',\n",
       "       'cre_date', 'duration', 'distance', 'dep_port', 'dep_city', 'dep_ctry',\n",
       "       'arr_port', 'arr_city', 'arr_ctry', 'lst_port', 'lst_city', 'lst_ctry',\n",
       "       'brd_port', 'brd_city', 'brd_ctry', 'off_port', 'off_city', 'off_ctry',\n",
       "       'mkt_port', 'mkt_city', 'mkt_ctry', 'intl', 'route', 'carrier',\n",
       "       'bkg_class', 'cab_class', 'brd_time', 'off_time', 'pax', 'year',\n",
       "       'month', 'oid'],\n",
       "      dtype='object')"
      ]
     },
     "execution_count": 22,
     "metadata": {},
     "output_type": "execute_result"
    }
   ],
   "source": [
    "new_cols = []\n",
    "for col in df.columns:\n",
    "    new_col = col.strip()\n",
    "    new_cols.append(new_col)\n",
    "    \n",
    "df.columns = new_cols\n",
    "df.columns"
   ]
  },
  {
   "cell_type": "code",
   "execution_count": 23,
   "metadata": {},
   "outputs": [
    {
     "data": {
      "text/plain": [
       "3638"
      ]
     },
     "execution_count": 23,
     "metadata": {},
     "output_type": "execute_result"
    }
   ],
   "source": [
    "df['rloc'].nunique()"
   ]
  },
  {
   "cell_type": "code",
   "execution_count": 24,
   "metadata": {
    "scrolled": true
   },
   "outputs": [
    {
     "data": {
      "text/html": [
       "<div>\n",
       "<style scoped>\n",
       "    .dataframe tbody tr th:only-of-type {\n",
       "        vertical-align: middle;\n",
       "    }\n",
       "\n",
       "    .dataframe tbody tr th {\n",
       "        vertical-align: top;\n",
       "    }\n",
       "\n",
       "    .dataframe thead th {\n",
       "        text-align: right;\n",
       "    }\n",
       "</style>\n",
       "<table border=\"1\" class=\"dataframe\">\n",
       "  <thead>\n",
       "    <tr style=\"text-align: right;\">\n",
       "      <th></th>\n",
       "      <th>duration</th>\n",
       "      <th>distance</th>\n",
       "      <th>intl</th>\n",
       "      <th>pax</th>\n",
       "      <th>year</th>\n",
       "      <th>month</th>\n",
       "    </tr>\n",
       "    <tr>\n",
       "      <th>arr_port</th>\n",
       "      <th></th>\n",
       "      <th></th>\n",
       "      <th></th>\n",
       "      <th></th>\n",
       "      <th></th>\n",
       "      <th></th>\n",
       "    </tr>\n",
       "  </thead>\n",
       "  <tbody>\n",
       "    <tr>\n",
       "      <th>AAL</th>\n",
       "      <td>128</td>\n",
       "      <td>476</td>\n",
       "      <td>0</td>\n",
       "      <td>0</td>\n",
       "      <td>4026</td>\n",
       "      <td>6</td>\n",
       "    </tr>\n",
       "    <tr>\n",
       "      <th>ABQ</th>\n",
       "      <td>132562</td>\n",
       "      <td>0</td>\n",
       "      <td>0</td>\n",
       "      <td>12</td>\n",
       "      <td>24156</td>\n",
       "      <td>36</td>\n",
       "    </tr>\n",
       "    <tr>\n",
       "      <th>ABV</th>\n",
       "      <td>655719</td>\n",
       "      <td>890</td>\n",
       "      <td>4</td>\n",
       "      <td>2</td>\n",
       "      <td>12078</td>\n",
       "      <td>18</td>\n",
       "    </tr>\n",
       "    <tr>\n",
       "      <th>ABZ</th>\n",
       "      <td>373104</td>\n",
       "      <td>0</td>\n",
       "      <td>6</td>\n",
       "      <td>-6</td>\n",
       "      <td>12078</td>\n",
       "      <td>18</td>\n",
       "    </tr>\n",
       "    <tr>\n",
       "      <th>ACC</th>\n",
       "      <td>753561</td>\n",
       "      <td>8252</td>\n",
       "      <td>12</td>\n",
       "      <td>4</td>\n",
       "      <td>24156</td>\n",
       "      <td>36</td>\n",
       "    </tr>\n",
       "    <tr>\n",
       "      <th>...</th>\n",
       "      <td>...</td>\n",
       "      <td>...</td>\n",
       "      <td>...</td>\n",
       "      <td>...</td>\n",
       "      <td>...</td>\n",
       "      <td>...</td>\n",
       "    </tr>\n",
       "    <tr>\n",
       "      <th>YZF</th>\n",
       "      <td>11194</td>\n",
       "      <td>0</td>\n",
       "      <td>2</td>\n",
       "      <td>4</td>\n",
       "      <td>4026</td>\n",
       "      <td>6</td>\n",
       "    </tr>\n",
       "    <tr>\n",
       "      <th>ZAG</th>\n",
       "      <td>164584</td>\n",
       "      <td>108</td>\n",
       "      <td>4</td>\n",
       "      <td>-4</td>\n",
       "      <td>12078</td>\n",
       "      <td>18</td>\n",
       "    </tr>\n",
       "    <tr>\n",
       "      <th>ZNZ</th>\n",
       "      <td>96800</td>\n",
       "      <td>0</td>\n",
       "      <td>3</td>\n",
       "      <td>1</td>\n",
       "      <td>10065</td>\n",
       "      <td>15</td>\n",
       "    </tr>\n",
       "    <tr>\n",
       "      <th>ZRH</th>\n",
       "      <td>850236</td>\n",
       "      <td>5990</td>\n",
       "      <td>44</td>\n",
       "      <td>16</td>\n",
       "      <td>102663</td>\n",
       "      <td>153</td>\n",
       "    </tr>\n",
       "    <tr>\n",
       "      <th>ZYL</th>\n",
       "      <td>25449</td>\n",
       "      <td>16028</td>\n",
       "      <td>3</td>\n",
       "      <td>-1</td>\n",
       "      <td>6039</td>\n",
       "      <td>9</td>\n",
       "    </tr>\n",
       "  </tbody>\n",
       "</table>\n",
       "<p>663 rows × 6 columns</p>\n",
       "</div>"
      ],
      "text/plain": [
       "          duration  distance  intl  pax    year  month\n",
       "arr_port                                              \n",
       "AAL            128       476     0    0    4026      6\n",
       "ABQ         132562         0     0   12   24156     36\n",
       "ABV         655719       890     4    2   12078     18\n",
       "ABZ         373104         0     6   -6   12078     18\n",
       "ACC         753561      8252    12    4   24156     36\n",
       "...            ...       ...   ...  ...     ...    ...\n",
       "YZF          11194         0     2    4    4026      6\n",
       "ZAG         164584       108     4   -4   12078     18\n",
       "ZNZ          96800         0     3    1   10065     15\n",
       "ZRH         850236      5990    44   16  102663    153\n",
       "ZYL          25449     16028     3   -1    6039      9\n",
       "\n",
       "[663 rows x 6 columns]"
      ]
     },
     "execution_count": 24,
     "metadata": {},
     "output_type": "execute_result"
    }
   ],
   "source": [
    "df.groupby(['arr_port']).sum()"
   ]
  },
  {
   "cell_type": "code",
   "execution_count": 25,
   "metadata": {},
   "outputs": [
    {
     "data": {
      "text/html": [
       "<div>\n",
       "<style scoped>\n",
       "    .dataframe tbody tr th:only-of-type {\n",
       "        vertical-align: middle;\n",
       "    }\n",
       "\n",
       "    .dataframe tbody tr th {\n",
       "        vertical-align: top;\n",
       "    }\n",
       "\n",
       "    .dataframe thead th {\n",
       "        text-align: right;\n",
       "    }\n",
       "</style>\n",
       "<table border=\"1\" class=\"dataframe\">\n",
       "  <thead>\n",
       "    <tr style=\"text-align: right;\">\n",
       "      <th></th>\n",
       "      <th>act_date</th>\n",
       "      <th>source</th>\n",
       "      <th>pos_ctry</th>\n",
       "      <th>pos_iata</th>\n",
       "      <th>pos_oid</th>\n",
       "      <th>rloc</th>\n",
       "      <th>cre_date</th>\n",
       "      <th>duration</th>\n",
       "      <th>distance</th>\n",
       "      <th>dep_port</th>\n",
       "      <th>...</th>\n",
       "      <th>route</th>\n",
       "      <th>carrier</th>\n",
       "      <th>bkg_class</th>\n",
       "      <th>cab_class</th>\n",
       "      <th>brd_time</th>\n",
       "      <th>off_time</th>\n",
       "      <th>pax</th>\n",
       "      <th>year</th>\n",
       "      <th>month</th>\n",
       "      <th>oid</th>\n",
       "    </tr>\n",
       "  </thead>\n",
       "  <tbody>\n",
       "  </tbody>\n",
       "</table>\n",
       "<p>0 rows × 38 columns</p>\n",
       "</div>"
      ],
      "text/plain": [
       "Empty DataFrame\n",
       "Columns: [act_date, source, pos_ctry, pos_iata, pos_oid, rloc, cre_date, duration, distance, dep_port, dep_city, dep_ctry, arr_port, arr_city, arr_ctry, lst_port, lst_city, lst_ctry, brd_port, brd_city, brd_ctry, off_port, off_city, off_ctry, mkt_port, mkt_city, mkt_ctry, intl, route, carrier, bkg_class, cab_class, brd_time, off_time, pax, year, month, oid]\n",
       "Index: []\n",
       "\n",
       "[0 rows x 38 columns]"
      ]
     },
     "execution_count": 25,
     "metadata": {},
     "output_type": "execute_result"
    }
   ],
   "source": [
    "df[df['arr_port'] == \"ABQ\"]"
   ]
  },
  {
   "cell_type": "code",
   "execution_count": 26,
   "metadata": {},
   "outputs": [
    {
     "data": {
      "text/plain": [
       "array(['LHR     ', 'CLT     ', 'SVO     ', 'LGA     ', 'SIN     ',\n",
       "       'TUS     ', 'CTA     ', 'YWG     ', 'PVG     ', 'SGC     ',\n",
       "       'ALG     ', 'DMM     ', 'LED     ', 'LIS     ', 'BLR     ',\n",
       "       'BWI     ', 'DEL     ', 'TPA     ', 'MNL     ', 'ULN     ',\n",
       "       'ZRH     ', 'ALA     ', 'FCO     ', 'AYT     ', 'MVD     ',\n",
       "       'CVG     ', 'OTP     ', 'CDG     ', 'HAV     ', 'NRT     ',\n",
       "       'BKK     ', 'MEX     ', 'SAV     ', 'EWR     ', 'SFO     ',\n",
       "       'DTW     ', 'OMA     ', 'YVR     ', 'ACC     ', 'SDF     ',\n",
       "       'CAI     ', 'TLV     ', 'ELP     ', 'HMO     ', 'LAS     ',\n",
       "       'BOI     ', 'TYR     ', 'ATL     ', 'IST     ', 'BBI     ',\n",
       "       'ISB     ', 'LCA     ', 'FRA     ', 'CAG     ', 'DCA     ',\n",
       "       'COS     ', 'SHA     ', 'DAY     ', 'MCO     ', 'BOS     ',\n",
       "       'TIA     ', 'SKG     ', 'LCY     ', 'SJD     ', 'DFW     ',\n",
       "       'LAX     ', 'ADD     ', 'PHX     ', 'LIR     ', 'SYD     ',\n",
       "       'MIA     ', 'MCI     ', 'YHZ     ', 'STL     ', 'OGG     ',\n",
       "       'HKG     ', 'TXL     ', 'WAW     ', 'LYR     ', 'MRS     ',\n",
       "       'IXE     ', 'BRU     ', 'MQN     ', 'JED     ', 'GAU     ',\n",
       "       'FAI     ', 'SJU     ', 'MUC     ', 'LIT     ', 'PDX     ',\n",
       "       'SXM     ', 'JAC     ', 'ATH     ', 'DOH     ', 'BCN     ',\n",
       "       'FAO     ', 'CCJ     ', 'CGK     ', 'COK     ', 'YUL     ',\n",
       "       'BNE     ', 'GUM     ', 'DXB     ', 'CCS     ', 'RUH     ',\n",
       "       'BUF     ', 'KIV     ', 'CZM     ', 'BNA     ', 'SGN     ',\n",
       "       'AUS     ', 'AGP     ', 'ORD     ', 'ORY     ', 'SNA     ',\n",
       "       'BEY     ', 'VPS     ', 'CUR     ', 'PBI     ', 'SDU     ',\n",
       "       'ANC     ', 'DEN     ', 'UVF     ', 'HNL     ', 'KUL     ',\n",
       "       'BRD     ', 'MAD     ', 'NAS     ', 'MSY     ', 'MEL     ',\n",
       "       'AMS     ', 'BHM     ', 'SOF     ', 'ICN     ', 'WDH     ',\n",
       "       'LIM     ', 'REN     ', 'SVQ     ', 'MAN     ', 'TLS     ',\n",
       "       'NBO     ', 'ASU     ', 'MED     ', 'GRU     ', 'CUN     ',\n",
       "       'CUZ     ', 'BOM     ', 'MSO     ', 'SAN     ', 'CHQ     ',\n",
       "       'JFK     ', 'PHL     ', 'BOG     ', 'YXE     ', 'SAT     ',\n",
       "       'MDZ     ', 'MLX     ', 'ISU     ', 'LAO     ', 'SSA     ',\n",
       "       'FUE     ', 'DAC     ', 'LIN     ', 'CBR     ', 'YYZ     ',\n",
       "       'FLL     ', 'BJV     ', 'MAA     ', 'BLQ     ', 'VVI     ',\n",
       "       'CAN     ', 'AMD     ', 'AUH     ', 'CMB     ', 'SMI     ',\n",
       "       'IND     ', 'LOS     ', 'DAB     ', 'OAK     ', 'ATQ     ',\n",
       "       'EZE     ', 'MGW     ', 'MCT     ', 'KHI     ', 'WRO     ',\n",
       "       'GIZ     ', 'YNB     ', 'SHV     ', 'HER     ', 'ALC     ',\n",
       "       'SDQ     ', 'RAK     ', 'BUD     ', 'YYC     ', 'JNB     ',\n",
       "       'JAX     ', 'PVR     ', 'BJX     ', 'SJO     ', 'MSN     ',\n",
       "       'MEM     ', 'TPE     ', 'PIT     ', 'CUL     ', 'JKH     ',\n",
       "       'CRK     ', 'KOA     ', 'DPS     ', 'MHT     ', 'SLC     ',\n",
       "       'YAY     ', 'RAI     ', 'AKL     ', 'RDU     ', 'FDH     ',\n",
       "       'AXM     ', 'GUA     ', 'DZA     ', 'LGW     ', 'HAM     ',\n",
       "       'ORN     ', 'QOW     ', 'DKR     ', 'KLX     ', 'GVA     ',\n",
       "       'DUB     ', 'BIQ     ', 'RTB     ', 'HDY     ', 'UIO     ',\n",
       "       'ERI     ', 'CMN     ', 'LSE     ', 'ALB     ', 'SJC     ',\n",
       "       'YCD     ', 'SNN     ', 'PER     ', 'PSA     ', 'ROV     ',\n",
       "       'MXP     ', 'RIC     ', 'ROA     ', 'BHX     ', 'CGN     ',\n",
       "       'BGO     ', 'FLR     ', 'DUR     ', 'IDR     ', 'BFN     ',\n",
       "       'AJF     ', 'ARH     ', 'SMF     ', 'SRQ     ', 'DUS     ',\n",
       "       'HYD     ', 'PUJ     ', 'BJA     ', 'KIN     ', 'POS     ',\n",
       "       'IAS     ', 'IAH     ', 'ISN     ', 'AVL     ', 'SEA     ',\n",
       "       'EBL     ', 'TAO     ', 'OAJ     ', 'GYE     ', 'PEW     ',\n",
       "       'SVG     ', 'PAP     ', 'ABQ     ', 'STT     ', 'ASE     ',\n",
       "       'SPS     ', 'MBJ     ', 'ASW     ', 'DAL     ', 'KSN     ',\n",
       "       'IAD     ', 'AES     ', 'AMM     ', 'CAK     ', 'ARN     ',\n",
       "       'TIP     ', 'IXC     ', 'MME     ', 'ESB     ', 'AEP     ',\n",
       "       'CMH     ', 'PSP     ', 'MKE     ', 'NCE     ', 'IQQ     ',\n",
       "       'DLA     ', 'EWN     ', 'JLN     ', 'CPH     ', 'KBP     ',\n",
       "       'AER     ', 'AGA     ', 'CTG     ', 'RBA     ', 'LHE     ',\n",
       "       'HBE     ', 'PAD     ', 'TRD     ', 'GOT     ', 'PRG     ',\n",
       "       'MIR     ', 'CID     ', 'CEB     ', 'CJS     ', 'GEO     ',\n",
       "       'RUN     ', 'MDE     ', 'PNH     ', 'HEL     ', 'CLO     ',\n",
       "       'TFN     ', 'PEK     ', 'GRB     ', 'CGO     ', 'CCP     ',\n",
       "       'NTE     ', 'RKS     ', 'ZYL     ', 'HKT     ', 'USM     ',\n",
       "       'FAR     ', 'GEG     ', 'CNS     ', 'GSP     ', 'SZX     ',\n",
       "       'ZNZ     ', 'JRO     ', 'NAP     ', 'BRI     ', 'JNU     ',\n",
       "       'KWI     ', 'PRI     ', 'CEK     ', 'KIX     ', 'HAJ     ',\n",
       "       'OKC     ', 'XNA     ', 'MYR     ', 'YQM     ', 'PIA     ',\n",
       "       'FCA     ', 'LTN     ', 'SUF     ', 'PBM     ', 'TSR     ',\n",
       "       'LCG     ', 'GRR     ', 'YXY     ', 'HUX     ', 'HGH     ',\n",
       "       'GDL     ', 'RHO     ', 'RNO     ', 'PLZ     ', 'DME     ',\n",
       "       'TYS     ', 'ROC     ', 'GMP     ', 'TMP     ', 'VNO     ',\n",
       "       'KTM     ', 'QJZ     ', 'SCL     ', 'BCD     ', 'YQU     ',\n",
       "       'YZF     ', 'MLI     ', 'MSP     ', 'CFE     ', 'BUR     ',\n",
       "       'RSW     ', 'KGS     ', 'GTF     ', 'HAN     ', 'SGF     ',\n",
       "       'MID     ', 'LIH     ', 'YYJ     ', 'LPA     ', 'TGD     ',\n",
       "       'RPR     ', 'VCE     ', 'ABV     ', 'CNX     ', 'MAF     ',\n",
       "       'TNR     ', 'OVB     ', 'PTP     ', 'TGU     ', 'DRW     ',\n",
       "       'TSA     ', 'MOB     ', 'MKG     ', 'GDN     ', 'GLA     ',\n",
       "       'MGA     ', 'ABZ     ', 'PUS     ', 'BQK     ', 'BGI     ',\n",
       "       'TUN     ', 'VIE     ', 'BPS     ', 'CLE     ', 'AUA     ',\n",
       "       'YEG     ', 'YOW     ', 'FSP     ', 'GFK     ', 'RGN     ',\n",
       "       'GPT     ', 'BLL     ', 'LRT     ', 'PLS     ', 'MPM     ',\n",
       "       'BRW     ', 'GNV     ', 'TBS     ', 'EAS     ', 'AQP     ',\n",
       "       'KGD     ', 'CPR     ', 'EZS     ', 'OMS     ', 'LKO     ',\n",
       "       'CHS     ', 'JST     ', 'AAL     ', 'CLJ     ', 'PLQ     ',\n",
       "       'ONT     ', 'RAJ     ', 'ANF     ', 'AJA     ', 'CUC     ',\n",
       "       'PMI     ', 'OAG     ', 'LUG     ', 'HFE     ', 'ORF     ',\n",
       "       'JJN     ', 'ECP     ', 'SBP     ', 'MAR     ', 'BTR     ',\n",
       "       'JDH     ', 'RAP     ', 'FUK     ', 'BHH     ', 'MLA     ',\n",
       "       'MBA     ', 'FLO     ', 'MDW     ', 'SOM     ', 'VKO     ',\n",
       "       'SZG     ', 'ICT     ', 'FAT     ', 'FOC     ', 'MLB     ',\n",
       "       'BAH     ', 'VER     ', 'SOU     ', 'PMC     ', 'VTZ     ',\n",
       "       'VLC     ', 'MDT     ', 'EDI     ', 'AOE     ', 'OPO     ',\n",
       "       'FNC     ', 'TUL     ', 'SAP     ', 'KRK     ', 'OSL     ',\n",
       "       'MLE     ', 'YVO     ', 'YHD     ', 'YQT     ', 'YMM     ',\n",
       "       'YQQ     ', 'IXZ     ', 'GOJ     ', 'THR     ', 'AOI     ',\n",
       "       'SSH     ', 'BZE     ', 'AGU     ', 'IBZ     ', 'BLJ     ',\n",
       "       'FIH     ', 'HPN     ', 'ATW     ', 'PNA     ', 'CTS     ',\n",
       "       'PAT     ', 'IKA     ', 'MRY     ', 'BGA     ', 'IGU     ',\n",
       "       'WLG     ', 'PDL     ', 'BEG     ', 'BRE     ', 'NOS     ',\n",
       "       'DIE     ', 'HRK     ', 'COR     ', 'PTY     ', 'LUO     ',\n",
       "       'NSI     ', 'BDA     ', 'FLN     ', 'GOA     ', 'MAO     ',\n",
       "       'GIG     ', 'BTM     ', 'SYR     ', 'GCC     ', 'GCM     ',\n",
       "       'BDL     ', 'FSD     ', 'KBL     ', 'WUH     ', 'AGX     ',\n",
       "       'JAN     ', 'FNA     ', 'LYS     ', 'SBA     ', 'MSU     ',\n",
       "       'POL     ', 'TCQ     ', 'VNS     ', 'CRW     ', 'ANU     ',\n",
       "       'TRN     ', 'SKP     ', 'LFT     ', 'RFP     ', 'PVD     ',\n",
       "       'TOS     ', 'MSQ     ', 'YXS     ', 'SPU     ', 'HLA     ',\n",
       "       'EVN     ', 'LIL     ', 'BOD     ', 'JYV     ', 'DSM     ',\n",
       "       'SXF     ', 'CPT     ', 'SPN     ', 'BKI     ', 'GZP     ',\n",
       "       'HRG     ', 'CCU     ', 'LIG     ', 'MTY     ', 'KWL     ',\n",
       "       'AVP     ', 'FAY     ', 'LJU     ', 'KSM     ', 'SJJ     ',\n",
       "       'KYA     ', 'NAN     ', 'CTU     ', 'CSG     ', 'ZAG     ',\n",
       "       'SDR     ', 'MRV     ', 'TNG     ', 'NUE     ', 'MFR     ',\n",
       "       'BTV     ', 'PMO     ', 'CHA     ', 'NBC     ', 'ILM     ',\n",
       "       'SXB     ', 'SYZ     ', 'WEH     ', 'PRN     ', 'XMN     ',\n",
       "       'TRW     ', 'ORK     ', 'OSR     ', 'FWA     ', 'KGI     ',\n",
       "       'FOR     ', 'LEX     ', 'IVL     ', 'ECN     ', 'STN     ',\n",
       "       'OME     ', 'MTR     ', 'BWN     ', 'BME     ', 'DRS     ',\n",
       "       'IXB     ', 'BIO     ', 'SAL     ', 'GYD     ', 'HOU     ',\n",
       "       'BSL     ', 'HAK     ', 'AFA     ', 'VSA     ', 'CHC     ',\n",
       "       'TOF     ', 'STS     ', 'ITM     ', 'XNB     ', 'OUD     ',\n",
       "       'KEF     ', 'TRV     ', 'OKA     ', 'HBA     ', 'UBP     ',\n",
       "       'NAG     ', 'PPT     ', 'LGB     ', 'LBV     ', 'ADZ     ',\n",
       "       'IKT     ', 'NGB     ', 'SLL     ', 'UKK     ', 'QQS     ',\n",
       "       'NPL     ', 'BRC     ', 'FPO     ', 'USH     ', 'TFS     ',\n",
       "       'PEI     ', 'CRL     ', 'SIP     ', 'SCQ     ', 'RST     ',\n",
       "       'FRU     ', 'ROB     ', 'BRM     ', 'HHH     ', 'YTM     ',\n",
       "       'KTN     ', 'DBV     ', 'EYW     ', 'TLH     ', 'NCL     ',\n",
       "       'MRU     ', 'XQP     ', 'SBZ     '], dtype=object)"
      ]
     },
     "execution_count": 26,
     "metadata": {},
     "output_type": "execute_result"
    }
   ],
   "source": [
    "# Los códigos IATA tienen espacios!!\n",
    "\n",
    "df['arr_port'].unique()"
   ]
  },
  {
   "cell_type": "code",
   "execution_count": 27,
   "metadata": {},
   "outputs": [],
   "source": [
    "# Modificamos pues los valores de la columna:\n",
    "\n",
    "df['arr_port'] = df['arr_port'].str.strip()"
   ]
  },
  {
   "cell_type": "code",
   "execution_count": 28,
   "metadata": {
    "scrolled": true
   },
   "outputs": [
    {
     "data": {
      "text/html": [
       "<div>\n",
       "<style scoped>\n",
       "    .dataframe tbody tr th:only-of-type {\n",
       "        vertical-align: middle;\n",
       "    }\n",
       "\n",
       "    .dataframe tbody tr th {\n",
       "        vertical-align: top;\n",
       "    }\n",
       "\n",
       "    .dataframe thead th {\n",
       "        text-align: right;\n",
       "    }\n",
       "</style>\n",
       "<table border=\"1\" class=\"dataframe\">\n",
       "  <thead>\n",
       "    <tr style=\"text-align: right;\">\n",
       "      <th></th>\n",
       "      <th>act_date</th>\n",
       "      <th>source</th>\n",
       "      <th>pos_ctry</th>\n",
       "      <th>pos_iata</th>\n",
       "      <th>pos_oid</th>\n",
       "      <th>rloc</th>\n",
       "      <th>cre_date</th>\n",
       "      <th>duration</th>\n",
       "      <th>distance</th>\n",
       "      <th>dep_port</th>\n",
       "      <th>...</th>\n",
       "      <th>route</th>\n",
       "      <th>carrier</th>\n",
       "      <th>bkg_class</th>\n",
       "      <th>cab_class</th>\n",
       "      <th>brd_time</th>\n",
       "      <th>off_time</th>\n",
       "      <th>pax</th>\n",
       "      <th>year</th>\n",
       "      <th>month</th>\n",
       "      <th>oid</th>\n",
       "    </tr>\n",
       "  </thead>\n",
       "  <tbody>\n",
       "    <tr>\n",
       "      <th>1606</th>\n",
       "      <td>2013-03-04 00:00:00</td>\n",
       "      <td>1S</td>\n",
       "      <td>US</td>\n",
       "      <td>a098002ed8b9feee624f1913b17e2c68</td>\n",
       "      <td>07729d8f3cedcef60646e9312a1b757d</td>\n",
       "      <td>c3111765a421af81cb7c54f16e141d42</td>\n",
       "      <td>2013-03-04 00:00:00</td>\n",
       "      <td>4259</td>\n",
       "      <td>0</td>\n",
       "      <td>DEN</td>\n",
       "      <td>...</td>\n",
       "      <td>DENABQ</td>\n",
       "      <td>FK</td>\n",
       "      <td>V</td>\n",
       "      <td>Y</td>\n",
       "      <td>2013-03-10 18:35:00</td>\n",
       "      <td>2013-03-10 20:02:40</td>\n",
       "      <td>1</td>\n",
       "      <td>2013</td>\n",
       "      <td>3</td>\n",
       "      <td>NULL</td>\n",
       "    </tr>\n",
       "    <tr>\n",
       "      <th>1607</th>\n",
       "      <td>2013-03-04 00:00:00</td>\n",
       "      <td>1S</td>\n",
       "      <td>US</td>\n",
       "      <td>a098002ed8b9feee624f1913b17e2c68</td>\n",
       "      <td>07729d8f3cedcef60646e9312a1b757d</td>\n",
       "      <td>c3111765a421af81cb7c54f16e141d42</td>\n",
       "      <td>2013-03-04 00:00:00</td>\n",
       "      <td>4259</td>\n",
       "      <td>0</td>\n",
       "      <td>DEN</td>\n",
       "      <td>...</td>\n",
       "      <td>ABQDEN</td>\n",
       "      <td>FK</td>\n",
       "      <td>S</td>\n",
       "      <td>Y</td>\n",
       "      <td>2013-03-13 16:07:00</td>\n",
       "      <td>2013-03-13 17:34:40</td>\n",
       "      <td>1</td>\n",
       "      <td>2013</td>\n",
       "      <td>3</td>\n",
       "      <td>NULL</td>\n",
       "    </tr>\n",
       "    <tr>\n",
       "      <th>3341</th>\n",
       "      <td>2013-03-11 00:00:00</td>\n",
       "      <td>1V</td>\n",
       "      <td>US</td>\n",
       "      <td>ca452f344681a6a0d2779745d598bd3d</td>\n",
       "      <td>3a5600f7bffa5074f4d56794133dd11b</td>\n",
       "      <td>cbbd279a09b9f18fbe47c5258bfebdd7</td>\n",
       "      <td>2013-03-11 00:00:00</td>\n",
       "      <td>20739</td>\n",
       "      <td>0</td>\n",
       "      <td>PSC</td>\n",
       "      <td>...</td>\n",
       "      <td>PSCSLCABQ</td>\n",
       "      <td>NV</td>\n",
       "      <td>U</td>\n",
       "      <td>Y</td>\n",
       "      <td>2013-03-29 06:24:00</td>\n",
       "      <td>2013-03-29 11:30:58</td>\n",
       "      <td>1</td>\n",
       "      <td>2013</td>\n",
       "      <td>3</td>\n",
       "      <td>NULL</td>\n",
       "    </tr>\n",
       "    <tr>\n",
       "      <th>3342</th>\n",
       "      <td>2013-03-11 00:00:00</td>\n",
       "      <td>1V</td>\n",
       "      <td>US</td>\n",
       "      <td>ca452f344681a6a0d2779745d598bd3d</td>\n",
       "      <td>3a5600f7bffa5074f4d56794133dd11b</td>\n",
       "      <td>cbbd279a09b9f18fbe47c5258bfebdd7</td>\n",
       "      <td>2013-03-11 00:00:00</td>\n",
       "      <td>20739</td>\n",
       "      <td>0</td>\n",
       "      <td>PSC</td>\n",
       "      <td>...</td>\n",
       "      <td>ABQSLCPSC</td>\n",
       "      <td>NV</td>\n",
       "      <td>U</td>\n",
       "      <td>Y</td>\n",
       "      <td>2013-04-12 12:30:00</td>\n",
       "      <td>2013-04-12 16:03:01</td>\n",
       "      <td>1</td>\n",
       "      <td>2013</td>\n",
       "      <td>3</td>\n",
       "      <td>NULL</td>\n",
       "    </tr>\n",
       "    <tr>\n",
       "      <th>6023</th>\n",
       "      <td>2013-03-18 00:00:00</td>\n",
       "      <td>1V</td>\n",
       "      <td>US</td>\n",
       "      <td>73d2bd747515516040ec806a72ff7fb2</td>\n",
       "      <td>0ea791cd1d8b35e744dc1a3f0e2191a0</td>\n",
       "      <td>eeab1e9216dc323fb9c3bb52ac4ddc63</td>\n",
       "      <td>2013-03-18 00:00:00</td>\n",
       "      <td>6479</td>\n",
       "      <td>0</td>\n",
       "      <td>AUS</td>\n",
       "      <td>...</td>\n",
       "      <td>AUSDFWABQ</td>\n",
       "      <td>KK</td>\n",
       "      <td>G</td>\n",
       "      <td>Y</td>\n",
       "      <td>2013-04-01 07:20:00</td>\n",
       "      <td>2013-04-01 10:02:27</td>\n",
       "      <td>1</td>\n",
       "      <td>2013</td>\n",
       "      <td>3</td>\n",
       "      <td>NULL</td>\n",
       "    </tr>\n",
       "    <tr>\n",
       "      <th>6024</th>\n",
       "      <td>2013-03-18 00:00:00</td>\n",
       "      <td>1V</td>\n",
       "      <td>US</td>\n",
       "      <td>73d2bd747515516040ec806a72ff7fb2</td>\n",
       "      <td>0ea791cd1d8b35e744dc1a3f0e2191a0</td>\n",
       "      <td>eeab1e9216dc323fb9c3bb52ac4ddc63</td>\n",
       "      <td>2013-03-18 00:00:00</td>\n",
       "      <td>6479</td>\n",
       "      <td>0</td>\n",
       "      <td>AUS</td>\n",
       "      <td>...</td>\n",
       "      <td>ABQDFWAUS</td>\n",
       "      <td>KK</td>\n",
       "      <td>S</td>\n",
       "      <td>Y</td>\n",
       "      <td>2013-04-05 14:20:00</td>\n",
       "      <td>2013-04-05 19:19:36</td>\n",
       "      <td>1</td>\n",
       "      <td>2013</td>\n",
       "      <td>3</td>\n",
       "      <td>NULL</td>\n",
       "    </tr>\n",
       "    <tr>\n",
       "      <th>6025</th>\n",
       "      <td>2013-03-28 00:00:00</td>\n",
       "      <td>1V</td>\n",
       "      <td>US</td>\n",
       "      <td>73d2bd747515516040ec806a72ff7fb2</td>\n",
       "      <td>0ea791cd1d8b35e744dc1a3f0e2191a0</td>\n",
       "      <td>eeab1e9216dc323fb9c3bb52ac4ddc63</td>\n",
       "      <td>2013-03-18 00:00:00</td>\n",
       "      <td>6479</td>\n",
       "      <td>0</td>\n",
       "      <td>AUS</td>\n",
       "      <td>...</td>\n",
       "      <td>AUSDFWABQ</td>\n",
       "      <td>KK</td>\n",
       "      <td>G</td>\n",
       "      <td>Y</td>\n",
       "      <td>2013-04-01 07:20:00</td>\n",
       "      <td>2013-04-01 10:02:27</td>\n",
       "      <td>-1</td>\n",
       "      <td>2013</td>\n",
       "      <td>3</td>\n",
       "      <td>NULL</td>\n",
       "    </tr>\n",
       "    <tr>\n",
       "      <th>6026</th>\n",
       "      <td>2013-03-28 00:00:00</td>\n",
       "      <td>1V</td>\n",
       "      <td>US</td>\n",
       "      <td>73d2bd747515516040ec806a72ff7fb2</td>\n",
       "      <td>0ea791cd1d8b35e744dc1a3f0e2191a0</td>\n",
       "      <td>eeab1e9216dc323fb9c3bb52ac4ddc63</td>\n",
       "      <td>2013-03-18 00:00:00</td>\n",
       "      <td>6479</td>\n",
       "      <td>0</td>\n",
       "      <td>AUS</td>\n",
       "      <td>...</td>\n",
       "      <td>AUSDFWABQ</td>\n",
       "      <td>KK</td>\n",
       "      <td>X</td>\n",
       "      <td>Y</td>\n",
       "      <td>2013-04-01 07:20:00</td>\n",
       "      <td>2013-04-01 10:02:27</td>\n",
       "      <td>1</td>\n",
       "      <td>2013</td>\n",
       "      <td>3</td>\n",
       "      <td>NULL</td>\n",
       "    </tr>\n",
       "    <tr>\n",
       "      <th>6464</th>\n",
       "      <td>2013-03-04 00:00:00</td>\n",
       "      <td>1V</td>\n",
       "      <td>US</td>\n",
       "      <td>12c5c16e96fedbc2af592ea4e9bc29d8</td>\n",
       "      <td>777fe6e953d2e578532f910519809c75</td>\n",
       "      <td>91112b50b06760e43a7b61c92d36f69c</td>\n",
       "      <td>2013-03-04 00:00:00</td>\n",
       "      <td>7660</td>\n",
       "      <td>0</td>\n",
       "      <td>ATL</td>\n",
       "      <td>...</td>\n",
       "      <td>ATLABQ</td>\n",
       "      <td>NV</td>\n",
       "      <td>H</td>\n",
       "      <td>Y</td>\n",
       "      <td>2013-03-10 11:01:00</td>\n",
       "      <td>2013-03-10 12:12:48</td>\n",
       "      <td>1</td>\n",
       "      <td>2013</td>\n",
       "      <td>3</td>\n",
       "      <td>NULL</td>\n",
       "    </tr>\n",
       "    <tr>\n",
       "      <th>6465</th>\n",
       "      <td>2013-03-04 00:00:00</td>\n",
       "      <td>1V</td>\n",
       "      <td>US</td>\n",
       "      <td>12c5c16e96fedbc2af592ea4e9bc29d8</td>\n",
       "      <td>777fe6e953d2e578532f910519809c75</td>\n",
       "      <td>91112b50b06760e43a7b61c92d36f69c</td>\n",
       "      <td>2013-03-04 00:00:00</td>\n",
       "      <td>7660</td>\n",
       "      <td>0</td>\n",
       "      <td>ATL</td>\n",
       "      <td>...</td>\n",
       "      <td>ABQATL</td>\n",
       "      <td>NV</td>\n",
       "      <td>H</td>\n",
       "      <td>Y</td>\n",
       "      <td>2013-03-15 13:30:00</td>\n",
       "      <td>2013-03-15 18:41:48</td>\n",
       "      <td>1</td>\n",
       "      <td>2013</td>\n",
       "      <td>3</td>\n",
       "      <td>NULL</td>\n",
       "    </tr>\n",
       "    <tr>\n",
       "      <th>7517</th>\n",
       "      <td>2013-03-22 00:00:00</td>\n",
       "      <td>1P</td>\n",
       "      <td>US</td>\n",
       "      <td>367ebdc91358ef37421a6baae122c5ac</td>\n",
       "      <td>598cd5434be33bff857f103bf910f55e</td>\n",
       "      <td>cef410118d4b98f7b03986ea67913cce</td>\n",
       "      <td>2013-03-22 00:00:00</td>\n",
       "      <td>20665</td>\n",
       "      <td>0</td>\n",
       "      <td>TYS</td>\n",
       "      <td>...</td>\n",
       "      <td>TYSATLABQ</td>\n",
       "      <td>NV</td>\n",
       "      <td>K</td>\n",
       "      <td>Y</td>\n",
       "      <td>2013-07-08 13:15:00</td>\n",
       "      <td>2013-07-08 17:41:48</td>\n",
       "      <td>2</td>\n",
       "      <td>2013</td>\n",
       "      <td>3</td>\n",
       "      <td>NULL</td>\n",
       "    </tr>\n",
       "    <tr>\n",
       "      <th>7518</th>\n",
       "      <td>2013-03-22 00:00:00</td>\n",
       "      <td>1P</td>\n",
       "      <td>US</td>\n",
       "      <td>367ebdc91358ef37421a6baae122c5ac</td>\n",
       "      <td>598cd5434be33bff857f103bf910f55e</td>\n",
       "      <td>cef410118d4b98f7b03986ea67913cce</td>\n",
       "      <td>2013-03-22 00:00:00</td>\n",
       "      <td>20665</td>\n",
       "      <td>0</td>\n",
       "      <td>TYS</td>\n",
       "      <td>...</td>\n",
       "      <td>ABQATLTYS</td>\n",
       "      <td>NV</td>\n",
       "      <td>V</td>\n",
       "      <td>Y</td>\n",
       "      <td>2013-07-22 13:10:00</td>\n",
       "      <td>2013-07-22 21:40:14</td>\n",
       "      <td>2</td>\n",
       "      <td>2013</td>\n",
       "      <td>3</td>\n",
       "      <td>NULL</td>\n",
       "    </tr>\n",
       "  </tbody>\n",
       "</table>\n",
       "<p>12 rows × 38 columns</p>\n",
       "</div>"
      ],
      "text/plain": [
       "                 act_date  source  pos_ctry                          pos_iata  \\\n",
       "1606  2013-03-04 00:00:00  1S      US        a098002ed8b9feee624f1913b17e2c68   \n",
       "1607  2013-03-04 00:00:00  1S      US        a098002ed8b9feee624f1913b17e2c68   \n",
       "3341  2013-03-11 00:00:00  1V      US        ca452f344681a6a0d2779745d598bd3d   \n",
       "3342  2013-03-11 00:00:00  1V      US        ca452f344681a6a0d2779745d598bd3d   \n",
       "6023  2013-03-18 00:00:00  1V      US        73d2bd747515516040ec806a72ff7fb2   \n",
       "6024  2013-03-18 00:00:00  1V      US        73d2bd747515516040ec806a72ff7fb2   \n",
       "6025  2013-03-28 00:00:00  1V      US        73d2bd747515516040ec806a72ff7fb2   \n",
       "6026  2013-03-28 00:00:00  1V      US        73d2bd747515516040ec806a72ff7fb2   \n",
       "6464  2013-03-04 00:00:00  1V      US        12c5c16e96fedbc2af592ea4e9bc29d8   \n",
       "6465  2013-03-04 00:00:00  1V      US        12c5c16e96fedbc2af592ea4e9bc29d8   \n",
       "7517  2013-03-22 00:00:00  1P      US        367ebdc91358ef37421a6baae122c5ac   \n",
       "7518  2013-03-22 00:00:00  1P      US        367ebdc91358ef37421a6baae122c5ac   \n",
       "\n",
       "                               pos_oid                              rloc  \\\n",
       "1606  07729d8f3cedcef60646e9312a1b757d  c3111765a421af81cb7c54f16e141d42   \n",
       "1607  07729d8f3cedcef60646e9312a1b757d  c3111765a421af81cb7c54f16e141d42   \n",
       "3341  3a5600f7bffa5074f4d56794133dd11b  cbbd279a09b9f18fbe47c5258bfebdd7   \n",
       "3342  3a5600f7bffa5074f4d56794133dd11b  cbbd279a09b9f18fbe47c5258bfebdd7   \n",
       "6023  0ea791cd1d8b35e744dc1a3f0e2191a0  eeab1e9216dc323fb9c3bb52ac4ddc63   \n",
       "6024  0ea791cd1d8b35e744dc1a3f0e2191a0  eeab1e9216dc323fb9c3bb52ac4ddc63   \n",
       "6025  0ea791cd1d8b35e744dc1a3f0e2191a0  eeab1e9216dc323fb9c3bb52ac4ddc63   \n",
       "6026  0ea791cd1d8b35e744dc1a3f0e2191a0  eeab1e9216dc323fb9c3bb52ac4ddc63   \n",
       "6464  777fe6e953d2e578532f910519809c75  91112b50b06760e43a7b61c92d36f69c   \n",
       "6465  777fe6e953d2e578532f910519809c75  91112b50b06760e43a7b61c92d36f69c   \n",
       "7517  598cd5434be33bff857f103bf910f55e  cef410118d4b98f7b03986ea67913cce   \n",
       "7518  598cd5434be33bff857f103bf910f55e  cef410118d4b98f7b03986ea67913cce   \n",
       "\n",
       "                 cre_date  duration  distance  dep_port  ...            route  \\\n",
       "1606  2013-03-04 00:00:00      4259         0  DEN       ...  DENABQ            \n",
       "1607  2013-03-04 00:00:00      4259         0  DEN       ...  ABQDEN            \n",
       "3341  2013-03-11 00:00:00     20739         0  PSC       ...     PSCSLCABQ      \n",
       "3342  2013-03-11 00:00:00     20739         0  PSC       ...     ABQSLCPSC      \n",
       "6023  2013-03-18 00:00:00      6479         0  AUS       ...     AUSDFWABQ      \n",
       "6024  2013-03-18 00:00:00      6479         0  AUS       ...     ABQDFWAUS      \n",
       "6025  2013-03-18 00:00:00      6479         0  AUS       ...     AUSDFWABQ      \n",
       "6026  2013-03-18 00:00:00      6479         0  AUS       ...     AUSDFWABQ      \n",
       "6464  2013-03-04 00:00:00      7660         0  ATL       ...     ATLABQ         \n",
       "6465  2013-03-04 00:00:00      7660         0  ATL       ...     ABQATL         \n",
       "7517  2013-03-22 00:00:00     20665         0  TYS       ...     TYSATLABQ      \n",
       "7518  2013-03-22 00:00:00     20665         0  TYS       ...     ABQATLTYS      \n",
       "\n",
       "     carrier  bkg_class  cab_class             brd_time             off_time  \\\n",
       "1606      FK  V          Y          2013-03-10 18:35:00  2013-03-10 20:02:40   \n",
       "1607      FK  S          Y          2013-03-13 16:07:00  2013-03-13 17:34:40   \n",
       "3341      NV  U          Y          2013-03-29 06:24:00  2013-03-29 11:30:58   \n",
       "3342      NV  U          Y          2013-04-12 12:30:00  2013-04-12 16:03:01   \n",
       "6023      KK  G          Y          2013-04-01 07:20:00  2013-04-01 10:02:27   \n",
       "6024      KK  S          Y          2013-04-05 14:20:00  2013-04-05 19:19:36   \n",
       "6025      KK  G          Y          2013-04-01 07:20:00  2013-04-01 10:02:27   \n",
       "6026      KK  X          Y          2013-04-01 07:20:00  2013-04-01 10:02:27   \n",
       "6464      NV  H          Y          2013-03-10 11:01:00  2013-03-10 12:12:48   \n",
       "6465      NV  H          Y          2013-03-15 13:30:00  2013-03-15 18:41:48   \n",
       "7517      NV  K          Y          2013-07-08 13:15:00  2013-07-08 17:41:48   \n",
       "7518      NV  V          Y          2013-07-22 13:10:00  2013-07-22 21:40:14   \n",
       "\n",
       "     pax  year month        oid  \n",
       "1606   1  2013     3  NULL       \n",
       "1607   1  2013     3  NULL       \n",
       "3341   1  2013     3  NULL       \n",
       "3342   1  2013     3  NULL       \n",
       "6023   1  2013     3  NULL       \n",
       "6024   1  2013     3  NULL       \n",
       "6025  -1  2013     3  NULL       \n",
       "6026   1  2013     3  NULL       \n",
       "6464   1  2013     3  NULL       \n",
       "6465   1  2013     3  NULL       \n",
       "7517   2  2013     3  NULL       \n",
       "7518   2  2013     3  NULL       \n",
       "\n",
       "[12 rows x 38 columns]"
      ]
     },
     "execution_count": 28,
     "metadata": {},
     "output_type": "execute_result"
    }
   ],
   "source": [
    "df[df['arr_port'] == \"ABQ\"]"
   ]
  },
  {
   "cell_type": "code",
   "execution_count": 29,
   "metadata": {},
   "outputs": [
    {
     "data": {
      "text/html": [
       "<div>\n",
       "<style scoped>\n",
       "    .dataframe tbody tr th:only-of-type {\n",
       "        vertical-align: middle;\n",
       "    }\n",
       "\n",
       "    .dataframe tbody tr th {\n",
       "        vertical-align: top;\n",
       "    }\n",
       "\n",
       "    .dataframe thead th {\n",
       "        text-align: right;\n",
       "    }\n",
       "</style>\n",
       "<table border=\"1\" class=\"dataframe\">\n",
       "  <thead>\n",
       "    <tr style=\"text-align: right;\">\n",
       "      <th></th>\n",
       "      <th>pax</th>\n",
       "      <th>abs_pax</th>\n",
       "    </tr>\n",
       "  </thead>\n",
       "  <tbody>\n",
       "    <tr>\n",
       "      <th>0</th>\n",
       "      <td>-1</td>\n",
       "      <td>1</td>\n",
       "    </tr>\n",
       "    <tr>\n",
       "      <th>1</th>\n",
       "      <td>1</td>\n",
       "      <td>1</td>\n",
       "    </tr>\n",
       "    <tr>\n",
       "      <th>2</th>\n",
       "      <td>1</td>\n",
       "      <td>1</td>\n",
       "    </tr>\n",
       "    <tr>\n",
       "      <th>3</th>\n",
       "      <td>1</td>\n",
       "      <td>1</td>\n",
       "    </tr>\n",
       "    <tr>\n",
       "      <th>4</th>\n",
       "      <td>1</td>\n",
       "      <td>1</td>\n",
       "    </tr>\n",
       "    <tr>\n",
       "      <th>...</th>\n",
       "      <td>...</td>\n",
       "      <td>...</td>\n",
       "    </tr>\n",
       "    <tr>\n",
       "      <th>9994</th>\n",
       "      <td>2</td>\n",
       "      <td>2</td>\n",
       "    </tr>\n",
       "    <tr>\n",
       "      <th>9995</th>\n",
       "      <td>2</td>\n",
       "      <td>2</td>\n",
       "    </tr>\n",
       "    <tr>\n",
       "      <th>9996</th>\n",
       "      <td>-2</td>\n",
       "      <td>2</td>\n",
       "    </tr>\n",
       "    <tr>\n",
       "      <th>9997</th>\n",
       "      <td>2</td>\n",
       "      <td>2</td>\n",
       "    </tr>\n",
       "    <tr>\n",
       "      <th>9998</th>\n",
       "      <td>2</td>\n",
       "      <td>2</td>\n",
       "    </tr>\n",
       "  </tbody>\n",
       "</table>\n",
       "<p>9999 rows × 2 columns</p>\n",
       "</div>"
      ],
      "text/plain": [
       "      pax  abs_pax\n",
       "0      -1        1\n",
       "1       1        1\n",
       "2       1        1\n",
       "3       1        1\n",
       "4       1        1\n",
       "...   ...      ...\n",
       "9994    2        2\n",
       "9995    2        2\n",
       "9996   -2        2\n",
       "9997    2        2\n",
       "9998    2        2\n",
       "\n",
       "[9999 rows x 2 columns]"
      ]
     },
     "execution_count": 29,
     "metadata": {},
     "output_type": "execute_result"
    }
   ],
   "source": [
    "df['abs_pax'] = df['pax'].abs()\n",
    "df[['pax', 'abs_pax']]"
   ]
  },
  {
   "cell_type": "code",
   "execution_count": 30,
   "metadata": {},
   "outputs": [
    {
     "data": {
      "text/plain": [
       "arr_port\n",
       "JFK    300\n",
       "LHR    288\n",
       "LAX    285\n",
       "CDG    238\n",
       "PVG    223\n",
       "SFO    221\n",
       "MCO    212\n",
       "HKG    210\n",
       "JED    206\n",
       "MNL    201\n",
       "Name: abs_pax, dtype: int64"
      ]
     },
     "execution_count": 30,
     "metadata": {},
     "output_type": "execute_result"
    }
   ],
   "source": [
    "# Ahora que hemos comprobado que está bien formateado:\n",
    "\n",
    "group = df.groupby(['arr_port']).sum().sort_values(by='abs_pax', ascending=False)\n",
    "group['abs_pax'][0:10]"
   ]
  },
  {
   "cell_type": "code",
   "execution_count": 31,
   "metadata": {},
   "outputs": [
    {
     "data": {
      "text/plain": [
       "['T',\n",
       " '_AXIS_LEN',\n",
       " '_AXIS_NAMES',\n",
       " '_AXIS_NUMBERS',\n",
       " '_AXIS_ORDERS',\n",
       " '_AXIS_REVERSED',\n",
       " '_AXIS_TO_AXIS_NUMBER',\n",
       " '__abs__',\n",
       " '__add__',\n",
       " '__and__',\n",
       " '__annotations__',\n",
       " '__array__',\n",
       " '__array_priority__',\n",
       " '__array_wrap__',\n",
       " '__bool__',\n",
       " '__class__',\n",
       " '__contains__',\n",
       " '__copy__',\n",
       " '__deepcopy__',\n",
       " '__delattr__',\n",
       " '__delitem__',\n",
       " '__dict__',\n",
       " '__dir__',\n",
       " '__div__',\n",
       " '__doc__',\n",
       " '__eq__',\n",
       " '__finalize__',\n",
       " '__floordiv__',\n",
       " '__format__',\n",
       " '__ge__',\n",
       " '__getattr__',\n",
       " '__getattribute__',\n",
       " '__getitem__',\n",
       " '__getstate__',\n",
       " '__gt__',\n",
       " '__hash__',\n",
       " '__iadd__',\n",
       " '__iand__',\n",
       " '__ifloordiv__',\n",
       " '__imod__',\n",
       " '__imul__',\n",
       " '__init__',\n",
       " '__init_subclass__',\n",
       " '__invert__',\n",
       " '__ior__',\n",
       " '__ipow__',\n",
       " '__isub__',\n",
       " '__iter__',\n",
       " '__itruediv__',\n",
       " '__ixor__',\n",
       " '__le__',\n",
       " '__len__',\n",
       " '__lt__',\n",
       " '__matmul__',\n",
       " '__mod__',\n",
       " '__module__',\n",
       " '__mul__',\n",
       " '__ne__',\n",
       " '__neg__',\n",
       " '__new__',\n",
       " '__nonzero__',\n",
       " '__or__',\n",
       " '__pos__',\n",
       " '__pow__',\n",
       " '__radd__',\n",
       " '__rand__',\n",
       " '__rdiv__',\n",
       " '__reduce__',\n",
       " '__reduce_ex__',\n",
       " '__repr__',\n",
       " '__rfloordiv__',\n",
       " '__rmatmul__',\n",
       " '__rmod__',\n",
       " '__rmul__',\n",
       " '__ror__',\n",
       " '__round__',\n",
       " '__rpow__',\n",
       " '__rsub__',\n",
       " '__rtruediv__',\n",
       " '__rxor__',\n",
       " '__setattr__',\n",
       " '__setitem__',\n",
       " '__setstate__',\n",
       " '__sizeof__',\n",
       " '__str__',\n",
       " '__sub__',\n",
       " '__subclasshook__',\n",
       " '__truediv__',\n",
       " '__weakref__',\n",
       " '__xor__',\n",
       " '_accessors',\n",
       " '_add_numeric_operations',\n",
       " '_add_series_or_dataframe_operations',\n",
       " '_agg_by_level',\n",
       " '_agg_examples_doc',\n",
       " '_agg_summary_and_see_also_doc',\n",
       " '_aggregate',\n",
       " '_aggregate_multiple_funcs',\n",
       " '_align_frame',\n",
       " '_align_series',\n",
       " '_box_col_values',\n",
       " '_builtin_table',\n",
       " '_can_fast_transpose',\n",
       " '_check_inplace_setting',\n",
       " '_check_is_chained_assignment_possible',\n",
       " '_check_label_or_level_ambiguity',\n",
       " '_check_setitem_copy',\n",
       " '_clear_item_cache',\n",
       " '_clip_with_one_bound',\n",
       " '_clip_with_scalar',\n",
       " '_combine_frame',\n",
       " '_consolidate',\n",
       " '_consolidate_inplace',\n",
       " '_construct_axes_dict',\n",
       " '_construct_axes_from_arguments',\n",
       " '_construct_result',\n",
       " '_constructor',\n",
       " '_constructor_expanddim',\n",
       " '_constructor_sliced',\n",
       " '_convert',\n",
       " '_count_level',\n",
       " '_cython_table',\n",
       " '_data',\n",
       " '_deprecations',\n",
       " '_dir_additions',\n",
       " '_dir_deletions',\n",
       " '_drop_axis',\n",
       " '_drop_labels_or_levels',\n",
       " '_ensure_valid_index',\n",
       " '_find_valid_index',\n",
       " '_from_arrays',\n",
       " '_get_agg_axis',\n",
       " '_get_axis',\n",
       " '_get_axis_name',\n",
       " '_get_axis_number',\n",
       " '_get_axis_resolvers',\n",
       " '_get_block_manager_axis',\n",
       " '_get_bool_data',\n",
       " '_get_cacher',\n",
       " '_get_cleaned_column_resolvers',\n",
       " '_get_column_array',\n",
       " '_get_cython_func',\n",
       " '_get_index_resolvers',\n",
       " '_get_item_cache',\n",
       " '_get_label_or_level_values',\n",
       " '_get_numeric_data',\n",
       " '_get_value',\n",
       " '_getitem_bool_array',\n",
       " '_getitem_multilevel',\n",
       " '_gotitem',\n",
       " '_indexed_same',\n",
       " '_info_axis',\n",
       " '_info_axis_name',\n",
       " '_info_axis_number',\n",
       " '_info_repr',\n",
       " '_init_mgr',\n",
       " '_internal_names',\n",
       " '_internal_names_set',\n",
       " '_is_builtin_func',\n",
       " '_is_cached',\n",
       " '_is_copy',\n",
       " '_is_homogeneous_type',\n",
       " '_is_label_or_level_reference',\n",
       " '_is_label_reference',\n",
       " '_is_level_reference',\n",
       " '_is_mixed_type',\n",
       " '_is_view',\n",
       " '_iset_item',\n",
       " '_iter_column_arrays',\n",
       " '_ix',\n",
       " '_ixs',\n",
       " '_join_compat',\n",
       " '_maybe_cache_changed',\n",
       " '_maybe_update_cacher',\n",
       " '_metadata',\n",
       " '_needs_reindex_multi',\n",
       " '_obj_with_exclusions',\n",
       " '_protect_consolidate',\n",
       " '_reduce',\n",
       " '_reindex_axes',\n",
       " '_reindex_columns',\n",
       " '_reindex_index',\n",
       " '_reindex_multi',\n",
       " '_reindex_with_indexers',\n",
       " '_replace_columnwise',\n",
       " '_repr_data_resource_',\n",
       " '_repr_fits_horizontal_',\n",
       " '_repr_fits_vertical_',\n",
       " '_repr_html_',\n",
       " '_repr_latex_',\n",
       " '_reset_cache',\n",
       " '_reset_cacher',\n",
       " '_sanitize_column',\n",
       " '_selected_obj',\n",
       " '_selection',\n",
       " '_selection_list',\n",
       " '_selection_name',\n",
       " '_series',\n",
       " '_set_as_cached',\n",
       " '_set_axis',\n",
       " '_set_axis_name',\n",
       " '_set_is_copy',\n",
       " '_set_item',\n",
       " '_set_value',\n",
       " '_setitem_array',\n",
       " '_setitem_frame',\n",
       " '_setitem_slice',\n",
       " '_slice',\n",
       " '_stat_axis',\n",
       " '_stat_axis_name',\n",
       " '_stat_axis_number',\n",
       " '_take_with_is_copy',\n",
       " '_to_dict_of_blocks',\n",
       " '_try_aggregate_string_function',\n",
       " '_typ',\n",
       " '_update_inplace',\n",
       " '_validate_dtype',\n",
       " '_values',\n",
       " '_where',\n",
       " 'abs',\n",
       " 'abs_pax',\n",
       " 'act_date',\n",
       " 'add',\n",
       " 'add_prefix',\n",
       " 'add_suffix',\n",
       " 'agg',\n",
       " 'aggregate',\n",
       " 'align',\n",
       " 'all',\n",
       " 'any',\n",
       " 'append',\n",
       " 'apply',\n",
       " 'applymap',\n",
       " 'arr_city',\n",
       " 'arr_ctry',\n",
       " 'arr_port',\n",
       " 'asfreq',\n",
       " 'asof',\n",
       " 'assign',\n",
       " 'astype',\n",
       " 'at',\n",
       " 'at_time',\n",
       " 'attrs',\n",
       " 'axes',\n",
       " 'backfill',\n",
       " 'between_time',\n",
       " 'bfill',\n",
       " 'bkg_class',\n",
       " 'bool',\n",
       " 'boxplot',\n",
       " 'brd_city',\n",
       " 'brd_ctry',\n",
       " 'brd_port',\n",
       " 'brd_time',\n",
       " 'cab_class',\n",
       " 'carrier',\n",
       " 'clip',\n",
       " 'columns',\n",
       " 'combine',\n",
       " 'combine_first',\n",
       " 'compare',\n",
       " 'convert_dtypes',\n",
       " 'copy',\n",
       " 'corr',\n",
       " 'corrwith',\n",
       " 'count',\n",
       " 'cov',\n",
       " 'cre_date',\n",
       " 'cummax',\n",
       " 'cummin',\n",
       " 'cumprod',\n",
       " 'cumsum',\n",
       " 'dep_city',\n",
       " 'dep_ctry',\n",
       " 'dep_port',\n",
       " 'describe',\n",
       " 'diff',\n",
       " 'distance',\n",
       " 'div',\n",
       " 'divide',\n",
       " 'dot',\n",
       " 'drop',\n",
       " 'drop_duplicates',\n",
       " 'droplevel',\n",
       " 'dropna',\n",
       " 'dtypes',\n",
       " 'duplicated',\n",
       " 'duration',\n",
       " 'empty',\n",
       " 'eq',\n",
       " 'equals',\n",
       " 'eval',\n",
       " 'ewm',\n",
       " 'expanding',\n",
       " 'explode',\n",
       " 'ffill',\n",
       " 'fillna',\n",
       " 'filter',\n",
       " 'first',\n",
       " 'first_valid_index',\n",
       " 'floordiv',\n",
       " 'from_dict',\n",
       " 'from_records',\n",
       " 'ge',\n",
       " 'get',\n",
       " 'groupby',\n",
       " 'gt',\n",
       " 'head',\n",
       " 'hist',\n",
       " 'iat',\n",
       " 'idxmax',\n",
       " 'idxmin',\n",
       " 'iloc',\n",
       " 'index',\n",
       " 'infer_objects',\n",
       " 'info',\n",
       " 'insert',\n",
       " 'interpolate',\n",
       " 'intl',\n",
       " 'isin',\n",
       " 'isna',\n",
       " 'isnull',\n",
       " 'items',\n",
       " 'iteritems',\n",
       " 'iterrows',\n",
       " 'itertuples',\n",
       " 'join',\n",
       " 'keys',\n",
       " 'kurt',\n",
       " 'kurtosis',\n",
       " 'last',\n",
       " 'last_valid_index',\n",
       " 'le',\n",
       " 'loc',\n",
       " 'lookup',\n",
       " 'lst_city',\n",
       " 'lst_ctry',\n",
       " 'lst_port',\n",
       " 'lt',\n",
       " 'mad',\n",
       " 'mask',\n",
       " 'max',\n",
       " 'mean',\n",
       " 'median',\n",
       " 'melt',\n",
       " 'memory_usage',\n",
       " 'merge',\n",
       " 'min',\n",
       " 'mkt_city',\n",
       " 'mkt_ctry',\n",
       " 'mkt_port',\n",
       " 'mod',\n",
       " 'mode',\n",
       " 'month',\n",
       " 'mul',\n",
       " 'multiply',\n",
       " 'ndim',\n",
       " 'ne',\n",
       " 'nlargest',\n",
       " 'notna',\n",
       " 'notnull',\n",
       " 'nsmallest',\n",
       " 'nunique',\n",
       " 'off_city',\n",
       " 'off_ctry',\n",
       " 'off_port',\n",
       " 'off_time',\n",
       " 'oid',\n",
       " 'pad',\n",
       " 'pax',\n",
       " 'pct_change',\n",
       " 'pipe',\n",
       " 'pivot',\n",
       " 'pivot_table',\n",
       " 'plot',\n",
       " 'pop',\n",
       " 'pos_ctry',\n",
       " 'pos_iata',\n",
       " 'pos_oid',\n",
       " 'pow',\n",
       " 'prod',\n",
       " 'product',\n",
       " 'quantile',\n",
       " 'query',\n",
       " 'radd',\n",
       " 'rank',\n",
       " 'rdiv',\n",
       " 'reindex',\n",
       " 'reindex_like',\n",
       " 'rename',\n",
       " 'rename_axis',\n",
       " 'reorder_levels',\n",
       " 'replace',\n",
       " 'resample',\n",
       " 'reset_index',\n",
       " 'rfloordiv',\n",
       " 'rloc',\n",
       " 'rmod',\n",
       " 'rmul',\n",
       " 'rolling',\n",
       " 'round',\n",
       " 'route',\n",
       " 'rpow',\n",
       " 'rsub',\n",
       " 'rtruediv',\n",
       " 'sample',\n",
       " 'select_dtypes',\n",
       " 'sem',\n",
       " 'set_axis',\n",
       " 'set_index',\n",
       " 'shape',\n",
       " 'shift',\n",
       " 'size',\n",
       " 'skew',\n",
       " 'slice_shift',\n",
       " 'sort_index',\n",
       " 'sort_values',\n",
       " 'source',\n",
       " 'squeeze',\n",
       " 'stack',\n",
       " 'std',\n",
       " 'style',\n",
       " 'sub',\n",
       " 'subtract',\n",
       " 'sum',\n",
       " 'swapaxes',\n",
       " 'swaplevel',\n",
       " 'tail',\n",
       " 'take',\n",
       " 'to_clipboard',\n",
       " 'to_csv',\n",
       " 'to_dict',\n",
       " 'to_excel',\n",
       " 'to_feather',\n",
       " 'to_gbq',\n",
       " 'to_hdf',\n",
       " 'to_html',\n",
       " 'to_json',\n",
       " 'to_latex',\n",
       " 'to_markdown',\n",
       " 'to_numpy',\n",
       " 'to_parquet',\n",
       " 'to_period',\n",
       " 'to_pickle',\n",
       " 'to_records',\n",
       " 'to_sql',\n",
       " 'to_stata',\n",
       " 'to_string',\n",
       " 'to_timestamp',\n",
       " 'to_xarray',\n",
       " 'transform',\n",
       " 'transpose',\n",
       " 'truediv',\n",
       " 'truncate',\n",
       " 'tz_convert',\n",
       " 'tz_localize',\n",
       " 'unstack',\n",
       " 'update',\n",
       " 'value_counts',\n",
       " 'values',\n",
       " 'var',\n",
       " 'where',\n",
       " 'xs',\n",
       " 'year']"
      ]
     },
     "execution_count": 31,
     "metadata": {},
     "output_type": "execute_result"
    }
   ],
   "source": [
    "dir(df)"
   ]
  },
  {
   "cell_type": "code",
   "execution_count": 32,
   "metadata": {
    "scrolled": true
   },
   "outputs": [
    {
     "data": {
      "text/plain": [
       "0      -1\n",
       "1       1\n",
       "2       1\n",
       "3       1\n",
       "4       1\n",
       "       ..\n",
       "9994    2\n",
       "9995    2\n",
       "9996   -2\n",
       "9997    2\n",
       "9998    2\n",
       "Name: pax, Length: 9999, dtype: int64"
      ]
     },
     "execution_count": 32,
     "metadata": {},
     "output_type": "execute_result"
    }
   ],
   "source": [
    "df['pax']"
   ]
  },
  {
   "cell_type": "code",
   "execution_count": null,
   "metadata": {},
   "outputs": [],
   "source": []
  },
  {
   "cell_type": "code",
   "execution_count": null,
   "metadata": {},
   "outputs": [],
   "source": []
  },
  {
   "cell_type": "code",
   "execution_count": 40,
   "metadata": {
    "scrolled": true
   },
   "outputs": [
    {
     "name": "stderr",
     "output_type": "stream",
     "text": [
      "1001it [18:47,  1.13s/it]"
     ]
    },
    {
     "name": "stdout",
     "output_type": "stream",
     "text": [
      "CPU times: user 14min 52s, sys: 17.8 s, total: 15min 10s\n",
      "Wall time: 18min 47s\n"
     ]
    },
    {
     "name": "stderr",
     "output_type": "stream",
     "text": [
      "\n"
     ]
    }
   ],
   "source": [
    "%%time\n",
    "\n",
    "import pandas as pd\n",
    "from tqdm import tqdm\n",
    "\n",
    "tp = pd.read_csv('/home/dsc/Data/challenge/bookings.csv.bz2', usecols=['arr_port', 'pax'], sep='^', iterator=True, chunksize=10000)  # gives TextFileReader, which is iterable with chunks of 1000 rows.\n",
    "# tp = pd.read_csv('bookings.sample.csv.bz2', usecols=['arr_port', 'pax'], sep='^', iterator=True, chunksize=2500)  # gives TextFileReader, which is iterable with chunks of 1000 rows.\n",
    "\n",
    "filas = 0\n",
    "iter_max = 1e8 # Usar '5' para test\n",
    "\n",
    "df_all = pd.DataFrame()\n",
    "for k, chunk in tqdm(enumerate(tp)):\n",
    "    filas += len(chunk)\n",
    "    # print(len(chunk)) # Comprobador\n",
    "    new_cols = []\n",
    "    for col in chunk.columns:\n",
    "        new_col = col.strip()\n",
    "        new_cols.append(new_col) \n",
    "    chunk.columns = new_cols\n",
    "    chunk['arr_port'] = chunk['arr_port'].str.strip().str.upper()\n",
    "    # chunk['abs_pax'] = chunk['pax'].abs() # Se elimina esto para que las cancelaciones resten, anulándose\n",
    "    group_chunk = chunk.groupby('arr_port').sum()\n",
    "    df_all = df_all.append(group_chunk).sort_values(by='pax', ascending=False)\n",
    "\n",
    "    if k == iter_max: # Comprobador\n",
    "        break # Comprobador\n"
   ]
  },
  {
   "cell_type": "code",
   "execution_count": 41,
   "metadata": {},
   "outputs": [
    {
     "data": {
      "text/plain": [
       "10000010"
      ]
     },
     "execution_count": 41,
     "metadata": {},
     "output_type": "execute_result"
    }
   ],
   "source": [
    "filas"
   ]
  },
  {
   "cell_type": "code",
   "execution_count": 45,
   "metadata": {},
   "outputs": [
    {
     "data": {
      "text/html": [
       "<div>\n",
       "<style scoped>\n",
       "    .dataframe tbody tr th:only-of-type {\n",
       "        vertical-align: middle;\n",
       "    }\n",
       "\n",
       "    .dataframe tbody tr th {\n",
       "        vertical-align: top;\n",
       "    }\n",
       "\n",
       "    .dataframe thead th {\n",
       "        text-align: right;\n",
       "    }\n",
       "</style>\n",
       "<table border=\"1\" class=\"dataframe\">\n",
       "  <thead>\n",
       "    <tr style=\"text-align: right;\">\n",
       "      <th></th>\n",
       "      <th>pax</th>\n",
       "    </tr>\n",
       "    <tr>\n",
       "      <th>arr_port</th>\n",
       "      <th></th>\n",
       "    </tr>\n",
       "  </thead>\n",
       "  <tbody>\n",
       "    <tr>\n",
       "      <th>LHR</th>\n",
       "      <td>88809.0</td>\n",
       "    </tr>\n",
       "    <tr>\n",
       "      <th>MCO</th>\n",
       "      <td>70930.0</td>\n",
       "    </tr>\n",
       "    <tr>\n",
       "      <th>LAX</th>\n",
       "      <td>70530.0</td>\n",
       "    </tr>\n",
       "    <tr>\n",
       "      <th>LAS</th>\n",
       "      <td>69630.0</td>\n",
       "    </tr>\n",
       "    <tr>\n",
       "      <th>JFK</th>\n",
       "      <td>66270.0</td>\n",
       "    </tr>\n",
       "    <tr>\n",
       "      <th>...</th>\n",
       "      <td>...</td>\n",
       "    </tr>\n",
       "    <tr>\n",
       "      <th>MYJ</th>\n",
       "      <td>-80.0</td>\n",
       "    </tr>\n",
       "    <tr>\n",
       "      <th>UPG</th>\n",
       "      <td>-90.0</td>\n",
       "    </tr>\n",
       "    <tr>\n",
       "      <th>XWG</th>\n",
       "      <td>-90.0</td>\n",
       "    </tr>\n",
       "    <tr>\n",
       "      <th>MZV</th>\n",
       "      <td>-350.0</td>\n",
       "    </tr>\n",
       "    <tr>\n",
       "      <th>AYQ</th>\n",
       "      <td>-1270.0</td>\n",
       "    </tr>\n",
       "  </tbody>\n",
       "</table>\n",
       "<p>2275 rows × 1 columns</p>\n",
       "</div>"
      ],
      "text/plain": [
       "              pax\n",
       "arr_port         \n",
       "LHR       88809.0\n",
       "MCO       70930.0\n",
       "LAX       70530.0\n",
       "LAS       69630.0\n",
       "JFK       66270.0\n",
       "...           ...\n",
       "MYJ         -80.0\n",
       "UPG         -90.0\n",
       "XWG         -90.0\n",
       "MZV        -350.0\n",
       "AYQ       -1270.0\n",
       "\n",
       "[2275 rows x 1 columns]"
      ]
     },
     "execution_count": 45,
     "metadata": {},
     "output_type": "execute_result"
    }
   ],
   "source": [
    "df_all.groupby('arr_port').sum().sort_values(by='pax', ascending=False) # FUNCIONAAAAA"
   ]
  },
  {
   "cell_type": "code",
   "execution_count": null,
   "metadata": {},
   "outputs": [],
   "source": []
  },
  {
   "cell_type": "code",
   "execution_count": null,
   "metadata": {},
   "outputs": [],
   "source": []
  },
  {
   "cell_type": "code",
   "execution_count": null,
   "metadata": {},
   "outputs": [],
   "source": []
  },
  {
   "cell_type": "code",
   "execution_count": null,
   "metadata": {},
   "outputs": [],
   "source": []
  },
  {
   "cell_type": "code",
   "execution_count": null,
   "metadata": {},
   "outputs": [],
   "source": []
  },
  {
   "cell_type": "markdown",
   "metadata": {},
   "source": [
    "## Exercise 3\n",
    "\n",
    "#### Plot the monthly number of searches for flights arriving at Málaga, Madrid or Barcelona\n",
    "\n",
    "- For the arriving airport, you can use the Destination column in the searches file.\n",
    "- Plot a curve for Málaga, another one for Madrid, and another one for Barcelona, in the same figure.\n",
    "- **Bonus point**: Solving this problem using pandas (instead of any other approach)"
   ]
  },
  {
   "cell_type": "code",
   "execution_count": 54,
   "metadata": {},
   "outputs": [
    {
     "name": "stdout",
     "output_type": "stream",
     "text": [
      "\r\n",
      "bzcat: I/O or other error, bailing out.  Possible reason follows.\r\n",
      "bzcat: Broken pipe\r\n",
      "\tInput file = /home/dsc/Data/challenge/searches.csv.bz2, output file = (stdout)\r\n"
     ]
    }
   ],
   "source": [
    "!bzcat /home/dsc/Data/challenge/searches.csv.bz2 | head -n 50000 > searches.sample.csv"
   ]
  },
  {
   "cell_type": "code",
   "execution_count": 55,
   "metadata": {},
   "outputs": [],
   "source": [
    "!bzip2 -f searches.sample.csv"
   ]
  },
  {
   "cell_type": "code",
   "execution_count": 56,
   "metadata": {},
   "outputs": [
    {
     "name": "stdout",
     "output_type": "stream",
     "text": [
      "50000\n",
      "CPU times: user 51.5 ms, sys: 16.1 ms, total: 67.6 ms\n",
      "Wall time: 2.19 s\n"
     ]
    }
   ],
   "source": [
    "%%time\n",
    "\n",
    "!bzcat searches.sample.csv.bz2 | wc -l"
   ]
  },
  {
   "cell_type": "code",
   "execution_count": 57,
   "metadata": {},
   "outputs": [
    {
     "name": "stdout",
     "output_type": "stream",
     "text": [
      "50000\n"
     ]
    }
   ],
   "source": [
    "with bz2.BZ2File('searches.sample.csv.bz2') as fileBz2:\n",
    "    k = 0\n",
    "    for line in fileBz2:\n",
    "        k += 1\n",
    "# Cuando sales del \"with\" se cierra el archivo, y se previene así el problema del puntero\n",
    "print(k)"
   ]
  },
  {
   "cell_type": "code",
   "execution_count": 58,
   "metadata": {},
   "outputs": [
    {
     "data": {
      "text/plain": [
       "True"
      ]
     },
     "execution_count": 58,
     "metadata": {},
     "output_type": "execute_result"
    }
   ],
   "source": [
    "# Comprobación de que está cerrado:\n",
    "fileBz2.closed"
   ]
  },
  {
   "cell_type": "markdown",
   "metadata": {
    "scrolled": true
   },
   "source": [
    "```python\n",
    "%%time\n",
    "\n",
    "import pandas as pd\n",
    "from tqdm import tqdm\n",
    "\n",
    "tp = pd.read_csv('searches.sample.csv.bz2', sep='^', iterator=True, chunksize=10000)\n",
    "\n",
    "filas = 0\n",
    "iter_max = 1e0 # Usar '5' para test\n",
    "\n",
    "with open('003_sample_chunks', mode='w') as file:\n",
    "for k, chunk in tqdm(enumerate(tp)):\n",
    "    \n",
    "    \n",
    "    \n",
    "    df_all = df_all.append(group_chunk, ignore_index=True)\n",
    "\n",
    "    if k == iter_max: # Comprobador\n",
    "        break # Comprobador\n",
    "        \n",
    "    filas += len(chunk)\n",
    "```"
   ]
  },
  {
   "cell_type": "code",
   "execution_count": 64,
   "metadata": {},
   "outputs": [],
   "source": [
    "searches_sample = pd.read_csv('searches.sample.csv.bz2',\n",
    "                              usecols=['Date','Destination'],\n",
    "                              sep='^')"
   ]
  },
  {
   "cell_type": "code",
   "execution_count": 86,
   "metadata": {},
   "outputs": [
    {
     "data": {
      "text/plain": [
       "(49999, 4)"
      ]
     },
     "execution_count": 86,
     "metadata": {},
     "output_type": "execute_result"
    }
   ],
   "source": [
    "searches_sample.shape"
   ]
  },
  {
   "cell_type": "code",
   "execution_count": 65,
   "metadata": {
    "scrolled": true
   },
   "outputs": [
    {
     "data": {
      "text/plain": [
       "Index(['Date', 'Destination'], dtype='object')"
      ]
     },
     "execution_count": 65,
     "metadata": {},
     "output_type": "execute_result"
    }
   ],
   "source": [
    "searches_sample.columns"
   ]
  },
  {
   "cell_type": "code",
   "execution_count": 66,
   "metadata": {
    "scrolled": true
   },
   "outputs": [
    {
     "data": {
      "text/html": [
       "<div>\n",
       "<style scoped>\n",
       "    .dataframe tbody tr th:only-of-type {\n",
       "        vertical-align: middle;\n",
       "    }\n",
       "\n",
       "    .dataframe tbody tr th {\n",
       "        vertical-align: top;\n",
       "    }\n",
       "\n",
       "    .dataframe thead th {\n",
       "        text-align: right;\n",
       "    }\n",
       "</style>\n",
       "<table border=\"1\" class=\"dataframe\">\n",
       "  <thead>\n",
       "    <tr style=\"text-align: right;\">\n",
       "      <th></th>\n",
       "      <th>Date</th>\n",
       "      <th>Destination</th>\n",
       "    </tr>\n",
       "  </thead>\n",
       "  <tbody>\n",
       "    <tr>\n",
       "      <th>2154</th>\n",
       "      <td>2013-01-03</td>\n",
       "      <td>BAH</td>\n",
       "    </tr>\n",
       "    <tr>\n",
       "      <th>9953</th>\n",
       "      <td>2013-01-10</td>\n",
       "      <td>MUC</td>\n",
       "    </tr>\n",
       "    <tr>\n",
       "      <th>37310</th>\n",
       "      <td>2013-02-07</td>\n",
       "      <td>PAD</td>\n",
       "    </tr>\n",
       "    <tr>\n",
       "      <th>3637</th>\n",
       "      <td>2013-01-04</td>\n",
       "      <td>HYD</td>\n",
       "    </tr>\n",
       "    <tr>\n",
       "      <th>16487</th>\n",
       "      <td>2013-01-17</td>\n",
       "      <td>CHC</td>\n",
       "    </tr>\n",
       "  </tbody>\n",
       "</table>\n",
       "</div>"
      ],
      "text/plain": [
       "             Date Destination\n",
       "2154   2013-01-03         BAH\n",
       "9953   2013-01-10         MUC\n",
       "37310  2013-02-07         PAD\n",
       "3637   2013-01-04         HYD\n",
       "16487  2013-01-17         CHC"
      ]
     },
     "execution_count": 66,
     "metadata": {},
     "output_type": "execute_result"
    }
   ],
   "source": [
    "searches_sample.sample(5)"
   ]
  },
  {
   "cell_type": "code",
   "execution_count": 72,
   "metadata": {},
   "outputs": [
    {
     "data": {
      "text/plain": [
       "Date           object\n",
       "Destination    object\n",
       "dtype: object"
      ]
     },
     "execution_count": 72,
     "metadata": {},
     "output_type": "execute_result"
    }
   ],
   "source": [
    "searches_sample.dtypes"
   ]
  },
  {
   "cell_type": "code",
   "execution_count": 77,
   "metadata": {},
   "outputs": [
    {
     "data": {
      "text/html": [
       "<div>\n",
       "<style scoped>\n",
       "    .dataframe tbody tr th:only-of-type {\n",
       "        vertical-align: middle;\n",
       "    }\n",
       "\n",
       "    .dataframe tbody tr th {\n",
       "        vertical-align: top;\n",
       "    }\n",
       "\n",
       "    .dataframe thead th {\n",
       "        text-align: right;\n",
       "    }\n",
       "</style>\n",
       "<table border=\"1\" class=\"dataframe\">\n",
       "  <thead>\n",
       "    <tr style=\"text-align: right;\">\n",
       "      <th></th>\n",
       "      <th>Date</th>\n",
       "      <th>Destination</th>\n",
       "      <th>year</th>\n",
       "      <th>month</th>\n",
       "    </tr>\n",
       "  </thead>\n",
       "  <tbody>\n",
       "    <tr>\n",
       "      <th>2599</th>\n",
       "      <td>2013-01-03</td>\n",
       "      <td>YHZ</td>\n",
       "      <td>2013</td>\n",
       "      <td>01</td>\n",
       "    </tr>\n",
       "    <tr>\n",
       "      <th>42590</th>\n",
       "      <td>2013-02-12</td>\n",
       "      <td>FUE</td>\n",
       "      <td>2013</td>\n",
       "      <td>02</td>\n",
       "    </tr>\n",
       "    <tr>\n",
       "      <th>30365</th>\n",
       "      <td>2013-01-31</td>\n",
       "      <td>MBJ</td>\n",
       "      <td>2013</td>\n",
       "      <td>01</td>\n",
       "    </tr>\n",
       "    <tr>\n",
       "      <th>23738</th>\n",
       "      <td>2013-01-24</td>\n",
       "      <td>SIN</td>\n",
       "      <td>2013</td>\n",
       "      <td>01</td>\n",
       "    </tr>\n",
       "    <tr>\n",
       "      <th>22686</th>\n",
       "      <td>2013-01-23</td>\n",
       "      <td>KTM</td>\n",
       "      <td>2013</td>\n",
       "      <td>01</td>\n",
       "    </tr>\n",
       "  </tbody>\n",
       "</table>\n",
       "</div>"
      ],
      "text/plain": [
       "             Date Destination  year month\n",
       "2599   2013-01-03         YHZ  2013    01\n",
       "42590  2013-02-12         FUE  2013    02\n",
       "30365  2013-01-31         MBJ  2013    01\n",
       "23738  2013-01-24         SIN  2013    01\n",
       "22686  2013-01-23         KTM  2013    01"
      ]
     },
     "execution_count": 77,
     "metadata": {},
     "output_type": "execute_result"
    }
   ],
   "source": [
    "searches_sample['year'] = searches_sample['Date'].str[:4]\n",
    "searches_sample['month'] = searches_sample['Date'].str[5:7]\n",
    "searches_sample.sample(5)"
   ]
  },
  {
   "cell_type": "code",
   "execution_count": 81,
   "metadata": {
    "scrolled": true
   },
   "outputs": [
    {
     "data": {
      "text/html": [
       "<div>\n",
       "<style scoped>\n",
       "    .dataframe tbody tr th:only-of-type {\n",
       "        vertical-align: middle;\n",
       "    }\n",
       "\n",
       "    .dataframe tbody tr th {\n",
       "        vertical-align: top;\n",
       "    }\n",
       "\n",
       "    .dataframe thead th {\n",
       "        text-align: right;\n",
       "    }\n",
       "</style>\n",
       "<table border=\"1\" class=\"dataframe\">\n",
       "  <thead>\n",
       "    <tr style=\"text-align: right;\">\n",
       "      <th></th>\n",
       "      <th>Date</th>\n",
       "      <th>Destination</th>\n",
       "      <th>year</th>\n",
       "      <th>month</th>\n",
       "    </tr>\n",
       "  </thead>\n",
       "  <tbody>\n",
       "    <tr>\n",
       "      <th>17184</th>\n",
       "      <td>2013-01-18</td>\n",
       "      <td>BCN</td>\n",
       "      <td>2013</td>\n",
       "      <td>01</td>\n",
       "    </tr>\n",
       "    <tr>\n",
       "      <th>797</th>\n",
       "      <td>2013-01-01</td>\n",
       "      <td>BCN</td>\n",
       "      <td>2013</td>\n",
       "      <td>01</td>\n",
       "    </tr>\n",
       "    <tr>\n",
       "      <th>46576</th>\n",
       "      <td>2013-02-16</td>\n",
       "      <td>MAD</td>\n",
       "      <td>2013</td>\n",
       "      <td>02</td>\n",
       "    </tr>\n",
       "    <tr>\n",
       "      <th>19208</th>\n",
       "      <td>2013-01-20</td>\n",
       "      <td>BCN</td>\n",
       "      <td>2013</td>\n",
       "      <td>01</td>\n",
       "    </tr>\n",
       "    <tr>\n",
       "      <th>44813</th>\n",
       "      <td>2013-02-14</td>\n",
       "      <td>MAD</td>\n",
       "      <td>2013</td>\n",
       "      <td>02</td>\n",
       "    </tr>\n",
       "    <tr>\n",
       "      <th>18202</th>\n",
       "      <td>2013-01-19</td>\n",
       "      <td>BCN</td>\n",
       "      <td>2013</td>\n",
       "      <td>01</td>\n",
       "    </tr>\n",
       "    <tr>\n",
       "      <th>8520</th>\n",
       "      <td>2013-01-09</td>\n",
       "      <td>AGP</td>\n",
       "      <td>2013</td>\n",
       "      <td>01</td>\n",
       "    </tr>\n",
       "    <tr>\n",
       "      <th>35976</th>\n",
       "      <td>2013-02-05</td>\n",
       "      <td>BCN</td>\n",
       "      <td>2013</td>\n",
       "      <td>02</td>\n",
       "    </tr>\n",
       "    <tr>\n",
       "      <th>41225</th>\n",
       "      <td>2013-02-11</td>\n",
       "      <td>MAD</td>\n",
       "      <td>2013</td>\n",
       "      <td>02</td>\n",
       "    </tr>\n",
       "    <tr>\n",
       "      <th>42339</th>\n",
       "      <td>2013-02-12</td>\n",
       "      <td>MAD</td>\n",
       "      <td>2013</td>\n",
       "      <td>02</td>\n",
       "    </tr>\n",
       "  </tbody>\n",
       "</table>\n",
       "</div>"
      ],
      "text/plain": [
       "             Date Destination  year month\n",
       "17184  2013-01-18         BCN  2013    01\n",
       "797    2013-01-01         BCN  2013    01\n",
       "46576  2013-02-16         MAD  2013    02\n",
       "19208  2013-01-20         BCN  2013    01\n",
       "44813  2013-02-14         MAD  2013    02\n",
       "18202  2013-01-19         BCN  2013    01\n",
       "8520   2013-01-09         AGP  2013    01\n",
       "35976  2013-02-05         BCN  2013    02\n",
       "41225  2013-02-11         MAD  2013    02\n",
       "42339  2013-02-12         MAD  2013    02"
      ]
     },
     "execution_count": 81,
     "metadata": {},
     "output_type": "execute_result"
    }
   ],
   "source": [
    "cities = ['AGP', 'MAD', 'BCN']\n",
    "df2 = searches_sample[searches_sample['Destination'].isin(cities)].copy()\n",
    "df2.sample(10)"
   ]
  },
  {
   "cell_type": "code",
   "execution_count": 88,
   "metadata": {},
   "outputs": [
    {
     "data": {
      "text/plain": [
       "(1849, 4)"
      ]
     },
     "execution_count": 88,
     "metadata": {},
     "output_type": "execute_result"
    }
   ],
   "source": [
    "df2.shape"
   ]
  },
  {
   "cell_type": "code",
   "execution_count": 101,
   "metadata": {
    "scrolled": true
   },
   "outputs": [
    {
     "data": {
      "text/html": [
       "<div>\n",
       "<style scoped>\n",
       "    .dataframe tbody tr th:only-of-type {\n",
       "        vertical-align: middle;\n",
       "    }\n",
       "\n",
       "    .dataframe tbody tr th {\n",
       "        vertical-align: top;\n",
       "    }\n",
       "\n",
       "    .dataframe thead th {\n",
       "        text-align: right;\n",
       "    }\n",
       "</style>\n",
       "<table border=\"1\" class=\"dataframe\">\n",
       "  <thead>\n",
       "    <tr style=\"text-align: right;\">\n",
       "      <th></th>\n",
       "      <th>Destination</th>\n",
       "      <th>year</th>\n",
       "      <th>month</th>\n",
       "      <th>Date</th>\n",
       "    </tr>\n",
       "  </thead>\n",
       "  <tbody>\n",
       "    <tr>\n",
       "      <th>0</th>\n",
       "      <td>AGP</td>\n",
       "      <td>2013</td>\n",
       "      <td>01</td>\n",
       "      <td>169</td>\n",
       "    </tr>\n",
       "    <tr>\n",
       "      <th>1</th>\n",
       "      <td>AGP</td>\n",
       "      <td>2013</td>\n",
       "      <td>02</td>\n",
       "      <td>97</td>\n",
       "    </tr>\n",
       "    <tr>\n",
       "      <th>2</th>\n",
       "      <td>BCN</td>\n",
       "      <td>2013</td>\n",
       "      <td>01</td>\n",
       "      <td>517</td>\n",
       "    </tr>\n",
       "    <tr>\n",
       "      <th>3</th>\n",
       "      <td>BCN</td>\n",
       "      <td>2013</td>\n",
       "      <td>02</td>\n",
       "      <td>357</td>\n",
       "    </tr>\n",
       "    <tr>\n",
       "      <th>4</th>\n",
       "      <td>MAD</td>\n",
       "      <td>2013</td>\n",
       "      <td>01</td>\n",
       "      <td>425</td>\n",
       "    </tr>\n",
       "    <tr>\n",
       "      <th>5</th>\n",
       "      <td>MAD</td>\n",
       "      <td>2013</td>\n",
       "      <td>02</td>\n",
       "      <td>284</td>\n",
       "    </tr>\n",
       "  </tbody>\n",
       "</table>\n",
       "</div>"
      ],
      "text/plain": [
       "  Destination  year month  Date\n",
       "0         AGP  2013    01   169\n",
       "1         AGP  2013    02    97\n",
       "2         BCN  2013    01   517\n",
       "3         BCN  2013    02   357\n",
       "4         MAD  2013    01   425\n",
       "5         MAD  2013    02   284"
      ]
     },
     "execution_count": 101,
     "metadata": {},
     "output_type": "execute_result"
    }
   ],
   "source": [
    "df3 = df2.groupby(['Destination', 'year', 'month']).count().reset_index()\n",
    "df3"
   ]
  },
  {
   "cell_type": "code",
   "execution_count": 108,
   "metadata": {},
   "outputs": [],
   "source": [
    "import seaborn as sns\n",
    "import matplotlib.pyplot as plt"
   ]
  },
  {
   "cell_type": "code",
   "execution_count": 114,
   "metadata": {},
   "outputs": [
    {
     "data": {
      "text/plain": [
       "<AxesSubplot:xlabel='month', ylabel='Date'>"
      ]
     },
     "execution_count": 114,
     "metadata": {},
     "output_type": "execute_result"
    },
    {
     "data": {
      "image/png": "[encoded data removed]",
      "text/plain": [
       "<Figure size 576x360 with 1 Axes>"
      ]
     },
     "metadata": {
      "needs_background": "light"
     },
     "output_type": "display_data"
    }
   ],
   "source": [
    "fig,ax1 = plt.subplots(figsize=(8,5))\n",
    "sns.lineplot(data=df3[df3['year'] == '2013'],\n",
    "            x='month',\n",
    "            y='Date',\n",
    "            hue='Destination',\n",
    "            ax=ax1)"
   ]
  },
  {
   "cell_type": "code",
   "execution_count": 130,
   "metadata": {},
   "outputs": [
    {
     "name": "stdout",
     "output_type": "stream",
     "text": [
      "20390199\n"
     ]
    }
   ],
   "source": [
    "with bz2.BZ2File('/home/dsc/Data/challenge/searches.csv.bz2') as fileBz2:\n",
    "    k = 0\n",
    "    for line in fileBz2:\n",
    "        k += 1\n",
    "# Cuando sales del \"with\" se cierra el archivo, y se previene así el problema del puntero\n",
    "print(k)"
   ]
  },
  {
   "cell_type": "code",
   "execution_count": 131,
   "metadata": {},
   "outputs": [],
   "source": [
    "# Resultado: 20390199 filas"
   ]
  },
  {
   "cell_type": "code",
   "execution_count": 133,
   "metadata": {},
   "outputs": [
    {
     "data": {
      "text/plain": [
       "204.0"
      ]
     },
     "execution_count": 133,
     "metadata": {},
     "output_type": "execute_result"
    }
   ],
   "source": [
    "ChunkSize=1e5\n",
    "nfilas = 20390199\n",
    "iter_max = nfilas // ChunkSize + 1\n",
    "iter_max"
   ]
  },
  {
   "cell_type": "code",
   "execution_count": null,
   "metadata": {},
   "outputs": [],
   "source": [
    "%%time\n",
    "# Eliminar los duplicates del archivo completo y creación del archivo resultante:\n",
    "tp = pd.read_csv('/home/dsc/Data/challenge/searches.csv.bz2',\n",
    "                 sep='^', \n",
    "                 iterator=True,\n",
    "                 chunksize=2e6)\n",
    "all_chunks = pd.DataFrame()\n",
    "\n",
    "for i, chunk in enumerate(tp):\n",
    "    print(i, len(all_chunks))\n",
    "    all_chunks = all_chunks.append(chunk)\n",
    "    all_chunks.drop_duplicates(inplace=True) # Eliminar todos los duplicados totales\n",
    "\n",
    "# Aprovechar para limpiar tanto etiquetas de columnas como strings de algunas columnas:\n",
    "all_chunks.columns = all_chunks.columns.str.strip()\n",
    "all_chunks['Origin'] = all_chunks['Origin'].str.strip().str.upper()\n",
    "all_chunks['Destination'] = all_chunks['Destination'].str.strip().str.upper()\n",
    "\n",
    "all_chunks.to_csv('searches_without_dupl.csv.bz2',\n",
    "                  sep='^',\n",
    "                  index=False)\n",
    "\n",
    "# NOTA: el resultado tras cada chunk es idéntico porque todos los registros únicos se encuentran entre\n",
    "#       las primeras 2M de filas"
   ]
  },
  {
   "cell_type": "code",
   "execution_count": null,
   "metadata": {},
   "outputs": [],
   "source": []
  },
  {
   "cell_type": "code",
   "execution_count": 134,
   "metadata": {
    "scrolled": true
   },
   "outputs": [
    {
     "name": "stderr",
     "output_type": "stream",
     "text": [
      "204it [10:13,  3.01s/it]"
     ]
    },
    {
     "name": "stdout",
     "output_type": "stream",
     "text": [
      "20390198\n",
      "CPU times: user 8min 41s, sys: 662 ms, total: 8min 42s\n",
      "Wall time: 10min 13s\n"
     ]
    },
    {
     "name": "stderr",
     "output_type": "stream",
     "text": [
      "\n"
     ]
    },
    {
     "data": {
      "text/html": [
       "<div>\n",
       "<style scoped>\n",
       "    .dataframe tbody tr th:only-of-type {\n",
       "        vertical-align: middle;\n",
       "    }\n",
       "\n",
       "    .dataframe tbody tr th {\n",
       "        vertical-align: top;\n",
       "    }\n",
       "\n",
       "    .dataframe thead th {\n",
       "        text-align: right;\n",
       "    }\n",
       "</style>\n",
       "<table border=\"1\" class=\"dataframe\">\n",
       "  <thead>\n",
       "    <tr style=\"text-align: right;\">\n",
       "      <th></th>\n",
       "      <th>Destination</th>\n",
       "      <th>year</th>\n",
       "      <th>month</th>\n",
       "      <th>Date</th>\n",
       "    </tr>\n",
       "  </thead>\n",
       "  <tbody>\n",
       "    <tr>\n",
       "      <th>0</th>\n",
       "      <td>AGP</td>\n",
       "      <td>2013</td>\n",
       "      <td>01</td>\n",
       "      <td>169</td>\n",
       "    </tr>\n",
       "    <tr>\n",
       "      <th>1</th>\n",
       "      <td>AGP</td>\n",
       "      <td>2013</td>\n",
       "      <td>02</td>\n",
       "      <td>147</td>\n",
       "    </tr>\n",
       "    <tr>\n",
       "      <th>2</th>\n",
       "      <td>AGP</td>\n",
       "      <td>2013</td>\n",
       "      <td>03</td>\n",
       "      <td>187</td>\n",
       "    </tr>\n",
       "    <tr>\n",
       "      <th>3</th>\n",
       "      <td>AGP</td>\n",
       "      <td>2013</td>\n",
       "      <td>04</td>\n",
       "      <td>31</td>\n",
       "    </tr>\n",
       "    <tr>\n",
       "      <th>4</th>\n",
       "      <td>BCN</td>\n",
       "      <td>2013</td>\n",
       "      <td>01</td>\n",
       "      <td>517</td>\n",
       "    </tr>\n",
       "    <tr>\n",
       "      <th>...</th>\n",
       "      <td>...</td>\n",
       "      <td>...</td>\n",
       "      <td>...</td>\n",
       "      <td>...</td>\n",
       "    </tr>\n",
       "    <tr>\n",
       "      <th>7</th>\n",
       "      <td>BCN</td>\n",
       "      <td>2013</td>\n",
       "      <td>10</td>\n",
       "      <td>172</td>\n",
       "    </tr>\n",
       "    <tr>\n",
       "      <th>8</th>\n",
       "      <td>MAD</td>\n",
       "      <td>2013</td>\n",
       "      <td>07</td>\n",
       "      <td>199</td>\n",
       "    </tr>\n",
       "    <tr>\n",
       "      <th>9</th>\n",
       "      <td>MAD</td>\n",
       "      <td>2013</td>\n",
       "      <td>08</td>\n",
       "      <td>383</td>\n",
       "    </tr>\n",
       "    <tr>\n",
       "      <th>10</th>\n",
       "      <td>MAD</td>\n",
       "      <td>2013</td>\n",
       "      <td>09</td>\n",
       "      <td>371</td>\n",
       "    </tr>\n",
       "    <tr>\n",
       "      <th>11</th>\n",
       "      <td>MAD</td>\n",
       "      <td>2013</td>\n",
       "      <td>10</td>\n",
       "      <td>174</td>\n",
       "    </tr>\n",
       "  </tbody>\n",
       "</table>\n",
       "<p>2651 rows × 4 columns</p>\n",
       "</div>"
      ],
      "text/plain": [
       "   Destination  year month  Date\n",
       "0          AGP  2013    01   169\n",
       "1          AGP  2013    02   147\n",
       "2          AGP  2013    03   187\n",
       "3          AGP  2013    04    31\n",
       "4          BCN  2013    01   517\n",
       "..         ...   ...   ...   ...\n",
       "7          BCN  2013    10   172\n",
       "8          MAD  2013    07   199\n",
       "9          MAD  2013    08   383\n",
       "10         MAD  2013    09   371\n",
       "11         MAD  2013    10   174\n",
       "\n",
       "[2651 rows x 4 columns]"
      ]
     },
     "execution_count": 134,
     "metadata": {},
     "output_type": "execute_result"
    }
   ],
   "source": [
    "%%time\n",
    "\n",
    "# Importar las librerías necesarias:\n",
    "import pandas as pd\n",
    "import seaborn as sns\n",
    "import matplotlib.pyplot as plt\n",
    "from tqdm import tqdm\n",
    "\n",
    "# Importa el archivo, troceándolo en chunks (20390199 filas):\n",
    "ChunkSize=1e5\n",
    "nfilas = 20390199\n",
    "tp = pd.read_csv('/home/dsc/Data/challenge/searches.csv.bz2',\n",
    "                 sep='^',\n",
    "                 usecols=['Date','Destination'], \n",
    "                 iterator=True,\n",
    "                 chunksize=ChunkSize)\n",
    "# Inicializa el contador de filas:\n",
    "filas = 0\n",
    "# TEST: número de iteraciones máximas para testeo\n",
    "iter_max = nfilas // ChunkSize + 1\n",
    "# Crear un DataFrame vacío para appendear cada resultado de los chunks:\n",
    "df4 = pd.DataFrame()\n",
    "\n",
    "# Iterar por cada chunk:\n",
    "for k, chunk in tqdm(enumerate(tp)):\n",
    "    # TEST: al llegar al número máximo de iteraciones permitido, interrumpe el proceso:\n",
    "    if k == iter_max: # Comprobador\n",
    "        break # Comprobador\n",
    "    # Contador de filas total (chunk a chunk)\n",
    "    filas += len(chunk)\n",
    "    # Crear columnas auxiliares de Año y Mes:\n",
    "    chunk['year'] = chunk['Date'].str[:4]\n",
    "    chunk['month'] = chunk['Date'].str[5:7]\n",
    "    # Listar las ciudades (IATAs) buscadas:\n",
    "    cities = ['AGP', 'MAD', 'BCN']\n",
    "    # Filtrar por las ciudades buscadas:\n",
    "    df2 = chunk[chunk['Destination'].isin(cities)]\n",
    "    # Agrupar primero por Ciudad, luego por Año, y finalmente por Mes (reset_index para formato por columnas):\n",
    "    df3 = df2.groupby(['Destination', 'year', 'month']).count().reset_index()\n",
    "    # Appendear el grupo resultante al DataFrame inicialmente vacío (df4):\n",
    "    df4 = df4.append(df3)\n",
    "\n",
    "\n",
    "# Imprime el contador de filas:\n",
    "print(filas)\n",
    "\n",
    "# TEST: muestra el df4 resultante para inspeccionar:\n",
    "df4"
   ]
  },
  {
   "cell_type": "code",
   "execution_count": 135,
   "metadata": {},
   "outputs": [
    {
     "data": {
      "text/plain": [
       "<AxesSubplot:xlabel='month', ylabel='Date'>"
      ]
     },
     "execution_count": 135,
     "metadata": {},
     "output_type": "execute_result"
    },
    {
     "data": {
      "image/png": "[encoded data removed]",
      "text/plain": [
       "<Figure size 576x360 with 1 Axes>"
      ]
     },
     "metadata": {
      "needs_background": "light"
     },
     "output_type": "display_data"
    }
   ],
   "source": [
    "# Plotea el resultado final\n",
    "fig,ax1 = plt.subplots(figsize=(8,5))\n",
    "sns.lineplot(data=df4[df4['year'] == '2013'],\n",
    "            x='month',\n",
    "            y='Date',\n",
    "            hue='Destination',\n",
    "            ax=ax1)"
   ]
  },
  {
   "cell_type": "code",
   "execution_count": null,
   "metadata": {},
   "outputs": [],
   "source": []
  },
  {
   "cell_type": "code",
   "execution_count": null,
   "metadata": {},
   "outputs": [],
   "source": []
  },
  {
   "cell_type": "code",
   "execution_count": null,
   "metadata": {},
   "outputs": [],
   "source": []
  },
  {
   "cell_type": "code",
   "execution_count": null,
   "metadata": {},
   "outputs": [],
   "source": []
  },
  {
   "cell_type": "markdown",
   "metadata": {},
   "source": [
    "## Exercise 4\n",
    "\n",
    "#### Match searches with bookings\n",
    "\n",
    "- For every search in the searches file, find out whether the search ended up in a booking or not (using the info in the bookings file). For instance, search and booking origin and destination should match.\n",
    "- For the bookings file, origin and destination are the columns dep_port and arr_port, respectively.\n",
    "- Generate a CSV file with the search data, and an additional field, containing 1 if the search ended up in a booking, and 0 otherwise."
   ]
  },
  {
   "cell_type": "code",
   "execution_count": null,
   "metadata": {},
   "outputs": [],
   "source": []
  }
 ],
 "metadata": {
  "kernelspec": {
   "display_name": "Python 3",
   "language": "python",
   "name": "python3"
  },
  "language_info": {
   "codemirror_mode": {
    "name": "ipython",
    "version": 3
   },
   "file_extension": ".py",
   "mimetype": "text/x-python",
   "name": "python",
   "nbconvert_exporter": "python",
   "pygments_lexer": "ipython3",
   "version": "3.8.5"
  }
 },
 "nbformat": 4,
 "nbformat_minor": 4
}
