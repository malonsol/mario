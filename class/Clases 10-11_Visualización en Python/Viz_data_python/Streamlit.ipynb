{
 "cells": [
  {
   "cell_type": "markdown",
   "metadata": {
    "id": "_8SI-cEy8Sm0"
   },
   "source": [
    "# Streamlit"
   ]
  },
  {
   "cell_type": "markdown",
   "metadata": {
    "id": "inf6Ihqb8-Nn"
   },
   "source": [
    "Streamlit is a new library that allow to transform simple python code to web apps easily\n",
    "\n",
    "https://www.streamlit.io/\n",
    "\n",
    "https://docs.streamlit.io/en/stable/getting_started.html\n",
    "\n",
    "https://docs.streamlit.io/en/stable/api.html"
   ]
  },
  {
   "cell_type": "markdown",
   "metadata": {
    "id": "xUPhY4ln9e_N"
   },
   "source": [
    "# For COLAB:\n",
    "\n"
   ]
  },
  {
   "cell_type": "code",
   "execution_count": null,
   "metadata": {
    "id": "EJcqxyBf82xB"
   },
   "outputs": [],
   "source": [
    "!pip install streamlit==0.70 -q"
   ]
  },
  {
   "cell_type": "code",
   "execution_count": null,
   "metadata": {
    "colab": {
     "base_uri": "https://localhost:8080/"
    },
    "executionInfo": {
     "elapsed": 4647,
     "status": "ok",
     "timestamp": 1604620622073,
     "user": {
      "displayName": "Guillermo Ribeiro",
      "photoUrl": "https://lh3.googleusercontent.com/a-/AOh14Gi70218p-3IE7kI25S1ed3Vamv1EUpVGqpnusWdDg=s64",
      "userId": "05245081164149753899"
     },
     "user_tz": -60
    },
    "id": "W5z00rkM-xNH",
    "outputId": "65674f62-4795-4247-c7fb-01adc015967f"
   },
   "outputs": [
    {
     "name": "stdout",
     "output_type": "stream",
     "text": [
      "  Building wheel for pyngrok (setup.py) ... \u001b[?25l\u001b[?25hdone\n"
     ]
    }
   ],
   "source": [
    "!pip install pyngrok -q"
   ]
  },
  {
   "cell_type": "code",
   "execution_count": null,
   "metadata": {
    "colab": {
     "base_uri": "https://localhost:8080/"
    },
    "executionInfo": {
     "elapsed": 528,
     "status": "ok",
     "timestamp": 1604621759237,
     "user": {
      "displayName": "Guillermo Ribeiro",
      "photoUrl": "https://lh3.googleusercontent.com/a-/AOh14Gi70218p-3IE7kI25S1ed3Vamv1EUpVGqpnusWdDg=s64",
      "userId": "05245081164149753899"
     },
     "user_tz": -60
    },
    "id": "CCm41iAo_2r4",
    "outputId": "9467c8df-bceb-4eae-acf2-553f7ada7138"
   },
   "outputs": [
    {
     "name": "stdout",
     "output_type": "stream",
     "text": [
      "Overwriting app.py\n"
     ]
    }
   ],
   "source": [
    "%%writefile app.py\n",
    "import streamlit as st\n",
    "\n",
    "st.title(\"Awesome Streamlit app for kschool\")\n",
    "st.subheader(\"How to run streamlit from colab\")  \n",
    "\n"
   ]
  },
  {
   "cell_type": "code",
   "execution_count": null,
   "metadata": {
    "colab": {
     "base_uri": "https://localhost:8080/"
    },
    "executionInfo": {
     "elapsed": 645,
     "status": "ok",
     "timestamp": 1604620633841,
     "user": {
      "displayName": "Guillermo Ribeiro",
      "photoUrl": "https://lh3.googleusercontent.com/a-/AOh14Gi70218p-3IE7kI25S1ed3Vamv1EUpVGqpnusWdDg=s64",
      "userId": "05245081164149753899"
     },
     "user_tz": -60
    },
    "id": "8yfdO467ABL8",
    "outputId": "bf7f18d3-af9d-469c-8529-c2cc0fcfe12d"
   },
   "outputs": [
    {
     "name": "stdout",
     "output_type": "stream",
     "text": [
      "app.py\tsample_data\n"
     ]
    }
   ],
   "source": [
    "!ls"
   ]
  },
  {
   "cell_type": "code",
   "execution_count": null,
   "metadata": {
    "id": "sxkkohMtAB1e"
   },
   "outputs": [],
   "source": [
    "!streamlit run app.py --server.port 80 &>/dev/null&"
   ]
  },
  {
   "cell_type": "code",
   "execution_count": null,
   "metadata": {
    "colab": {
     "base_uri": "https://localhost:8080/"
    },
    "executionInfo": {
     "elapsed": 1676,
     "status": "ok",
     "timestamp": 1604620638237,
     "user": {
      "displayName": "Guillermo Ribeiro",
      "photoUrl": "https://lh3.googleusercontent.com/a-/AOh14Gi70218p-3IE7kI25S1ed3Vamv1EUpVGqpnusWdDg=s64",
      "userId": "05245081164149753899"
     },
     "user_tz": -60
    },
    "id": "M6HpKBIdAKZU",
    "outputId": "74060b5c-714d-47b4-d83f-b6e6cb8f3eb1"
   },
   "outputs": [
    {
     "name": "stdout",
     "output_type": "stream",
     "text": []
    },
    {
     "data": {
      "text/plain": [
       "<NgrokTunnel: \"http://31b51c4afe5b.ngrok.io\" -> \"http://localhost:80\">"
      ]
     },
     "execution_count": 7,
     "metadata": {
      "tags": []
     },
     "output_type": "execute_result"
    }
   ],
   "source": [
    "from pyngrok import ngrok\n",
    "# Setup a tunnel to the streamlit port 8501\n",
    "public_url = ngrok.connect(port='8501')\n",
    "public_url"
   ]
  },
  {
   "cell_type": "markdown",
   "metadata": {
    "id": "8Z_6rdGg30Wl"
   },
   "source": [
    "# OUT OF COLAB: LINUX ENVIRONMENT"
   ]
  },
  {
   "cell_type": "code",
   "execution_count": null,
   "metadata": {
    "id": "Qs4oGWAd37in"
   },
   "outputs": [],
   "source": [
    "!pip install streamlit"
   ]
  },
  {
   "cell_type": "code",
   "execution_count": null,
   "metadata": {
    "id": "cCtjjEDI3-Ot"
   },
   "outputs": [],
   "source": [
    "%%writefile app.py\n",
    "import streamlit as st\n",
    "\n",
    "st.title(\"Awesome Streamlit app for kschool\")\n",
    "st.subheader(\"How to run streamlit from colab\")  "
   ]
  },
  {
   "cell_type": "code",
   "execution_count": null,
   "metadata": {
    "id": "qlPlwZ9j4fdQ"
   },
   "outputs": [],
   "source": [
    "!ls"
   ]
  },
  {
   "cell_type": "code",
   "execution_count": null,
   "metadata": {
    "id": "hY21n7b04hz9"
   },
   "outputs": [],
   "source": [
    "# Maybe is better to run it through the console and not directly through the notebook\n",
    "!streamlit run app.py\n",
    "# to change port\n",
    "#!streamlit run app.py --server.port 8501"
   ]
  },
  {
   "cell_type": "code",
   "execution_count": null,
   "metadata": {
    "colab": {
     "base_uri": "https://localhost:8080/"
    },
    "executionInfo": {
     "elapsed": 678,
     "status": "ok",
     "timestamp": 1604621902005,
     "user": {
      "displayName": "Guillermo Ribeiro",
      "photoUrl": "https://lh3.googleusercontent.com/a-/AOh14Gi70218p-3IE7kI25S1ed3Vamv1EUpVGqpnusWdDg=s64",
      "userId": "05245081164149753899"
     },
     "user_tz": -60
    },
    "id": "bZbWR3TZDd7D",
    "outputId": "c2534d23-b237-46ec-c3bb-343c580cac12"
   },
   "outputs": [
    {
     "name": "stdout",
     "output_type": "stream",
     "text": [
      "Overwriting app.py\n"
     ]
    }
   ],
   "source": [
    "%%writefile app.py\n",
    "import streamlit as st\n",
    "\n",
    "\n",
    "st.title(\"Awesome Streamlit app for kschool\")\n",
    "st.subheader(\"How to run streamlit from colab\")\n",
    "menu = ['Home','about']\n",
    "choice = st.sidebar.selectbox('Menu',menu)\n",
    "if choice == 'Home':\n",
    "\t\tst.subheader(\"Streamlit From Colab\")\t\n"
   ]
  },
  {
   "cell_type": "markdown",
   "metadata": {
    "id": "L8t3eeib40Ao"
   },
   "source": [
    "# Continuation for everyone :) "
   ]
  },
  {
   "cell_type": "code",
   "execution_count": null,
   "metadata": {
    "colab": {
     "base_uri": "https://localhost:8080/"
    },
    "executionInfo": {
     "elapsed": 557,
     "status": "ok",
     "timestamp": 1604621654425,
     "user": {
      "displayName": "Guillermo Ribeiro",
      "photoUrl": "https://lh3.googleusercontent.com/a-/AOh14Gi70218p-3IE7kI25S1ed3Vamv1EUpVGqpnusWdDg=s64",
      "userId": "05245081164149753899"
     },
     "user_tz": -60
    },
    "id": "HLcrfXM0BJJP",
    "outputId": "964a1070-8d1c-402d-eb0b-d6b3e41d4b7c"
   },
   "outputs": [
    {
     "name": "stdout",
     "output_type": "stream",
     "text": [
      "Overwriting app.py\n"
     ]
    }
   ],
   "source": [
    "%%writefile app.py\n",
    "import streamlit as st \n",
    "import pandas as pd\n",
    "import altair as alt\n",
    "import matplotlib.pyplot as plt\n",
    "\n",
    "st.title(\"Hello world\")\n",
    "\n",
    "# Mostrar tablas de datos\n",
    "brain = pd.read_csv(\"https://raw.githubusercontent.com/rezpe/datos_viz/master/brain.csv\")\n",
    "st.table(brain.head())\n",
    "\n",
    "# Mostrar texto\n",
    "st.markdown(\"\"\"\n",
    "## Texto de ejemplo\n",
    "\n",
    "Lorem ipsum ...\n",
    "\n",
    "\"\"\")\n",
    "\n",
    "# Mostrar grafico\n",
    " \n",
    "# Matplotlib\n",
    "\n",
    "#figure = plt.figure(figsize=(10,8))\n",
    "#axes = figure.add_axes([0.2,0.4,0.6,0.5])\n",
    "#axes.scatter(X, Y ** 2)\n",
    "fig, ax = plt.subplots(figsize=(6,3))\n",
    "ax.scatter(brain[\"Body Weight\"],brain[\"Brain Weight\"])\n",
    "st.pyplot(fig)\n",
    "\n",
    "\n",
    "\n",
    "\n",
    "\n",
    "# Altair\n",
    "hist_brain = alt.Chart(brain).mark_bar().encode(\n",
    "    x=alt.X('Brain Weight',bin=alt.Bin(maxbins=100)),\n",
    "    y=\"count()\"\n",
    ").properties(\n",
    "    width=300,\n",
    "    height=150,\n",
    "    title=\"Relación peso del cerebro y del cuerpo\"\n",
    ").interactive()\n",
    "\n",
    "hist_body = alt.Chart(brain).mark_bar().encode(\n",
    "    x=alt.X('Body Weight',bin=alt.Bin(maxbins=100)),\n",
    "    y=\"count()\"\n",
    ").properties(\n",
    "    width=300,\n",
    "    height=150,\n",
    "    title=\"Relación peso del cerebro y del cuerpo\"\n",
    ").interactive()\n",
    "\n",
    "scatter_brain_body = alt.Chart(brain).mark_circle().encode(\n",
    "    x='Body Weight',\n",
    "    y='Brain Weight'\n",
    ").properties(\n",
    "    width=700,\n",
    "    height=300,\n",
    "    title=\"Relación peso del cerebro y del cuerpo\"\n",
    ").interactive()\n",
    "\n",
    "comp_brain = (hist_brain|hist_body)&scatter_brain_body\n",
    "st.write(comp_brain)"
   ]
  },
  {
   "cell_type": "code",
   "execution_count": null,
   "metadata": {
    "colab": {
     "base_uri": "https://localhost:8080/"
    },
    "executionInfo": {
     "elapsed": 573,
     "status": "ok",
     "timestamp": 1604623096920,
     "user": {
      "displayName": "Guillermo Ribeiro",
      "photoUrl": "https://lh3.googleusercontent.com/a-/AOh14Gi70218p-3IE7kI25S1ed3Vamv1EUpVGqpnusWdDg=s64",
      "userId": "05245081164149753899"
     },
     "user_tz": -60
    },
    "id": "X0v30f757SLd",
    "outputId": "bbfd84d5-e6ba-4b4f-a6e2-826200c2e77f"
   },
   "outputs": [
    {
     "name": "stdout",
     "output_type": "stream",
     "text": [
      "Overwriting app.py\n"
     ]
    }
   ],
   "source": [
    "%%writefile app.py\n",
    "\n",
    "import streamlit as st \n",
    "import pandas as pd\n",
    "import altair as alt\n",
    "import matplotlib.pyplot as plt\n",
    "\n",
    "st.title(\"Google Trends\")\n",
    "\n",
    "st.markdown(\"Hemos analizado las búsquedas de Google de 4 tecnologías:\")\n",
    "\n",
    "trends = pd.read_csv(\"https://raw.githubusercontent.com/rezpe/datos_viz/master/google_trends.csv\")\n",
    "\n",
    "select_term = alt.selection(type=\"single\",encodings=[\"x\"])\n",
    "\n",
    "trend_line = alt.Chart(trends).mark_line().encode(\n",
    "    x=\"yearmonth(date):T\",\n",
    "    y=\"mean(value)\",\n",
    "    color=\"search_term\"\n",
    ").transform_filter(\n",
    "    select_term\n",
    ")\n",
    "\n",
    "trend_bar = alt.Chart(trends).mark_bar().encode(\n",
    "    x=\"search_term\",\n",
    "    y=\"value\",\n",
    "    color=\"search_term\",\n",
    "    tooltip=\"search_term\"\n",
    ").properties(\n",
    "    selection=select_term\n",
    ")\n",
    "\n",
    "st.write(trend_bar|trend_line)\n",
    "\n",
    "st.markdown(\"Puede hacer zoom para ver el detalle:\")\n",
    "\n",
    "select_date = alt.selection(type=\"interval\",encodings=[\"x\"])\n",
    "\n",
    "mini_trend_line = alt.Chart(trends).mark_line().encode(\n",
    "    x=\"yearmonth(date):T\",\n",
    "    y=\"mean(value)\",\n",
    "    color=\"search_term\"\n",
    ").properties(\n",
    "    height=100\n",
    ").add_selection(\n",
    "    select_date\n",
    ")\n",
    "\n",
    "trend_line = alt.Chart(trends).mark_line().encode(\n",
    "    x=\"yearmonth(date):T\",\n",
    "    y=\"mean(value)\",\n",
    "    color=\"search_term\"\n",
    ").transform_filter(\n",
    "    select_date\n",
    ")\n",
    "\n",
    "st.write(mini_trend_line&trend_line)"
   ]
  },
  {
   "cell_type": "code",
   "execution_count": null,
   "metadata": {
    "colab": {
     "base_uri": "https://localhost:8080/"
    },
    "executionInfo": {
     "elapsed": 537,
     "status": "ok",
     "timestamp": 1604622095896,
     "user": {
      "displayName": "Guillermo Ribeiro",
      "photoUrl": "https://lh3.googleusercontent.com/a-/AOh14Gi70218p-3IE7kI25S1ed3Vamv1EUpVGqpnusWdDg=s64",
      "userId": "05245081164149753899"
     },
     "user_tz": -60
    },
    "id": "nVpJeLxA7ex5",
    "outputId": "b3ba34f3-5d6f-41d6-e562-d29c669abbac"
   },
   "outputs": [
    {
     "name": "stdout",
     "output_type": "stream",
     "text": [
      "Overwriting app.py\n"
     ]
    }
   ],
   "source": [
    "%%writefile app.py\n",
    "\n",
    "import streamlit as st \n",
    "import pandas as pd\n",
    "import altair as alt\n",
    "import matplotlib.pyplot as plt\n",
    "\n",
    "st.title(\"GDP Life Expectancy\")\n",
    "\n",
    "st.markdown(\"We gathered stats on several countries to check relationships between GDP and life expectancy\")\n",
    "\n",
    "lifecountries = pd.read_csv(\"https://raw.githubusercontent.com/rezpe/datos_viz/master/lifecountries.csv\")\n",
    "\n",
    "st.write(alt.Chart(lifecountries).mark_circle().encode(\n",
    "    x='Country GDP',\n",
    "    y=alt.Y('Life Expectancy',scale=alt.Scale(zero=False)),\n",
    "    color='Continent',\n",
    "    tooltip='country',\n",
    "    size='size'\n",
    "))\n",
    "\n",
    "st.markdown(\"We see that after a certain level, there's no significant increase in life expectancy\")"
   ]
  },
  {
   "cell_type": "code",
   "execution_count": null,
   "metadata": {
    "colab": {
     "base_uri": "https://localhost:8080/"
    },
    "executionInfo": {
     "elapsed": 559,
     "status": "ok",
     "timestamp": 1604622142561,
     "user": {
      "displayName": "Guillermo Ribeiro",
      "photoUrl": "https://lh3.googleusercontent.com/a-/AOh14Gi70218p-3IE7kI25S1ed3Vamv1EUpVGqpnusWdDg=s64",
      "userId": "05245081164149753899"
     },
     "user_tz": -60
    },
    "id": "CiW_Vlm27qjR",
    "outputId": "d7108cab-b724-4080-9bfb-bb203e25e928"
   },
   "outputs": [
    {
     "name": "stdout",
     "output_type": "stream",
     "text": [
      "Overwriting app.py\n"
     ]
    }
   ],
   "source": [
    "%%writefile app.py\n",
    "\n",
    "import streamlit as st \n",
    "import pandas as pd\n",
    "import altair as alt\n",
    "import matplotlib.pyplot as plt\n",
    "\n",
    "st.title(\"Input example\")\n",
    "\n",
    "texto = st.text_input(\"Insert Value\")\n",
    "\n",
    "st.markdown(f\"El texto que has escrito es: \"+texto)"
   ]
  },
  {
   "cell_type": "code",
   "execution_count": null,
   "metadata": {
    "colab": {
     "base_uri": "https://localhost:8080/"
    },
    "executionInfo": {
     "elapsed": 519,
     "status": "ok",
     "timestamp": 1604623184489,
     "user": {
      "displayName": "Guillermo Ribeiro",
      "photoUrl": "https://lh3.googleusercontent.com/a-/AOh14Gi70218p-3IE7kI25S1ed3Vamv1EUpVGqpnusWdDg=s64",
      "userId": "05245081164149753899"
     },
     "user_tz": -60
    },
    "id": "PIGWuWx8741F",
    "outputId": "62b9c77c-e1b6-496f-ac73-2bcad0d6d3ee"
   },
   "outputs": [
    {
     "name": "stdout",
     "output_type": "stream",
     "text": [
      "Overwriting app.py\n"
     ]
    }
   ],
   "source": [
    "%%writefile app.py\n",
    "\n",
    "import streamlit as st \n",
    "import pandas as pd\n",
    "import altair as alt\n",
    "import matplotlib.pyplot as plt\n",
    "\n",
    "st.title(\"Locales de Madrid\")\n",
    "\n",
    "st.markdown(\"Hemos obtenido la lista de locales de la comunidad de Madrid. Teclee el tipo de local que quiera buscar:\")\n",
    "\n",
    "texto = st.text_input(\"Insertar tipo\",\"BAR\")\n",
    "\n",
    "@st.cache\n",
    "def get_locales():\n",
    "  return pd.read_csv(\"https://github.com/rezpe/datos_viz/blob/master/locales_madrid.csv?raw=true\")\n",
    "\n",
    "locales = get_locales()\n",
    "\n",
    "alt.data_transformers.disable_max_rows()\n",
    "\n",
    "# filtrar locales\n",
    "\n",
    "locales_filt = locales[locales[\"rotulo\"].str.contains(texto)]\n",
    "\n",
    "st.markdown(f\"La comunidad de Madrid contiene: {len(locales_filt)} {texto}(s) \")\n",
    "\n",
    "points = alt.Chart(locales_filt).mark_point().encode(\n",
    "    latitude=\"lat\",\n",
    "    longitude=\"lon\",\n",
    "    color=\"desc_distrito_local\"\n",
    ")\n",
    "\n",
    "# remote geojson data object\n",
    "url_geojson = 'https://raw.githubusercontent.com/codeforamerica/click_that_hood/master/public/data/madrid.geojson'\n",
    "data_geojson_remote = alt.Data(url=url_geojson, format=alt.DataFormat(property='features',type='json'))\n",
    "\n",
    "# chart object\n",
    "background = alt.Chart(data_geojson_remote).mark_geoshape(\n",
    ").encode(\n",
    ").properties(\n",
    ")\n",
    "\n",
    "st.write(background+points)"
   ]
  },
  {
   "cell_type": "code",
   "execution_count": null,
   "metadata": {
    "colab": {
     "base_uri": "https://localhost:8080/"
    },
    "executionInfo": {
     "elapsed": 489,
     "status": "ok",
     "timestamp": 1604623221904,
     "user": {
      "displayName": "Guillermo Ribeiro",
      "photoUrl": "https://lh3.googleusercontent.com/a-/AOh14Gi70218p-3IE7kI25S1ed3Vamv1EUpVGqpnusWdDg=s64",
      "userId": "05245081164149753899"
     },
     "user_tz": -60
    },
    "id": "D8UB49980UrD",
    "outputId": "611de738-de6f-488e-b674-989aefbf8fbe"
   },
   "outputs": [
    {
     "name": "stdout",
     "output_type": "stream",
     "text": [
      "Overwriting app.py\n"
     ]
    }
   ],
   "source": [
    "%%writefile app.py\n",
    "\n",
    "import streamlit as st \n",
    "import pandas as pd\n",
    "import altair as alt\n",
    "import matplotlib.pyplot as plt\n",
    "import datetime\n",
    "\n",
    "st.button('Say hello')\n",
    "\n",
    "agree = st.checkbox('I agree')\n",
    "\n",
    "genre = st.radio(\n",
    "    \"What's your favorite movie genre\",\n",
    "    ('Comedy', 'Drama', 'Documentary'))\n",
    "\n",
    "\n",
    "option = st.selectbox(\n",
    "     'How would you like to be contacted?',\n",
    "     ('Email', 'Home phone', 'Mobile phone'))\n",
    "\n",
    "options = st.multiselect(\n",
    "     'What are your favorite colors',\n",
    "     ['Green', 'Yellow', 'Red', 'Blue'],\n",
    "     ['Yellow', 'Red'])\n",
    "\n",
    "age = st.slider('How old are you?', 0, 130, 25)\n",
    "\n",
    "color = st.select_slider('Select a color of the rainbow',options=['red', 'orange', 'yellow', 'green', 'blue', 'indigo', 'violet'])\n",
    "\n",
    "d = st.date_input(\n",
    "     \"When's your birthday\",\n",
    "     datetime.date(2019, 7, 6))\n",
    "\n",
    "\n",
    "t = st.time_input('Set an alarm for', datetime.time(8, 45))\n",
    "\n",
    "uploaded_file = st.file_uploader(\"Choose a CSV file\", type=\"csv\")"
   ]
  },
  {
   "cell_type": "code",
   "execution_count": null,
   "metadata": {
    "id": "q6aFKWfF_0Ja"
   },
   "outputs": [],
   "source": []
  }
 ],
 "metadata": {
  "colab": {
   "authorship_tag": "ABX9TyMP7bBfjgAavMEisa35C0Sz",
   "collapsed_sections": [],
   "name": "Streamlit.ipynb",
   "provenance": []
  },
  "kernelspec": {
   "display_name": "Python 3",
   "language": "python",
   "name": "python3"
  },
  "language_info": {
   "codemirror_mode": {
    "name": "ipython",
    "version": 3
   },
   "file_extension": ".py",
   "mimetype": "text/x-python",
   "name": "python",
   "nbconvert_exporter": "python",
   "pygments_lexer": "ipython3",
   "version": "3.8.5"
  }
 },
 "nbformat": 4,
 "nbformat_minor": 1
}
