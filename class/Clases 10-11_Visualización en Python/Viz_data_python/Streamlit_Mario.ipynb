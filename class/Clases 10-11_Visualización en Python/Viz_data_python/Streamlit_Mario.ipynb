{
 "cells": [
  {
   "cell_type": "markdown",
   "metadata": {
    "id": "_8SI-cEy8Sm0"
   },
   "source": [
    "# Streamlit"
   ]
  },
  {
   "cell_type": "markdown",
   "metadata": {
    "id": "inf6Ihqb8-Nn"
   },
   "source": [
    "Streamlit is a new library that allow to transform simple python code to web apps easily\n",
    "\n",
    "https://www.streamlit.io/\n",
    "\n",
    "https://docs.streamlit.io/en/stable/getting_started.html\n",
    "\n",
    "https://docs.streamlit.io/en/stable/api.html"
   ]
  },
  {
   "cell_type": "markdown",
   "metadata": {
    "id": "xUPhY4ln9e_N"
   },
   "source": [
    "The following is needed to be able to use it in Colab"
   ]
  },
  {
   "cell_type": "markdown",
   "metadata": {
    "executionInfo": {
     "elapsed": 5551,
     "status": "ok",
     "timestamp": 1605210856129,
     "user": {
      "displayName": "Guillermo Ribeiro",
      "photoUrl": "https://lh3.googleusercontent.com/a-/AOh14Gi70218p-3IE7kI25S1ed3Vamv1EUpVGqpnusWdDg=s64",
      "userId": "05245081164149753899"
     },
     "user_tz": -60
    },
    "id": "CCm41iAo_2r4"
   },
   "source": [
    "Para este notebook, activar el entorno \"viz_class\", que ya tiene las librerías necesarias:\n",
    "\n",
    "conda activate viz_class\n",
    "\n",
    "Acordarse de activar después el entorno \"por defecto\":\n",
    "\n",
    "conda activate base"
   ]
  },
  {
   "cell_type": "code",
   "execution_count": 1,
   "metadata": {
    "executionInfo": {
     "elapsed": 5544,
     "status": "ok",
     "timestamp": 1605210856132,
     "user": {
      "displayName": "Guillermo Ribeiro",
      "photoUrl": "https://lh3.googleusercontent.com/a-/AOh14Gi70218p-3IE7kI25S1ed3Vamv1EUpVGqpnusWdDg=s64",
      "userId": "05245081164149753899"
     },
     "user_tz": -60
    },
    "id": "sxkkohMtAB1e"
   },
   "outputs": [
    {
     "name": "stdout",
     "output_type": "stream",
     "text": [
      "Overwriting app.py\n"
     ]
    }
   ],
   "source": [
    "%%writefile app.py\n",
    "\n",
    "import streamlit as st\n",
    "\n",
    "st.title('Awesome streamlit app for KSchool')\n",
    "st.subheader('how to run streamlit !!')"
   ]
  },
  {
   "cell_type": "code",
   "execution_count": 2,
   "metadata": {
    "executionInfo": {
     "elapsed": 5543,
     "status": "ok",
     "timestamp": 1605210856135,
     "user": {
      "displayName": "Guillermo Ribeiro",
      "photoUrl": "https://lh3.googleusercontent.com/a-/AOh14Gi70218p-3IE7kI25S1ed3Vamv1EUpVGqpnusWdDg=s64",
      "userId": "05245081164149753899"
     },
     "user_tz": -60
    },
    "id": "M6HpKBIdAKZU"
   },
   "outputs": [
    {
     "name": "stdout",
     "output_type": "stream",
     "text": [
      "Overwriting app.py\n"
     ]
    }
   ],
   "source": [
    "%%writefile app.py\n",
    "\n",
    "import streamlit as st\n",
    "import pandas as pd\n",
    "import altair as alt\n",
    "import matplotlib.pyplot as plt\n",
    "\n",
    "st.title('Awesome streamlit app for KSchool')\n",
    "st.subheader('how to run streamlit !!')\n",
    "\n",
    "url=\"https://raw.githubusercontent.com/KaonToPion/datasets/main/brain.csv\"\n",
    "brain = pd.read_csv(url)\n",
    "\n",
    "st.table(brain.head())\n",
    "\n",
    "st.markdown(\"\"\"\n",
    "### HOLA\n",
    "\n",
    "\"\"\")\n",
    "\n",
    "fig,ax = plt.subplots(figsize=(6,3))\n",
    "ax.scatter(brain['Body Weight'],brain['Brain Weight'])\n",
    "\n",
    "\n",
    "hist_brain = alt.Chart(brain).mark_bar().encode(\n",
    "    x=alt.X('Brain Weight',bin=alt.Bin(maxbins=100)),\n",
    "    y='count()'\n",
    ").properties(\n",
    "    width=300,\n",
    "    height=150,\n",
    "    title='relacion peso cerebro y cuerpo'\n",
    ").interactive()\n",
    "\n",
    "hist_body = alt.Chart(brain).mark_bar().encode(\n",
    "    x=alt.X('Body Weight',bin=alt.Bin(maxbins=100)),\n",
    "    y='count()'\n",
    ").properties(\n",
    "    width=300,\n",
    "    height=150,\n",
    "    title='relacion peso cerebro y cuerpo'\n",
    ").interactive()\n",
    "\n",
    "scatter_brain_body = alt.Chart(brain).mark_circle().encode(\n",
    "    x='Brain Weight',\n",
    "    y='Body Weight'\n",
    ").properties(\n",
    "    width=300,\n",
    "    height=150,\n",
    "    title='relacion de peso y cerebro'\n",
    ").interactive()\n",
    "\n",
    "combination = (hist_brain | hist_body) & scatter_brain_body\n",
    "\n",
    "st.write(combination)"
   ]
  },
  {
   "cell_type": "code",
   "execution_count": 3,
   "metadata": {
    "executionInfo": {
     "elapsed": 5539,
     "status": "ok",
     "timestamp": 1605210856136,
     "user": {
      "displayName": "Guillermo Ribeiro",
      "photoUrl": "https://lh3.googleusercontent.com/a-/AOh14Gi70218p-3IE7kI25S1ed3Vamv1EUpVGqpnusWdDg=s64",
      "userId": "05245081164149753899"
     },
     "user_tz": -60
    },
    "id": "bZbWR3TZDd7D"
   },
   "outputs": [
    {
     "name": "stdout",
     "output_type": "stream",
     "text": [
      "Overwriting app.py\n"
     ]
    }
   ],
   "source": [
    "%%writefile app.py\n",
    "\n",
    "import streamlit as st\n",
    "import pandas as pd\n",
    "import altair as alt\n",
    "import matplotlib.pyplot as plt\n",
    "\n",
    "st.button('say hello')\n",
    "\n",
    "agree = st.checkbox('yes')\n",
    "genre = st.radio(\"What's your favorite color?\", ('red','black','yellow'))\n",
    "\n",
    "st.write(genre)\n",
    "\n",
    "st.selectbox('color?', ('red','blue'))"
   ]
  },
  {
   "cell_type": "code",
   "execution_count": 8,
   "metadata": {
    "executionInfo": {
     "elapsed": 5533,
     "status": "ok",
     "timestamp": 1605210856137,
     "user": {
      "displayName": "Guillermo Ribeiro",
      "photoUrl": "https://lh3.googleusercontent.com/a-/AOh14Gi70218p-3IE7kI25S1ed3Vamv1EUpVGqpnusWdDg=s64",
      "userId": "05245081164149753899"
     },
     "user_tz": -60
    },
    "id": "HLcrfXM0BJJP"
   },
   "outputs": [],
   "source": [
    "url=\"https://raw.githubusercontent.com/KaonToPion/datasets/main/brain.csv\"\n",
    "\n"
   ]
  },
  {
   "cell_type": "code",
   "execution_count": 9,
   "metadata": {
    "executionInfo": {
     "elapsed": 5528,
     "status": "ok",
     "timestamp": 1605210856138,
     "user": {
      "displayName": "Guillermo Ribeiro",
      "photoUrl": "https://lh3.googleusercontent.com/a-/AOh14Gi70218p-3IE7kI25S1ed3Vamv1EUpVGqpnusWdDg=s64",
      "userId": "05245081164149753899"
     },
     "user_tz": -60
    },
    "id": "X0v30f757SLd"
   },
   "outputs": [],
   "source": [
    "url=\"https://raw.githubusercontent.com/KaonToPion/datasets/main/trends.csv\"\n",
    "\n",
    "\n"
   ]
  },
  {
   "cell_type": "code",
   "execution_count": 10,
   "metadata": {
    "executionInfo": {
     "elapsed": 5524,
     "status": "ok",
     "timestamp": 1605210856139,
     "user": {
      "displayName": "Guillermo Ribeiro",
      "photoUrl": "https://lh3.googleusercontent.com/a-/AOh14Gi70218p-3IE7kI25S1ed3Vamv1EUpVGqpnusWdDg=s64",
      "userId": "05245081164149753899"
     },
     "user_tz": -60
    },
    "id": "nVpJeLxA7ex5"
   },
   "outputs": [],
   "source": [
    "url=\"https://raw.githubusercontent.com/KaonToPion/datasets/main/lifecountries.csv\"\n",
    "\n"
   ]
  },
  {
   "cell_type": "code",
   "execution_count": 10,
   "metadata": {
    "executionInfo": {
     "elapsed": 5518,
     "status": "ok",
     "timestamp": 1605210856139,
     "user": {
      "displayName": "Guillermo Ribeiro",
      "photoUrl": "https://lh3.googleusercontent.com/a-/AOh14Gi70218p-3IE7kI25S1ed3Vamv1EUpVGqpnusWdDg=s64",
      "userId": "05245081164149753899"
     },
     "user_tz": -60
    },
    "id": "CiW_Vlm27qjR"
   },
   "outputs": [],
   "source": []
  },
  {
   "cell_type": "code",
   "execution_count": 11,
   "metadata": {
    "executionInfo": {
     "elapsed": 5515,
     "status": "ok",
     "timestamp": 1605210856140,
     "user": {
      "displayName": "Guillermo Ribeiro",
      "photoUrl": "https://lh3.googleusercontent.com/a-/AOh14Gi70218p-3IE7kI25S1ed3Vamv1EUpVGqpnusWdDg=s64",
      "userId": "05245081164149753899"
     },
     "user_tz": -60
    },
    "id": "PIGWuWx8741F"
   },
   "outputs": [],
   "source": [
    "URL=\"https://github.com/KaonToPion/datasets/blob/main/locales_madrid.csv?raw=true\"\n",
    "\n",
    "url_geojson = 'https://raw.githubusercontent.com/codeforamerica/click_that_hood/master/public/data/madrid.geojson'"
   ]
  },
  {
   "cell_type": "code",
   "execution_count": 11,
   "metadata": {
    "executionInfo": {
     "elapsed": 5511,
     "status": "ok",
     "timestamp": 1605210856141,
     "user": {
      "displayName": "Guillermo Ribeiro",
      "photoUrl": "https://lh3.googleusercontent.com/a-/AOh14Gi70218p-3IE7kI25S1ed3Vamv1EUpVGqpnusWdDg=s64",
      "userId": "05245081164149753899"
     },
     "user_tz": -60
    },
    "id": "D8UB49980UrD"
   },
   "outputs": [],
   "source": []
  },
  {
   "cell_type": "code",
   "execution_count": 11,
   "metadata": {
    "executionInfo": {
     "elapsed": 5826,
     "status": "ok",
     "timestamp": 1605210856461,
     "user": {
      "displayName": "Guillermo Ribeiro",
      "photoUrl": "https://lh3.googleusercontent.com/a-/AOh14Gi70218p-3IE7kI25S1ed3Vamv1EUpVGqpnusWdDg=s64",
      "userId": "05245081164149753899"
     },
     "user_tz": -60
    },
    "id": "q6aFKWfF_0Ja"
   },
   "outputs": [],
   "source": []
  }
 ],
 "metadata": {
  "colab": {
   "authorship_tag": "ABX9TyPioaLLWGlgiX7HlS6P9UwS",
   "collapsed_sections": [],
   "name": "Streamlit_empty.ipynb",
   "provenance": []
  },
  "kernelspec": {
   "display_name": "Python 3",
   "language": "python",
   "name": "python3"
  },
  "language_info": {
   "codemirror_mode": {
    "name": "ipython",
    "version": 3
   },
   "file_extension": ".py",
   "mimetype": "text/x-python",
   "name": "python",
   "nbconvert_exporter": "python",
   "pygments_lexer": "ipython3",
   "version": "3.8.5"
  }
 },
 "nbformat": 4,
 "nbformat_minor": 1
}
