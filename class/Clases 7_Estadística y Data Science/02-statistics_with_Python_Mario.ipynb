{
 "cells": [
  {
   "cell_type": "markdown",
   "metadata": {
    "slideshow": {
     "slide_type": "slide"
    }
   },
   "source": [
    "# Introduction to statistics with Python\n",
    "\n",
    "\n",
    "<img src=\"https://www.python.org/static/img/python-logo.png\" alt=\"yogen\" style=\"width: 200px; float: right;\"/>\n",
    "<br>\n",
    "<br>\n",
    "<br>\n",
    "<img src=\"../assets/yogen-logo.png\" alt=\"yogen\" style=\"width: 200px; float: right;\"/>"
   ]
  },
  {
   "cell_type": "markdown",
   "metadata": {},
   "source": [
    "## The data\n",
    "\n",
    "National Survey of Family Growth, taken from https://github.com/AllenDowney/ThinkStats2\n",
    "\n",
    "\n",
    "* `caseid` is the integer ID of the respondent.\n",
    "* `prglngth` is the integer duration of the pregnancy in weeks.\n",
    "* `outcome` is an integer code for the outcome of the pregnancy. The code 1 indicates a live birth.\n",
    "* `pregordr` is a pregnancy serial number; for example, the code for a respondent’s first pregnancy is 1, for the second pregnancy is 2, and so on.\n",
    "* `birthord` is a serial number for live births; the code for a respondent’s first child is 1, and so on. For outcomes other than live birth, this field is blank.\n",
    "* `birthwgt_lb` and `birthwgt_oz` contain the pounds and ounces parts of the birth weight of the baby.\n",
    "* `agepreg` is the mother’s age at the end of the pregnancy.\n",
    "* `finalwgt` is the statistical weight associated with the respondent. It is a floating-point value that indicates the number of people in the U.S. population this respondent represents.\n",
    "* `poverty`: poverty level income\n",
    "\n",
    "More information at https://www.icpsr.umich.edu/icpsradmin/nsfg/search"
   ]
  },
  {
   "cell_type": "code",
   "execution_count": 1,
   "metadata": {
    "scrolled": false
   },
   "outputs": [
    {
     "data": {
      "text/plain": [
       "(13593, 244)"
      ]
     },
     "execution_count": 1,
     "metadata": {},
     "output_type": "execute_result"
    }
   ],
   "source": [
    "import pandas as pd\n",
    "\n",
    "df = pd.read_csv('nsfg.csv')\n",
    "df.shape # 13593 registros (filas) / 244 variables (columnas)"
   ]
  },
  {
   "cell_type": "code",
   "execution_count": 2,
   "metadata": {
    "scrolled": false
   },
   "outputs": [
    {
     "data": {
      "text/plain": [
       "0        8.0\n",
       "1        7.0\n",
       "2        9.0\n",
       "3        7.0\n",
       "4        6.0\n",
       "5        8.0\n",
       "6        9.0\n",
       "7        8.0\n",
       "8        7.0\n",
       "9        6.0\n",
       "10       7.0\n",
       "11       7.0\n",
       "12       4.0\n",
       "13       NaN\n",
       "14       NaN\n",
       "15       7.0\n",
       "16       7.0\n",
       "17       6.0\n",
       "18       NaN\n",
       "19       8.0\n",
       "20       8.0\n",
       "21       5.0\n",
       "22       NaN\n",
       "23       6.0\n",
       "24       7.0\n",
       "25       6.0\n",
       "26       8.0\n",
       "27       7.0\n",
       "28       6.0\n",
       "29       7.0\n",
       "        ... \n",
       "13563    7.0\n",
       "13564    7.0\n",
       "13565    8.0\n",
       "13566    7.0\n",
       "13567    NaN\n",
       "13568    NaN\n",
       "13569    5.0\n",
       "13570    6.0\n",
       "13571    6.0\n",
       "13572    5.0\n",
       "13573    6.0\n",
       "13574    6.0\n",
       "13575    NaN\n",
       "13576    6.0\n",
       "13577    NaN\n",
       "13578    6.0\n",
       "13579    7.0\n",
       "13580    NaN\n",
       "13581    6.0\n",
       "13582    NaN\n",
       "13583    NaN\n",
       "13584    6.0\n",
       "13585    NaN\n",
       "13586    NaN\n",
       "13587    NaN\n",
       "13588    6.0\n",
       "13589    NaN\n",
       "13590    NaN\n",
       "13591    7.0\n",
       "13592    7.0\n",
       "Name: birthwgt_lb, Length: 13593, dtype: float64"
      ]
     },
     "execution_count": 2,
     "metadata": {},
     "output_type": "execute_result"
    }
   ],
   "source": [
    "df['birthwgt_lb'] # Seleccionar una columna"
   ]
  },
  {
   "cell_type": "markdown",
   "metadata": {},
   "source": [
    "## `matplotlib`\n",
    "\n",
    "We are only going to use the most basic functions of matplotlib"
   ]
  },
  {
   "cell_type": "code",
   "execution_count": 3,
   "metadata": {
    "scrolled": false
   },
   "outputs": [],
   "source": [
    "import matplotlib.pyplot as plt\n",
    "import numpy as np\n",
    "import scipy as sp\n",
    "from scipy import stats\n",
    "import statsmodels.api as sm\n",
    "import seaborn as sns\n",
    "%matplotlib inline \n",
    "# Para que aparezcan los gráficos en la propia página\n",
    "plt.style.use('seaborn')"
   ]
  },
  {
   "cell_type": "code",
   "execution_count": 4,
   "metadata": {
    "scrolled": false
   },
   "outputs": [
    {
     "name": "stdout",
     "output_type": "stream",
     "text": [
      "['seaborn-dark-palette', 'seaborn-notebook', 'fivethirtyeight', 'seaborn-dark', 'fast', 'Solarize_Light2', 'grayscale', 'seaborn', 'seaborn-muted', 'seaborn-colorblind', 'seaborn-darkgrid', 'tableau-colorblind10', 'seaborn-whitegrid', 'seaborn-bright', 'seaborn-paper', 'classic', 'seaborn-white', 'seaborn-talk', 'dark_background', 'ggplot', 'seaborn-ticks', 'bmh', 'seaborn-pastel', 'seaborn-poster', 'seaborn-deep', '_classic_test']\n"
     ]
    }
   ],
   "source": [
    "print(plt.style.available)"
   ]
  },
  {
   "cell_type": "markdown",
   "metadata": {},
   "source": [
    "### Histogram"
   ]
  },
  {
   "cell_type": "code",
   "execution_count": 5,
   "metadata": {
    "scrolled": false
   },
   "outputs": [
    {
     "name": "stderr",
     "output_type": "stream",
     "text": [
      "/home/dsc/anaconda3/lib/python3.7/site-packages/numpy/lib/histograms.py:754: RuntimeWarning: invalid value encountered in greater_equal\n",
      "  keep = (tmp_a >= first_edge)\n",
      "/home/dsc/anaconda3/lib/python3.7/site-packages/numpy/lib/histograms.py:755: RuntimeWarning: invalid value encountered in less_equal\n",
      "  keep &= (tmp_a <= last_edge)\n"
     ]
    },
    {
     "data": {
      "image/png": "[encoded data removed]",
      "text/plain": [
       "<Figure size 432x288 with 1 Axes>"
      ]
     },
     "metadata": {
      "needs_background": "light"
     },
     "output_type": "display_data"
    }
   ],
   "source": [
    "# Los histogramas se utilizan para variables continuas. Se diferencia de los gráficos de barras en que en estos se separan las barras para indicar que son variables discretas\n",
    "plt.hist(df['birthwgt_lb']); # El \";\" es para eliminar la línea de output del comando"
   ]
  },
  {
   "cell_type": "code",
   "execution_count": 6,
   "metadata": {
    "scrolled": true
   },
   "outputs": [
    {
     "data": {
      "image/png": "[encoded data removed]",
      "text/plain": [
       "<Figure size 432x288 with 1 Axes>"
      ]
     },
     "metadata": {
      "needs_background": "light"
     },
     "output_type": "display_data"
    }
   ],
   "source": [
    "plt.hist([1,2,3,3,2,2,2,1,4,6,4,4]);"
   ]
  },
  {
   "cell_type": "markdown",
   "metadata": {},
   "source": [
    "### Bar plot"
   ]
  },
  {
   "cell_type": "code",
   "execution_count": 7,
   "metadata": {
    "scrolled": true
   },
   "outputs": [
    {
     "data": {
      "image/png": "[encoded data removed]",
      "text/plain": [
       "<Figure size 432x288 with 1 Axes>"
      ]
     },
     "metadata": {
      "needs_background": "light"
     },
     "output_type": "display_data"
    }
   ],
   "source": [
    "plt.bar(range(4), [3, 1, 5, 7])\n",
    "plt.xticks(range(4), labels = ['red', 'black', 'blond', 'none']);"
   ]
  },
  {
   "cell_type": "code",
   "execution_count": 8,
   "metadata": {
    "scrolled": false
   },
   "outputs": [],
   "source": [
    "df['birthwgt_g'] = df['birthwgt_lb'] * 454 + df['birthwgt_oz'] * 28.35\n",
    "# Cada columna (serie) se comporta como un array de numpy, por lo que la operación se hace elemento a elemneto"
   ]
  },
  {
   "cell_type": "code",
   "execution_count": 9,
   "metadata": {
    "scrolled": false
   },
   "outputs": [
    {
     "data": {
      "image/png": "[encoded data removed]",
      "text/plain": [
       "<Figure size 432x288 with 1 Axes>"
      ]
     },
     "metadata": {
      "needs_background": "light"
     },
     "output_type": "display_data"
    }
   ],
   "source": [
    "plt.hist(df['birthwgt_g'], bins=range(0, 7000, 100)); # bins lo parte en X (indet.) contenedores de 100 unidades"
   ]
  },
  {
   "cell_type": "code",
   "execution_count": 10,
   "metadata": {
    "scrolled": false
   },
   "outputs": [
    {
     "data": {
      "image/png": "[encoded data removed]",
      "text/plain": [
       "<Figure size 432x288 with 1 Axes>"
      ]
     },
     "metadata": {
      "needs_background": "light"
     },
     "output_type": "display_data"
    }
   ],
   "source": [
    "plt.hist(df['birthwgt_g'], bins=np.linspace(0, 7000, 50)); # Si queremos 50 contenedores de X (indet.)unidades"
   ]
  },
  {
   "cell_type": "code",
   "execution_count": 11,
   "metadata": {
    "scrolled": false
   },
   "outputs": [
    {
     "data": {
      "image/png": "[encoded data removed]",
      "text/plain": [
       "<Figure size 432x288 with 1 Axes>"
      ]
     },
     "metadata": {
      "needs_background": "light"
     },
     "output_type": "display_data"
    }
   ],
   "source": [
    "plt.hist(df['birthwgt_oz'], bins=np.linspace(0, 15, 50));"
   ]
  },
  {
   "cell_type": "markdown",
   "metadata": {},
   "source": [
    "### Scatter plot"
   ]
  },
  {
   "cell_type": "code",
   "execution_count": 12,
   "metadata": {
    "scrolled": true
   },
   "outputs": [
    {
     "data": {
      "image/png": "[encoded data removed]",
      "text/plain": [
       "<Figure size 432x288 with 1 Axes>"
      ]
     },
     "metadata": {
      "needs_background": "light"
     },
     "output_type": "display_data"
    }
   ],
   "source": [
    "plt.scatter(df['agepreg'], df['birthwgt_g']); # Se usa para representar dos variables"
   ]
  },
  {
   "cell_type": "markdown",
   "metadata": {
    "scrolled": false
   },
   "source": [
    "Como aparece un \"manchote\", no se reconoce la verdadera distribución. Para ello se utilizan mapas de relieve llamados 'contour plot' `matplotlib.pyplot.contour`"
   ]
  },
  {
   "cell_type": "code",
   "execution_count": 13,
   "metadata": {
    "scrolled": false
   },
   "outputs": [
    {
     "data": {
      "text/plain": [
       "<matplotlib.collections.PathCollection at 0x7f54de8879e8>"
      ]
     },
     "execution_count": 13,
     "metadata": {},
     "output_type": "execute_result"
    },
    {
     "data": {
      "image/png": "[encoded data removed]",
      "text/plain": [
       "<Figure size 432x288 with 1 Axes>"
      ]
     },
     "metadata": {
      "needs_background": "light"
     },
     "output_type": "display_data"
    }
   ],
   "source": [
    "plt.scatter(df['agepreg'], df['birthwgt_g'], alpha=.1) # Para ver mejor la densidad de puntos se controla la transparencia"
   ]
  },
  {
   "cell_type": "markdown",
   "metadata": {},
   "source": [
    "## Descriptive statistics"
   ]
  },
  {
   "cell_type": "markdown",
   "metadata": {},
   "source": [
    "### Measures of centrality\n",
    "\n",
    "#### Average\n",
    "\n",
    "$$\\bar{x} = \\frac{\\sum_{i=1}^{n}x_i}{n}$$\n",
    "\n",
    "#### Median\n",
    "\n",
    "50th percentile"
   ]
  },
  {
   "cell_type": "code",
   "execution_count": 14,
   "metadata": {
    "scrolled": false
   },
   "outputs": [
    {
     "data": {
      "text/plain": [
       "3298.4223722062566"
      ]
     },
     "execution_count": 14,
     "metadata": {},
     "output_type": "execute_result"
    }
   ],
   "source": [
    "df['birthwgt_g'].mean()"
   ]
  },
  {
   "cell_type": "code",
   "execution_count": 15,
   "metadata": {
    "scrolled": false
   },
   "outputs": [
    {
     "data": {
      "text/plain": [
       "3348.1"
      ]
     },
     "execution_count": 15,
     "metadata": {},
     "output_type": "execute_result"
    }
   ],
   "source": [
    "df['birthwgt_g'].median()"
   ]
  },
  {
   "cell_type": "code",
   "execution_count": 16,
   "metadata": {
    "scrolled": true
   },
   "outputs": [
    {
     "data": {
      "text/plain": [
       "<matplotlib.lines.Line2D at 0x7f54deac5550>"
      ]
     },
     "execution_count": 16,
     "metadata": {},
     "output_type": "execute_result"
    },
    {
     "data": {
      "image/png": "[encoded data removed]",
      "text/plain": [
       "<Figure size 432x288 with 1 Axes>"
      ]
     },
     "metadata": {
      "needs_background": "light"
     },
     "output_type": "display_data"
    }
   ],
   "source": [
    "plt.hist(df['birthwgt_g'], bins=np.linspace(0, 7000, 100));\n",
    "plt.axvline(df['birthwgt_g'].mean(), color='orange')\n",
    "plt.axvline(df['birthwgt_g'].median(), color='green')"
   ]
  },
  {
   "cell_type": "markdown",
   "metadata": {},
   "source": [
    "En este caso, la media y la mediana es muy parecida, pero **la sensibilidad de la media es mayor a valores extremos**. Por ejemplo, si estudiáramos el salario de una población, la media se vería desplazada por salarios anormalmente elevados, \"confundiendo\" sobre el conjunto.  En cambio, la mediana da una información más cercana a la realidad."
   ]
  },
  {
   "cell_type": "markdown",
   "metadata": {},
   "source": [
    "### Measures of dispersion\n",
    "\n",
    "#### Variance and standard deviation\n",
    "\n",
    "$$v_x = \\frac{\\sum_{i=1}^{n}(x_i - \\bar{x})^2}{n}$$\n",
    "\n",
    "$$\\sigma_x = \\sqrt{v_x}$$"
   ]
  },
  {
   "cell_type": "code",
   "execution_count": 17,
   "metadata": {
    "scrolled": false
   },
   "outputs": [
    {
     "data": {
      "text/plain": [
       "408728.86675883376"
      ]
     },
     "execution_count": 17,
     "metadata": {},
     "output_type": "execute_result"
    }
   ],
   "source": [
    "diffs = (df['birthwgt_g'] - df['birthwgt_g'].mean()).dropna()\n",
    "var = diffs.dot(diffs) / diffs.size\n",
    "var # var = 408728 g²"
   ]
  },
  {
   "cell_type": "code",
   "execution_count": 18,
   "metadata": {
    "scrolled": false
   },
   "outputs": [
    {
     "data": {
      "text/plain": [
       "639.3190649111239"
      ]
     },
     "execution_count": 18,
     "metadata": {},
     "output_type": "execute_result"
    }
   ],
   "source": [
    "st_dev = np.sqrt(var)\n",
    "st_dev # desv_estandar = 639 g"
   ]
  },
  {
   "cell_type": "markdown",
   "metadata": {},
   "source": [
    "### z-score\n",
    "\n",
    "$$z_i = \\frac{x_i - \\mu}{\\sigma}$$"
   ]
  },
  {
   "cell_type": "markdown",
   "metadata": {},
   "source": [
    "#### Exercise\n",
    "\n",
    "Calculate the z-scores of every `birthweight_g` and plot them like we have just done."
   ]
  },
  {
   "cell_type": "code",
   "execution_count": 19,
   "metadata": {
    "scrolled": false
   },
   "outputs": [
    {
     "data": {
      "image/png": "[encoded data removed]",
      "text/plain": [
       "<Figure size 432x288 with 1 Axes>"
      ]
     },
     "metadata": {
      "needs_background": "light"
     },
     "output_type": "display_data"
    }
   ],
   "source": [
    "zs = (df['birthwgt_g'] - df['birthwgt_g'].mean()) / df['birthwgt_g'].std()\n",
    "\n",
    "plt.hist(zs);"
   ]
  },
  {
   "cell_type": "markdown",
   "metadata": {},
   "source": [
    "## Correlation and covariance"
   ]
  },
  {
   "cell_type": "markdown",
   "metadata": {},
   "source": [
    "Let's make up some data to play around:"
   ]
  },
  {
   "cell_type": "code",
   "execution_count": 20,
   "metadata": {
    "scrolled": true
   },
   "outputs": [
    {
     "data": {
      "image/png": "[encoded data removed]",
      "text/plain": [
       "<Figure size 432x288 with 1 Axes>"
      ]
     },
     "metadata": {
      "needs_background": "light"
     },
     "output_type": "display_data"
    }
   ],
   "source": [
    "n = 1000\n",
    "xs = np.random.uniform(-200, 400, size=n) # Crea 1000 puntos uniformemente entre -200 y 400\n",
    "plt.hist(xs);"
   ]
  },
  {
   "cell_type": "code",
   "execution_count": 21,
   "metadata": {
    "scrolled": false
   },
   "outputs": [
    {
     "data": {
      "image/png": "[encoded data removed]",
      "text/plain": [
       "<Figure size 432x288 with 1 Axes>"
      ]
     },
     "metadata": {
      "needs_background": "light"
     },
     "output_type": "display_data"
    }
   ],
   "source": [
    "ys = 4 * xs + 300\n",
    "plt.scatter(xs, ys); # \"Aburrido\", porque no tiene ruido alguno"
   ]
  },
  {
   "cell_type": "code",
   "execution_count": 22,
   "metadata": {
    "scrolled": false
   },
   "outputs": [
    {
     "data": {
      "image/png": "[encoded data removed]",
      "text/plain": [
       "<Figure size 432x288 with 1 Axes>"
      ]
     },
     "metadata": {
      "needs_background": "light"
     },
     "output_type": "display_data"
    }
   ],
   "source": [
    "ys = 4 * xs + 300 + np.random.randn(n) * 100\n",
    "plt.scatter(xs, ys); # Con ruido"
   ]
  },
  {
   "cell_type": "code",
   "execution_count": 23,
   "metadata": {
    "scrolled": false
   },
   "outputs": [],
   "source": [
    "def jitter(series, noise_factor=0.1):\n",
    "    return series + np.random.randn(series.size) * noise_factor * (series.mean() + series.std())"
   ]
  },
  {
   "cell_type": "code",
   "execution_count": 24,
   "metadata": {
    "scrolled": false
   },
   "outputs": [
    {
     "data": {
      "image/png": "[encoded data removed]",
      "text/plain": [
       "<Figure size 432x288 with 1 Axes>"
      ]
     },
     "metadata": {
      "needs_background": "light"
     },
     "output_type": "display_data"
    }
   ],
   "source": [
    "plt.scatter(xs, jitter(xs, .1));"
   ]
  },
  {
   "cell_type": "markdown",
   "metadata": {},
   "source": [
    "#### Exercise\n",
    "\n",
    "Make three series ys1, ys2, ys3 that have a linear, quadratic and cubic relationship to xs.\n",
    "\n",
    "The coefficients should be:\n",
    "\n",
    "```python\n",
    "x_0 = 200\n",
    "x_1 = 13\n",
    "x_2 = 3\n",
    "x_3 = .2\n",
    "```"
   ]
  },
  {
   "cell_type": "code",
   "execution_count": 25,
   "metadata": {
    "scrolled": false
   },
   "outputs": [],
   "source": [
    "x_0 = 200\n",
    "x_1 = 13\n",
    "x_2 = 3\n",
    "x_3 = .2\n",
    "\n",
    "ys1 = jitter(x_1 * xs + x_0, .1)\n",
    "ys2 = jitter(x_2 * xs ** 2 + x_1 * xs + x_0, .1)\n",
    "ys3 = jitter(x_3 * xs ** 3 + x_2 * xs ** 2 + x_1 * xs + x_0, .1)"
   ]
  },
  {
   "cell_type": "markdown",
   "metadata": {},
   "source": [
    "Let's plot them"
   ]
  },
  {
   "cell_type": "code",
   "execution_count": 26,
   "metadata": {
    "scrolled": false
   },
   "outputs": [
    {
     "data": {
      "image/png": "[encoded data removed]",
      "text/plain": [
       "<Figure size 432x288 with 1 Axes>"
      ]
     },
     "metadata": {
      "needs_background": "light"
     },
     "output_type": "display_data"
    }
   ],
   "source": [
    "plt.scatter(xs, ys1);"
   ]
  },
  {
   "cell_type": "code",
   "execution_count": 27,
   "metadata": {
    "scrolled": false
   },
   "outputs": [
    {
     "data": {
      "image/png": "[encoded data removed]",
      "text/plain": [
       "<Figure size 432x288 with 1 Axes>"
      ]
     },
     "metadata": {
      "needs_background": "light"
     },
     "output_type": "display_data"
    }
   ],
   "source": [
    "plt.scatter(xs, ys2);"
   ]
  },
  {
   "cell_type": "code",
   "execution_count": 28,
   "metadata": {
    "scrolled": false
   },
   "outputs": [
    {
     "data": {
      "image/png": "[encoded data removed]",
      "text/plain": [
       "<Figure size 432x288 with 1 Axes>"
      ]
     },
     "metadata": {
      "needs_background": "light"
     },
     "output_type": "display_data"
    }
   ],
   "source": [
    "plt.scatter(xs, ys3);"
   ]
  },
  {
   "cell_type": "markdown",
   "metadata": {},
   "source": [
    "### Covariance\n",
    "\n",
    "$$cov_{x,y}=\\frac{\\sum_{i=1}^{n}(x_{i}-\\bar{x})(y_{i}-\\bar{y})}{n}$$\n",
    "\n",
    "\n",
    "A measure of how much two variables change together. It is a dot product, so the covariance is\n",
    "maximized if the two vectors are identical, 0 if they are orthogonal, and 98 Chapter 7. Relationships between variables negative if they point in opposite directions."
   ]
  },
  {
   "cell_type": "code",
   "execution_count": 29,
   "metadata": {
    "scrolled": false
   },
   "outputs": [
    {
     "data": {
      "text/plain": [
       "394763.3288234222"
      ]
     },
     "execution_count": 29,
     "metadata": {},
     "output_type": "execute_result"
    }
   ],
   "source": [
    "x_diffs = xs - xs.mean()\n",
    "y_diffs = ys1 - ys1.mean()\n",
    "x_diffs.dot(y_diffs) / x_diffs.size"
   ]
  },
  {
   "cell_type": "code",
   "execution_count": 30,
   "metadata": {
    "scrolled": false
   },
   "outputs": [
    {
     "data": {
      "text/plain": [
       "(4, 1000)"
      ]
     },
     "execution_count": 30,
     "metadata": {},
     "output_type": "execute_result"
    }
   ],
   "source": [
    "# np.cov(x, y) espera una matriz de dimensión (2,n)\n",
    "np.array([xs, ys1, ys2, ys3]).shape"
   ]
  },
  {
   "cell_type": "code",
   "execution_count": 31,
   "metadata": {
    "scrolled": false
   },
   "outputs": [
    {
     "data": {
      "text/plain": [
       "array([[ 2.15983560e+02,  3.20703137e+02,  3.18528681e+02, ...,\n",
       "         3.38127373e+01,  1.63035895e+02,  3.86798237e+02],\n",
       "       [ 2.73257667e+03,  4.34164658e+03,  4.30956545e+03, ...,\n",
       "         2.00902082e+02,  2.78224232e+03,  5.54522325e+03],\n",
       "       [ 1.90454806e+05,  3.24932223e+05,  2.91741083e+05, ...,\n",
       "        -5.22742427e+04,  6.17510360e+04,  4.75508895e+05],\n",
       "       [ 2.49484631e+06,  7.44591024e+06,  6.69667158e+06, ...,\n",
       "        -8.58238472e+04,  3.06810353e+04,  1.05883170e+07]])"
      ]
     },
     "execution_count": 31,
     "metadata": {},
     "output_type": "execute_result"
    }
   ],
   "source": [
    "all_vars = np.array([xs, ys1, ys2, ys3])\n",
    "all_vars"
   ]
  },
  {
   "cell_type": "code",
   "execution_count": 32,
   "metadata": {
    "scrolled": false
   },
   "outputs": [
    {
     "data": {
      "text/plain": [
       "array([[3.02983986e+04, 3.95158487e+05, 1.78807004e+07, 5.09345391e+08],\n",
       "       [3.95158487e+05, 5.28273492e+06, 2.33419979e+08, 6.65738216e+09],\n",
       "       [1.78807004e+07, 2.33419979e+08, 1.76408094e+10, 4.32499364e+11],\n",
       "       [5.09345391e+08, 6.65738216e+09, 4.32499364e+11, 1.22031736e+13]])"
      ]
     },
     "execution_count": 32,
     "metadata": {},
     "output_type": "execute_result"
    }
   ],
   "source": [
    "np.cov(all_vars) # Matriz de covarianza. Obsérvese cómo aumenta de orden de magnitud con órdenes mayores"
   ]
  },
  {
   "cell_type": "markdown",
   "metadata": {},
   "source": [
    "### Correlation and dependence"
   ]
  },
  {
   "cell_type": "markdown",
   "metadata": {},
   "source": [
    "#### Pearson correlation coefficient\n",
    "\n",
    "\n",
    "$$ r = \\frac{\\sum_{i=1}^{n}(x_{i}-\\bar{x})(y_{i}-\\bar{y})}{\\sqrt{\\sum_{i=1}^{n}(x_{i}-\\bar{x})^2}\\sqrt{\\sum_{i=1}^{n}(y_{i}-\\bar{y})^2}} $$\n",
    "\n",
    "\n",
    "Pretty ugly, huh? But fear not! Remember:\n",
    "\n",
    "\n",
    "$$v_x = \\frac{\\sum_{i=1}^{n}(x_i - \\bar{x})^2}{n}$$\n",
    "\n",
    "$$\\sigma_x = \\sqrt{v_x}$$"
   ]
  },
  {
   "cell_type": "code",
   "execution_count": 33,
   "metadata": {
    "scrolled": false
   },
   "outputs": [
    {
     "data": {
      "text/plain": [
       "(0.9877159512726269, 0.0)"
      ]
     },
     "execution_count": 33,
     "metadata": {},
     "output_type": "execute_result"
    }
   ],
   "source": [
    "stats.pearsonr(xs, ys1) # Correlación muy alta (~0.99)"
   ]
  },
  {
   "cell_type": "code",
   "execution_count": 34,
   "metadata": {
    "scrolled": false
   },
   "outputs": [
    {
     "data": {
      "text/plain": [
       "array([[1.        , 0.98771595, 0.77342006, 0.83765686],\n",
       "       [0.98771595, 1.        , 0.76462653, 0.82915874],\n",
       "       [0.77342006, 0.76462653, 1.        , 0.93215863],\n",
       "       [0.83765686, 0.82915874, 0.93215863, 1.        ]])"
      ]
     },
     "execution_count": 34,
     "metadata": {},
     "output_type": "execute_result"
    }
   ],
   "source": [
    "np.corrcoef(all_vars) # Matriz de correlaciones"
   ]
  },
  {
   "cell_type": "markdown",
   "metadata": {},
   "source": [
    "Mapas de colores:\n",
    "https://matplotlib.org/3.1.0/tutorials/colors/colormaps.html\n",
    "\n",
    "Atendiendo al tipo de datos que se quiere presentar, interesa usar unos mapas de colores u otros: enfatizando respecto a un valor crítico, valores ordenados..."
   ]
  },
  {
   "cell_type": "code",
   "execution_count": 35,
   "metadata": {
    "scrolled": false
   },
   "outputs": [
    {
     "data": {
      "image/png": "[encoded data removed]",
      "text/plain": [
       "<Figure size 432x288 with 2 Axes>"
      ]
     },
     "metadata": {
      "needs_background": "light"
     },
     "output_type": "display_data"
    }
   ],
   "source": [
    "sns.heatmap(np.corrcoef(all_vars), vmin=-1, vmax=1);"
   ]
  },
  {
   "cell_type": "code",
   "execution_count": 36,
   "metadata": {
    "scrolled": false
   },
   "outputs": [
    {
     "data": {
      "image/png": "[encoded data removed]",
      "text/plain": [
       "<Figure size 432x288 with 2 Axes>"
      ]
     },
     "metadata": {
      "needs_background": "light"
     },
     "output_type": "display_data"
    }
   ],
   "source": [
    "sns.heatmap(np.corrcoef(all_vars), vmin=-1, vmax=1, cmap='BrBG');"
   ]
  },
  {
   "cell_type": "markdown",
   "metadata": {},
   "source": [
    "![Pearson correlations](https://upload.wikimedia.org/wikipedia/commons/d/d4/Correlation_examples2.svg)"
   ]
  },
  {
   "cell_type": "markdown",
   "metadata": {},
   "source": [
    "#### *Precaución!! Que se obtenga un coeficiente de correlación de Pearson cercano a 0, no quiere decir que no haya otro tipo de correlaciones!!*"
   ]
  },
  {
   "cell_type": "markdown",
   "metadata": {},
   "source": [
    "En el libro de [Statistcal Science](https://projecteuclid.org/euclid.ss/1009213726) se debate la doble cultura de utilizar un modelo estadístico tradicional (estocástico) VS los algoritmos que asumen datos de origen desconocido."
   ]
  },
  {
   "cell_type": "markdown",
   "metadata": {},
   "source": [
    "#### Spearman correlation coefficient"
   ]
  },
  {
   "cell_type": "markdown",
   "metadata": {},
   "source": [
    "Lo que intenta es analizar si dos variables crecen en la misma dirección, sin incidir en la magnitud. Es decir, que:\n",
    "\n",
    "&emsp; $\\forall n\\in\\mathbb{N} : x_{n+1} > x_{n} \\Rightarrow y_{n+1} > y_{n}$"
   ]
  },
  {
   "cell_type": "markdown",
   "metadata": {},
   "source": [
    "[List of mathematical symbols](https://en.wikipedia.org/wiki/List_of_mathematical_symbols#Operators_acting_on_functions_or_sequences)"
   ]
  },
  {
   "cell_type": "code",
   "execution_count": 37,
   "metadata": {
    "scrolled": false
   },
   "outputs": [
    {
     "data": {
      "text/plain": [
       "SpearmanrResult(correlation=0.9881109761109763, pvalue=0.0)"
      ]
     },
     "execution_count": 37,
     "metadata": {},
     "output_type": "execute_result"
    }
   ],
   "source": [
    "stats.spearmanr(xs, ys1)"
   ]
  },
  {
   "cell_type": "code",
   "execution_count": 38,
   "metadata": {
    "scrolled": false
   },
   "outputs": [
    {
     "data": {
      "text/plain": [
       "(0.9877159512726269, 0.0)"
      ]
     },
     "execution_count": 38,
     "metadata": {},
     "output_type": "execute_result"
    }
   ],
   "source": [
    "stats.pearsonr(xs, ys1)"
   ]
  },
  {
   "cell_type": "code",
   "execution_count": 39,
   "metadata": {
    "scrolled": false
   },
   "outputs": [
    {
     "data": {
      "text/plain": [
       "((0.8376568594461196, 2.2568289602227578e-264),\n",
       " SpearmanrResult(correlation=0.8886027966027966, pvalue=0.0))"
      ]
     },
     "execution_count": 39,
     "metadata": {},
     "output_type": "execute_result"
    }
   ],
   "source": [
    "stats.pearsonr(xs, ys3), stats.spearmanr(xs, ys3)"
   ]
  },
  {
   "cell_type": "markdown",
   "metadata": {},
   "source": [
    "Aquí se observa cómo el Coeficiente de Pearson reconoce relación lineal en los datos. Por contra, para el caso del Coeficiente de Spearman, como no se satisface que:\n",
    "\n",
    "&emsp; $\\forall n\\in\\mathbb{N} : x_{n+1} > x_{n} \\Rightarrow y_{n+1} > y_{n}$,\n",
    "\n",
    "el Coeficiente de Spearman tiene un valor muy inferior."
   ]
  },
  {
   "cell_type": "markdown",
   "metadata": {},
   "source": [
    "## Probability"
   ]
  },
  {
   "cell_type": "markdown",
   "metadata": {},
   "source": [
    "Let's play with a coin"
   ]
  },
  {
   "cell_type": "code",
   "execution_count": 40,
   "metadata": {
    "scrolled": false
   },
   "outputs": [
    {
     "data": {
      "text/plain": [
       "True"
      ]
     },
     "execution_count": 40,
     "metadata": {},
     "output_type": "execute_result"
    }
   ],
   "source": [
    "# Experimento de Bernoulli\n",
    "\n",
    "import random\n",
    "\n",
    "n = 1000\n",
    "p = .5\n",
    "random.randint(0,1) > p # Cada vez que ejecute, me sacará un 0 ó un 1, sin ningún sesgo (p=0.5 para cada uno)"
   ]
  },
  {
   "cell_type": "code",
   "execution_count": 41,
   "metadata": {
    "scrolled": true
   },
   "outputs": [
    {
     "data": {
      "text/plain": [
       "[False,\n",
       " False,\n",
       " True,\n",
       " True,\n",
       " False,\n",
       " True,\n",
       " True,\n",
       " False,\n",
       " True,\n",
       " False,\n",
       " True,\n",
       " True,\n",
       " False,\n",
       " False,\n",
       " False,\n",
       " True,\n",
       " False,\n",
       " True,\n",
       " True,\n",
       " False,\n",
       " True,\n",
       " True,\n",
       " True,\n",
       " True,\n",
       " False,\n",
       " False,\n",
       " False,\n",
       " True,\n",
       " True,\n",
       " True,\n",
       " False,\n",
       " True,\n",
       " False,\n",
       " True,\n",
       " False,\n",
       " True,\n",
       " True,\n",
       " False,\n",
       " True,\n",
       " False,\n",
       " True,\n",
       " False,\n",
       " False,\n",
       " False,\n",
       " False,\n",
       " False,\n",
       " True,\n",
       " True,\n",
       " True,\n",
       " False,\n",
       " False,\n",
       " False,\n",
       " True,\n",
       " True,\n",
       " True,\n",
       " True,\n",
       " False,\n",
       " False,\n",
       " False,\n",
       " True,\n",
       " True,\n",
       " False,\n",
       " True,\n",
       " True,\n",
       " False,\n",
       " False,\n",
       " True,\n",
       " False,\n",
       " False,\n",
       " True,\n",
       " True,\n",
       " True,\n",
       " False,\n",
       " True,\n",
       " True,\n",
       " False,\n",
       " False,\n",
       " False,\n",
       " False,\n",
       " False,\n",
       " False,\n",
       " False,\n",
       " True,\n",
       " True,\n",
       " False,\n",
       " True,\n",
       " True,\n",
       " False,\n",
       " True,\n",
       " True,\n",
       " False,\n",
       " False,\n",
       " True,\n",
       " False,\n",
       " False,\n",
       " True,\n",
       " False,\n",
       " True,\n",
       " False,\n",
       " False,\n",
       " True,\n",
       " False,\n",
       " False,\n",
       " True,\n",
       " False,\n",
       " True,\n",
       " False,\n",
       " True,\n",
       " False,\n",
       " False,\n",
       " True,\n",
       " True,\n",
       " False,\n",
       " False,\n",
       " False,\n",
       " True,\n",
       " False,\n",
       " True,\n",
       " True,\n",
       " False,\n",
       " True,\n",
       " False,\n",
       " True,\n",
       " False,\n",
       " False,\n",
       " False,\n",
       " True,\n",
       " True,\n",
       " True,\n",
       " True,\n",
       " True,\n",
       " True,\n",
       " True,\n",
       " False,\n",
       " False,\n",
       " True,\n",
       " False,\n",
       " True,\n",
       " True,\n",
       " False,\n",
       " True,\n",
       " False,\n",
       " True,\n",
       " True,\n",
       " True,\n",
       " False,\n",
       " False,\n",
       " True,\n",
       " False,\n",
       " False,\n",
       " True,\n",
       " False,\n",
       " False,\n",
       " True,\n",
       " False,\n",
       " True,\n",
       " True,\n",
       " True,\n",
       " True,\n",
       " True,\n",
       " False,\n",
       " False,\n",
       " True,\n",
       " True,\n",
       " False,\n",
       " False,\n",
       " False,\n",
       " False,\n",
       " True,\n",
       " True,\n",
       " True,\n",
       " False,\n",
       " True,\n",
       " True,\n",
       " True,\n",
       " True,\n",
       " True,\n",
       " False,\n",
       " True,\n",
       " True,\n",
       " True,\n",
       " True,\n",
       " False,\n",
       " True,\n",
       " False,\n",
       " True,\n",
       " False,\n",
       " False,\n",
       " True,\n",
       " False,\n",
       " False,\n",
       " True,\n",
       " False,\n",
       " True,\n",
       " False,\n",
       " True,\n",
       " True,\n",
       " True,\n",
       " True,\n",
       " True,\n",
       " True,\n",
       " True,\n",
       " True,\n",
       " True,\n",
       " True,\n",
       " True,\n",
       " True,\n",
       " False,\n",
       " False,\n",
       " False,\n",
       " False,\n",
       " False,\n",
       " True,\n",
       " True,\n",
       " False,\n",
       " False,\n",
       " True,\n",
       " False,\n",
       " False,\n",
       " True,\n",
       " False,\n",
       " True,\n",
       " False,\n",
       " True,\n",
       " False,\n",
       " True,\n",
       " True,\n",
       " False,\n",
       " True,\n",
       " False,\n",
       " False,\n",
       " False,\n",
       " False,\n",
       " False,\n",
       " True,\n",
       " False,\n",
       " True,\n",
       " False,\n",
       " False,\n",
       " False,\n",
       " True,\n",
       " True,\n",
       " True,\n",
       " False,\n",
       " True,\n",
       " True,\n",
       " False,\n",
       " True,\n",
       " False,\n",
       " True,\n",
       " False,\n",
       " True,\n",
       " False,\n",
       " False,\n",
       " False,\n",
       " True,\n",
       " False,\n",
       " False,\n",
       " True,\n",
       " True,\n",
       " True,\n",
       " True,\n",
       " False,\n",
       " True,\n",
       " False,\n",
       " True,\n",
       " False,\n",
       " True,\n",
       " True,\n",
       " False,\n",
       " False,\n",
       " True,\n",
       " False,\n",
       " False,\n",
       " True,\n",
       " True,\n",
       " False,\n",
       " True,\n",
       " True,\n",
       " True,\n",
       " True,\n",
       " False,\n",
       " True,\n",
       " True,\n",
       " False,\n",
       " False,\n",
       " True,\n",
       " True,\n",
       " True,\n",
       " True,\n",
       " False,\n",
       " False,\n",
       " True,\n",
       " False,\n",
       " False,\n",
       " True,\n",
       " False,\n",
       " True,\n",
       " False,\n",
       " False,\n",
       " True,\n",
       " True,\n",
       " False,\n",
       " True,\n",
       " True,\n",
       " True,\n",
       " True,\n",
       " True,\n",
       " False,\n",
       " True,\n",
       " False,\n",
       " True,\n",
       " False,\n",
       " True,\n",
       " True,\n",
       " False,\n",
       " False,\n",
       " True,\n",
       " True,\n",
       " False,\n",
       " False,\n",
       " True,\n",
       " False,\n",
       " True,\n",
       " True,\n",
       " False,\n",
       " False,\n",
       " False,\n",
       " False,\n",
       " False,\n",
       " True,\n",
       " False,\n",
       " False,\n",
       " True,\n",
       " False,\n",
       " True,\n",
       " True,\n",
       " True,\n",
       " False,\n",
       " True,\n",
       " True,\n",
       " True,\n",
       " True,\n",
       " False,\n",
       " False,\n",
       " False,\n",
       " True,\n",
       " False,\n",
       " False,\n",
       " True,\n",
       " True,\n",
       " False,\n",
       " False,\n",
       " True,\n",
       " False,\n",
       " True,\n",
       " False,\n",
       " False,\n",
       " True,\n",
       " True,\n",
       " False,\n",
       " False,\n",
       " False,\n",
       " True,\n",
       " True,\n",
       " False,\n",
       " False,\n",
       " False,\n",
       " False,\n",
       " True,\n",
       " True,\n",
       " True,\n",
       " True,\n",
       " True,\n",
       " True,\n",
       " True,\n",
       " True,\n",
       " False,\n",
       " False,\n",
       " False,\n",
       " False,\n",
       " False,\n",
       " True,\n",
       " True,\n",
       " False,\n",
       " True,\n",
       " True,\n",
       " False,\n",
       " False,\n",
       " False,\n",
       " True,\n",
       " False,\n",
       " True,\n",
       " True,\n",
       " True,\n",
       " False,\n",
       " False,\n",
       " True,\n",
       " False,\n",
       " False,\n",
       " False,\n",
       " True,\n",
       " False,\n",
       " True,\n",
       " False,\n",
       " True,\n",
       " True,\n",
       " True,\n",
       " True,\n",
       " False,\n",
       " True,\n",
       " False,\n",
       " False,\n",
       " True,\n",
       " False,\n",
       " False,\n",
       " True,\n",
       " False,\n",
       " False,\n",
       " False,\n",
       " False,\n",
       " False,\n",
       " False,\n",
       " True,\n",
       " True,\n",
       " True,\n",
       " True,\n",
       " True,\n",
       " True,\n",
       " True,\n",
       " False,\n",
       " False,\n",
       " True,\n",
       " False,\n",
       " True,\n",
       " True,\n",
       " False,\n",
       " True,\n",
       " True,\n",
       " True,\n",
       " False,\n",
       " False,\n",
       " True,\n",
       " True,\n",
       " False,\n",
       " True,\n",
       " True,\n",
       " True,\n",
       " False,\n",
       " False,\n",
       " False,\n",
       " False,\n",
       " False,\n",
       " True,\n",
       " False,\n",
       " True,\n",
       " False,\n",
       " True,\n",
       " False,\n",
       " True,\n",
       " True,\n",
       " False,\n",
       " False,\n",
       " True,\n",
       " False,\n",
       " False,\n",
       " True,\n",
       " False,\n",
       " True,\n",
       " False,\n",
       " False,\n",
       " True,\n",
       " True,\n",
       " True,\n",
       " False,\n",
       " True,\n",
       " True,\n",
       " True,\n",
       " False,\n",
       " True,\n",
       " False,\n",
       " False,\n",
       " True,\n",
       " True,\n",
       " True,\n",
       " True,\n",
       " True,\n",
       " False,\n",
       " True,\n",
       " True,\n",
       " False,\n",
       " False,\n",
       " False,\n",
       " True,\n",
       " True,\n",
       " True,\n",
       " True,\n",
       " False,\n",
       " False,\n",
       " True,\n",
       " True,\n",
       " False,\n",
       " True,\n",
       " False,\n",
       " False,\n",
       " False,\n",
       " False,\n",
       " True,\n",
       " True,\n",
       " False,\n",
       " False,\n",
       " False,\n",
       " False,\n",
       " False,\n",
       " True,\n",
       " True,\n",
       " True,\n",
       " False,\n",
       " True,\n",
       " True,\n",
       " True,\n",
       " True,\n",
       " False,\n",
       " False,\n",
       " False,\n",
       " False,\n",
       " False,\n",
       " True,\n",
       " True,\n",
       " False,\n",
       " True,\n",
       " True,\n",
       " True,\n",
       " True,\n",
       " True,\n",
       " False,\n",
       " True,\n",
       " False,\n",
       " False,\n",
       " False,\n",
       " False,\n",
       " False,\n",
       " False,\n",
       " True,\n",
       " False,\n",
       " False,\n",
       " False,\n",
       " True,\n",
       " True,\n",
       " True,\n",
       " True,\n",
       " True,\n",
       " True,\n",
       " False,\n",
       " True,\n",
       " False,\n",
       " True,\n",
       " True,\n",
       " False,\n",
       " True,\n",
       " False,\n",
       " True,\n",
       " True,\n",
       " True,\n",
       " False,\n",
       " True,\n",
       " True,\n",
       " False,\n",
       " False,\n",
       " True,\n",
       " True,\n",
       " True,\n",
       " True,\n",
       " True,\n",
       " True,\n",
       " True,\n",
       " False,\n",
       " False,\n",
       " False,\n",
       " False,\n",
       " False,\n",
       " True,\n",
       " True,\n",
       " False,\n",
       " True,\n",
       " True,\n",
       " True,\n",
       " False,\n",
       " False,\n",
       " True,\n",
       " False,\n",
       " False,\n",
       " True,\n",
       " True,\n",
       " True,\n",
       " True,\n",
       " False,\n",
       " False,\n",
       " True,\n",
       " False,\n",
       " True,\n",
       " True,\n",
       " True,\n",
       " False,\n",
       " True,\n",
       " False,\n",
       " True,\n",
       " False,\n",
       " True,\n",
       " True,\n",
       " True,\n",
       " True,\n",
       " True,\n",
       " False,\n",
       " False,\n",
       " False,\n",
       " True,\n",
       " True,\n",
       " False,\n",
       " True,\n",
       " False,\n",
       " False,\n",
       " False,\n",
       " False,\n",
       " True,\n",
       " False,\n",
       " False,\n",
       " True,\n",
       " True,\n",
       " True,\n",
       " False,\n",
       " True,\n",
       " True,\n",
       " False,\n",
       " True,\n",
       " False,\n",
       " True,\n",
       " False,\n",
       " True,\n",
       " True,\n",
       " True,\n",
       " True,\n",
       " True,\n",
       " True,\n",
       " True,\n",
       " True,\n",
       " True,\n",
       " False,\n",
       " False,\n",
       " True,\n",
       " True,\n",
       " True,\n",
       " True,\n",
       " False,\n",
       " True,\n",
       " False,\n",
       " True,\n",
       " False,\n",
       " True,\n",
       " False,\n",
       " True,\n",
       " False,\n",
       " False,\n",
       " False,\n",
       " False,\n",
       " True,\n",
       " True,\n",
       " True,\n",
       " False,\n",
       " False,\n",
       " False,\n",
       " True,\n",
       " False,\n",
       " False,\n",
       " False,\n",
       " False,\n",
       " True,\n",
       " True,\n",
       " True,\n",
       " False,\n",
       " False,\n",
       " True,\n",
       " False,\n",
       " True,\n",
       " True,\n",
       " True,\n",
       " True,\n",
       " True,\n",
       " True,\n",
       " False,\n",
       " True,\n",
       " False,\n",
       " True,\n",
       " True,\n",
       " True,\n",
       " True,\n",
       " True,\n",
       " False,\n",
       " False,\n",
       " True,\n",
       " True,\n",
       " True,\n",
       " True,\n",
       " True,\n",
       " False,\n",
       " True,\n",
       " True,\n",
       " True,\n",
       " True,\n",
       " False,\n",
       " True,\n",
       " False,\n",
       " False,\n",
       " True,\n",
       " True,\n",
       " False,\n",
       " False,\n",
       " False,\n",
       " False,\n",
       " True,\n",
       " True,\n",
       " True,\n",
       " False,\n",
       " True,\n",
       " False,\n",
       " True,\n",
       " False,\n",
       " False,\n",
       " False,\n",
       " False,\n",
       " True,\n",
       " False,\n",
       " False,\n",
       " True,\n",
       " False,\n",
       " True,\n",
       " True,\n",
       " False,\n",
       " True,\n",
       " False,\n",
       " False,\n",
       " True,\n",
       " True,\n",
       " False,\n",
       " False,\n",
       " False,\n",
       " True,\n",
       " False,\n",
       " False,\n",
       " False,\n",
       " True,\n",
       " False,\n",
       " True,\n",
       " True,\n",
       " True,\n",
       " False,\n",
       " True,\n",
       " False,\n",
       " True,\n",
       " True,\n",
       " True,\n",
       " False,\n",
       " True,\n",
       " False,\n",
       " True,\n",
       " True,\n",
       " False,\n",
       " False,\n",
       " False,\n",
       " False,\n",
       " False,\n",
       " True,\n",
       " True,\n",
       " True,\n",
       " True,\n",
       " False,\n",
       " True,\n",
       " False,\n",
       " False,\n",
       " True,\n",
       " True,\n",
       " False,\n",
       " False,\n",
       " True,\n",
       " False,\n",
       " True,\n",
       " True,\n",
       " True,\n",
       " True,\n",
       " True,\n",
       " False,\n",
       " False,\n",
       " True,\n",
       " True,\n",
       " True,\n",
       " False,\n",
       " True,\n",
       " True,\n",
       " True,\n",
       " True,\n",
       " False,\n",
       " False,\n",
       " False,\n",
       " False,\n",
       " False,\n",
       " True,\n",
       " False,\n",
       " False,\n",
       " True,\n",
       " True,\n",
       " False,\n",
       " True,\n",
       " True,\n",
       " False,\n",
       " True,\n",
       " False,\n",
       " False,\n",
       " True,\n",
       " True,\n",
       " True,\n",
       " False,\n",
       " True,\n",
       " True,\n",
       " True,\n",
       " False,\n",
       " False,\n",
       " True,\n",
       " True,\n",
       " False,\n",
       " True,\n",
       " True,\n",
       " False,\n",
       " True,\n",
       " True,\n",
       " False,\n",
       " True,\n",
       " True,\n",
       " True,\n",
       " True,\n",
       " False,\n",
       " False,\n",
       " True,\n",
       " False,\n",
       " True,\n",
       " True,\n",
       " False,\n",
       " False,\n",
       " False,\n",
       " True,\n",
       " True,\n",
       " False,\n",
       " False,\n",
       " True,\n",
       " False,\n",
       " True,\n",
       " False,\n",
       " False,\n",
       " True,\n",
       " False,\n",
       " True,\n",
       " False,\n",
       " True,\n",
       " True,\n",
       " False,\n",
       " True,\n",
       " True,\n",
       " False,\n",
       " True,\n",
       " True,\n",
       " False,\n",
       " False,\n",
       " False,\n",
       " False,\n",
       " False,\n",
       " False,\n",
       " True,\n",
       " True,\n",
       " False,\n",
       " False,\n",
       " False,\n",
       " True,\n",
       " False,\n",
       " False,\n",
       " True,\n",
       " False,\n",
       " False,\n",
       " False,\n",
       " True,\n",
       " True,\n",
       " True,\n",
       " False,\n",
       " True,\n",
       " True,\n",
       " True,\n",
       " False,\n",
       " False,\n",
       " False,\n",
       " False,\n",
       " False,\n",
       " False,\n",
       " True,\n",
       " True,\n",
       " True,\n",
       " False,\n",
       " False,\n",
       " True,\n",
       " False,\n",
       " False,\n",
       " True,\n",
       " True,\n",
       " True,\n",
       " False,\n",
       " False,\n",
       " False,\n",
       " False,\n",
       " False,\n",
       " True,\n",
       " False,\n",
       " False,\n",
       " False,\n",
       " False,\n",
       " False,\n",
       " True,\n",
       " True,\n",
       " True,\n",
       " True,\n",
       " True,\n",
       " False,\n",
       " True,\n",
       " True,\n",
       " True,\n",
       " True,\n",
       " True,\n",
       " True,\n",
       " True,\n",
       " True,\n",
       " True,\n",
       " True,\n",
       " False,\n",
       " False,\n",
       " True,\n",
       " True,\n",
       " True,\n",
       " False,\n",
       " False,\n",
       " True,\n",
       " True,\n",
       " False,\n",
       " True,\n",
       " False,\n",
       " False,\n",
       " True,\n",
       " True,\n",
       " False,\n",
       " True,\n",
       " False,\n",
       " True,\n",
       " False,\n",
       " False,\n",
       " True,\n",
       " True,\n",
       " True,\n",
       " False,\n",
       " True,\n",
       " False,\n",
       " False,\n",
       " True,\n",
       " False,\n",
       " True,\n",
       " True,\n",
       " True,\n",
       " False,\n",
       " False,\n",
       " True,\n",
       " False,\n",
       " False,\n",
       " False,\n",
       " False,\n",
       " True,\n",
       " True,\n",
       " True,\n",
       " True,\n",
       " True,\n",
       " False,\n",
       " True,\n",
       " False,\n",
       " False,\n",
       " True,\n",
       " False,\n",
       " True,\n",
       " True,\n",
       " False,\n",
       " False,\n",
       " True,\n",
       " True,\n",
       " True,\n",
       " True,\n",
       " True,\n",
       " True,\n",
       " False]"
      ]
     },
     "execution_count": 41,
     "metadata": {},
     "output_type": "execute_result"
    }
   ],
   "source": [
    "# Hacer el experimento 1000 veces\n",
    "\n",
    "[random.random() > p for _ in range(n)]"
   ]
  },
  {
   "cell_type": "code",
   "execution_count": 42,
   "metadata": {
    "scrolled": false
   },
   "outputs": [
    {
     "data": {
      "text/plain": [
       "504"
      ]
     },
     "execution_count": 42,
     "metadata": {},
     "output_type": "execute_result"
    }
   ],
   "source": [
    "successes = sum([random.random() > p for _ in range(n)]) # El \"_\" sirve para explicitar que no se utilizará\n",
    "successes # La esperanza matemática será de 500"
   ]
  },
  {
   "cell_type": "code",
   "execution_count": 47,
   "metadata": {
    "scrolled": true
   },
   "outputs": [
    {
     "data": {
      "text/plain": [
       "[503,\n",
       " 486,\n",
       " 489,\n",
       " 497,\n",
       " 495,\n",
       " 523,\n",
       " 500,\n",
       " 486,\n",
       " 505,\n",
       " 515,\n",
       " 511,\n",
       " 514,\n",
       " 500,\n",
       " 492,\n",
       " 516,\n",
       " 504,\n",
       " 496,\n",
       " 490,\n",
       " 501,\n",
       " 497,\n",
       " 476,\n",
       " 486,\n",
       " 485,\n",
       " 460,\n",
       " 476,\n",
       " 508,\n",
       " 511,\n",
       " 527,\n",
       " 479,\n",
       " 517,\n",
       " 494,\n",
       " 486,\n",
       " 508,\n",
       " 479,\n",
       " 478,\n",
       " 487,\n",
       " 456,\n",
       " 482,\n",
       " 527,\n",
       " 512,\n",
       " 500,\n",
       " 489,\n",
       " 489,\n",
       " 520,\n",
       " 507,\n",
       " 517,\n",
       " 501,\n",
       " 487,\n",
       " 496,\n",
       " 482,\n",
       " 500,\n",
       " 519,\n",
       " 494,\n",
       " 537,\n",
       " 505,\n",
       " 481,\n",
       " 509,\n",
       " 467,\n",
       " 501,\n",
       " 494,\n",
       " 495,\n",
       " 511,\n",
       " 493,\n",
       " 484,\n",
       " 511,\n",
       " 493,\n",
       " 544,\n",
       " 523,\n",
       " 526,\n",
       " 499,\n",
       " 532,\n",
       " 489,\n",
       " 490,\n",
       " 501,\n",
       " 516,\n",
       " 506,\n",
       " 504,\n",
       " 521,\n",
       " 501,\n",
       " 546,\n",
       " 509,\n",
       " 507,\n",
       " 492,\n",
       " 506,\n",
       " 493,\n",
       " 470,\n",
       " 525,\n",
       " 495,\n",
       " 489,\n",
       " 502,\n",
       " 509,\n",
       " 506,\n",
       " 499,\n",
       " 484,\n",
       " 515,\n",
       " 518,\n",
       " 508,\n",
       " 510,\n",
       " 504,\n",
       " 473,\n",
       " 501,\n",
       " 506,\n",
       " 499,\n",
       " 507,\n",
       " 525,\n",
       " 481,\n",
       " 492,\n",
       " 483,\n",
       " 519,\n",
       " 485,\n",
       " 521,\n",
       " 503,\n",
       " 515,\n",
       " 484,\n",
       " 505,\n",
       " 497,\n",
       " 501,\n",
       " 482,\n",
       " 470,\n",
       " 498,\n",
       " 496,\n",
       " 502,\n",
       " 512,\n",
       " 503,\n",
       " 520,\n",
       " 499,\n",
       " 517,\n",
       " 515,\n",
       " 498,\n",
       " 501,\n",
       " 494,\n",
       " 495,\n",
       " 494,\n",
       " 489,\n",
       " 482,\n",
       " 509,\n",
       " 519,\n",
       " 503,\n",
       " 498,\n",
       " 495,\n",
       " 520,\n",
       " 498,\n",
       " 525,\n",
       " 472,\n",
       " 510,\n",
       " 508,\n",
       " 486,\n",
       " 492,\n",
       " 506,\n",
       " 523,\n",
       " 477,\n",
       " 521,\n",
       " 506,\n",
       " 519,\n",
       " 486,\n",
       " 512,\n",
       " 499,\n",
       " 510,\n",
       " 511,\n",
       " 483,\n",
       " 513,\n",
       " 483,\n",
       " 505,\n",
       " 474,\n",
       " 493,\n",
       " 503,\n",
       " 489,\n",
       " 505,\n",
       " 476,\n",
       " 499,\n",
       " 511,\n",
       " 477,\n",
       " 492,\n",
       " 468,\n",
       " 523,\n",
       " 485,\n",
       " 502,\n",
       " 493,\n",
       " 493,\n",
       " 502,\n",
       " 510,\n",
       " 514,\n",
       " 472,\n",
       " 509,\n",
       " 514,\n",
       " 474,\n",
       " 521,\n",
       " 493,\n",
       " 466,\n",
       " 509,\n",
       " 506,\n",
       " 520,\n",
       " 517,\n",
       " 514,\n",
       " 497,\n",
       " 517,\n",
       " 496,\n",
       " 501,\n",
       " 514,\n",
       " 511,\n",
       " 508,\n",
       " 483,\n",
       " 510,\n",
       " 494,\n",
       " 487,\n",
       " 475,\n",
       " 511,\n",
       " 530,\n",
       " 513,\n",
       " 516,\n",
       " 499,\n",
       " 501,\n",
       " 529,\n",
       " 520,\n",
       " 527,\n",
       " 509,\n",
       " 509,\n",
       " 514,\n",
       " 483,\n",
       " 498,\n",
       " 489,\n",
       " 488,\n",
       " 501,\n",
       " 510,\n",
       " 473,\n",
       " 522,\n",
       " 503,\n",
       " 498,\n",
       " 465,\n",
       " 470,\n",
       " 501,\n",
       " 507,\n",
       " 500,\n",
       " 499,\n",
       " 524,\n",
       " 499,\n",
       " 512,\n",
       " 488,\n",
       " 493,\n",
       " 515,\n",
       " 501,\n",
       " 499,\n",
       " 517,\n",
       " 457,\n",
       " 480,\n",
       " 501,\n",
       " 500,\n",
       " 480,\n",
       " 529,\n",
       " 503,\n",
       " 476,\n",
       " 472,\n",
       " 522,\n",
       " 474,\n",
       " 492,\n",
       " 517,\n",
       " 544,\n",
       " 503,\n",
       " 481,\n",
       " 526,\n",
       " 450,\n",
       " 516,\n",
       " 471,\n",
       " 482,\n",
       " 492,\n",
       " 533,\n",
       " 529,\n",
       " 501,\n",
       " 492,\n",
       " 496,\n",
       " 493,\n",
       " 503,\n",
       " 471,\n",
       " 489,\n",
       " 503,\n",
       " 523,\n",
       " 487,\n",
       " 483,\n",
       " 499,\n",
       " 512,\n",
       " 517,\n",
       " 487,\n",
       " 515,\n",
       " 499,\n",
       " 503,\n",
       " 502,\n",
       " 472,\n",
       " 504,\n",
       " 485,\n",
       " 508,\n",
       " 488,\n",
       " 483,\n",
       " 500,\n",
       " 497,\n",
       " 501,\n",
       " 507,\n",
       " 524,\n",
       " 475,\n",
       " 511,\n",
       " 487,\n",
       " 505,\n",
       " 520,\n",
       " 523,\n",
       " 520,\n",
       " 536,\n",
       " 510,\n",
       " 505,\n",
       " 495,\n",
       " 501,\n",
       " 511,\n",
       " 532,\n",
       " 514,\n",
       " 517,\n",
       " 492,\n",
       " 497,\n",
       " 479,\n",
       " 490,\n",
       " 485,\n",
       " 496,\n",
       " 523,\n",
       " 488,\n",
       " 500,\n",
       " 496,\n",
       " 490,\n",
       " 506,\n",
       " 500,\n",
       " 488,\n",
       " 501,\n",
       " 475,\n",
       " 493,\n",
       " 523,\n",
       " 500,\n",
       " 509,\n",
       " 510,\n",
       " 510,\n",
       " 531,\n",
       " 500,\n",
       " 478,\n",
       " 509,\n",
       " 509,\n",
       " 486,\n",
       " 466,\n",
       " 489,\n",
       " 489,\n",
       " 499,\n",
       " 496,\n",
       " 524,\n",
       " 513,\n",
       " 522,\n",
       " 513]"
      ]
     },
     "execution_count": 47,
     "metadata": {},
     "output_type": "execute_result"
    }
   ],
   "source": [
    "observations = 350\n",
    "results = []\n",
    "\n",
    "for _ in range(observations): # Repites 350 veces el experimento de 1000 lanzamientos\n",
    "    results.append(sum([random.random() > p for _ in range(n)]))\n",
    "    \n",
    "results"
   ]
  },
  {
   "cell_type": "code",
   "execution_count": 48,
   "metadata": {
    "scrolled": false
   },
   "outputs": [
    {
     "data": {
      "image/png": "[encoded data removed]",
      "text/plain": [
       "<Figure size 432x288 with 1 Axes>"
      ]
     },
     "metadata": {
      "needs_background": "light"
     },
     "output_type": "display_data"
    }
   ],
   "source": [
    "plt.hist(results, bins=range(400, 600, 10)); # A esto se le llama Distribución Binomial"
   ]
  },
  {
   "cell_type": "markdown",
   "metadata": {},
   "source": [
    "Now with numpy"
   ]
  },
  {
   "cell_type": "code",
   "execution_count": 49,
   "metadata": {
    "scrolled": false
   },
   "outputs": [
    {
     "data": {
      "image/png": "[encoded data removed]",
      "text/plain": [
       "<Figure size 432x288 with 1 Axes>"
      ]
     },
     "metadata": {
      "needs_background": "light"
     },
     "output_type": "display_data"
    }
   ],
   "source": [
    "n = 1000\n",
    "p = .5\n",
    "size = 10000\n",
    "\n",
    "tries = np.random.binomial(n, p, size)\n",
    "plt.hist(tries, bins=range(tries.min(), tries.max()));"
   ]
  },
  {
   "cell_type": "markdown",
   "metadata": {},
   "source": [
    "Según se aumentan *n* y *size*, por la Ley de los números grandes, se va acercando a una versión más escalable de los resultados del ensayo"
   ]
  },
  {
   "cell_type": "markdown",
   "metadata": {},
   "source": [
    "#### Exercise\n",
    "\n",
    "The p-value is a widely used (and criticized) measure of how surprising an observation is under a given set of assumptions.\n",
    "\n",
    "It is defined as \"the probability of obtaining test results at least as extreme as the results actually observed, under the assumption that the null hypothesis is correct\" [1](https://en.wikipedia.org/wiki/P-value).\n",
    "\n",
    "Let's play with a lot of coins. Calculate experimentally the p-value of getting 120 heads when launching 1000 heavily weighted coinds, each with a $p_{heads}=0.1$.\n"
   ]
  },
  {
   "cell_type": "code",
   "execution_count": 50,
   "metadata": {
    "scrolled": false
   },
   "outputs": [
    {
     "data": {
      "text/plain": [
       "0.0194"
      ]
     },
     "execution_count": 50,
     "metadata": {},
     "output_type": "execute_result"
    }
   ],
   "source": [
    "n = 1000\n",
    "p = .1\n",
    "size = 10000\n",
    "\n",
    "tries = np.random.binomial(n, p, size)\n",
    "heads = sum(tries >= 120)\n",
    "probability = heads / size\n",
    "probability"
   ]
  },
  {
   "cell_type": "code",
   "execution_count": 53,
   "metadata": {
    "scrolled": true
   },
   "outputs": [
    {
     "data": {
      "text/plain": [
       "(array([ 64,  65,  66,  69,  71,  72,  73,  74,  75,  76,  77,  78,  79,\n",
       "         80,  81,  82,  83,  84,  85,  86,  87,  88,  89,  90,  91,  92,\n",
       "         93,  94,  95,  96,  97,  98,  99, 100, 101, 102, 103, 104, 105,\n",
       "        106, 107, 108, 109, 110, 111, 112, 113, 114, 115, 116, 117, 118,\n",
       "        119, 120, 121, 122, 123, 124, 125, 126, 127, 128, 129, 130, 131,\n",
       "        133]),\n",
       " array([  1,   1,   3,   3,   2,   5,   3,   7,   9,   9,  22,  20,  28,\n",
       "         41,  51,  68,  78, 101, 122, 166, 146, 150, 206, 273, 285, 291,\n",
       "        362, 373, 366, 412, 395, 433, 403, 403, 423, 417, 426, 365, 313,\n",
       "        324, 357, 308, 264, 215, 183, 177, 165, 141, 139, 111,  89,  60,\n",
       "         57,  61,  32,  29,  20,  16,  14,  12,  10,   9,   5,   7,   9,\n",
       "          4]))"
      ]
     },
     "execution_count": 53,
     "metadata": {},
     "output_type": "execute_result"
    }
   ],
   "source": [
    "# Otro método\n",
    "\n",
    "n = 1000\n",
    "p = .1\n",
    "size = 10000\n",
    "\n",
    "tries = np.random.binomial(n, p, size)\n",
    "unique, counts = np.unique(tries, return_counts=True)\n",
    "unique, counts"
   ]
  },
  {
   "cell_type": "markdown",
   "metadata": {},
   "source": [
    "Esto nos da una tupla con dos arrays: el primero da cada una de las observaciones de *size*; y el segundo la frecuencia asociada a cada una de esas observaciones. Nótese la acumulación en frecuencia en torno a 100, ya que 100 heads supone el 10% de cada set de 1000 lanzamientos."
   ]
  },
  {
   "cell_type": "code",
   "execution_count": 54,
   "metadata": {
    "scrolled": false
   },
   "outputs": [
    {
     "data": {
      "text/plain": [
       "<BarContainer object of 13 artists>"
      ]
     },
     "execution_count": 54,
     "metadata": {},
     "output_type": "execute_result"
    },
    {
     "data": {
      "image/png": "[encoded data removed]",
      "text/plain": [
       "<Figure size 432x288 with 1 Axes>"
      ]
     },
     "metadata": {
      "needs_background": "light"
     },
     "output_type": "display_data"
    }
   ],
   "source": [
    "good = unique >= 120\n",
    "plt.bar(unique[~good], counts[~good])\n",
    "plt.bar(unique[good], counts[good], color='orange')"
   ]
  },
  {
   "cell_type": "markdown",
   "metadata": {},
   "source": [
    "### Intersection"
   ]
  },
  {
   "cell_type": "code",
   "execution_count": 55,
   "metadata": {
    "scrolled": false
   },
   "outputs": [
    {
     "data": {
      "text/plain": [
       "(0.491, 0.461)"
      ]
     },
     "execution_count": 55,
     "metadata": {},
     "output_type": "execute_result"
    }
   ],
   "source": [
    "n = 1000\n",
    "p = .5\n",
    "\n",
    "left = np.random.uniform(size=1000) > p # Intentarlo con la mano izda\n",
    "right = np.random.uniform(size=1000) > p # Intentarlo con la mano dcha\n",
    "left.mean(), right.mean()"
   ]
  },
  {
   "cell_type": "code",
   "execution_count": 56,
   "metadata": {
    "scrolled": true
   },
   "outputs": [
    {
     "data": {
      "text/plain": [
       "array([False, False, False, False, False, False, False, False,  True,\n",
       "       False, False,  True,  True,  True, False,  True,  True, False,\n",
       "       False, False, False, False, False, False, False, False, False,\n",
       "        True, False, False, False, False, False,  True, False, False,\n",
       "        True, False,  True, False, False, False, False, False, False,\n",
       "       False, False, False, False, False, False,  True, False,  True,\n",
       "       False, False, False, False,  True,  True, False, False, False,\n",
       "       False, False, False,  True, False, False, False, False, False,\n",
       "       False, False, False, False, False, False, False, False, False,\n",
       "       False, False, False, False, False, False, False,  True, False,\n",
       "        True,  True, False, False, False,  True, False, False,  True,\n",
       "       False,  True,  True, False, False,  True, False, False, False,\n",
       "       False, False, False, False, False, False, False,  True, False,\n",
       "       False, False, False, False, False, False, False,  True, False,\n",
       "        True, False, False, False,  True, False,  True, False, False,\n",
       "       False,  True, False,  True, False, False, False, False, False,\n",
       "       False, False, False,  True, False, False, False, False, False,\n",
       "       False, False, False, False, False, False,  True,  True, False,\n",
       "        True,  True, False, False, False, False, False, False, False,\n",
       "       False, False, False,  True, False, False, False, False,  True,\n",
       "       False, False, False, False,  True, False,  True, False,  True,\n",
       "        True, False,  True, False, False, False, False, False, False,\n",
       "       False,  True, False, False,  True, False, False,  True, False,\n",
       "       False,  True, False, False, False, False,  True,  True,  True,\n",
       "        True, False, False, False, False,  True, False, False, False,\n",
       "       False, False,  True,  True, False, False, False, False,  True,\n",
       "       False,  True,  True, False,  True,  True, False,  True, False,\n",
       "        True, False, False, False, False, False, False, False, False,\n",
       "       False, False, False, False, False,  True, False, False, False,\n",
       "       False, False, False, False, False, False, False, False, False,\n",
       "       False,  True, False, False, False, False, False, False, False,\n",
       "       False,  True, False, False, False, False, False, False, False,\n",
       "        True, False, False,  True, False, False, False,  True,  True,\n",
       "        True, False, False, False, False, False, False, False, False,\n",
       "        True, False, False, False, False, False, False, False,  True,\n",
       "       False, False, False, False, False, False, False, False, False,\n",
       "        True, False, False, False, False,  True, False, False, False,\n",
       "       False, False, False,  True, False, False,  True,  True, False,\n",
       "       False,  True, False, False, False, False,  True,  True, False,\n",
       "        True, False, False, False, False, False, False, False,  True,\n",
       "       False, False,  True,  True, False, False,  True,  True, False,\n",
       "        True,  True, False,  True, False, False,  True, False,  True,\n",
       "       False, False,  True,  True, False, False, False, False,  True,\n",
       "       False, False, False, False, False,  True, False, False, False,\n",
       "        True,  True, False, False, False, False, False,  True, False,\n",
       "        True, False, False, False, False, False, False, False, False,\n",
       "        True, False, False,  True, False, False, False,  True,  True,\n",
       "       False, False, False, False, False,  True,  True, False, False,\n",
       "       False, False, False, False, False, False, False, False, False,\n",
       "       False, False, False,  True,  True, False,  True, False,  True,\n",
       "       False,  True, False, False,  True, False, False, False,  True,\n",
       "       False,  True, False, False,  True, False, False,  True, False,\n",
       "       False, False, False,  True, False,  True, False, False, False,\n",
       "       False, False, False, False, False, False, False, False,  True,\n",
       "        True, False, False, False,  True,  True, False, False, False,\n",
       "       False, False, False, False,  True, False, False, False, False,\n",
       "       False, False, False, False, False, False,  True, False, False,\n",
       "       False, False, False, False, False,  True, False, False,  True,\n",
       "       False, False, False,  True, False, False, False, False,  True,\n",
       "       False, False, False, False, False, False, False,  True, False,\n",
       "        True, False, False, False, False, False, False, False, False,\n",
       "       False, False, False, False, False, False, False, False, False,\n",
       "       False, False, False,  True,  True, False, False, False, False,\n",
       "       False, False, False, False,  True, False, False,  True,  True,\n",
       "       False, False, False, False, False,  True,  True, False, False,\n",
       "        True,  True, False, False, False, False,  True,  True, False,\n",
       "       False, False, False,  True, False, False,  True,  True,  True,\n",
       "       False,  True, False,  True, False, False, False, False, False,\n",
       "       False, False, False, False, False,  True, False, False, False,\n",
       "       False, False, False, False, False, False,  True, False, False,\n",
       "       False,  True, False, False, False, False, False,  True, False,\n",
       "       False,  True, False, False,  True,  True, False,  True, False,\n",
       "       False, False, False, False,  True, False, False,  True,  True,\n",
       "       False, False, False,  True, False, False, False, False,  True,\n",
       "       False, False, False, False,  True,  True, False, False,  True,\n",
       "       False, False, False, False,  True, False, False, False,  True,\n",
       "       False, False,  True, False, False, False,  True,  True,  True,\n",
       "       False, False, False, False, False, False, False, False, False,\n",
       "        True,  True, False, False, False, False, False, False, False,\n",
       "       False, False, False, False, False,  True, False,  True,  True,\n",
       "       False, False, False, False, False, False, False, False,  True,\n",
       "       False, False, False, False, False, False, False, False, False,\n",
       "       False, False, False, False,  True, False, False, False, False,\n",
       "        True, False, False, False, False, False, False, False, False,\n",
       "        True, False, False, False, False,  True,  True, False, False,\n",
       "       False, False, False, False, False, False, False,  True, False,\n",
       "        True, False,  True, False, False, False, False, False, False,\n",
       "       False, False, False,  True, False, False, False, False, False,\n",
       "       False, False, False,  True, False, False,  True, False,  True,\n",
       "       False, False,  True, False, False,  True,  True, False, False,\n",
       "       False, False, False, False, False,  True, False,  True, False,\n",
       "       False, False,  True, False, False, False, False,  True, False,\n",
       "       False, False, False, False, False, False, False,  True, False,\n",
       "       False, False, False, False, False, False, False, False, False,\n",
       "        True, False, False, False, False, False,  True, False, False,\n",
       "       False, False, False,  True, False,  True, False, False, False,\n",
       "       False,  True, False, False, False, False, False,  True,  True,\n",
       "       False, False,  True, False, False, False, False, False,  True,\n",
       "       False,  True,  True,  True,  True, False, False, False, False,\n",
       "       False,  True,  True, False, False,  True, False, False, False,\n",
       "       False,  True,  True, False, False,  True, False, False, False,\n",
       "       False,  True, False, False,  True, False, False, False, False,\n",
       "       False,  True, False, False, False,  True, False,  True, False,\n",
       "       False, False, False, False, False, False, False,  True, False,\n",
       "       False,  True, False, False, False, False, False, False, False,\n",
       "       False, False, False, False, False, False, False,  True,  True,\n",
       "       False, False,  True, False, False, False, False, False, False,\n",
       "       False, False, False, False, False,  True, False,  True,  True,\n",
       "       False, False,  True, False,  True, False,  True, False,  True,\n",
       "       False, False, False,  True,  True,  True, False, False, False,\n",
       "       False, False,  True, False, False, False, False, False,  True,\n",
       "       False])"
      ]
     },
     "execution_count": 56,
     "metadata": {},
     "output_type": "execute_result"
    }
   ],
   "source": [
    "(left & right) # Esto es en cuántos intentos se ha dado cara en común izda y dcha\n",
    "# El ampersand '&' significa bit-wise, es decir, elemento a elemento"
   ]
  },
  {
   "cell_type": "code",
   "execution_count": 57,
   "metadata": {
    "scrolled": true
   },
   "outputs": [
    {
     "data": {
      "text/plain": [
       "233"
      ]
     },
     "execution_count": 57,
     "metadata": {},
     "output_type": "execute_result"
    }
   ],
   "source": [
    "(left & right).sum()"
   ]
  },
  {
   "cell_type": "markdown",
   "metadata": {},
   "source": [
    "Let's play with loaded coins"
   ]
  },
  {
   "cell_type": "code",
   "execution_count": 58,
   "metadata": {
    "scrolled": true
   },
   "outputs": [
    {
     "data": {
      "text/plain": [
       "(0.316, 0.287, 0.083)"
      ]
     },
     "execution_count": 58,
     "metadata": {},
     "output_type": "execute_result"
    }
   ],
   "source": [
    "n = 1000\n",
    "p = .3\n",
    "\n",
    "left = np.random.uniform(size=1000) < p # Intentarlo con la mano izda\n",
    "right = np.random.uniform(size=1000) < p # Intentarlo con la mano dcha\n",
    "left.mean(), right.mean(), (left & right).mean()"
   ]
  },
  {
   "cell_type": "markdown",
   "metadata": {},
   "source": [
    "Se observa que se cumple que el producto de la probabilidad de cada una de ellas, coincide con la propbabilidad intersección. Esto ocurre porque son sucesos independientes"
   ]
  },
  {
   "cell_type": "markdown",
   "metadata": {},
   "source": [
    "### Union"
   ]
  },
  {
   "cell_type": "code",
   "execution_count": 59,
   "metadata": {
    "scrolled": false
   },
   "outputs": [
    {
     "data": {
      "text/plain": [
       "(0.489, 0.485, 0.723)"
      ]
     },
     "execution_count": 59,
     "metadata": {},
     "output_type": "execute_result"
    }
   ],
   "source": [
    "n = 1000\n",
    "p = .5\n",
    "\n",
    "left = np.random.uniform(size=1000) < p # Intentarlo con la mano izda\n",
    "right = np.random.uniform(size=1000) < p # Intentarlo con la mano dcha\n",
    "left.mean(), right.mean(), (left | right).mean()"
   ]
  },
  {
   "cell_type": "markdown",
   "metadata": {},
   "source": [
    "Se observa que se trata del complementario del anterior. Que salga una U otra, es la probabilidad total (1) menos la probabilidad de que se produzca la intersección de ambas"
   ]
  },
  {
   "cell_type": "markdown",
   "metadata": {},
   "source": [
    "### Conditioned Probability\n",
    "\n",
    "\n",
    "$$P(A\\mid B) = \\frac{P(A\\cap B)}{P(B)}$$\n"
   ]
  },
  {
   "cell_type": "markdown",
   "metadata": {},
   "source": [
    "### Independent events\n",
    "\n",
    "Definition:\n",
    "\n",
    "$$P(A\\mid B) = P(A)$$\n",
    "\n",
    "Properties:\n",
    "\n",
    "$$P(A \\cap B) = P(A) \\cdot P(B)$$\n",
    "\n",
    "$$P(A \\mid B) = P(A)$$\n",
    "\n",
    "$$P(B \\mid A) = P(B)$$"
   ]
  },
  {
   "cell_type": "markdown",
   "metadata": {},
   "source": [
    "### Law of total probability\n",
    "\n",
    "$$P(S) = \\sum_{i=1}^n P(S \\mid S_i)P(S_i)$$"
   ]
  },
  {
   "cell_type": "markdown",
   "metadata": {},
   "source": [
    "### Bayes theorem\n",
    "\n",
    "$$P(A \\mid B) = \\frac{P(B \\mid A)P(A)}{P(B)}$$"
   ]
  },
  {
   "cell_type": "markdown",
   "metadata": {},
   "source": [
    "Permite incorporar fácilmente información nueva. Suponiendo el siguiente ejemplo:\n",
    "\n",
    "EJEMPLO. Existe un test diagnóstico frente al COVID:\n",
    "\n",
    "- $+\\equiv$ Diagnosticado COVID\n",
    "- $-\\equiv$ Diagnosticado NO COVID\n",
    "- $C\\equiv$ Real COVID\n",
    "- $NC\\equiv$ Real NO COVID\n",
    "______________________________________________\n",
    "\n",
    "Con las siguientes sensibilidades:\n",
    "\n",
    "- $P(+|C) = 0.98$\n",
    "- $P(-|NC) = 0.97$\n",
    "- $P(C|+) \\Rightarrow$  No se puede saber!\n",
    "\n",
    "Pero si además sabemos que:\n",
    "\n",
    "- $P(C) = 0.01$ (personas con COVID)\n",
    "\n",
    "Por el Teorema de la Probabilidad Total tenemos que:\n",
    "\n",
    "- $P(+) = P(+|C) \\times P(C) + P(+|NC) \\times P(NC) = 0.98 \\times 0.01 + (1-0.97) \\times (1-0.01) = 0.0198$ (personas diagnosticadas positivo)\n",
    "\n",
    "Mediante el Teorema de Bayes determinamos que:\n",
    "\n",
    "- $P(C|+) = \\frac{ P(+|C)  \\times  P(C) }{P(+)} = \\frac{ 0.98  \\times  0.01 }{0.0198} \\approx 0.25 \\Rightarrow$ **25% \\!\\!\\!** $\\rightarrow$ De hecho, asumiendo una proporción de enfermos reales $P(C)$ constante, cuanto más \"precisa\" sean las tasas de diagnóstico $P(+|C) y P(-|NC)$ , mayor será la probabilidad de falso positivo $P(C|+)$!!!\n",
    "\n",
    "REPASAR ESTO, NO PUEDE SER!!"
   ]
  },
  {
   "cell_type": "markdown",
   "metadata": {},
   "source": [
    "## Random variable\n",
    "\n",
    "\n",
    "https://docs.scipy.org/doc/scipy/reference/stats.html"
   ]
  },
  {
   "cell_type": "code",
   "execution_count": 60,
   "metadata": {
    "scrolled": false
   },
   "outputs": [
    {
     "data": {
      "image/png": "[encoded data removed]",
      "text/plain": [
       "<Figure size 432x288 with 1 Axes>"
      ]
     },
     "metadata": {
      "needs_background": "light"
     },
     "output_type": "display_data"
    }
   ],
   "source": [
    "plt.hist(df['birthwgt_g'], bins=np.linspace(df['birthwgt_g'].min(), df['birthwgt_g'].max(), 100));"
   ]
  },
  {
   "cell_type": "markdown",
   "metadata": {},
   "source": [
    "## Discrete and continuous variables\n",
    "\n",
    "https://docs.scipy.org/doc/scipy/reference/generated/scipy.stats.rv_continuous.html#scipy.stats.rv_continuous\n",
    "\n",
    "https://docs.scipy.org/doc/scipy/reference/generated/scipy.stats.rv_discrete.html#scipy.stats.rv_discrete"
   ]
  },
  {
   "cell_type": "markdown",
   "metadata": {},
   "source": [
    "### Discrete variables\n",
    "\n"
   ]
  },
  {
   "cell_type": "code",
   "execution_count": 61,
   "metadata": {
    "scrolled": false
   },
   "outputs": [
    {
     "data": {
      "text/plain": [
       "<BarContainer object of 19 artists>"
      ]
     },
     "execution_count": 61,
     "metadata": {},
     "output_type": "execute_result"
    },
    {
     "data": {
      "image/png": "[encoded data removed]",
      "text/plain": [
       "<Figure size 432x288 with 1 Axes>"
      ]
     },
     "metadata": {
      "needs_background": "light"
     },
     "output_type": "display_data"
    }
   ],
   "source": [
    "xs, ys = np.unique(df['pregordr'], return_counts=True) # Orden de embarazo, número de hijo\n",
    "plt.bar(xs, ys)"
   ]
  },
  {
   "cell_type": "code",
   "execution_count": 62,
   "metadata": {
    "scrolled": false
   },
   "outputs": [
    {
     "data": {
      "image/png": "[encoded data removed]",
      "text/plain": [
       "<Figure size 432x288 with 1 Axes>"
      ]
     },
     "metadata": {
      "needs_background": "light"
     },
     "output_type": "display_data"
    }
   ],
   "source": [
    "plt.bar(xs, ys / ys.sum()); # Función de masa de probabilidad"
   ]
  },
  {
   "cell_type": "markdown",
   "metadata": {},
   "source": [
    "### Binomial Distribution"
   ]
  },
  {
   "cell_type": "code",
   "execution_count": 63,
   "metadata": {
    "scrolled": false
   },
   "outputs": [],
   "source": [
    "n = 8\n",
    "p = .5\n",
    "\n",
    "binom = stats.binom(n, p)"
   ]
  },
  {
   "cell_type": "markdown",
   "metadata": {},
   "source": [
    "### Generating random observations"
   ]
  },
  {
   "cell_type": "code",
   "execution_count": 64,
   "metadata": {
    "scrolled": false
   },
   "outputs": [
    {
     "data": {
      "text/plain": [
       "array([6, 4, 4, ..., 7, 3, 5])"
      ]
     },
     "execution_count": 64,
     "metadata": {},
     "output_type": "execute_result"
    }
   ],
   "source": [
    "binom.rvs(10000)"
   ]
  },
  {
   "cell_type": "markdown",
   "metadata": {},
   "source": [
    "#### pmf\n",
    "\n",
    "Probability Mass Function"
   ]
  },
  {
   "cell_type": "code",
   "execution_count": 65,
   "metadata": {
    "scrolled": false
   },
   "outputs": [
    {
     "data": {
      "text/plain": [
       "0.27343750000000017"
      ]
     },
     "execution_count": 65,
     "metadata": {},
     "output_type": "execute_result"
    }
   ],
   "source": [
    "binom.pmf(4) # Probabilidad de sacar 4 caras"
   ]
  },
  {
   "cell_type": "markdown",
   "metadata": {},
   "source": [
    "In the data:"
   ]
  },
  {
   "cell_type": "markdown",
   "metadata": {},
   "source": [
    "#### Exercise\n",
    "\n",
    "What is the probability of getting 3 or fewer heads when tossing 8 times a fair coin?"
   ]
  },
  {
   "cell_type": "code",
   "execution_count": 66,
   "metadata": {
    "scrolled": false
   },
   "outputs": [
    {
     "data": {
      "text/plain": [
       "0.3597"
      ]
     },
     "execution_count": 66,
     "metadata": {},
     "output_type": "execute_result"
    }
   ],
   "source": [
    "(binom.rvs(10000) <= 3).mean()"
   ]
  },
  {
   "cell_type": "code",
   "execution_count": 67,
   "metadata": {
    "scrolled": true
   },
   "outputs": [
    {
     "data": {
      "text/plain": [
       "0.3593750000000002"
      ]
     },
     "execution_count": 67,
     "metadata": {},
     "output_type": "execute_result"
    }
   ],
   "source": [
    "binom.pmf(3) + binom.pmf(2) + binom.pmf(1)"
   ]
  },
  {
   "cell_type": "code",
   "execution_count": 68,
   "metadata": {
    "scrolled": true
   },
   "outputs": [
    {
     "data": {
      "text/plain": [
       "0.3632812500000002"
      ]
     },
     "execution_count": 68,
     "metadata": {},
     "output_type": "execute_result"
    }
   ],
   "source": [
    "binom.pmf(range(4)).sum()"
   ]
  },
  {
   "cell_type": "code",
   "execution_count": 69,
   "metadata": {
    "scrolled": true
   },
   "outputs": [
    {
     "data": {
      "image/png": "[encoded data removed]",
      "text/plain": [
       "<Figure size 432x288 with 1 Axes>"
      ]
     },
     "metadata": {
      "needs_background": "light"
     },
     "output_type": "display_data"
    }
   ],
   "source": [
    "xs = range(n + 1)\n",
    "ys = binom.pmf(xs)\n",
    "\n",
    "plt.bar(xs, ys);"
   ]
  },
  {
   "cell_type": "markdown",
   "metadata": {},
   "source": [
    "#### cdf\n",
    "\n",
    "Cumulative Distribution Function"
   ]
  },
  {
   "cell_type": "code",
   "execution_count": 70,
   "metadata": {
    "scrolled": false
   },
   "outputs": [
    {
     "data": {
      "text/plain": [
       "0.3632812500000001"
      ]
     },
     "execution_count": 70,
     "metadata": {},
     "output_type": "execute_result"
    },
    {
     "data": {
      "image/png": "[encoded data removed]",
      "text/plain": [
       "<Figure size 432x288 with 1 Axes>"
      ]
     },
     "metadata": {
      "needs_background": "light"
     },
     "output_type": "display_data"
    }
   ],
   "source": [
    "xs = range(n + 1)\n",
    "ys = binom.cdf(xs)\n",
    "\n",
    "plt.bar(xs, ys);\n",
    "binom.cdf(3)"
   ]
  },
  {
   "cell_type": "markdown",
   "metadata": {},
   "source": [
    "### Poisson"
   ]
  },
  {
   "cell_type": "markdown",
   "metadata": {},
   "source": [
    "Sirve para saber, de media, cuántas cartas recibiré, por ejemplo."
   ]
  },
  {
   "cell_type": "markdown",
   "metadata": {},
   "source": [
    "### Continuous distributions\n",
    "\n"
   ]
  },
  {
   "cell_type": "code",
   "execution_count": 71,
   "metadata": {
    "scrolled": false
   },
   "outputs": [
    {
     "data": {
      "text/plain": [
       "<matplotlib.collections.PathCollection at 0x7f54de321e48>"
      ]
     },
     "execution_count": 71,
     "metadata": {},
     "output_type": "execute_result"
    },
    {
     "data": {
      "image/png": "[encoded data removed]",
      "text/plain": [
       "<Figure size 432x288 with 1 Axes>"
      ]
     },
     "metadata": {
      "needs_background": "light"
     },
     "output_type": "display_data"
    }
   ],
   "source": [
    "left, right = 0, 360\n",
    "n = 1000\n",
    "uniform = stats.uniform(left, right - left)\n",
    "rs = uniform.rvs(size=n)\n",
    "rs\n",
    "plt.hist(rs, alpha=.2)\n",
    "irrelevant = jitter(np.repeat(50, rs.size))\n",
    "plt.scatter(rs, irrelevant)"
   ]
  },
  {
   "cell_type": "markdown",
   "metadata": {},
   "source": [
    "What is the probabilty of `uniform` being exactly 0?"
   ]
  },
  {
   "cell_type": "code",
   "execution_count": 72,
   "metadata": {
    "scrolled": true
   },
   "outputs": [
    {
     "data": {
      "text/plain": [
       "0"
      ]
     },
     "execution_count": 72,
     "metadata": {},
     "output_type": "execute_result"
    }
   ],
   "source": [
    "left, right = 0, 360\n",
    "n = 1000\n",
    "uniform = stats.uniform(left, right - left)\n",
    "rs = uniform.rvs(size=n)\n",
    "\n",
    "(rs == 0).sum()"
   ]
  },
  {
   "cell_type": "markdown",
   "metadata": {},
   "source": [
    "Es una variable continua, por lo que por mucho que aumentemos *n*, va a seguir siendo probabilidad 0. Es virtualmente imposible que sea justo 0"
   ]
  },
  {
   "cell_type": "markdown",
   "metadata": {},
   "source": [
    "#### pdf\n",
    "\n",
    "\n",
    "Probability Density Function"
   ]
  },
  {
   "cell_type": "code",
   "execution_count": 73,
   "metadata": {
    "scrolled": false
   },
   "outputs": [
    {
     "data": {
      "text/plain": [
       "0.002777777777777778"
      ]
     },
     "execution_count": 73,
     "metadata": {},
     "output_type": "execute_result"
    }
   ],
   "source": [
    "uniform.pdf(0)"
   ]
  },
  {
   "cell_type": "code",
   "execution_count": 74,
   "metadata": {
    "scrolled": false
   },
   "outputs": [
    {
     "data": {
      "text/plain": [
       "[<matplotlib.lines.Line2D at 0x7f54de13a630>]"
      ]
     },
     "execution_count": 74,
     "metadata": {},
     "output_type": "execute_result"
    },
    {
     "data": {
      "image/png": "[encoded data removed]",
      "text/plain": [
       "<Figure size 432x288 with 1 Axes>"
      ]
     },
     "metadata": {
      "needs_background": "light"
     },
     "output_type": "display_data"
    }
   ],
   "source": [
    "plt.plot(range(360), uniform.pdf(range(360)))"
   ]
  },
  {
   "cell_type": "code",
   "execution_count": 75,
   "metadata": {
    "scrolled": false
   },
   "outputs": [
    {
     "data": {
      "text/plain": [
       "1.0"
      ]
     },
     "execution_count": 75,
     "metadata": {},
     "output_type": "execute_result"
    }
   ],
   "source": [
    "uniform.pdf(range(360)).sum()"
   ]
  },
  {
   "cell_type": "code",
   "execution_count": 76,
   "metadata": {
    "scrolled": true
   },
   "outputs": [
    {
     "data": {
      "text/plain": [
       "2.777777777777777"
      ]
     },
     "execution_count": 76,
     "metadata": {},
     "output_type": "execute_result"
    }
   ],
   "source": [
    "uniform.pdf(np.linspace(0, 360, 1000)).sum()"
   ]
  },
  {
   "cell_type": "code",
   "execution_count": 77,
   "metadata": {
    "scrolled": false
   },
   "outputs": [
    {
     "data": {
      "text/plain": [
       "0.05555555555555555"
      ]
     },
     "execution_count": 77,
     "metadata": {},
     "output_type": "execute_result"
    }
   ],
   "source": [
    "uniform.cdf(20) # Probabilidad de que el avión se haya estrellado entre el meridiano 0 y el 20"
   ]
  },
  {
   "cell_type": "markdown",
   "metadata": {},
   "source": [
    "#### Exercise\n",
    "\n",
    "What is the probability of `uniform` taking a value between 10 and 15?"
   ]
  },
  {
   "cell_type": "code",
   "execution_count": 82,
   "metadata": {
    "scrolled": false
   },
   "outputs": [
    {
     "data": {
      "text/plain": [
       "0.013888888888888888"
      ]
     },
     "execution_count": 82,
     "metadata": {},
     "output_type": "execute_result"
    }
   ],
   "source": [
    "uniform.cdf(15) - uniform.cdf(10)"
   ]
  },
  {
   "cell_type": "markdown",
   "metadata": {},
   "source": [
    "### Normal"
   ]
  },
  {
   "cell_type": "code",
   "execution_count": 78,
   "metadata": {
    "scrolled": true
   },
   "outputs": [
    {
     "data": {
      "image/png": "[encoded data removed]",
      "text/plain": [
       "<Figure size 432x288 with 1 Axes>"
      ]
     },
     "metadata": {
      "needs_background": "light"
     },
     "output_type": "display_data"
    }
   ],
   "source": [
    "normal = stats.norm(175, 10) # Altura normal personas\n",
    "xs = np.linspace(145, 205)\n",
    "\n",
    "plt.plot(xs, normal.pdf(xs));"
   ]
  },
  {
   "cell_type": "code",
   "execution_count": 79,
   "metadata": {
    "scrolled": true
   },
   "outputs": [
    {
     "data": {
      "image/png": "[encoded data removed]",
      "text/plain": [
       "<Figure size 432x288 with 1 Axes>"
      ]
     },
     "metadata": {
      "needs_background": "light"
     },
     "output_type": "display_data"
    }
   ],
   "source": [
    "plt.plot(xs, normal.cdf(xs)); # Esta es la integral de la anterior (el área)"
   ]
  },
  {
   "cell_type": "code",
   "execution_count": 80,
   "metadata": {
    "scrolled": true
   },
   "outputs": [
    {
     "data": {
      "text/plain": [
       "0.006209665325776132"
      ]
     },
     "execution_count": 80,
     "metadata": {},
     "output_type": "execute_result"
    }
   ],
   "source": [
    "# Probabilidad de medir menos de 150 cm? ~ 0.6%\n",
    "normal.cdf(150)"
   ]
  },
  {
   "cell_type": "code",
   "execution_count": 81,
   "metadata": {
    "scrolled": true
   },
   "outputs": [
    {
     "data": {
      "text/plain": [
       "0.6826894921370859"
      ]
     },
     "execution_count": 81,
     "metadata": {},
     "output_type": "execute_result"
    }
   ],
   "source": [
    "# Probabilidad de medir entre 165 y 185 cm? ~ 68%\n",
    "normal.cdf(185) - normal.cdf(165)"
   ]
  },
  {
   "cell_type": "markdown",
   "metadata": {},
   "source": [
    "#### Exercise\n",
    "\n",
    "Approximate the shaded area below the curve using `normal.pdf(xs)`"
   ]
  },
  {
   "cell_type": "code",
   "execution_count": 84,
   "metadata": {
    "scrolled": false
   },
   "outputs": [
    {
     "data": {
      "text/plain": [
       "0.8148779249594641"
      ]
     },
     "execution_count": 84,
     "metadata": {},
     "output_type": "execute_result"
    }
   ],
   "source": [
    "normal.pdf(xs).sum()"
   ]
  },
  {
   "cell_type": "markdown",
   "metadata": {},
   "source": [
    "#### Checking normality"
   ]
  },
  {
   "cell_type": "code",
   "execution_count": 85,
   "metadata": {
    "scrolled": true
   },
   "outputs": [
    {
     "data": {
      "image/png": "[encoded data removed]",
      "text/plain": [
       "<Figure size 432x288 with 1 Axes>"
      ]
     },
     "metadata": {
      "needs_background": "light"
     },
     "output_type": "display_data"
    }
   ],
   "source": [
    "# Comprobando si realmente se adapta a una normal\n",
    "plt.hist(df['birthwgt_g'], bins=range(0, 7000, 100));"
   ]
  },
  {
   "cell_type": "markdown",
   "metadata": {},
   "source": [
    "Opción 1"
   ]
  },
  {
   "cell_type": "code",
   "execution_count": 86,
   "metadata": {
    "scrolled": true
   },
   "outputs": [
    {
     "data": {
      "text/plain": [
       "(3298.4223722062566, 639.3544362389737)"
      ]
     },
     "execution_count": 86,
     "metadata": {},
     "output_type": "execute_result"
    }
   ],
   "source": [
    "df['birthwgt_g'].mean(), df['birthwgt_g'].std()"
   ]
  },
  {
   "cell_type": "code",
   "execution_count": 87,
   "metadata": {
    "scrolled": true
   },
   "outputs": [
    {
     "data": {
      "image/png": "[encoded data removed]",
      "text/plain": [
       "<Figure size 432x288 with 1 Axes>"
      ]
     },
     "metadata": {
      "needs_background": "light"
     },
     "output_type": "display_data"
    }
   ],
   "source": [
    "norm_like_weight = stats.norm(df['birthwgt_g'].mean(), df['birthwgt_g'].std())\n",
    "\n",
    "plt.hist(df['birthwgt_g'], bins=range(0, 7000, 100));\n",
    "plt.plot(range(0, 7000, 100), norm_like_weight.pdf(np.arange(0, 7000, 100))*1000000);\n",
    "# El '*1000000' es para que tenga una altura comparable"
   ]
  },
  {
   "cell_type": "markdown",
   "metadata": {},
   "source": [
    "Opción 2"
   ]
  },
  {
   "cell_type": "code",
   "execution_count": 88,
   "metadata": {
    "scrolled": false
   },
   "outputs": [
    {
     "ename": "AttributeError",
     "evalue": "'rv_frozen' object has no attribute 'fit'",
     "output_type": "error",
     "traceback": [
      "\u001b[0;31m---------------------------------------------------------------------------\u001b[0m",
      "\u001b[0;31mAttributeError\u001b[0m                            Traceback (most recent call last)",
      "\u001b[0;32m<ipython-input-88-546f51671f4d>\u001b[0m in \u001b[0;36m<module>\u001b[0;34m\u001b[0m\n\u001b[0;32m----> 1\u001b[0;31m \u001b[0msm\u001b[0m\u001b[0;34m.\u001b[0m\u001b[0mqqplot\u001b[0m\u001b[0;34m(\u001b[0m\u001b[0mdf\u001b[0m\u001b[0;34m[\u001b[0m\u001b[0;34m'birthwgt_g'\u001b[0m\u001b[0;34m]\u001b[0m\u001b[0;34m.\u001b[0m\u001b[0mdropna\u001b[0m\u001b[0;34m(\u001b[0m\u001b[0;34m)\u001b[0m\u001b[0;34m,\u001b[0m \u001b[0mnorm_like_weight\u001b[0m\u001b[0;34m,\u001b[0m \u001b[0mline\u001b[0m\u001b[0;34m=\u001b[0m\u001b[0;34m'45'\u001b[0m\u001b[0;34m)\u001b[0m\u001b[0;34m;\u001b[0m\u001b[0;34m\u001b[0m\u001b[0;34m\u001b[0m\u001b[0m\n\u001b[0m\u001b[1;32m      2\u001b[0m \u001b[0mplt\u001b[0m\u001b[0;34m.\u001b[0m\u001b[0mgcf\u001b[0m\u001b[0;34m(\u001b[0m\u001b[0;34m)\u001b[0m\u001b[0;34m.\u001b[0m\u001b[0mset_size_inches\u001b[0m\u001b[0;34m(\u001b[0m\u001b[0;36m7\u001b[0m\u001b[0;34m,\u001b[0m \u001b[0;36m6\u001b[0m\u001b[0;34m)\u001b[0m\u001b[0;34m\u001b[0m\u001b[0;34m\u001b[0m\u001b[0m\n",
      "\u001b[0;32m~/anaconda3/lib/python3.7/site-packages/statsmodels/graphics/gofplots.py\u001b[0m in \u001b[0;36mqqplot\u001b[0;34m(data, dist, distargs, a, loc, scale, fit, line, ax, **plotkwargs)\u001b[0m\n\u001b[1;32m    504\u001b[0m     \"\"\"\n\u001b[1;32m    505\u001b[0m     probplot = ProbPlot(data, dist=dist, distargs=distargs,\n\u001b[0;32m--> 506\u001b[0;31m                          fit=fit, a=a, loc=loc, scale=scale)\n\u001b[0m\u001b[1;32m    507\u001b[0m     \u001b[0mfig\u001b[0m \u001b[0;34m=\u001b[0m \u001b[0mprobplot\u001b[0m\u001b[0;34m.\u001b[0m\u001b[0mqqplot\u001b[0m\u001b[0;34m(\u001b[0m\u001b[0max\u001b[0m\u001b[0;34m=\u001b[0m\u001b[0max\u001b[0m\u001b[0;34m,\u001b[0m \u001b[0mline\u001b[0m\u001b[0;34m=\u001b[0m\u001b[0mline\u001b[0m\u001b[0;34m,\u001b[0m \u001b[0;34m**\u001b[0m\u001b[0mplotkwargs\u001b[0m\u001b[0;34m)\u001b[0m\u001b[0;34m\u001b[0m\u001b[0;34m\u001b[0m\u001b[0m\n\u001b[1;32m    508\u001b[0m     \u001b[0;32mreturn\u001b[0m \u001b[0mfig\u001b[0m\u001b[0;34m\u001b[0m\u001b[0;34m\u001b[0m\u001b[0m\n",
      "\u001b[0;32m~/anaconda3/lib/python3.7/site-packages/statsmodels/graphics/gofplots.py\u001b[0m in \u001b[0;36m__init__\u001b[0;34m(self, data, dist, fit, distargs, a, loc, scale)\u001b[0m\n\u001b[1;32m    135\u001b[0m             \u001b[0mdist\u001b[0m \u001b[0;34m=\u001b[0m \u001b[0mgetattr\u001b[0m\u001b[0;34m(\u001b[0m\u001b[0mstats\u001b[0m\u001b[0;34m,\u001b[0m \u001b[0mdist\u001b[0m\u001b[0;34m)\u001b[0m\u001b[0;34m\u001b[0m\u001b[0;34m\u001b[0m\u001b[0m\n\u001b[1;32m    136\u001b[0m \u001b[0;34m\u001b[0m\u001b[0m\n\u001b[0;32m--> 137\u001b[0;31m         \u001b[0mself\u001b[0m\u001b[0;34m.\u001b[0m\u001b[0mfit_params\u001b[0m \u001b[0;34m=\u001b[0m \u001b[0mdist\u001b[0m\u001b[0;34m.\u001b[0m\u001b[0mfit\u001b[0m\u001b[0;34m(\u001b[0m\u001b[0mdata\u001b[0m\u001b[0;34m)\u001b[0m\u001b[0;34m\u001b[0m\u001b[0;34m\u001b[0m\u001b[0m\n\u001b[0m\u001b[1;32m    138\u001b[0m         \u001b[0;32mif\u001b[0m \u001b[0mfit\u001b[0m\u001b[0;34m:\u001b[0m\u001b[0;34m\u001b[0m\u001b[0;34m\u001b[0m\u001b[0m\n\u001b[1;32m    139\u001b[0m             \u001b[0mself\u001b[0m\u001b[0;34m.\u001b[0m\u001b[0mloc\u001b[0m \u001b[0;34m=\u001b[0m \u001b[0mself\u001b[0m\u001b[0;34m.\u001b[0m\u001b[0mfit_params\u001b[0m\u001b[0;34m[\u001b[0m\u001b[0;34m-\u001b[0m\u001b[0;36m2\u001b[0m\u001b[0;34m]\u001b[0m\u001b[0;34m\u001b[0m\u001b[0;34m\u001b[0m\u001b[0m\n",
      "\u001b[0;31mAttributeError\u001b[0m: 'rv_frozen' object has no attribute 'fit'"
     ]
    }
   ],
   "source": [
    "sm.qqplot(df['birthwgt_g'].dropna(), norm_like_weight, line='45');\n",
    "plt.gcf().set_size_inches(7, 6)"
   ]
  },
  {
   "cell_type": "code",
   "execution_count": 90,
   "metadata": {},
   "outputs": [
    {
     "data": {
      "image/png": "[encoded data removed]",
      "text/plain": [
       "<Figure size 432x288 with 1 Axes>"
      ]
     },
     "metadata": {
      "needs_background": "light"
     },
     "output_type": "display_data"
    }
   ],
   "source": [
    "# Alternativa encontrada online dado que qqplot no me funciona...\n",
    "stats.probplot(df['birthwgt_g'].dropna(), plot=plt)\n",
    "plt.show()"
   ]
  },
  {
   "cell_type": "markdown",
   "metadata": {},
   "source": [
    "Observando el gráfico, se ve que en una parte del gráfico se adapta suficientemente bien, pero en los extremos se aleja un poco, indicando que no se adapta realmente bien a una normal"
   ]
  },
  {
   "cell_type": "markdown",
   "metadata": {},
   "source": [
    "### The central limit theorem"
   ]
  },
  {
   "cell_type": "code",
   "execution_count": 91,
   "metadata": {
    "scrolled": true
   },
   "outputs": [
    {
     "data": {
      "image/png": "[encoded data removed]",
      "text/plain": [
       "<Figure size 432x288 with 1 Axes>"
      ]
     },
     "metadata": {
      "needs_background": "light"
     },
     "output_type": "display_data"
    }
   ],
   "source": [
    "rate = 1.3 # De media recibo 1.3 emails al día\n",
    "\n",
    "poisson = stats.poisson(rate)\n",
    "xs = range(5)\n",
    "plt.bar(xs, poisson.pmf(xs));"
   ]
  },
  {
   "cell_type": "code",
   "execution_count": 92,
   "metadata": {
    "scrolled": true
   },
   "outputs": [
    {
     "data": {
      "text/plain": [
       "1.397"
      ]
     },
     "execution_count": 92,
     "metadata": {},
     "output_type": "execute_result"
    }
   ],
   "source": [
    "size = 1000 # Ver qué pasa a lo largo de 1000 días\n",
    "rs = poisson.rvs(size)\n",
    "rs.mean()"
   ]
  },
  {
   "cell_type": "code",
   "execution_count": 93,
   "metadata": {
    "scrolled": true
   },
   "outputs": [
    {
     "data": {
      "text/plain": [
       "array([2, 2, 4, 2, 1, 2, 2, 0, 4, 1, 0, 1, 1, 2, 4, 2, 2, 0, 1, 1, 2, 0,\n",
       "       6, 1, 2, 2, 5, 1, 3, 0, 0, 0, 0, 2, 0, 1, 0, 3, 1, 1, 0, 2, 1, 2,\n",
       "       0, 1, 1, 1, 1, 1, 0, 0, 1, 1, 0, 1, 2, 0, 2, 2, 2, 2, 2, 0, 2, 1,\n",
       "       1, 0, 1, 1, 2, 1, 2, 0, 3, 2, 1, 1, 3, 1, 2, 1, 3, 1, 0, 1, 3, 0,\n",
       "       2, 1, 1, 3, 0, 4, 1, 0, 0, 1, 1, 0, 0, 1, 4, 0, 0, 0, 4, 0, 0, 2,\n",
       "       4, 1, 0, 0, 0, 1, 0, 2, 1, 1, 4, 2, 2, 1, 1, 3, 1, 0, 1, 0, 2, 2,\n",
       "       1, 2, 3, 1, 2, 0, 1, 1, 0, 1, 1, 2, 0, 1, 1, 0, 2, 0, 3, 0, 1, 1,\n",
       "       1, 1, 2, 3, 0, 1, 2, 1, 2, 0, 1, 2, 0, 1, 0, 0, 1, 1, 0, 0, 3, 0,\n",
       "       0, 1, 0, 1, 3, 1, 1, 1, 3, 0, 1, 0, 2, 1, 2, 0, 2, 4, 0, 1, 2, 0,\n",
       "       1, 2, 1, 1, 2, 0, 3, 0, 1, 1, 0, 0, 0, 2, 2, 2, 1, 0, 1, 1, 0, 1,\n",
       "       1, 0, 1, 2, 1, 1, 0, 1, 0, 1, 1, 1, 1, 1, 1, 2, 1, 0, 2, 2, 1, 2,\n",
       "       0, 0, 2, 4, 1, 1, 1, 1, 2, 0, 1, 2, 3, 2, 0, 0, 1, 1, 3, 0, 1, 1,\n",
       "       1, 0, 1, 1, 1, 0, 0, 0, 1, 1, 1, 1, 0, 2, 0, 0, 1, 1, 1, 0, 0, 1,\n",
       "       3, 2, 2, 1, 0, 0, 2, 0, 2, 1, 1, 0, 0, 0, 0, 1, 0, 2, 1, 2, 3, 1,\n",
       "       2, 2, 0, 0, 2, 3, 0, 3, 0, 0, 1, 2, 1, 1, 1, 0, 3, 3, 2, 3, 3, 1,\n",
       "       2, 2, 1, 0, 4, 0, 1, 0, 1, 1, 1, 0, 1, 0, 0, 1, 0, 1, 0, 2, 2, 2,\n",
       "       5, 0, 1, 2, 1, 2, 2, 2, 2, 1, 1, 0, 1, 0, 1, 4, 1, 5, 1, 0, 2, 2,\n",
       "       1, 3, 2, 1, 2, 0, 1, 2, 0, 0, 0, 3, 1, 1, 0, 1, 2, 3, 2, 2, 1, 0,\n",
       "       2, 0, 4, 0, 2, 2, 0, 1, 1, 2, 2, 0, 2, 0, 1, 1, 0, 0, 2, 2, 3, 0,\n",
       "       3, 0, 0, 1, 3, 1, 0, 2, 1, 3, 1, 3, 3, 2, 1, 0, 2, 0, 0, 0, 0, 0,\n",
       "       0, 1, 1, 0, 0, 2, 1, 0, 0, 1, 1, 1, 3, 1, 0, 0, 1, 2, 0, 0, 0, 1,\n",
       "       2, 1, 2, 1, 0, 0, 0, 1, 2, 0, 1, 0, 0, 2, 1, 1, 0, 2, 1, 3, 2, 1,\n",
       "       2, 1, 1, 1, 0, 0, 2, 3, 0, 3, 1, 1, 2, 0, 0, 2, 1, 0, 1, 1, 1, 2,\n",
       "       1, 1, 1, 3, 1, 1, 1, 0, 0, 1, 0, 5, 1, 1, 3, 0, 2, 5, 3, 1, 2, 4,\n",
       "       2, 4, 3, 0, 1, 2, 3, 0, 3, 2, 0, 1, 1, 2, 0, 1, 1, 2, 2, 3, 1, 2,\n",
       "       1, 1, 1, 0, 0, 2, 1, 3, 1, 0, 2, 1, 3, 3, 1, 2, 0, 2, 3, 1, 0, 4,\n",
       "       0, 0, 3, 1, 0, 3, 3, 0, 1, 2, 1, 2, 0, 1, 2, 2, 2, 3, 1, 0, 2, 1,\n",
       "       0, 1, 0, 1, 0, 1, 2, 2, 1, 0, 0, 0, 0, 0, 3, 0, 3, 2, 1, 4, 1, 2,\n",
       "       2, 3, 3, 4, 2, 1, 0, 1, 0, 4, 1, 1, 1, 3, 1, 0, 1, 1, 2, 4, 2, 2,\n",
       "       1, 0, 2, 2, 1, 0, 0, 1, 1, 1, 2, 3, 0, 0, 2, 1, 0, 2, 1, 3, 2, 2,\n",
       "       1, 2, 0, 0, 1, 2, 2, 0, 1, 1, 2, 2, 3, 5, 1, 0, 1, 3, 2, 2, 2, 3,\n",
       "       1, 1, 0, 1, 0, 3, 1, 2, 1, 1, 2, 0, 0, 0, 3, 2, 0, 2, 2, 2, 0, 2,\n",
       "       0, 3, 3, 0, 3, 2, 0, 3, 1, 0, 3, 2, 1, 0, 2, 1, 1, 1, 1, 1, 0, 0,\n",
       "       4, 3, 1, 0, 1, 0, 2, 2, 1, 0, 0, 0, 2, 3, 0, 2, 2, 1, 2, 0, 2, 1,\n",
       "       1, 1, 2, 1, 0, 0, 0, 2, 2, 1, 2, 2, 0, 0, 0, 0, 0, 1, 1, 0, 2, 2,\n",
       "       3, 2, 2, 2, 0, 1, 3, 0, 0, 0, 3, 3, 1, 2, 1, 0, 2, 2, 1, 0, 1, 1,\n",
       "       2, 1, 0, 2, 1, 3, 2, 4, 1, 0, 3, 2, 0, 1, 1, 1, 3, 0, 1, 5, 0, 2,\n",
       "       0, 1, 1, 1, 0, 0, 2, 1, 2, 1, 1, 0, 0, 1, 1, 0, 1, 0, 1, 2, 2, 5,\n",
       "       0, 0, 2, 1, 0, 1, 2, 0, 1, 2, 1, 2, 1, 0, 1, 3, 1, 0, 2, 3, 0, 2,\n",
       "       2, 0, 1, 2, 3, 1, 3, 0, 3, 3, 1, 1, 1, 3, 3, 2, 3, 1, 0, 1, 1, 2,\n",
       "       0, 2, 0, 1, 1, 1, 2, 0, 0, 2, 0, 0, 2, 1, 0, 5, 0, 2, 2, 0, 2, 3,\n",
       "       1, 1, 1, 2, 0, 0, 0, 1, 1, 1, 0, 0, 0, 0, 1, 0, 0, 1, 0, 0, 2, 1,\n",
       "       1, 0, 0, 1, 0, 1, 3, 2, 0, 3, 0, 1, 2, 2, 2, 0, 1, 1, 1, 0, 3, 3,\n",
       "       2, 1, 1, 1, 1, 0, 1, 1, 0, 0, 2, 1, 1, 1, 2, 0, 3, 0, 2, 1, 1, 1,\n",
       "       1, 2, 0, 3, 3, 2, 1, 0, 2, 0, 0, 1, 0, 2, 1, 2, 1, 1, 0, 1, 1, 1,\n",
       "       3, 1, 0, 2, 0, 1, 1, 0, 2, 2])"
      ]
     },
     "execution_count": 93,
     "metadata": {},
     "output_type": "execute_result"
    }
   ],
   "source": [
    "# La \"MAGIA\"\n",
    "size = 1000 # Ver qué pasa a lo largo de 1000 días\n",
    "rs = poisson.rvs(size)\n",
    "rs"
   ]
  },
  {
   "cell_type": "code",
   "execution_count": 94,
   "metadata": {
    "scrolled": true
   },
   "outputs": [
    {
     "data": {
      "text/plain": [
       "1.34"
      ]
     },
     "execution_count": 94,
     "metadata": {},
     "output_type": "execute_result"
    }
   ],
   "source": [
    "np.random.choice(rs, size=100).mean()"
   ]
  },
  {
   "cell_type": "code",
   "execution_count": 96,
   "metadata": {
    "scrolled": false
   },
   "outputs": [
    {
     "data": {
      "image/png": "[encoded data removed]",
      "text/plain": [
       "<Figure size 432x288 with 1 Axes>"
      ]
     },
     "metadata": {
      "needs_background": "light"
     },
     "output_type": "display_data"
    }
   ],
   "source": [
    "means = np.array([np.random.choice(rs, size=100).mean() for _ in range(10000)])\n",
    "plt.hist(means, bins=np.linspace(means.min(), means.max(), 80));"
   ]
  },
  {
   "cell_type": "markdown",
   "metadata": {},
   "source": [
    "#### Es una normal!!!!"
   ]
  },
  {
   "cell_type": "markdown",
   "metadata": {},
   "source": [
    "# Further reading\n",
    "\n",
    "https://greenteapress.com/wp/think-stats-2e/\n",
    "\n",
    "https://en.wikipedia.org/wiki/Correlation_and_dependence\n",
    "\n",
    "https://www.cdc.gov/nchs/nsfg/index.htm?CDC_AA_refVal=https%3A%2F%2Fwww.cdc.gov%2Fnchs%2Fnsfg.htm\n",
    "\n",
    "https://www.khanacademy.org/math/ap-statistics/summarizing-quantitative-data-ap/more-standard-deviation/v/review-and-intuition-why-we-divide-by-n-1-for-the-unbiased-sample-variance\n",
    "\n",
    "https://xkcd.com/882/\n",
    "\n",
    "https://projecteuclid.org/euclid.ss/1009213726"
   ]
  }
 ],
 "metadata": {
  "kernelspec": {
   "display_name": "Python 3",
   "language": "python",
   "name": "python3"
  },
  "language_info": {
   "codemirror_mode": {
    "name": "ipython",
    "version": 3
   },
   "file_extension": ".py",
   "mimetype": "text/x-python",
   "name": "python",
   "nbconvert_exporter": "python",
   "pygments_lexer": "ipython3",
   "version": "3.7.1"
  },
  "toc-autonumbering": true,
  "toc-showmarkdowntxt": false
 },
 "nbformat": 4,
 "nbformat_minor": 4
}
