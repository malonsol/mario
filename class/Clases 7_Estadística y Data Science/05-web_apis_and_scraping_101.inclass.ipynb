{
 "cells": [
  {
   "cell_type": "markdown",
   "metadata": {
    "slideshow": {
     "slide_type": "slide"
    }
   },
   "source": [
    "# Introduction to Data Analysis with Python III\n",
    "\n",
    "\n",
    "<img src=\"https://www.python.org/static/img/python-logo.png\" alt=\"yogen\" style=\"width: 200px; float: right;\"/>\n",
    "<br>\n",
    "<br>\n",
    "<br>\n",
    "<img src=\"../assets/yogen-logo.png\" alt=\"yogen\" style=\"width: 200px; float: right;\"/>"
   ]
  },
  {
   "cell_type": "markdown",
   "metadata": {},
   "source": [
    "#  Web APIs\n",
    "\n",
    "An API, or aplication programming interface, is the way programs communicate with one another. \n",
    "\n",
    "Web APIs are the way programs communicate with one another _over the internet_\n",
    "\n",
    "[RESTful](https://en.wikipedia.org/wiki/Representational_state_transfer) APIs respect a series of design principles that make them simple to use.\n",
    "\n",
    "The basic tools we are going to use are: POST and GET requests to urls we'll specify and json objects that we'll receive as response or send as payload (in a POST command, for example)."
   ]
  },
  {
   "cell_type": "code",
   "execution_count": 13,
   "metadata": {},
   "outputs": [
    {
     "data": {
      "text/plain": [
       "<Response [200]>"
      ]
     },
     "execution_count": 13,
     "metadata": {},
     "output_type": "execute_result"
    }
   ],
   "source": [
    "import requests\n",
    "\n",
    "response = requests.get('https://elpais.com/')\n",
    "\n",
    "response"
   ]
  },
  {
   "cell_type": "code",
   "execution_count": 16,
   "metadata": {},
   "outputs": [
    {
     "data": {
      "text/plain": [
       "b'<!DOCTYPE html><html lang=\"es\"><head><title>EL PA\\xc3\\x8dS: el peri\\xc3\\xb3dico global</title><meta name=\"lang\" content=\"es\"/><meta name=\"author\" content=\"Ediciones El Pa\\xc3\\xads\"/><meta name=\"robots\" content=\"index,follow\"/><meta name=\"description\" content=\"Noticias de \\xc3\\xbaltima hora sobre la actualidad en Espa\\xc3\\xb1a y el mundo: pol\\xc3\\xadtica, econom\\xc3\\xada, deportes, cultura, sociedad, tecnolog\\xc3\\xada, gente, opini\\xc3\\xb3n, viajes, moda, televisi\\xc3\\xb3n, los blogs y las firmas de EL PA\\xc3\\x8dS. Adem\\xc3\\xa1s especiales, v\\xc3\\xaddeos, fotos, audios, gr\\xc3\\xa1ficos, entrevistas, promociones y todos los servicios de EL PA\\xc3\\x8dS.\"/><meta http-equiv=\"Refresh\" content=\"900\"/><meta name=\"organization\" content=\"Ediciones EL PA\\xc3\\x8dS S.L.\"/><meta property=\"article:publisher\" content=\"https://www.facebook.com/elpais/\"/><meta property=\"og:title\" content=\"EL PA\\xc3\\x8dS: el peri\\xc3\\xb3dico global\"/><meta property=\"og:description\" content=\"Noticias de \\xc3\\xbaltima hora sobre la actualidad en Espa\\xc3\\xb1a y el mundo: pol\\xc3\\xadtica, econom\\xc3\\xada, deportes, cultura, sociedad, tecnolog\\xc3\\xada, gente,'"
      ]
     },
     "execution_count": 16,
     "metadata": {},
     "output_type": "execute_result"
    }
   ],
   "source": [
    "response.content[:1000]"
   ]
  },
  {
   "cell_type": "markdown",
   "metadata": {},
   "source": [
    "This is an API that returns the current position of the ISS:"
   ]
  },
  {
   "cell_type": "code",
   "execution_count": 17,
   "metadata": {},
   "outputs": [
    {
     "data": {
      "text/plain": [
       "b'{\"message\": \"success\", \"iss_position\": {\"latitude\": \"-29.7929\", \"longitude\": \"-139.7316\"}, \"timestamp\": 1603533255}'"
      ]
     },
     "execution_count": 17,
     "metadata": {},
     "output_type": "execute_result"
    }
   ],
   "source": [
    "response = requests.get('http://api.open-notify.org/iss-now.json')\n",
    "response.content"
   ]
  },
  {
   "cell_type": "code",
   "execution_count": 18,
   "metadata": {},
   "outputs": [
    {
     "data": {
      "text/plain": [
       "'{\"message\": \"success\", \"iss_position\": {\"latitude\": \"-29.7929\", \"longitude\": \"-139.7316\"}, \"timestamp\": 1603533255}'"
      ]
     },
     "execution_count": 18,
     "metadata": {},
     "output_type": "execute_result"
    }
   ],
   "source": [
    "response.text"
   ]
  },
  {
   "cell_type": "code",
   "execution_count": 20,
   "metadata": {},
   "outputs": [
    {
     "ename": "TypeError",
     "evalue": "byte indices must be integers or slices, not str",
     "output_type": "error",
     "traceback": [
      "\u001b[0;31m---------------------------------------------------------------------------\u001b[0m",
      "\u001b[0;31mTypeError\u001b[0m                                 Traceback (most recent call last)",
      "\u001b[0;32m<ipython-input-20-6cbebe3a01ed>\u001b[0m in \u001b[0;36m<module>\u001b[0;34m\u001b[0m\n\u001b[0;32m----> 1\u001b[0;31m \u001b[0mresponse\u001b[0m\u001b[0;34m.\u001b[0m\u001b[0mcontent\u001b[0m\u001b[0;34m[\u001b[0m\u001b[0;34m'iss_position'\u001b[0m\u001b[0;34m]\u001b[0m\u001b[0;34m\u001b[0m\u001b[0;34m\u001b[0m\u001b[0m\n\u001b[0m",
      "\u001b[0;31mTypeError\u001b[0m: byte indices must be integers or slices, not str"
     ]
    }
   ],
   "source": [
    "response.content['iss_position']"
   ]
  },
  {
   "cell_type": "markdown",
   "metadata": {},
   "source": [
    "We can convert a json-formatted string such as the one we get in the response into a Python object with the json library:"
   ]
  },
  {
   "cell_type": "code",
   "execution_count": 23,
   "metadata": {},
   "outputs": [
    {
     "data": {
      "text/plain": [
       "{'message': 'success',\n",
       " 'iss_position': {'latitude': '-29.7929', 'longitude': '-139.7316'},\n",
       " 'timestamp': 1603533255}"
      ]
     },
     "execution_count": 23,
     "metadata": {},
     "output_type": "execute_result"
    }
   ],
   "source": [
    "import json \n",
    "\n",
    "my_data = json.loads(response.content)\n",
    "my_data"
   ]
  },
  {
   "cell_type": "code",
   "execution_count": 25,
   "metadata": {},
   "outputs": [
    {
     "data": {
      "text/plain": [
       "'-29.7929'"
      ]
     },
     "execution_count": 25,
     "metadata": {},
     "output_type": "execute_result"
    }
   ],
   "source": [
    "my_data['iss_position']['latitude']"
   ]
  },
  {
   "cell_type": "markdown",
   "metadata": {},
   "source": [
    "We also can go in the other direction and generate json-formatted strings from Python objects:"
   ]
  },
  {
   "cell_type": "code",
   "execution_count": 27,
   "metadata": {},
   "outputs": [
    {
     "data": {
      "text/plain": [
       "'[{\"name\": \"Daniel\", \"surname\": \"Mateos\"}, {\"name\": \"Hermenelgildo\", \"surname\": \"floriez\"}]'"
      ]
     },
     "execution_count": 27,
     "metadata": {},
     "output_type": "execute_result"
    }
   ],
   "source": [
    "export_data = [{'name' : 'Daniel', 'surname' : 'Mateos'}, {'name' : 'Hermenelgildo', 'surname' : 'floriez'}]\n",
    "\n",
    "json.dumps(export_data)"
   ]
  },
  {
   "cell_type": "markdown",
   "metadata": {},
   "source": [
    "#### Exercise:\n",
    "Write a function that returns the duration of the next 5 overhead passes of the ISS for a given latitude and longitude. Use http://open-notify.org/Open-Notify-API/ISS-Pass-Times/\n",
    ". We are going to need to encode the parameters in the url as per the specification.\n",
    "\n",
    "For example, for Madrid:\n",
    "\n",
    "http://api.open-notify.org/iss-pass.json?lat=40.4&lon=-3.7"
   ]
  },
  {
   "cell_type": "code",
   "execution_count": 36,
   "metadata": {
    "scrolled": true
   },
   "outputs": [
    {
     "data": {
      "text/plain": [
       "[642, 339, 493, 653]"
      ]
     },
     "execution_count": 36,
     "metadata": {},
     "output_type": "execute_result"
    }
   ],
   "source": [
    "def iss_pass(lat, lon):\n",
    "    \n",
    "    url = 'http://api.open-notify.org/iss-pass.json?lat=%f&lon=%f' % (lat, lon)\n",
    "    \n",
    "    response = requests.get(url)\n",
    "    \n",
    "    data = json.loads(response.content)\n",
    "    \n",
    "    result = [ pass_['duration'] for pass_ in data['response'] ]\n",
    "    \n",
    "    return result\n",
    "\n",
    "iss_pass(40, -25)"
   ]
  },
  {
   "cell_type": "markdown",
   "metadata": {},
   "source": [
    "Although we managed to get the response, more complicated sets of parameters will be a complicated and error-prone thing to encode. Thankfully, the `requests` library can do that work for us."
   ]
  },
  {
   "cell_type": "code",
   "execution_count": 39,
   "metadata": {},
   "outputs": [
    {
     "data": {
      "text/plain": [
       "b'{\\n  \"message\": \"success\", \\n  \"request\": {\\n    \"altitude\": 100, \\n    \"datetime\": 1603535594, \\n    \"latitude\": 40.0, \\n    \"longitude\": -3.0, \\n    \"passes\": 5\\n  }, \\n  \"response\": [\\n    {\\n      \"duration\": 388, \\n      \"risetime\": 1603546993\\n    }, \\n    {\\n      \"duration\": 464, \\n      \"risetime\": 1603595561\\n    }, \\n    {\\n      \"duration\": 651, \\n      \"risetime\": 1603601240\\n    }, \\n    {\\n      \"duration\": 605, \\n      \"risetime\": 1603607088\\n    }\\n  ]\\n}\\n'"
      ]
     },
     "execution_count": 39,
     "metadata": {},
     "output_type": "execute_result"
    }
   ],
   "source": [
    "madrid = {'lat' :  40, 'lon' : -3}\n",
    "\n",
    "response = requests.get('http://api.open-notify.org/iss-pass.json', params=madrid )\n",
    "response.content"
   ]
  },
  {
   "cell_type": "markdown",
   "metadata": {},
   "source": [
    "# Web scraping\n",
    "\n",
    "![HTML to DOM](http://www.cs.toronto.edu/~shiva/cscb07/img/dom/treeStructure.png)\n",
    "\n",
    "![DOM TREE](http://www.openbookproject.net/tutorials/getdown/css/images/lesson4/HTMLDOMTree.png)\n",
    "\n"
   ]
  },
  {
   "cell_type": "code",
   "execution_count": 43,
   "metadata": {},
   "outputs": [],
   "source": [
    "import requests\n",
    "from bs4 import BeautifulSoup\n",
    "\n",
    "html = requests.get('https://www.elmundotoday.com/')\n",
    "soup = BeautifulSoup(html.content)"
   ]
  },
  {
   "cell_type": "code",
   "execution_count": 46,
   "metadata": {},
   "outputs": [
    {
     "data": {
      "text/plain": [
       "<ul class=\"td-mobile-main-menu\" id=\"menu-menu-mobile\"><li class=\"menu-item menu-item-type-custom menu-item-object-custom menu-item-first menu-item-65940\" id=\"menu-item-65940\"><a href=\"https://www.elmundotoday.com/login/\">Iniciar sesión</a></li>\n",
       "<li class=\"menu-item menu-item-type-taxonomy menu-item-object-category menu-item-65931\" id=\"menu-item-65931\"><a href=\"https://www.elmundotoday.com/noticias/internacional/\">Internacional</a></li>\n",
       "<li class=\"menu-item menu-item-type-taxonomy menu-item-object-category menu-item-65932\" id=\"menu-item-65932\"><a href=\"https://www.elmundotoday.com/noticias/espanya/\">España</a></li>\n",
       "<li class=\"menu-item menu-item-type-taxonomy menu-item-object-category menu-item-65933\" id=\"menu-item-65933\"><a href=\"https://www.elmundotoday.com/noticias/sociedad/\">Sociedad</a></li>\n",
       "<li class=\"menu-item menu-item-type-taxonomy menu-item-object-category menu-item-65934\" id=\"menu-item-65934\"><a href=\"https://www.elmundotoday.com/noticias/tecnologia/\">Ciencia y Tecnología</a></li>\n",
       "<li class=\"menu-item menu-item-type-taxonomy menu-item-object-category menu-item-65935\" id=\"menu-item-65935\"><a href=\"https://www.elmundotoday.com/noticias/cultura/\">Cultura</a></li>\n",
       "<li class=\"menu-item menu-item-type-taxonomy menu-item-object-category menu-item-65936\" id=\"menu-item-65936\"><a href=\"https://www.elmundotoday.com/noticias/gente/\">Gente</a></li>\n",
       "<li class=\"menu-item menu-item-type-taxonomy menu-item-object-category menu-item-65937\" id=\"menu-item-65937\"><a href=\"https://www.elmundotoday.com/noticias/deportes/\">Deportes</a></li>\n",
       "<li class=\"menu-item menu-item-type-taxonomy menu-item-object-category menu-item-65938\" id=\"menu-item-65938\"><a href=\"https://www.elmundotoday.com/noticias/videos/\">Vídeos</a></li>\n",
       "</ul>"
      ]
     },
     "execution_count": 46,
     "metadata": {},
     "output_type": "execute_result"
    }
   ],
   "source": [
    "section_header"
   ]
  },
  {
   "cell_type": "code",
   "execution_count": 47,
   "metadata": {},
   "outputs": [
    {
     "name": "stdout",
     "output_type": "stream",
     "text": [
      "Iniciar sesión\n",
      "https://www.elmundotoday.com/login/\n",
      "Internacional\n",
      "https://www.elmundotoday.com/noticias/internacional/\n",
      "España\n",
      "https://www.elmundotoday.com/noticias/espanya/\n",
      "Sociedad\n",
      "https://www.elmundotoday.com/noticias/sociedad/\n",
      "Ciencia y Tecnología\n",
      "https://www.elmundotoday.com/noticias/tecnologia/\n",
      "Cultura\n",
      "https://www.elmundotoday.com/noticias/cultura/\n",
      "Gente\n",
      "https://www.elmundotoday.com/noticias/gente/\n",
      "Deportes\n",
      "https://www.elmundotoday.com/noticias/deportes/\n",
      "Vídeos\n",
      "https://www.elmundotoday.com/noticias/videos/\n"
     ]
    }
   ],
   "source": [
    "section_header = soup.find('ul')\n",
    "\n",
    "for section in section_header.find_all('li'):\n",
    "    print(section.text)\n",
    "    print(section.find('a')['href'])\n",
    "    "
   ]
  },
  {
   "cell_type": "code",
   "execution_count": 51,
   "metadata": {},
   "outputs": [
    {
     "data": {
      "text/plain": [
       "[('España se da cuenta ahora de que el «botellón» representa el 80% de su PIB',\n",
       "  'https://www.elmundotoday.com/2020/10/espana-se-da-cuenta-ahora-de-que-el-botellon-representa-el-80-de-su-pib/'),\n",
       " ('Desalojan el Congreso por una inundación de lágrimas de facha',\n",
       "  'https://www.elmundotoday.com/2020/10/desalojan-el-congreso-por-una-inundacion-de-lagrimas-de-facha/'),\n",
       " ('Pablo Casado confirma su «no» a Vox y su adhesión al socialcomunismo bolivariano del Gobierno',\n",
       "  'https://www.elmundotoday.com/2020/10/pablo-casado-confirma-su-no-a-vox-y-su-adhesion-al-socialcomunismo-bolivariano-del-gobierno/'),\n",
       " ('El papa Francisco apoya las uniones civiles entre homosexuales y presenta a su pareja, Antonio Ferrara',\n",
       "  'https://www.elmundotoday.com/2020/10/el-papa-francisco-apoya-las-uniones-civiles-entre-homosexuales-y-presenta-a-su-pareja-antonio-ferrara/'),\n",
       " ('███████████████████████████████████████████████████████████████████████████████████████████',\n",
       "  'https://www.elmundotoday.com/2020/10/un-repartidor-de-amazon/'),\n",
       " ('El Mundo Today lanza su suscripción digital: una innovadora apuesta por el periodismo, la información veraz y el dinero',\n",
       "  'https://www.elmundotoday.com/2020/05/el-mundo-today-lanza-su-suscripcion-digital-una-innovadora-apuesta-por-el-periodismo-la-informacion-veraz-y-el-dinero/'),\n",
       " ('Calabazas con la cara de Abascal y otros accesorios de la ultraderecha para asustar a tus visitas en Halloween',\n",
       "  'https://www.elmundotoday.com/2020/10/calabazas-con-la-cara-de-abascal-y-otros-accesorios-de-la-ultraderecha-para-asustar-a-tus-visitas-en-halloween/'),\n",
       " ('Las nueve mejores canciones de amor dedicadas a la vagina',\n",
       "  'https://www.elmundotoday.com/2020/10/las-nueve-mejores-canciones-de-amor-dedicadas-a-la-vagina/'),\n",
       " ('No lo verás en los medios ‘progres’: el feminismo está impidiendo que Juan Gutiérrez, de 33 años, tenga\\xa0novia',\n",
       "  'https://www.elmundotoday.com/2020/10/no-lo-veras-en-los-medios-progres-el-feminismo-esta-impidiendo-que-juan-gutierrez-de-33-anos-tenga-novia/'),\n",
       " ('Un hombre se queda fuera de la España que madruga por solo cinco minutos',\n",
       "  'https://www.elmundotoday.com/2020/10/un-hombre-se-queda-fuera-de-la-espana-que-madruga-por-solo-cinco-minutos/'),\n",
       " ('██████████████████████████████████████████████████████████████████████████████████████████',\n",
       "  'https://www.elmundotoday.com/2020/10/la-comunidad-trans/'),\n",
       " ('Se vuelve vegano después de haberse pinchado con un cactus',\n",
       "  'https://www.elmundotoday.com/2020/10/se-vuelve-vegano-despues-de-haberse-pinchado-con-un-cactus/'),\n",
       " ('Con total normalidad democrática, Santiago Abascal defiende su moción de censura con una pistola en el estrado',\n",
       "  'https://www.elmundotoday.com/2020/10/con-total-normalidad-democratica-santiago-abascal-defiende-su-mocion-de-censura-con-una-pistola-en-el-estrado/'),\n",
       " ('Así es el guion de la serie “Verdaderos Antidisturbios”, escrita por los propios agentes antidisturbios como respuesta a la ficción de Movistar',\n",
       "  'https://www.elmundotoday.com/2020/10/asi-es-el-primer-guion-de-la-serie-verdaderos-antidisturbios-escrita-por-los-propios-agentes-antidisturbios-como-respuesta-a-la-ficcion-de-movistar/'),\n",
       " ('████████████████████████████████████████████████████████████████████████████████████████████████████████████████████████',\n",
       "  'https://www.elmundotoday.com/2020/10/horoscopo-de-la-semana-leo-iras-a/'),\n",
       " ('La Eurocámara, incapaz de apreciar el arte, rechaza subvencionar la tauromaquia',\n",
       "  'https://www.elmundotoday.com/2020/10/la-eurocamara-incapaz-de-apreciar-el-arte-rechaza-subvencionar-la-tauromaquia/'),\n",
       " ('██████████████████████████████████████████████████████████████████████████████',\n",
       "  'https://www.elmundotoday.com/2020/10/el-ministerio-de-trabajo/'),\n",
       " ('Da un rodeo de 6520 kilómetros para repostar en una gasolinera de Arabia Saudí que él conoce y que es baratísima',\n",
       "  'https://www.elmundotoday.com/2020/10/da-un-rodeo-de-6520-kilometros-para-repostar-en-una-gasolinera-de-arabia-saudi-que-el-conoce-y-que-es-baratisima/'),\n",
       " ('Acusen l’OMS de plagiar paràgrafs sencers de l’Infern de Dante en el seu darrer informe',\n",
       "  'https://www.elmundotoday.com/2020/10/acusen-loms-de-plagiar-paragrafs-sencers-de-linfern-de-dante-en-el-seu-darrer-informe/'),\n",
       " ('Viaja a Londres para grabar una nota de audio de Whatsapp en los estudios de Abbey Road',\n",
       "  'https://www.elmundotoday.com/2020/10/viaja-a-londres-para-grabar-una-nota-de-audio-de-whatsapp-en-los-estudios-de-abbey-road/'),\n",
       " ('Los españoles, agotados y rendidos, empiezan a aplaudir al coronavirus a las ocho de la tarde',\n",
       "  'https://www.elmundotoday.com/2020/10/los-espanoles-agotados-y-rendidos-empiezan-a-aplaudir-al-coronavirus-a-las-ocho-de-la-tarde/'),\n",
       " ('█████████████████████████████████████████████████████████████████████████████████████',\n",
       "  'https://www.elmundotoday.com/2020/10/los-jugadores-del-getafe/'),\n",
       " ('Se vuelve vegano después de haberse pinchado con un cactus',\n",
       "  'https://www.elmundotoday.com/2020/10/se-vuelve-vegano-despues-de-haberse-pinchado-con-un-cactus/'),\n",
       " ('Acusen l’OMS de plagiar paràgrafs sencers de l’Infern de Dante en el seu darrer informe',\n",
       "  'https://www.elmundotoday.com/2020/10/acusen-loms-de-plagiar-paragrafs-sencers-de-linfern-de-dante-en-el-seu-darrer-informe/'),\n",
       " ('Las cafeterías «hípsters» de España estarán obligadas a servir carajillos',\n",
       "  'https://www.elmundotoday.com/2020/10/las-cafeterias-hipsters-de-espana-estaran-obligadas-a-servir-carajillos/'),\n",
       " ('Calabazas con la cara de Abascal y otros accesorios de la ultraderecha para asustar a tus visitas en Halloween',\n",
       "  'https://www.elmundotoday.com/2020/10/calabazas-con-la-cara-de-abascal-y-otros-accesorios-de-la-ultraderecha-para-asustar-a-tus-visitas-en-halloween/'),\n",
       " ('████████████████████████████████████████████████████████████████████████████████████████████████████████████████████████',\n",
       "  'https://www.elmundotoday.com/2020/10/horoscopo-de-la-semana-leo-iras-a/'),\n",
       " ('Vende un coche con diez mil kilómetros pero aclara que los hizo en un solo día intentando aparcar',\n",
       "  'https://www.elmundotoday.com/2020/09/vende-un-coche-con-diez-mil-kilometros-pero-aclara-que-los-hizo-en-un-solo-dia-intentando-aparcar/'),\n",
       " ('Papá vuelve a hacer aquello que hace siempre',\n",
       "  'https://www.elmundotoday.com/2013/01/papa-vuelve-a-hacer-aquello-que-hace-siempre/'),\n",
       " ('El Gobierno confía todo el plan de recuperación económica a que los ciudadanos logren monetizar sus respectivos podcasts',\n",
       "  'https://www.elmundotoday.com/2020/06/el-gobierno-confia-todo-el-plan-de-recuperacion-economica-a-que-los-ciudadanos-logren-monetizar-sus-respectivos-podcasts/'),\n",
       " ('Cepeda será la nueva imagen de Atún Calvo',\n",
       "  'https://www.elmundotoday.com/2019/05/cepeda-sera-la-nueva-imagen-de-atun-calvo/')]"
      ]
     },
     "execution_count": 51,
     "metadata": {},
     "output_type": "execute_result"
    }
   ],
   "source": [
    "results = []\n",
    "\n",
    "for headline in soup.find_all('h3'):\n",
    "    text = headline.text\n",
    "    url = headline.find('a')['href']\n",
    "    \n",
    "    results.append((text, url))\n",
    "    \n",
    "results"
   ]
  },
  {
   "cell_type": "markdown",
   "metadata": {},
   "source": [
    "# Annex: ultra easy scraping with pandas!\n",
    "\n",
    "When the data we want is already formatted as a table, we can do it even more easily! Just use `pandas.read_html`:"
   ]
  },
  {
   "cell_type": "code",
   "execution_count": 53,
   "metadata": {},
   "outputs": [
    {
     "data": {
      "text/html": [
       "<div>\n",
       "<style scoped>\n",
       "    .dataframe tbody tr th:only-of-type {\n",
       "        vertical-align: middle;\n",
       "    }\n",
       "\n",
       "    .dataframe tbody tr th {\n",
       "        vertical-align: top;\n",
       "    }\n",
       "\n",
       "    .dataframe thead th {\n",
       "        text-align: right;\n",
       "    }\n",
       "</style>\n",
       "<table border=\"1\" class=\"dataframe\">\n",
       "  <thead>\n",
       "    <tr style=\"text-align: right;\">\n",
       "      <th></th>\n",
       "      <th>Deaths</th>\n",
       "      <th>Date</th>\n",
       "      <th>Incident</th>\n",
       "    </tr>\n",
       "  </thead>\n",
       "  <tbody>\n",
       "    <tr>\n",
       "      <th>0</th>\n",
       "      <td>20000</td>\n",
       "      <td>30 May 1626</td>\n",
       "      <td>Wanggongchang Explosion in Beijing, China in t...</td>\n",
       "    </tr>\n",
       "    <tr>\n",
       "      <th>1</th>\n",
       "      <td>3000</td>\n",
       "      <td>18 August 1769</td>\n",
       "      <td>A lightning bolt caused the Brescia explosion ...</td>\n",
       "    </tr>\n",
       "    <tr>\n",
       "      <th>2</th>\n",
       "      <td>3,000?</td>\n",
       "      <td>1 November 1948</td>\n",
       "      <td>Boiler and ammunition explosion aboard an unid...</td>\n",
       "    </tr>\n",
       "    <tr>\n",
       "      <th>3</th>\n",
       "      <td>1,400–2,280</td>\n",
       "      <td>6 March 1862</td>\n",
       "      <td>Ammunition warehouse explodes and kills almost...</td>\n",
       "    </tr>\n",
       "    <tr>\n",
       "      <th>4</th>\n",
       "      <td>1950</td>\n",
       "      <td>6 December 1917</td>\n",
       "      <td>Halifax Explosion in Nova Scotia, Canada[69]</td>\n",
       "    </tr>\n",
       "    <tr>\n",
       "      <th>...</th>\n",
       "      <td>...</td>\n",
       "      <td>...</td>\n",
       "      <td>...</td>\n",
       "    </tr>\n",
       "    <tr>\n",
       "      <th>364</th>\n",
       "      <td>4</td>\n",
       "      <td>19 March 2019</td>\n",
       "      <td>An explosion in Yilong County, Sichuan, China....</td>\n",
       "    </tr>\n",
       "    <tr>\n",
       "      <th>365</th>\n",
       "      <td>4</td>\n",
       "      <td>6 May 1971</td>\n",
       "      <td>DuPont Powder Line Explosion in Louviers, Colo...</td>\n",
       "    </tr>\n",
       "    <tr>\n",
       "      <th>366</th>\n",
       "      <td>2</td>\n",
       "      <td>4 May 1988</td>\n",
       "      <td>PEPCON rocket fuel chemical plant explosion in...</td>\n",
       "    </tr>\n",
       "    <tr>\n",
       "      <th>367</th>\n",
       "      <td>1</td>\n",
       "      <td>19 September 1980</td>\n",
       "      <td>1980 Damascus Titan missile explosion in Van B...</td>\n",
       "    </tr>\n",
       "    <tr>\n",
       "      <th>368</th>\n",
       "      <td>1</td>\n",
       "      <td>7 January 1983</td>\n",
       "      <td>1983 Newark explosion in Newark, New Jersey, c...</td>\n",
       "    </tr>\n",
       "  </tbody>\n",
       "</table>\n",
       "<p>369 rows × 3 columns</p>\n",
       "</div>"
      ],
      "text/plain": [
       "          Deaths               Date  \\\n",
       "0          20000        30 May 1626   \n",
       "1           3000     18 August 1769   \n",
       "2         3,000?    1 November 1948   \n",
       "3    1,400–2,280       6 March 1862   \n",
       "4           1950    6 December 1917   \n",
       "..           ...                ...   \n",
       "364            4      19 March 2019   \n",
       "365            4         6 May 1971   \n",
       "366            2         4 May 1988   \n",
       "367            1  19 September 1980   \n",
       "368            1     7 January 1983   \n",
       "\n",
       "                                              Incident  \n",
       "0    Wanggongchang Explosion in Beijing, China in t...  \n",
       "1    A lightning bolt caused the Brescia explosion ...  \n",
       "2    Boiler and ammunition explosion aboard an unid...  \n",
       "3    Ammunition warehouse explodes and kills almost...  \n",
       "4         Halifax Explosion in Nova Scotia, Canada[69]  \n",
       "..                                                 ...  \n",
       "364  An explosion in Yilong County, Sichuan, China....  \n",
       "365  DuPont Powder Line Explosion in Louviers, Colo...  \n",
       "366  PEPCON rocket fuel chemical plant explosion in...  \n",
       "367  1980 Damascus Titan missile explosion in Van B...  \n",
       "368  1983 Newark explosion in Newark, New Jersey, c...  \n",
       "\n",
       "[369 rows x 3 columns]"
      ]
     },
     "execution_count": 53,
     "metadata": {},
     "output_type": "execute_result"
    }
   ],
   "source": [
    "import pandas as pd\n",
    "\n",
    "tables = pd.read_html('https://en.wikipedia.org/wiki/List_of_accidents_and_disasters_by_death_toll')\n",
    "\n",
    "tables[4]"
   ]
  },
  {
   "cell_type": "markdown",
   "metadata": {},
   "source": [
    "# Annex II: exercises"
   ]
  },
  {
   "cell_type": "markdown",
   "metadata": {},
   "source": [
    "### Exercise:\n",
    "\n",
    "Extract the date of the worst aviation disaster from: https://en.wikipedia.org/wiki/List_of_accidents_and_disasters_by_death_toll\n",
    "\n",
    "Prerequisites: pandas, pd.read_html"
   ]
  },
  {
   "cell_type": "code",
   "execution_count": null,
   "metadata": {},
   "outputs": [],
   "source": []
  },
  {
   "cell_type": "markdown",
   "metadata": {},
   "source": [
    "### Exercise: \n",
    "\n",
    "Assuming the list is exhaustive, calculate how many people died in accidental explosions per decade in the XX century. Plot it.\n",
    "\n",
    "Data: \n",
    "https://en.wikipedia.org/wiki/List_of_accidents_and_disasters_by_death_toll\n",
    "\n",
    "Prerequisites: pandas, pd.read_html, pd.to_datetime, matplotlib or seaborn"
   ]
  },
  {
   "cell_type": "code",
   "execution_count": null,
   "metadata": {},
   "outputs": [],
   "source": []
  },
  {
   "cell_type": "markdown",
   "metadata": {},
   "source": [
    "### Exercise: \n",
    "\n",
    "create a function that, given the two tables extracted from http://en.wikipedia.org/wiki/List_of_S%26P_500_companies and a date, returns the list of companies in the S&P 500 at that date."
   ]
  },
  {
   "cell_type": "code",
   "execution_count": null,
   "metadata": {},
   "outputs": [],
   "source": []
  }
 ],
 "metadata": {
  "kernelspec": {
   "display_name": "Python 3",
   "language": "python",
   "name": "python3"
  },
  "language_info": {
   "codemirror_mode": {
    "name": "ipython",
    "version": 3
   },
   "file_extension": ".py",
   "mimetype": "text/x-python",
   "name": "python",
   "nbconvert_exporter": "python",
   "pygments_lexer": "ipython3",
   "version": "3.8.3"
  }
 },
 "nbformat": 4,
 "nbformat_minor": 1
}
