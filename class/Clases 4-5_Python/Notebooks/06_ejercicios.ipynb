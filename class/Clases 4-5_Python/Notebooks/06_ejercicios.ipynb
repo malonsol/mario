{
 "cells": [
  {
   "cell_type": "markdown",
   "metadata": {},
   "source": [
    "### 1) Magic and shell"
   ]
  },
  {
   "cell_type": "code",
   "execution_count": 1,
   "metadata": {},
   "outputs": [
    {
     "name": "stderr",
     "output_type": "stream",
     "text": [
      "UsageError: Line magic function `%cd/Data/opentraveldata` not found.\n"
     ]
    }
   ],
   "source": [
    "%cd/Data/opentraveldata"
   ]
  },
  {
   "cell_type": "code",
   "execution_count": 2,
   "metadata": {},
   "outputs": [
    {
     "data": {
      "text/plain": [
       "'/home/dsc/shared/Clases 4_Python/Notebooks'"
      ]
     },
     "execution_count": 2,
     "metadata": {},
     "output_type": "execute_result"
    }
   ],
   "source": [
    "%pwd"
   ]
  },
  {
   "cell_type": "code",
   "execution_count": 3,
   "metadata": {},
   "outputs": [
    {
     "name": "stdout",
     "output_type": "stream",
     "text": [
      "/home/dsc\n"
     ]
    }
   ],
   "source": [
    "%cd"
   ]
  },
  {
   "cell_type": "code",
   "execution_count": 4,
   "metadata": {},
   "outputs": [
    {
     "name": "stdout",
     "output_type": "stream",
     "text": [
      "/home/dsc/Data/opentraveldata\n"
     ]
    }
   ],
   "source": [
    "%cd Data/opentraveldata/"
   ]
  },
  {
   "cell_type": "code",
   "execution_count": 12,
   "metadata": {},
   "outputs": [
    {
     "data": {
      "text/plain": [
       "['/home/dsc/Data/us_dot',\n",
       " 'find: ‘/home/dsc/.cache/dconf’: Permission denied',\n",
       " 'find: ‘/home/dsc/.dbus’: Permission denied']"
      ]
     },
     "execution_count": 12,
     "metadata": {},
     "output_type": "execute_result"
    }
   ],
   "source": [
    "a = ! find ~ -type d -iname \"us_dot\"\n",
    "a"
   ]
  },
  {
   "cell_type": "code",
   "execution_count": 7,
   "metadata": {},
   "outputs": [
    {
     "name": "stdout",
     "output_type": "stream",
     "text": [
      "/home/dsc/Data\n"
     ]
    }
   ],
   "source": [
    "%cd .."
   ]
  },
  {
   "cell_type": "code",
   "execution_count": 8,
   "metadata": {},
   "outputs": [
    {
     "name": "stdout",
     "output_type": "stream",
     "text": [
      "/home/dsc/Data/us_dot/otp\n"
     ]
    }
   ],
   "source": [
    "%cd us_dot/otp/"
   ]
  },
  {
   "cell_type": "code",
   "execution_count": 9,
   "metadata": {},
   "outputs": [
    {
     "name": "stdout",
     "output_type": "stream",
     "text": [
      "/home/dsc/Data/us_dot\n"
     ]
    }
   ],
   "source": [
    "%cd .."
   ]
  },
  {
   "cell_type": "code",
   "execution_count": 10,
   "metadata": {},
   "outputs": [
    {
     "name": "stdout",
     "output_type": "stream",
     "text": [
      "/home/dsc/Data/us_dot/traffic\n"
     ]
    }
   ],
   "source": [
    "%cd traffic/"
   ]
  },
  {
   "cell_type": "code",
   "execution_count": 11,
   "metadata": {},
   "outputs": [
    {
     "data": {
      "text/plain": [
       "['/home/dsc/shared/Clases 4_Python/Notebooks',\n",
       " '/home/dsc',\n",
       " '/home/dsc/Data/opentraveldata',\n",
       " '/home/dsc/Data',\n",
       " '/home/dsc/Data/us_dot/otp',\n",
       " '/home/dsc/Data/us_dot',\n",
       " '/home/dsc/Data/us_dot/traffic']"
      ]
     },
     "execution_count": 11,
     "metadata": {},
     "output_type": "execute_result"
    }
   ],
   "source": [
    "_dh"
   ]
  },
  {
   "cell_type": "markdown",
   "metadata": {},
   "source": [
    "Cita cada directorio y el numero de archivos que estan en cada uno de ellos"
   ]
  },
  {
   "cell_type": "code",
   "execution_count": 14,
   "metadata": {},
   "outputs": [],
   "source": [
    "lista = [ '/home/dsc/Data/opentraveldata',\n",
    " '/home/dsc/Data/us_dot/otp',\n",
    " '/home/dsc/Data/us_dot/traffic']"
   ]
  },
  {
   "cell_type": "code",
   "execution_count": 46,
   "metadata": {},
   "outputs": [
    {
     "name": "stdout",
     "output_type": "stream",
     "text": [
      "Directorio: /home/dsc/Data/opentraveldata \n",
      " Número de archivos: 11\n",
      "['largest_file.txt', 'last_20.txt', 'last_3_aircraft_lines.txt', 'one', 'optd_aircraft.csv', 'optd_airlines.csv', 'optd_por_public.csv', 'ref_airline_nb_of_flights.csv', 'test_2', 'test_file', 'timestamp_header.txt']\n",
      "Directorio: /home/dsc/Data/us_dot/otp \n",
      " Número de archivos: 1\n",
      "['On_Time_Reporting_Carrier_On_Time_Performance_1987_present_2018_12.zip']\n",
      "Directorio: /home/dsc/Data/us_dot/traffic \n",
      " Número de archivos: 2\n",
      "['T100_SEGMENT_ALL_CARRIER_2014.zip', 'T100_SEGMENT_ALL_CARRIER_2015.zip']\n"
     ]
    }
   ],
   "source": [
    "for d in lista:\n",
    "    count = ! ls $d | wc -l # El simbolo \"$\" se utiliza para pasar variables de Python al shell\n",
    "    print(\"Directorio:\", d, \"\\n\", \"Número de archivos:\", count[0])\n",
    "    ls = ! ls $d\n",
    "    print(ls)"
   ]
  },
  {
   "cell_type": "code",
   "execution_count": 47,
   "metadata": {},
   "outputs": [
    {
     "name": "stdout",
     "output_type": "stream",
     "text": [
      "Directorio: /home/dsc/Data/opentraveldata \n",
      " Número de archivos: 11\n",
      "Directorio: /home/dsc/Data/us_dot/otp \n",
      " Número de archivos: 1\n",
      "Directorio: /home/dsc/Data/us_dot/traffic \n",
      " Número de archivos: 2\n"
     ]
    }
   ],
   "source": [
    "for d in lista:\n",
    "    count = ! ls {d} | wc -l # Tambien se puede usar \"{}\" en su lugar\n",
    "    print(\"Directorio:\", d, \"\\n\", \"Número de archivos:\", count[0])"
   ]
  },
  {
   "cell_type": "markdown",
   "metadata": {},
   "source": [
    "### 2) For comprehension & Map"
   ]
  },
  {
   "cell_type": "markdown",
   "metadata": {},
   "source": [
    "1) Elevar al cuadrado cada elemento con \"for comprehension\" y con \"map\""
   ]
  },
  {
   "cell_type": "code",
   "execution_count": 51,
   "metadata": {},
   "outputs": [
    {
     "name": "stdout",
     "output_type": "stream",
     "text": [
      "[1, 4, 9, 16, 25, 36, 49, 64]\n",
      "[1, 4, 9, 16, 25, 36, 49, 64]\n"
     ]
    }
   ],
   "source": [
    "seq = [1,2,3,4,5,6,7,8]\n",
    "print([x**2 for x in seq])\n",
    "print(list(map(lambda x:x**2, seq)))"
   ]
  },
  {
   "cell_type": "markdown",
   "metadata": {},
   "source": [
    "2) Preparar una lista con nombres. Pasar todas las vocales a mayúsculas, y consonantes en minúsculas."
   ]
  },
  {
   "cell_type": "code",
   "execution_count": 54,
   "metadata": {},
   "outputs": [
    {
     "data": {
      "text/plain": [
       "['lUIs',\n",
       " 'pEdrO',\n",
       " 'rOsA',\n",
       " 'rObErtO',\n",
       " 'AndrEA',\n",
       " 'EstAnIslAO',\n",
       " 'EUfrAsIA',\n",
       " 'EUstAqUIO',\n",
       " 'pAtrIcIA',\n",
       " 'gAUdEncIO']"
      ]
     },
     "execution_count": 54,
     "metadata": {},
     "output_type": "execute_result"
    }
   ],
   "source": [
    "def nuevos_nombres(nombres = ['Luis', 'Pedro', 'Rosa', 'Roberto', 'Andrea', 'Estanislao', 'Eufrasia', 'Eustaquio', 'Patricia', 'Gaudencio']):\n",
    "    nuevos_nombres = []\n",
    "    for nombre in nombres:\n",
    "        nuevo_nombre = ''\n",
    "        for letra in nombre:\n",
    "            if letra in 'aeiouAEIOU':\n",
    "                nuevo_nombre += letra.upper()\n",
    "            else:\n",
    "                nuevo_nombre += letra.lower()\n",
    "        nuevos_nombres.append(nuevo_nombre)\n",
    "    return nuevos_nombres\n",
    "\n",
    "nuevos_nombres()"
   ]
  },
  {
   "cell_type": "code",
   "execution_count": 55,
   "metadata": {},
   "outputs": [
    {
     "data": {
      "text/plain": [
       "['lUIs',\n",
       " 'pEdrO',\n",
       " 'rOsA',\n",
       " 'rObErtO',\n",
       " 'AndrEA',\n",
       " 'EstAnIslAO',\n",
       " 'EUfrAsIA',\n",
       " 'EUstAqUIO',\n",
       " 'pAtrIcIA',\n",
       " 'gAUdEncIO']"
      ]
     },
     "execution_count": 55,
     "metadata": {},
     "output_type": "execute_result"
    }
   ],
   "source": [
    "def nuevo_nombre(nombre=''):\n",
    "    nuevo_nombre = ''\n",
    "    for letra in nombre:\n",
    "        if letra in 'aeiouAEIOU':\n",
    "            nuevo_nombre += letra.upper()\n",
    "        else:\n",
    "            nuevo_nombre += letra.lower()\n",
    "    return nuevo_nombre\n",
    "\n",
    "nombres = ['Luis', 'Pedro', 'Rosa', 'Roberto', 'Andrea', 'Estanislao', 'Eufrasia', 'Eustaquio', 'Patricia', 'Gaudencio']\n",
    "list(map(nuevo_nombre, nombres))"
   ]
  },
  {
   "cell_type": "markdown",
   "metadata": {},
   "source": [
    "3) Devolver de una lista de nombres, aquellos que contengan el caracter que se indique"
   ]
  },
  {
   "cell_type": "code",
   "execution_count": 60,
   "metadata": {},
   "outputs": [
    {
     "data": {
      "text/plain": [
       "['Pedro', 'Roberto', 'Andrea', 'Gaudencio']"
      ]
     },
     "execution_count": 60,
     "metadata": {},
     "output_type": "execute_result"
    }
   ],
   "source": [
    "def nombres_especiales(nombres, caracter):\n",
    "    nombres_especiales = []\n",
    "    for nombre in nombres:\n",
    "            if caracter in nombre:\n",
    "                nombres_especiales.append(nombre)\n",
    "    return nombres_especiales\n",
    "\n",
    "nombres_especiales(nombres = ['Luis', 'Pedro', 'Rosa', 'Roberto', 'Andrea', 'Estanislao', 'Eufrasia', 'Eustaquio', 'Patricia', 'Gaudencio'], caracter='e')"
   ]
  },
  {
   "cell_type": "code",
   "execution_count": 61,
   "metadata": {},
   "outputs": [
    {
     "data": {
      "text/plain": [
       "['Pedro', 'Roberto', 'Andrea', 'Gaudencio']"
      ]
     },
     "execution_count": 61,
     "metadata": {},
     "output_type": "execute_result"
    }
   ],
   "source": [
    "names = ['Luis', 'Pedro', 'Rosa', 'Roberto', 'Andrea', 'Estanislao', 'Eufrasia', 'Eustaquio', 'Patricia', 'Gaudencio']\n",
    "[name for name in names if name.count('e')>0]"
   ]
  },
  {
   "cell_type": "markdown",
   "metadata": {},
   "source": [
    "4) Dar la vuelta a cada cadena de una lista"
   ]
  },
  {
   "cell_type": "code",
   "execution_count": 66,
   "metadata": {},
   "outputs": [
    {
     "data": {
      "text/plain": [
       "['siuL',\n",
       " 'ordeP',\n",
       " 'asoR',\n",
       " 'otreboR',\n",
       " 'aerdnA',\n",
       " 'oalsinatsE',\n",
       " 'aisarfuE',\n",
       " 'oiuqatsuE',\n",
       " 'aicirtaP',\n",
       " 'oicneduaG']"
      ]
     },
     "execution_count": 66,
     "metadata": {},
     "output_type": "execute_result"
    }
   ],
   "source": [
    "[''.join(list(reversed(x))) for x in names]"
   ]
  },
  {
   "cell_type": "code",
   "execution_count": 64,
   "metadata": {},
   "outputs": [
    {
     "data": {
      "text/plain": [
       "['a', 'l', 'o', 'h']"
      ]
     },
     "execution_count": 64,
     "metadata": {},
     "output_type": "execute_result"
    }
   ],
   "source": [
    "a = 'hola'\n",
    "b = list(reversed(a))\n",
    "b"
   ]
  },
  {
   "cell_type": "markdown",
   "metadata": {},
   "source": [
    "5.1) Escribir un string en el que cada palabra está invertida, pero manteniendo el orden original"
   ]
  },
  {
   "cell_type": "code",
   "execution_count": 68,
   "metadata": {},
   "outputs": [
    {
     "data": {
      "text/plain": [
       "'aloH em omall oiraM'"
      ]
     },
     "execution_count": 68,
     "metadata": {},
     "output_type": "execute_result"
    }
   ],
   "source": [
    "def invertido(cadena = ''):\n",
    "    cadena = cadena.split()\n",
    "    invertido = []\n",
    "    for palabra in cadena:\n",
    "        invertido.append(palabra[::-1])\n",
    "    return ' '.join(invertido)\n",
    "\n",
    "invertido(\"Hola me llamo Mario\")"
   ]
  },
  {
   "cell_type": "markdown",
   "metadata": {},
   "source": [
    "5.2) Escribir un string en el que se invierte el orden de las palabras, manteniendolas invariables"
   ]
  },
  {
   "cell_type": "code",
   "execution_count": 83,
   "metadata": {},
   "outputs": [
    {
     "data": {
      "text/plain": [
       "'Mario llamo me Hola'"
      ]
     },
     "execution_count": 83,
     "metadata": {},
     "output_type": "execute_result"
    }
   ],
   "source": [
    "def invertido_v2(cadena = ''):\n",
    "    return ' '.join(cadena.split()[::-1])\n",
    "\n",
    "invertido_v2(\"Hola me llamo Mario\")"
   ]
  },
  {
   "cell_type": "markdown",
   "metadata": {},
   "source": [
    "6) Definir una funcion que devuelva la palabra mas larga de una cadena y su longitud"
   ]
  },
  {
   "cell_type": "code",
   "execution_count": 79,
   "metadata": {},
   "outputs": [
    {
     "data": {
      "text/plain": [
       "('ustedes', 7)"
      ]
     },
     "execution_count": 79,
     "metadata": {},
     "output_type": "execute_result"
    }
   ],
   "source": [
    "def mas_larga(cadena = ''):\n",
    "    mas_larga = ''\n",
    "    largo = 0\n",
    "    for palabra in cadena.split():\n",
    "        if len(palabra) > largo:\n",
    "            largo = len(palabra)\n",
    "            mas_larga = palabra\n",
    "    return mas_larga, largo\n",
    "\n",
    "mas_larga('Hola que tal estan ustedes')"
   ]
  },
  {
   "cell_type": "code",
   "execution_count": null,
   "metadata": {},
   "outputs": [],
   "source": []
  }
 ],
 "metadata": {
  "kernelspec": {
   "display_name": "Python 3",
   "language": "python",
   "name": "python3"
  },
  "language_info": {
   "codemirror_mode": {
    "name": "ipython",
    "version": 3
   },
   "file_extension": ".py",
   "mimetype": "text/x-python",
   "name": "python",
   "nbconvert_exporter": "python",
   "pygments_lexer": "ipython3",
   "version": "3.7.1"
  }
 },
 "nbformat": 4,
 "nbformat_minor": 2
}
